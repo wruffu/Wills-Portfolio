{
 "cells": [
  {
   "cell_type": "markdown",
   "id": "9fef4140-42b0-4abd-ae03-0a702405f6a4",
   "metadata": {},
   "source": [
    "# PyTorch ReLU vs Sigmoid Activation Functions"
   ]
  },
  {
   "cell_type": "markdown",
   "id": "0a2eea2b-6127-44f6-b4e2-f33cf72d8e7f",
   "metadata": {},
   "source": [
    "### Objective: Test Sigmoid and Relu activation functions on the MNIST dataset and chart the results. \n",
    ">\n",
    "1. Define Several Neural Networks, Criterion functions, and Optimizers.  \n",
    "2. Test Sigmoid and Rectified Linear Unit (ReLU).  \n",
    "3. Analyze Results.  "
   ]
  },
  {
   "cell_type": "markdown",
   "id": "9ff0410f-ac38-4423-b660-e7c999db778e",
   "metadata": {},
   "source": [
    "## Table of Contents\n",
    "\n",
    "<ul>\n",
    "    <li><a href=\"#Model\">Neural Network Module and Training Function</a></li>\n",
    "    <li><a href=\"#Makeup_Data\">Make Some Data</a></li>\n",
    "    <li><a href=\"#Train\">Define Several Neural Network, Criterion function, Optimizer</a></li>\n",
    "    <li><a href=\"#Test\">Test Sigmoid and Relu </a></li>\n",
    "    <li><a href=\"#Result\">Analyze Results</a></li>\n",
    "</ul>"
   ]
  },
  {
   "cell_type": "markdown",
   "id": "d9600e55-3e5c-4f5d-a1f7-738f8499d3c6",
   "metadata": {},
   "source": [
    "We'll need the following libraries\n"
   ]
  },
  {
   "cell_type": "code",
   "execution_count": 1,
   "id": "a2d275dc-48db-47df-ab5a-56c230f7e64c",
   "metadata": {},
   "outputs": [
    {
     "name": "stdout",
     "output_type": "stream",
     "text": [
      "Requirement already satisfied: torch in c:\\users\\willl\\onedrive\\desktop\\my_documents\\wills_py_folder\\venv\\lib\\site-packages (2.4.1)\n",
      "Requirement already satisfied: torchvision in c:\\users\\willl\\onedrive\\desktop\\my_documents\\wills_py_folder\\venv\\lib\\site-packages (0.19.1)\n",
      "Requirement already satisfied: torchaudio in c:\\users\\willl\\onedrive\\desktop\\my_documents\\wills_py_folder\\venv\\lib\\site-packages (2.4.1)\n",
      "Requirement already satisfied: filelock in c:\\users\\willl\\onedrive\\desktop\\my_documents\\wills_py_folder\\venv\\lib\\site-packages (from torch) (3.16.1)\n",
      "Requirement already satisfied: typing-extensions>=4.8.0 in c:\\users\\willl\\onedrive\\desktop\\my_documents\\wills_py_folder\\venv\\lib\\site-packages (from torch) (4.12.2)\n",
      "Requirement already satisfied: sympy in c:\\users\\willl\\onedrive\\desktop\\my_documents\\wills_py_folder\\venv\\lib\\site-packages (from torch) (1.13.2)\n",
      "Requirement already satisfied: networkx in c:\\users\\willl\\onedrive\\desktop\\my_documents\\wills_py_folder\\venv\\lib\\site-packages (from torch) (3.3)\n",
      "Requirement already satisfied: jinja2 in c:\\users\\willl\\onedrive\\desktop\\my_documents\\wills_py_folder\\venv\\lib\\site-packages (from torch) (3.1.4)\n",
      "Requirement already satisfied: fsspec in c:\\users\\willl\\onedrive\\desktop\\my_documents\\wills_py_folder\\venv\\lib\\site-packages (from torch) (2024.9.0)\n",
      "Requirement already satisfied: setuptools in c:\\users\\willl\\onedrive\\desktop\\my_documents\\wills_py_folder\\venv\\lib\\site-packages (from torch) (71.0.4)\n",
      "Requirement already satisfied: numpy in c:\\users\\willl\\onedrive\\desktop\\my_documents\\wills_py_folder\\venv\\lib\\site-packages (from torchvision) (1.26.4)\n",
      "Requirement already satisfied: pillow!=8.3.*,>=5.3.0 in c:\\users\\willl\\onedrive\\desktop\\my_documents\\wills_py_folder\\venv\\lib\\site-packages (from torchvision) (10.4.0)\n",
      "Requirement already satisfied: MarkupSafe>=2.0 in c:\\users\\willl\\onedrive\\desktop\\my_documents\\wills_py_folder\\venv\\lib\\site-packages (from jinja2->torch) (2.1.5)\n",
      "Requirement already satisfied: mpmath<1.4,>=1.1.0 in c:\\users\\willl\\onedrive\\desktop\\my_documents\\wills_py_folder\\venv\\lib\\site-packages (from sympy->torch) (1.3.0)\n"
     ]
    }
   ],
   "source": [
    "!pip3 install torch torchvision torchaudio"
   ]
  },
  {
   "cell_type": "code",
   "execution_count": 2,
   "id": "75085f4c-1781-4a58-81a3-df53f0fcc271",
   "metadata": {},
   "outputs": [
    {
     "data": {
      "text/plain": [
       "<torch._C.Generator at 0x2177e928190>"
      ]
     },
     "execution_count": 2,
     "metadata": {},
     "output_type": "execute_result"
    }
   ],
   "source": [
    "# Import the libraries\n",
    "\n",
    "# PyTorch Library\n",
    "import torch\n",
    "# PyTorch Neural Network\n",
    "import torch.nn as nn\n",
    "# To transform tensors\n",
    "import torchvision.transforms as transforms\n",
    "# To download datasets\n",
    "import torchvision.datasets as dsets\n",
    "# For activation functions\n",
    "import torch.nn.functional as F\n",
    "\n",
    "# Used to graph data and loss curves\n",
    "import matplotlib.pylab as plt\n",
    "# Nummpy for data manipulation\n",
    "import numpy as np\n",
    "# Setting the seed will allows control over randomness and gives reproducibility\n",
    "torch.manual_seed(2)"
   ]
  },
  {
   "cell_type": "markdown",
   "id": "752f080c-26b2-4895-bec5-751aae4e3512",
   "metadata": {},
   "source": [
    "<!--Empty Space for separating topics-->\n"
   ]
  },
  {
   "cell_type": "markdown",
   "id": "645056b9-5a20-4373-9338-9f12b40cb917",
   "metadata": {},
   "source": [
    "<h2 id=\"Model\">Neural Network Module and Training Function</h2> \n"
   ]
  },
  {
   "cell_type": "markdown",
   "id": "50af6491-7ba5-4115-b1f7-0171afbfc2c3",
   "metadata": {},
   "source": [
    "Define the neural network module or class, with two hidden Layers \n"
   ]
  },
  {
   "cell_type": "code",
   "execution_count": 3,
   "id": "0b39fc56-673a-4798-ae36-263384df5cfc",
   "metadata": {},
   "outputs": [],
   "source": [
    "# Create the model class using Sigmoid as the activation function\n",
    "\n",
    "class Net(nn.Module):\n",
    "\n",
    "    # Constructor\n",
    "    def __init__(self, D_in, H1, H2, D_out):\n",
    "        # D_in is the input size of the first layer (size of input layer)\n",
    "        # H1 is the output size of the first layer and input size of the second layer (size of first hidden layer)\n",
    "        # H2 is the outpout size of the second layer and the input size of the third layer (size of second hidden layer)\n",
    "        # D_out is the output size of the third layer (size of output layer)\n",
    "        super(Net, self).__init__()\n",
    "        self.linear1 = nn.Linear(D_in, H1)\n",
    "        self.linear2 = nn.Linear(H1, H2)\n",
    "        self.linear3 = nn.Linear(H2, D_out)\n",
    "\n",
    "    # Prediction\n",
    "    def forward(self,x):\n",
    "        # Puts x through the first layers then the sigmoid function\n",
    "        x = torch.sigmoid(self.linear1(x))\n",
    "        # Puts results of previous line through second layer then sigmoid function\n",
    "        x = torch.sigmoid(self.linear2(x))\n",
    "        # Puts result of previous line through third layer\n",
    "        x = self.linear3(x)\n",
    "        return x"
   ]
  },
  {
   "cell_type": "markdown",
   "id": "59bc7d90-bfbd-44fd-bb89-9f70c1819f0f",
   "metadata": {},
   "source": [
    "Define the class for the Relu activation function \n"
   ]
  },
  {
   "cell_type": "code",
   "execution_count": 4,
   "id": "a55e065d-b1e5-4224-9d4f-6e8025599be3",
   "metadata": {},
   "outputs": [],
   "source": [
    "# Create the model class using Relu as the activation function\n",
    "\n",
    "class NetRelu(nn.Module):\n",
    "\n",
    "    # Constructor\n",
    "    def __init__(self, D_in, H1, H2, D_out):\n",
    "        # D_in is the input size of the first layer (size of input layer)\n",
    "        # H1 is the output size of the first layer and input size of the second layer (size of first hidden layer)\n",
    "        # H2 is the outpout size of the second layer and the input size of the third layer (size of second hidden layer)\n",
    "        # D_out is the output size of the third layer (size of output layer)\n",
    "        super(NetRelu, self).__init__()\n",
    "        self.linear1 = nn.Linear(D_in, H1)\n",
    "        self.linear2 = nn.Linear(H1, H2)\n",
    "        self.linear3 = nn.Linear(H2, D_out)\n",
    "\n",
    "    # Prediction\n",
    "    def forward(self, x):\n",
    "        # Puts x through the first layers then the relu function\n",
    "        x = torch.relu(self.linear1(x))\n",
    "        # Puts results of previous line through second layer then relu function\n",
    "        x = torch.relu(self.linear2(x))\n",
    "        # Puts result of previous line through third layer\n",
    "        x = self.linear3(x)\n",
    "        return x"
   ]
  },
  {
   "cell_type": "markdown",
   "id": "276df953-b2ab-40a8-9502-80ddff74a083",
   "metadata": {},
   "source": [
    "Define a function to  train the model, in this case, the function returns a Python dictionary to store the training loss and accuracy on the validation data \n"
   ]
  },
  {
   "cell_type": "code",
   "execution_count": 5,
   "id": "ebac8906-b98a-4582-9605-560023f7776b",
   "metadata": {},
   "outputs": [],
   "source": [
    "# Model Training Function\n",
    "\n",
    "def train(model, criterion, train_loader, validation_loader, optimizer, epochs=100):\n",
    "    i = 0\n",
    "    useful_stuff = {'training_loss': [], 'validation_accuracy': []}\n",
    "    # Number of times we train on the entire training dataset\n",
    "    for epoch in range(epochs):\n",
    "        # For each batch in the train loader\n",
    "        for i, (x, y) in enumerate(train_loader):\n",
    "            # Resets the calculated gradient value, this must be done each time as it accumulates if we do not reset\n",
    "            optimizer.zero_grad()\n",
    "            # Makes a prediction on the image tensor by flattening it to a 1 by 28*28 tensor\n",
    "            z = model(x.view(-1, 28 * 28))\n",
    "            # Calculate the loss between the prediction and actual class\n",
    "            loss = criterion(z, y)\n",
    "            # Calculates the gradient value with respect to each weight and bias\n",
    "            loss.backward()\n",
    "            # Updates the weight and bias according to calculated gradient value\n",
    "            optimizer.step()\n",
    "            # Saves the loss\n",
    "            useful_stuff['training_loss'].append(loss.data.item())\n",
    "\n",
    "        # Counter to keep track of correct predictions\n",
    "        correct = 0\n",
    "        # For each batch in the validation dataset\n",
    "        for x, y in validation_loader:\n",
    "            # Make a prediction\n",
    "            z = model(x.view(-1, 28 * 28))\n",
    "            # Get the class that has the maximum value\n",
    "            _, label = torch.max(z, 1)\n",
    "            # Check if our prediction matches the actual class\n",
    "            correct += (label == y).sum().item()\n",
    "\n",
    "        # Saves the percent accuracy\n",
    "        accuracy = 100 * (correct / len(validation_dataset))\n",
    "        useful_stuff['validation_accuracy'].append(accuracy)\n",
    "\n",
    "    return useful_stuff"
   ]
  },
  {
   "cell_type": "markdown",
   "id": "9e3b14d0-dc8d-45ee-805b-3feffba05aee",
   "metadata": {},
   "source": [
    "<!--Empty Space for separating topics-->\n"
   ]
  },
  {
   "cell_type": "markdown",
   "id": "2cdca340-1075-4575-b496-0a5a39e9cd26",
   "metadata": {},
   "source": [
    "<h2 id=\"Makeup_Data\">Make Some Data</h2> \n"
   ]
  },
  {
   "cell_type": "markdown",
   "id": "319c4e7d-3e25-47cf-9ada-9b03d4569355",
   "metadata": {},
   "source": [
    "Load the training dataset by setting the parameters <code>train</code> to <code>True</code> and convert it to a tensor  by placing a transform object int the argument <code>transform</code>\n"
   ]
  },
  {
   "cell_type": "code",
   "execution_count": 6,
   "id": "90fddc29-fb5d-49ea-a152-9cf3313e95fa",
   "metadata": {},
   "outputs": [],
   "source": [
    "# Create the training dataset\n",
    "\n",
    "train_dataset = dsets.MNIST(root='./data', train=True, download=True, transform=transforms.ToTensor())"
   ]
  },
  {
   "cell_type": "markdown",
   "id": "0c9aa968-a59d-47e6-a49a-364572a24208",
   "metadata": {},
   "source": [
    "Load the testing dataset by setting the parameters <code>train</code> to <code>False</code> and convert it to a tensor  by placing a transform object int the argument <code>transform</code>\n"
   ]
  },
  {
   "cell_type": "code",
   "execution_count": 7,
   "id": "7e18691f-16e0-4851-b4a1-ae310340678a",
   "metadata": {},
   "outputs": [],
   "source": [
    "# Create the validating dataset\n",
    "\n",
    "validation_dataset = dsets.MNIST(root='./data', train=False, download=True, transform=transforms.ToTensor())"
   ]
  },
  {
   "cell_type": "markdown",
   "id": "4115d7c8-c0ea-4301-acdd-12de5a7db671",
   "metadata": {},
   "source": [
    "Create the criterion function  \n"
   ]
  },
  {
   "cell_type": "code",
   "execution_count": 8,
   "id": "fbdc4251-b701-4e0f-9f61-b67ba0c8cfe8",
   "metadata": {},
   "outputs": [],
   "source": [
    "# Create the criterion function\n",
    "\n",
    "criterion = nn.CrossEntropyLoss()"
   ]
  },
  {
   "cell_type": "markdown",
   "id": "18fc7e13-c8d7-4684-848f-3e45a724490d",
   "metadata": {},
   "source": [
    "Create the training-data loader and the validation-data loader object \n"
   ]
  },
  {
   "cell_type": "code",
   "execution_count": 9,
   "id": "a23e1cbc-a419-43f8-ba5a-f67062eb31da",
   "metadata": {},
   "outputs": [],
   "source": [
    "# Create the training data loader and validation data loader object\n",
    "\n",
    "# Batch size is 2000 and shuffle=True means the data will be shuffled at every epoch\n",
    "train_loader = torch.utils.data.DataLoader(dataset=train_dataset, batch_size=2000, shuffle=True)\n",
    "# Batch size is 5000 and the data will not be shuffled at every epoch\n",
    "validation_loader = torch.utils.data.DataLoader(dataset=validation_dataset, batch_size=5000, shuffle=False)"
   ]
  },
  {
   "cell_type": "markdown",
   "id": "86010e6b-0fc1-4100-8cba-be7a32ce4399",
   "metadata": {},
   "source": [
    "<!--Empty Space for separating topics-->\n"
   ]
  },
  {
   "cell_type": "markdown",
   "id": "274e00c9-40a9-4aa1-9b2a-fb5995e22925",
   "metadata": {},
   "source": [
    "<h2 id=\"Train\">Define Neural Network, Criterion function, Optimizer and Train the Model</h2> \n"
   ]
  },
  {
   "cell_type": "markdown",
   "id": "462902f4-86b6-4d21-b595-f618f8a9b9e5",
   "metadata": {},
   "source": [
    "Create  the model with 100 hidden neurons  \n"
   ]
  },
  {
   "cell_type": "code",
   "execution_count": 10,
   "id": "78729d82-311a-4545-8a81-6cd0a2cd9a76",
   "metadata": {},
   "outputs": [],
   "source": [
    "# Set the parameters to create the model\n",
    "\n",
    "input_dim = 28 * 28 # Dimension of an image\n",
    "hidden_dim1 = 50\n",
    "hidden_dim2 = 50\n",
    "output_dim = 10 # Number of classes"
   ]
  },
  {
   "cell_type": "markdown",
   "id": "201035e0-0c14-430e-a449-f4eac9128178",
   "metadata": {},
   "source": [
    "Start with 10 to start but can go up-to 35 but will take an hour to run. "
   ]
  },
  {
   "cell_type": "code",
   "execution_count": 17,
   "id": "4017905a-202a-45e0-8f4f-3c5a7f841db8",
   "metadata": {},
   "outputs": [],
   "source": [
    "# Set the number of iterations\n",
    "\n",
    "cust_epochs = 35"
   ]
  },
  {
   "cell_type": "markdown",
   "id": "7fb62ef8-2ca9-42e4-8390-135cb167748d",
   "metadata": {},
   "source": [
    "<!--Empty Space for separating topics-->\n"
   ]
  },
  {
   "cell_type": "markdown",
   "id": "c226cca3-8fd7-4606-bf62-43bae0550105",
   "metadata": {},
   "source": [
    "<h2 id=\"Test\">Test Sigmoid and Relu</h2> \n"
   ]
  },
  {
   "cell_type": "markdown",
   "id": "04dc758a-14b8-4b7c-afef-fd69a7fdbc9f",
   "metadata": {},
   "source": [
    "Train the network using the Sigmoid activation function\n"
   ]
  },
  {
   "cell_type": "code",
   "execution_count": 18,
   "id": "596712e3-5dc1-44d0-a0ca-5eb3fa4d7c13",
   "metadata": {},
   "outputs": [],
   "source": [
    "learning_rate = 0.01\n",
    "# Create an instance of the Net model\n",
    "model = Net(input_dim, hidden_dim1, hidden_dim2, output_dim)\n",
    "# Create an optimizer that updates model parameters using the learning rate and gradient\n",
    "optimizer = torch.optim.SGD(model.parameters(), lr=learning_rate)\n",
    "# Train the model\n",
    "training_results = train(model, criterion, train_loader, validation_loader, optimizer, epochs=cust_epochs)"
   ]
  },
  {
   "cell_type": "markdown",
   "id": "53c50652-42e9-46f4-b0ee-8a03febd5035",
   "metadata": {},
   "source": [
    "Also train with the Relu activation function\n"
   ]
  },
  {
   "cell_type": "code",
   "execution_count": 19,
   "id": "20e36016-2a82-49cf-9ab1-f33c54ad07b8",
   "metadata": {},
   "outputs": [],
   "source": [
    "learning_rate = 0.01\n",
    "# Create an instance of the NetRelu model\n",
    "modelRelu = NetRelu(input_dim, hidden_dim1, hidden_dim2, output_dim)\n",
    "# Create an optimizer that updates model parameters using the learning rate and gradient\n",
    "optimizer = torch.optim.SGD(modelRelu.parameters(), lr=learning_rate)\n",
    "# Train the model\n",
    "training_results_relu = train(modelRelu, criterion, train_loader, validation_loader, optimizer, epochs=cust_epochs)"
   ]
  },
  {
   "cell_type": "markdown",
   "id": "87eca609-4c90-4c30-aa6e-d4110fa4666b",
   "metadata": {},
   "source": [
    "<!--Empty Space for separating topics-->\n"
   ]
  },
  {
   "cell_type": "markdown",
   "id": "6983611a-58d7-4eeb-9c7d-ee460081584b",
   "metadata": {},
   "source": [
    "<h2 id=\"Result\">Analyze Results</h2> \n"
   ]
  },
  {
   "cell_type": "markdown",
   "id": "08af51da-f769-48d6-9438-8d32e1579af1",
   "metadata": {},
   "source": [
    "Compare the training loss for each activation \n"
   ]
  },
  {
   "cell_type": "code",
   "execution_count": 20,
   "id": "af250e5e-dd11-4b83-8ae2-ec728d02ab73",
   "metadata": {},
   "outputs": [
    {
     "data": {
      "text/plain": [
       "<matplotlib.legend.Legend at 0x217866d8bc0>"
      ]
     },
     "execution_count": 20,
     "metadata": {},
     "output_type": "execute_result"
    },
    {
     "data": {
      "image/png": "[encoded data removed]",
      "text/plain": [
       "<Figure size 640x480 with 1 Axes>"
      ]
     },
     "metadata": {},
     "output_type": "display_data"
    }
   ],
   "source": [
    "plt.plot(training_results['training_loss'], label='sigmoid')\n",
    "plt.plot(training_results_relu['training_loss'], label='relu')\n",
    "plt.ylabel('loss')\n",
    "plt.title('training loss iterations')\n",
    "plt.legend()"
   ]
  },
  {
   "cell_type": "markdown",
   "id": "d95942fe-0b4d-4469-a62e-02ee45a9a4ea",
   "metadata": {},
   "source": [
    "Compare the validation loss for each model  \n"
   ]
  },
  {
   "cell_type": "code",
   "execution_count": 21,
   "id": "7ea64e59-fd8f-4506-9f2c-3e3b9a8823cf",
   "metadata": {},
   "outputs": [
    {
     "data": {
      "text/plain": [
       "<matplotlib.legend.Legend at 0x217867f3bf0>"
      ]
     },
     "execution_count": 21,
     "metadata": {},
     "output_type": "execute_result"
    },
    {
     "data": {
      "image/png": "[encoded data removed]",
      "text/plain": [
       "<Figure size 640x480 with 1 Axes>"
      ]
     },
     "metadata": {},
     "output_type": "display_data"
    }
   ],
   "source": [
    "plt.plot(training_results['validation_accuracy'], label = 'sigmoid')\n",
    "plt.plot(training_results_relu['validation_accuracy'], label = 'relu')\n",
    "plt.ylabel('validation accuracy')\n",
    "plt.xlabel('Iteration')\n",
    "plt.legend()"
   ]
  },
  {
   "cell_type": "markdown",
   "id": "0596a079-9541-45b6-9782-be86d909fa28",
   "metadata": {},
   "source": [
    "<!--Empty Space for separating topics-->\n"
   ]
  },
  {
   "cell_type": "markdown",
   "metadata": {
    "vscode": {
     "languageId": "markdown"
    }
   },
   "source": [
    "## Summary\n",
    "\n",
    "In this notebook, we tested the performance of Sigmoid and ReLU activation functions on the MNIST dataset using a neural network with two hidden layers. We trained the models and compared their training loss and validation accuracy over multiple epochs.\n",
    "\n",
    "- **Training Loss / Validation Accuracy**: ReLU significantly outperformed Sigmoid with a faster decrease in training loss and a higher validation accuracy. "
   ]
  },
  {
   "cell_type": "markdown",
   "metadata": {},
   "source": [
    "### Key Takeaway Notes:\n",
    "\n",
    "- ReLU is generally a good default choice for hidden layers in most neural network architectures.\n",
    "\n",
    "#### When to Use Sigmoid Activation Function:\n",
    "- **Binary Classification**: Sigmoid is commonly used in the output layer for binary classification problems as it outputs a probability value between 0 and 1.\n",
    "- **Shallow Networks**: Suitable for shallow networks where the vanishing gradient problem is less prominent.\n",
    "- **Probabilistic Interpretation**: When you need a probabilistic interpretation of the output.\n",
    "\n",
    "#### When to Use ReLU Activation Function:\n",
    "- **Deep Networks**: ReLU is preferred for deep networks as it helps mitigate the vanishing gradient problem, allowing for faster and more effective training.\n",
    "- **Sparse Activation**: ReLU introduces sparsity in the network by outputting zero for negative input values, which can lead to more efficient computations.\n",
    "\n",
    "### Libraries and Major Classes/Parameters Used:\n",
    "- **PyTorch**: The primary library used for building and training neural networks.\n",
    "    - `torch.nn`: Contains modules and classes for building neural networks.\n",
    "    - `torch.optim`: Provides optimization algorithms like SGD.\n",
    "    - `torchvision.datasets`: For loading datasets like MNIST.\n",
    "    - `torchvision.transforms`: For transforming data into tensors.\n",
    "\n",
    "### Business Applications: \n",
    ">\n",
    "Understanding the strengths and appropriate use cases for different activation functions is key for businesses to build more effective and efficient models based on a specific business needs, ex:\n",
    "\n",
    "- **Image Recognition**: The techniques demonstrated can be applied to various image recognition tasks, such as facial recognition, object detection, and medical image analysis.\n",
    "- **Handwriting Recognition**: The MNIST dataset is a classic example of handwriting recognition and can be extended to other forms of document processing and digitization.\n",
    "- **Predictive Analytics**: Neural networks with appropriate activation functions can be used for predictive analytics in finance, healthcare, and other industries to make data-driven decisions."
   ]
  },
  {
   "cell_type": "markdown",
   "metadata": {},
   "source": [
    "---\n",
    "**Author:** William Ruffu  \n",
    "**Date:** Jan 2025  \n",
    "**License:** All Rights Reserved | Open Source License | Freely distributable  \n",
    "© 2024 William Ruffu\n"
   ]
  }
 ],
 "metadata": {
  "kernelspec": {
   "display_name": "venv",
   "language": "python",
   "name": "python3"
  },
  "language_info": {
   "codemirror_mode": {
    "name": "ipython",
    "version": 3
   },
   "file_extension": ".py",
   "mimetype": "text/x-python",
   "name": "python",
   "nbconvert_exporter": "python",
   "pygments_lexer": "ipython3",
   "version": "3.12.7"
  }
 },
 "nbformat": 4,
 "nbformat_minor": 4
}
