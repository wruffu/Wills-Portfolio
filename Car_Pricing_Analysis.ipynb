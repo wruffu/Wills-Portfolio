{
 "cells": [
  {
   "cell_type": "markdown",
   "metadata": {},
   "source": [
    "AIDS Final Project:  Ford Car Pricing\n"
   ]
  },
  {
   "cell_type": "code",
   "execution_count": null,
   "metadata": {},
   "outputs": [],
   "source": []
  },
  {
   "cell_type": "markdown",
   "metadata": {},
   "source": [
    "# Section 1: Data Loading and Initial Cleaning"
   ]
  },
  {
   "cell_type": "markdown",
   "metadata": {},
   "source": [
    "Steps: \n",
    ">\n",
    "    Load the dataset.\n",
    "    Identify and address missing values.\n",
    "    Drop duplicate entries."
   ]
  },
  {
   "cell_type": "markdown",
   "metadata": {},
   "source": [
    "Main variable here is using the mean to fill na values. "
   ]
  },
  {
   "cell_type": "code",
   "execution_count": null,
   "metadata": {},
   "outputs": [
    {
     "data": {
      "text/html": [
       "<div>\n",
       "<style scoped>\n",
       "    .dataframe tbody tr th:only-of-type {\n",
       "        vertical-align: middle;\n",
       "    }\n",
       "\n",
       "    .dataframe tbody tr th {\n",
       "        vertical-align: top;\n",
       "    }\n",
       "\n",
       "    .dataframe thead th {\n",
       "        text-align: right;\n",
       "    }\n",
       "</style>\n",
       "<table border=\"1\" class=\"dataframe\">\n",
       "  <thead>\n",
       "    <tr style=\"text-align: right;\">\n",
       "      <th></th>\n",
       "      <th>model</th>\n",
       "      <th>year</th>\n",
       "      <th>transmission</th>\n",
       "      <th>mileage</th>\n",
       "      <th>fuelType</th>\n",
       "      <th>tax</th>\n",
       "      <th>mpg</th>\n",
       "      <th>engineSize</th>\n",
       "      <th>price</th>\n",
       "    </tr>\n",
       "  </thead>\n",
       "  <tbody>\n",
       "    <tr>\n",
       "      <th>0</th>\n",
       "      <td>Fiesta</td>\n",
       "      <td>2017</td>\n",
       "      <td>Automatic</td>\n",
       "      <td>15944</td>\n",
       "      <td>Petrol</td>\n",
       "      <td>150.0</td>\n",
       "      <td>57.7</td>\n",
       "      <td>1.0</td>\n",
       "      <td>12000</td>\n",
       "    </tr>\n",
       "    <tr>\n",
       "      <th>1</th>\n",
       "      <td>Focus</td>\n",
       "      <td>2018</td>\n",
       "      <td>Manual</td>\n",
       "      <td>9083</td>\n",
       "      <td>Petrol</td>\n",
       "      <td>150.0</td>\n",
       "      <td>57.7</td>\n",
       "      <td>1.0</td>\n",
       "      <td>14000</td>\n",
       "    </tr>\n",
       "    <tr>\n",
       "      <th>2</th>\n",
       "      <td>Focus</td>\n",
       "      <td>2017</td>\n",
       "      <td>Manual</td>\n",
       "      <td>12456</td>\n",
       "      <td>Petrol</td>\n",
       "      <td>150.0</td>\n",
       "      <td>57.7</td>\n",
       "      <td>1.0</td>\n",
       "      <td>13000</td>\n",
       "    </tr>\n",
       "    <tr>\n",
       "      <th>3</th>\n",
       "      <td>Fiesta</td>\n",
       "      <td>2019</td>\n",
       "      <td>Manual</td>\n",
       "      <td>10460</td>\n",
       "      <td>Petrol</td>\n",
       "      <td>145.0</td>\n",
       "      <td>40.3</td>\n",
       "      <td>1.5</td>\n",
       "      <td>17500</td>\n",
       "    </tr>\n",
       "    <tr>\n",
       "      <th>4</th>\n",
       "      <td>Fiesta</td>\n",
       "      <td>2019</td>\n",
       "      <td>Automatic</td>\n",
       "      <td>1482</td>\n",
       "      <td>Petrol</td>\n",
       "      <td>145.0</td>\n",
       "      <td>48.7</td>\n",
       "      <td>1.0</td>\n",
       "      <td>16500</td>\n",
       "    </tr>\n",
       "  </tbody>\n",
       "</table>\n",
       "</div>"
      ],
      "text/plain": [
       "    model  year transmission  mileage fuelType    tax   mpg  engineSize  price\n",
       "0  Fiesta  2017    Automatic    15944   Petrol  150.0  57.7         1.0  12000\n",
       "1   Focus  2018       Manual     9083   Petrol  150.0  57.7         1.0  14000\n",
       "2   Focus  2017       Manual    12456   Petrol  150.0  57.7         1.0  13000\n",
       "3  Fiesta  2019       Manual    10460   Petrol  145.0  40.3         1.5  17500\n",
       "4  Fiesta  2019    Automatic     1482   Petrol  145.0  48.7         1.0  16500"
      ]
     },
     "execution_count": 16,
     "metadata": {},
     "output_type": "execute_result"
    }
   ],
   "source": [
    "# Import necessary libraries\n",
    "import pandas as pd\n",
    "import numpy as np\n",
    "import matplotlib.pyplot as plt\n",
    "import seaborn as sns\n",
    "from sklearn.linear_model import LinearRegression, Ridge\n",
    "from sklearn.preprocessing import PolynomialFeatures, StandardScaler\n",
    "from sklearn.pipeline import Pipeline\n",
    "from sklearn.model_selection import train_test_split, GridSearchCV\n",
    "from sklearn.metrics import r2_score, mean_absolute_error, mean_squared_error\n",
    "\n",
    "# Load the dataset\n",
    "URL = \"https://cf-courses-data.s3.us.cloud-object-storage.appdomain.cloud/IBMSkillsNetwork-AI0271EN-SkillsNetwork/labs/v1/m3/data/used_car_price_analysis.csv\"\n",
    "data = pd.read_csv(URL)\n",
    "\n",
    "# Ensure non-numeric columns are explicitly not processed for numerical conversions\n",
    "numeric_columns = ['mileage', 'mpg', 'tax', 'engineSize', 'price']\n",
    "data[numeric_columns] = data[numeric_columns].apply(pd.to_numeric, errors='coerce')\n",
    "\n",
    "# Display the first few rows of the dataset\n",
    "data.head()\n"
   ]
  },
  {
   "cell_type": "code",
   "execution_count": 26,
   "metadata": {},
   "outputs": [
    {
     "name": "stdout",
     "output_type": "stream",
     "text": [
      "<class 'pandas.core.frame.DataFrame'>\n",
      "Index: 17812 entries, 0 to 17965\n",
      "Data columns (total 9 columns):\n",
      " #   Column        Non-Null Count  Dtype  \n",
      "---  ------        --------------  -----  \n",
      " 0   model         17812 non-null  object \n",
      " 1   year          17812 non-null  int64  \n",
      " 2   transmission  17812 non-null  object \n",
      " 3   mileage       17812 non-null  int64  \n",
      " 4   fuelType      17812 non-null  object \n",
      " 5   tax           17812 non-null  float64\n",
      " 6   mpg           17812 non-null  float64\n",
      " 7   engineSize    17812 non-null  float64\n",
      " 8   price         17812 non-null  int64  \n",
      "dtypes: float64(3), int64(3), object(3)\n",
      "memory usage: 1.4+ MB\n"
     ]
    }
   ],
   "source": [
    "data.info()"
   ]
  },
  {
   "cell_type": "code",
   "execution_count": 17,
   "metadata": {},
   "outputs": [
    {
     "name": "stdout",
     "output_type": "stream",
     "text": [
      "Missing values per column:\n",
      "model           0\n",
      "year            0\n",
      "transmission    0\n",
      "mileage         0\n",
      "fuelType        0\n",
      "tax             3\n",
      "mpg             0\n",
      "engineSize      0\n",
      "price           0\n",
      "dtype: int64\n",
      "\n",
      "Number of duplicate entries: 154\n"
     ]
    }
   ],
   "source": [
    "# Check for missing values and duplicate entries\n",
    "print(\"Missing values per column:\")\n",
    "print(data.isnull().sum())\n",
    "\n",
    "print(\"\\nNumber of duplicate entries:\", data.duplicated().sum())"
   ]
  },
  {
   "cell_type": "code",
   "execution_count": 18,
   "metadata": {},
   "outputs": [
    {
     "name": "stdout",
     "output_type": "stream",
     "text": [
      "\n",
      "Dataset shape after cleaning: (17812, 9)\n"
     ]
    },
    {
     "data": {
      "text/plain": [
       "model           0\n",
       "year            0\n",
       "transmission    0\n",
       "mileage         0\n",
       "fuelType        0\n",
       "tax             0\n",
       "mpg             0\n",
       "engineSize      0\n",
       "price           0\n",
       "dtype: int64"
      ]
     },
     "execution_count": 18,
     "metadata": {},
     "output_type": "execute_result"
    }
   ],
   "source": [
    "# Handle missing values: Fill numerical columns with mean\n",
    "num_cols = data.select_dtypes(include=['float64', 'int64']).columns\n",
    "data[num_cols] = data[num_cols].fillna(data[num_cols].mean())\n",
    "\n",
    "# Handle duplicate entries\n",
    "data.drop_duplicates(inplace=True)\n",
    "\n",
    "# Verify the cleaning steps\n",
    "print(\"\\nDataset shape after cleaning:\", data.shape)\n",
    "data.isnull().sum()"
   ]
  },
  {
   "cell_type": "markdown",
   "metadata": {},
   "source": [
    "Data is now cleaned and ready for EDA."
   ]
  },
  {
   "cell_type": "markdown",
   "metadata": {},
   "source": [
    "# Section 2: Exploratory Data Analysis (EDA)"
   ]
  },
  {
   "cell_type": "markdown",
   "metadata": {},
   "source": [
    "Perform Summary Statistics and Visualizations:\n",
    ">\n",
    "    Sales count by fuel type.\n",
    "    Transmission type price outliers (box plot).\n",
    "    Regression plot between mpg and price."
   ]
  },
  {
   "cell_type": "code",
   "execution_count": 19,
   "metadata": {},
   "outputs": [
    {
     "name": "stdout",
     "output_type": "stream",
     "text": [
      "\n",
      "Summary Statistics:\n",
      "               year        mileage           tax           mpg    engineSize  \\\n",
      "count  17812.000000   17812.000000  17812.000000  17812.000000  17812.000000   \n",
      "mean    2016.862396   23381.146362    113.314731     57.908696      1.350623   \n",
      "std        2.052039   19419.011045     62.034599     10.132696      0.432581   \n",
      "min     1996.000000       1.000000      0.000000     20.800000      0.000000   \n",
      "25%     2016.000000   10000.000000     30.000000     52.300000      1.000000   \n",
      "50%     2017.000000   18277.000000    145.000000     58.900000      1.200000   \n",
      "75%     2018.000000   31098.500000    145.000000     65.700000      1.500000   \n",
      "max     2060.000000  177644.000000    580.000000    201.800000      5.000000   \n",
      "\n",
      "              price  \n",
      "count  17812.000000  \n",
      "mean   12269.556310  \n",
      "std     4736.285417  \n",
      "min      495.000000  \n",
      "25%     8999.000000  \n",
      "50%    11288.000000  \n",
      "75%    15295.000000  \n",
      "max    54995.000000  \n",
      "\n",
      "Sales count by fuel type:\n",
      "fuelType\n",
      "Petrol      12081\n",
      "Diesel       5706\n",
      "Hybrid         22\n",
      "Electric        2\n",
      "Other           1\n",
      "Name: count, dtype: int64\n"
     ]
    }
   ],
   "source": [
    "# Summary statistics of the dataset\n",
    "print(\"\\nSummary Statistics:\")\n",
    "print(data.describe())\n",
    "\n",
    "# Sales count by fuel type\n",
    "fuel_type_counts = data['fuelType'].value_counts()\n",
    "print(\"\\nSales count by fuel type:\")\n",
    "print(fuel_type_counts)"
   ]
  },
  {
   "cell_type": "code",
   "execution_count": 27,
   "metadata": {},
   "outputs": [
    {
     "name": "stdout",
     "output_type": "stream",
     "text": [
      "Top 5 attributes correlated with price: ['year', 'mileage', 'engineSize', 'tax', 'mpg']\n"
     ]
    }
   ],
   "source": [
    "# Correlation with price\n",
    "corr_matrix = data.corr(numeric_only=True)\n",
    "top5_attributes = corr_matrix['price'].abs().sort_values(ascending=False).index[1:6]\n",
    "print(\"Top 5 attributes correlated with price:\", list(top5_attributes))"
   ]
  },
  {
   "cell_type": "code",
   "execution_count": 31,
   "metadata": {},
   "outputs": [
    {
     "name": "stdout",
     "output_type": "stream",
     "text": [
      "\n",
      "Count of cars by fuelType:\n",
      "fuelType\n",
      "Petrol      12081\n",
      "Diesel       5706\n",
      "Hybrid         22\n",
      "Electric        2\n",
      "Other           1\n",
      "Name: count, dtype: int64\n"
     ]
    },
    {
     "data": {
      "image/png": "[encoded data removed]",
      "text/plain": [
       "<Figure size 800x500 with 1 Axes>"
      ]
     },
     "metadata": {},
     "output_type": "display_data"
    }
   ],
   "source": [
    "# Count of cars by fuelType\n",
    "fuel_counts = data['fuelType'].value_counts()\n",
    "print(\"\\nCount of cars by fuelType:\")\n",
    "print(fuel_counts)\n",
    "\n",
    "# Plot sales count by fuel type\n",
    "plt.figure(figsize=(8, 5))\n",
    "sns.barplot(x=fuel_type_counts.index, y=fuel_type_counts.values)\n",
    "plt.title(\"Sales Count by Fuel Type\")\n",
    "plt.xlabel(\"Fuel Type\")\n",
    "plt.ylabel(\"Count\")\n",
    "plt.show()"
   ]
  },
  {
   "cell_type": "code",
   "execution_count": 30,
   "metadata": {},
   "outputs": [
    {
     "data": {
      "image/png": "[encoded data removed]",
      "text/plain": [
       "<Figure size 800x600 with 1 Axes>"
      ]
     },
     "metadata": {},
     "output_type": "display_data"
    }
   ],
   "source": [
    "# Box plot for transmission vs price outliers\n",
    "plt.figure(figsize=(8,6))\n",
    "sns.boxplot(x='transmission', y='price', data=data)\n",
    "plt.title(\"Price Distribution by Transmission Type\")\n",
    "plt.show()"
   ]
  },
  {
   "cell_type": "code",
   "execution_count": 35,
   "metadata": {},
   "outputs": [
    {
     "data": {
      "image/png": "[encoded data removed]",
      "text/plain": [
       "<Figure size 1000x600 with 1 Axes>"
      ]
     },
     "metadata": {},
     "output_type": "display_data"
    }
   ],
   "source": [
    "# Regression plot between mpg and price\n",
    "plt.figure(figsize=(10, 6))\n",
    "sns.regplot(x='mpg', y='price', data=data, scatter_kws={'alpha': 0.3})\n",
    "plt.title(\"Regression Plot: MPG vs Price\")\n",
    "plt.xlabel(\"Miles Per Gallon (MPG)\")\n",
    "plt.ylabel(\"Price\")\n",
    "plt.show()"
   ]
  },
  {
   "cell_type": "code",
   "execution_count": null,
   "metadata": {},
   "outputs": [],
   "source": []
  },
  {
   "cell_type": "markdown",
   "metadata": {},
   "source": [
    "# Section 3: Synthetic Data Creation"
   ]
  },
  {
   "cell_type": "markdown",
   "metadata": {},
   "source": [
    "    Identify underrepresented categories.\n",
    "    Generate synthetic data to balance these categories.\n",
    "    Save the synthetic data as a separate CSV file."
   ]
  },
  {
   "cell_type": "code",
   "execution_count": 36,
   "metadata": {},
   "outputs": [
    {
     "name": "stdout",
     "output_type": "stream",
     "text": [
      "Underrepresented fuel types: ['Hybrid', 'Electric', 'Other']\n"
     ]
    },
    {
     "data": {
      "text/html": [
       "<div>\n",
       "<style scoped>\n",
       "    .dataframe tbody tr th:only-of-type {\n",
       "        vertical-align: middle;\n",
       "    }\n",
       "\n",
       "    .dataframe tbody tr th {\n",
       "        vertical-align: top;\n",
       "    }\n",
       "\n",
       "    .dataframe thead th {\n",
       "        text-align: right;\n",
       "    }\n",
       "</style>\n",
       "<table border=\"1\" class=\"dataframe\">\n",
       "  <thead>\n",
       "    <tr style=\"text-align: right;\">\n",
       "      <th></th>\n",
       "      <th>model</th>\n",
       "      <th>year</th>\n",
       "      <th>transmission</th>\n",
       "      <th>mileage</th>\n",
       "      <th>fuelType</th>\n",
       "      <th>tax</th>\n",
       "      <th>mpg</th>\n",
       "      <th>engineSize</th>\n",
       "      <th>price</th>\n",
       "    </tr>\n",
       "  </thead>\n",
       "  <tbody>\n",
       "    <tr>\n",
       "      <th>0</th>\n",
       "      <td>Mondeo</td>\n",
       "      <td>2017.032340</td>\n",
       "      <td>Automatic</td>\n",
       "      <td>28003.078535</td>\n",
       "      <td>Hybrid</td>\n",
       "      <td>142.988582</td>\n",
       "      <td>58.564183</td>\n",
       "      <td>2.005768</td>\n",
       "      <td>16893.631931</td>\n",
       "    </tr>\n",
       "    <tr>\n",
       "      <th>1</th>\n",
       "      <td>Mondeo</td>\n",
       "      <td>2020.145903</td>\n",
       "      <td>Automatic</td>\n",
       "      <td>3146.324698</td>\n",
       "      <td>Hybrid</td>\n",
       "      <td>138.130834</td>\n",
       "      <td>50.489181</td>\n",
       "      <td>2.007571</td>\n",
       "      <td>25247.948459</td>\n",
       "    </tr>\n",
       "    <tr>\n",
       "      <th>2</th>\n",
       "      <td>Kuga</td>\n",
       "      <td>2020.063600</td>\n",
       "      <td>Semi-Auto</td>\n",
       "      <td>5720.005638</td>\n",
       "      <td>Hybrid</td>\n",
       "      <td>130.135035</td>\n",
       "      <td>200.900118</td>\n",
       "      <td>2.510129</td>\n",
       "      <td>32509.178611</td>\n",
       "    </tr>\n",
       "    <tr>\n",
       "      <th>3</th>\n",
       "      <td>Mondeo</td>\n",
       "      <td>2016.911039</td>\n",
       "      <td>Automatic</td>\n",
       "      <td>63036.956257</td>\n",
       "      <td>Hybrid</td>\n",
       "      <td>0.301097</td>\n",
       "      <td>67.997899</td>\n",
       "      <td>2.001235</td>\n",
       "      <td>12582.062220</td>\n",
       "    </tr>\n",
       "    <tr>\n",
       "      <th>4</th>\n",
       "      <td>Mondeo</td>\n",
       "      <td>2016.065462</td>\n",
       "      <td>Automatic</td>\n",
       "      <td>104495.434513</td>\n",
       "      <td>Hybrid</td>\n",
       "      <td>4.750929</td>\n",
       "      <td>68.639757</td>\n",
       "      <td>1.962706</td>\n",
       "      <td>10104.329937</td>\n",
       "    </tr>\n",
       "  </tbody>\n",
       "</table>\n",
       "</div>"
      ],
      "text/plain": [
       "    model         year transmission        mileage fuelType         tax  \\\n",
       "0  Mondeo  2017.032340    Automatic   28003.078535   Hybrid  142.988582   \n",
       "1  Mondeo  2020.145903    Automatic    3146.324698   Hybrid  138.130834   \n",
       "2    Kuga  2020.063600    Semi-Auto    5720.005638   Hybrid  130.135035   \n",
       "3  Mondeo  2016.911039    Automatic   63036.956257   Hybrid    0.301097   \n",
       "4  Mondeo  2016.065462    Automatic  104495.434513   Hybrid    4.750929   \n",
       "\n",
       "          mpg  engineSize         price  \n",
       "0   58.564183    2.005768  16893.631931  \n",
       "1   50.489181    2.007571  25247.948459  \n",
       "2  200.900118    2.510129  32509.178611  \n",
       "3   67.997899    2.001235  12582.062220  \n",
       "4   68.639757    1.962706  10104.329937  "
      ]
     },
     "metadata": {},
     "output_type": "display_data"
    },
    {
     "data": {
      "text/html": [
       "<div>\n",
       "<style scoped>\n",
       "    .dataframe tbody tr th:only-of-type {\n",
       "        vertical-align: middle;\n",
       "    }\n",
       "\n",
       "    .dataframe tbody tr th {\n",
       "        vertical-align: top;\n",
       "    }\n",
       "\n",
       "    .dataframe thead th {\n",
       "        text-align: right;\n",
       "    }\n",
       "</style>\n",
       "<table border=\"1\" class=\"dataframe\">\n",
       "  <thead>\n",
       "    <tr style=\"text-align: right;\">\n",
       "      <th></th>\n",
       "      <th>model</th>\n",
       "      <th>year</th>\n",
       "      <th>transmission</th>\n",
       "      <th>mileage</th>\n",
       "      <th>fuelType</th>\n",
       "      <th>tax</th>\n",
       "      <th>mpg</th>\n",
       "      <th>engineSize</th>\n",
       "      <th>price</th>\n",
       "    </tr>\n",
       "  </thead>\n",
       "  <tbody>\n",
       "    <tr>\n",
       "      <th>0</th>\n",
       "      <td>Mondeo</td>\n",
       "      <td>2017.032340</td>\n",
       "      <td>Automatic</td>\n",
       "      <td>28003.078535</td>\n",
       "      <td>Hybrid</td>\n",
       "      <td>142.988582</td>\n",
       "      <td>58.564183</td>\n",
       "      <td>2.005768</td>\n",
       "      <td>16893.631931</td>\n",
       "    </tr>\n",
       "    <tr>\n",
       "      <th>1</th>\n",
       "      <td>Mondeo</td>\n",
       "      <td>2020.145903</td>\n",
       "      <td>Automatic</td>\n",
       "      <td>3146.324698</td>\n",
       "      <td>Hybrid</td>\n",
       "      <td>138.130834</td>\n",
       "      <td>50.489181</td>\n",
       "      <td>2.007571</td>\n",
       "      <td>25247.948459</td>\n",
       "    </tr>\n",
       "    <tr>\n",
       "      <th>2</th>\n",
       "      <td>Kuga</td>\n",
       "      <td>2020.063600</td>\n",
       "      <td>Semi-Auto</td>\n",
       "      <td>5720.005638</td>\n",
       "      <td>Hybrid</td>\n",
       "      <td>130.135035</td>\n",
       "      <td>200.900118</td>\n",
       "      <td>2.510129</td>\n",
       "      <td>32509.178611</td>\n",
       "    </tr>\n",
       "    <tr>\n",
       "      <th>3</th>\n",
       "      <td>Mondeo</td>\n",
       "      <td>2016.911039</td>\n",
       "      <td>Automatic</td>\n",
       "      <td>63036.956257</td>\n",
       "      <td>Hybrid</td>\n",
       "      <td>0.301097</td>\n",
       "      <td>67.997899</td>\n",
       "      <td>2.001235</td>\n",
       "      <td>12582.062220</td>\n",
       "    </tr>\n",
       "    <tr>\n",
       "      <th>4</th>\n",
       "      <td>Mondeo</td>\n",
       "      <td>2016.065462</td>\n",
       "      <td>Automatic</td>\n",
       "      <td>104495.434513</td>\n",
       "      <td>Hybrid</td>\n",
       "      <td>4.750929</td>\n",
       "      <td>68.639757</td>\n",
       "      <td>1.962706</td>\n",
       "      <td>10104.329937</td>\n",
       "    </tr>\n",
       "  </tbody>\n",
       "</table>\n",
       "</div>"
      ],
      "text/plain": [
       "    model         year transmission        mileage fuelType         tax  \\\n",
       "0  Mondeo  2017.032340    Automatic   28003.078535   Hybrid  142.988582   \n",
       "1  Mondeo  2020.145903    Automatic    3146.324698   Hybrid  138.130834   \n",
       "2    Kuga  2020.063600    Semi-Auto    5720.005638   Hybrid  130.135035   \n",
       "3  Mondeo  2016.911039    Automatic   63036.956257   Hybrid    0.301097   \n",
       "4  Mondeo  2016.065462    Automatic  104495.434513   Hybrid    4.750929   \n",
       "\n",
       "          mpg  engineSize         price  \n",
       "0   58.564183    2.005768  16893.631931  \n",
       "1   50.489181    2.007571  25247.948459  \n",
       "2  200.900118    2.510129  32509.178611  \n",
       "3   67.997899    2.001235  12582.062220  \n",
       "4   68.639757    1.962706  10104.329937  "
      ]
     },
     "execution_count": 36,
     "metadata": {},
     "output_type": "execute_result"
    }
   ],
   "source": [
    "# Code Cell: Synthetic Data Creation\n",
    "\n",
    "# Identify underrepresented categories by fuelType (arbitrary criteria: say < 5% of total)\n",
    "threshold = 0.05 * len(data)\n",
    "underrepresented_fuels = fuel_counts[fuel_counts < threshold].index\n",
    "print(\"Underrepresented fuel types:\", underrepresented_fuels.tolist())\n",
    "\n",
    "# Extract subset of data with underrepresented fuel types\n",
    "under_df = data[data['fuelType'].isin(underrepresented_fuels)]\n",
    "\n",
    "# Number of synthetic samples to create\n",
    "num_synthetic = 5000\n",
    "\n",
    "# For simplicity, we will sample with replacement from under_df and add small random noise\n",
    "synthetic_data = under_df.sample(n=num_synthetic, replace=True).reset_index(drop=True)\n",
    "\n",
    "# Add slight variations to numeric columns to simulate new entries\n",
    "numeric_cols = synthetic_data.select_dtypes(include=[np.number]).columns\n",
    "for col in numeric_cols:\n",
    "    # Adding gaussian noise based on the column std deviation\n",
    "    col_std = synthetic_data[col].std() if synthetic_data[col].std() > 0 else 1\n",
    "    noise = np.random.normal(0, col_std*0.05, size=num_synthetic)  # 5% std noise\n",
    "    synthetic_data[col] = synthetic_data[col] + noise\n",
    "\n",
    "# Clip values to avoid unrealistic negatives\n",
    "for col in numeric_cols:\n",
    "    synthetic_data[col] = synthetic_data[col].clip(lower=0)\n",
    "\n",
    "# Show a snippet of the synthetic data\n",
    "display(synthetic_data.head())\n",
    "\n",
    "# Save synthetic data to CSV\n",
    "synthetic_data.to_csv(\"synthetic_data.csv\", index=False)\n",
    "\n",
    "# Save the synthetic data to local path and import os library\n",
    "import os\n",
    "path = os.getcwd()\n",
    "synthetic_data.to_csv(path + \"/synthetic_data.csv\", index=False)\n",
    "\n",
    "# Load the synthetic data\n",
    "synthetic_data = pd.read_csv(\"synthetic_data.csv\")\n",
    "\n",
    "# Display the first few rows of the synthetic data\n",
    "synthetic_data.head()"
   ]
  },
  {
   "cell_type": "code",
   "execution_count": null,
   "metadata": {},
   "outputs": [],
   "source": []
  },
  {
   "cell_type": "markdown",
   "metadata": {},
   "source": [
    "# Section 4: Modeling and Analysis"
   ]
  },
  {
   "cell_type": "markdown",
   "metadata": {},
   "source": [
    "Fit and evaluate models:\n",
    "\n",
    "    Linear Regression (single and multiple variables).\n",
    "    Polynomial Regression."
   ]
  },
  {
   "cell_type": "code",
   "execution_count": 53,
   "metadata": {},
   "outputs": [
    {
     "name": "stdout",
     "output_type": "stream",
     "text": [
      "Requirement already satisfied: scikit-learn in c:\\users\\willl\\appdata\\local\\packages\\pythonsoftwarefoundation.python.3.8_qbz5n2kfra8p0\\localcache\\local-packages\\python38\\site-packages (1.3.2)\n",
      "Requirement already satisfied: numpy<2.0,>=1.17.3 in c:\\users\\willl\\appdata\\local\\packages\\pythonsoftwarefoundation.python.3.8_qbz5n2kfra8p0\\localcache\\local-packages\\python38\\site-packages (from scikit-learn) (1.24.4)\n",
      "Requirement already satisfied: scipy>=1.5.0 in c:\\users\\willl\\appdata\\local\\packages\\pythonsoftwarefoundation.python.3.8_qbz5n2kfra8p0\\localcache\\local-packages\\python38\\site-packages (from scikit-learn) (1.10.1)\n",
      "Requirement already satisfied: joblib>=1.1.1 in c:\\users\\willl\\appdata\\local\\packages\\pythonsoftwarefoundation.python.3.8_qbz5n2kfra8p0\\localcache\\local-packages\\python38\\site-packages (from scikit-learn) (1.4.2)\n",
      "Requirement already satisfied: threadpoolctl>=2.0.0 in c:\\users\\willl\\appdata\\local\\packages\\pythonsoftwarefoundation.python.3.8_qbz5n2kfra8p0\\localcache\\local-packages\\python38\\site-packages (from scikit-learn) (3.5.0)\n",
      "Note: you may need to restart the kernel to use updated packages.\n"
     ]
    }
   ],
   "source": [
    "# Install the correct package\n",
    "%pip install scikit-learn\n",
    "\n",
    "# import train test split\n",
    "from sklearn.model_selection import train_test_split\n",
    "\n",
    "# import linear regression\n",
    "from sklearn.linear_model import LinearRegression\n",
    "\n",
    "# import mean squared error and r2 score\n",
    "from sklearn.metrics import mean_squared_error, r2_score\n",
    "\n",
    "# import pipeline\n",
    "from sklearn.pipeline import Pipeline\n",
    "\n",
    "# import standard scaler and polynomial features\n",
    "from sklearn.preprocessing import StandardScaler, PolynomialFeatures"
   ]
  },
  {
   "cell_type": "markdown",
   "metadata": {},
   "source": [
    "Regression Modeling Preparations"
   ]
  },
  {
   "cell_type": "code",
   "execution_count": 46,
   "metadata": {},
   "outputs": [
    {
     "name": "stdout",
     "output_type": "stream",
     "text": [
      "Single feature (mpg) Linear Regression:\n",
      "R²: 0.11989802249624182\n",
      "MSE: 19741690.80944619\n"
     ]
    }
   ],
   "source": [
    "# Define features and target\n",
    "target = 'price'\n",
    "features_single = ['mpg']\n",
    "features_multiple = ['year', 'mileage', 'tax', 'mpg', 'engineSize']\n",
    "\n",
    "X_single = data[features_single]\n",
    "X_multi = data[features_multiple]\n",
    "y = data[target]\n",
    "\n",
    "# Train-test split for later steps\n",
    "X_train_multi, X_test_multi, y_train_multi, y_test_multi = train_test_split(X_multi, y, test_size=0.2, random_state=42)\n",
    "\n",
    "# 1. Linear regression with single feature (mpg)\n",
    "lin_reg_single = LinearRegression()\n",
    "lin_reg_single.fit(X_single, y)\n",
    "y_pred_single = lin_reg_single.predict(X_single)\n",
    "r2_single = r2_score(y, y_pred_single)\n",
    "mse_single = mean_squared_error(y, y_pred_single)\n",
    "\n",
    "print(\"Single feature (mpg) Linear Regression:\")\n",
    "print(\"R²:\", r2_single)\n",
    "print(\"MSE:\", mse_single)"
   ]
  },
  {
   "cell_type": "code",
   "execution_count": 47,
   "metadata": {},
   "outputs": [
    {
     "name": "stdout",
     "output_type": "stream",
     "text": [
      "\n",
      "Multiple features Linear Regression:\n",
      "R²: 0.7265379654547015\n",
      "MSE: 6134065.224381709\n"
     ]
    }
   ],
   "source": [
    "# 2. Linear regression with multiple features\n",
    "lin_reg_multi = LinearRegression()\n",
    "lin_reg_multi.fit(X_multi, y)\n",
    "y_pred_multi = lin_reg_multi.predict(X_multi)\n",
    "r2_multi = r2_score(y, y_pred_multi)\n",
    "mse_multi = mean_squared_error(y, y_pred_multi)\n",
    "\n",
    "print(\"\\nMultiple features Linear Regression:\")\n",
    "print(\"R²:\", r2_multi)\n",
    "print(\"MSE:\", mse_multi)"
   ]
  },
  {
   "cell_type": "code",
   "execution_count": 54,
   "metadata": {},
   "outputs": [
    {
     "name": "stdout",
     "output_type": "stream",
     "text": [
      "\n",
      "Polynomial (degree 2) + Linear Regression Pipeline:\n",
      "R²: 0.7666619695239302\n",
      "MSE: 5234038.065462741\n"
     ]
    }
   ],
   "source": [
    "# 3. Pipeline with StandardScaler, PolynomialFeatures(2), LinearRegression\n",
    "pipeline_model = Pipeline([\n",
    "    ('scaler', StandardScaler()),\n",
    "    ('poly', PolynomialFeatures(degree=2, include_bias=False)),\n",
    "    ('linreg', LinearRegression())\n",
    "])\n",
    "\n",
    "pipeline_model.fit(X_multi, y)\n",
    "y_pred_poly = pipeline_model.predict(X_multi)\n",
    "r2_poly = r2_score(y, y_pred_poly)\n",
    "mse_poly = mean_squared_error(y, y_pred_poly)\n",
    "\n",
    "print(\"\\nPolynomial (degree 2) + Linear Regression Pipeline:\")\n",
    "print(\"R²:\", r2_poly)\n",
    "print(\"MSE:\", mse_poly)"
   ]
  },
  {
   "cell_type": "code",
   "execution_count": null,
   "metadata": {},
   "outputs": [],
   "source": []
  },
  {
   "cell_type": "markdown",
   "metadata": {},
   "source": [
    "# Section 5: Ridge Regression and Grid Search"
   ]
  },
  {
   "cell_type": "markdown",
   "metadata": {},
   "source": [
    "Objectives:\n",
    "\n",
    "    Fit a Ridge regression model with alpha=0.1 on the training set (multiple features). Compute R² on the test set.\n",
    "\n",
    "    Perform a second order polynomial transform on training and test data, fit a Ridge regression with alpha=0.1, compute R² and MSE on the modified test data.\n",
    "    \n",
    "    Perform a Grid Search on Ridge for alpha values {0.01, 0.1, 1, 10, 100} using 4-fold cross validation, identify the optimum alpha."
   ]
  },
  {
   "cell_type": "code",
   "execution_count": 56,
   "metadata": {},
   "outputs": [],
   "source": [
    "# import ridge regression\n",
    "from sklearn.linear_model import Ridge\n",
    "\n",
    "# import grid search\n",
    "from sklearn.model_selection import GridSearchCV\n",
    "\n",
    "# import mean absolute error\n",
    "from sklearn.metrics import mean_absolute_error\n",
    "\n",
    "# import mean squared error\n",
    "from sklearn.metrics import mean_squared_error"
   ]
  },
  {
   "cell_type": "code",
   "execution_count": 57,
   "metadata": {},
   "outputs": [
    {
     "name": "stdout",
     "output_type": "stream",
     "text": [
      "Ridge Regression (alpha=0.1) R² on test data: 0.6917134446113116\n",
      "\n",
      "Ridge Regression (alpha=0.1) with Polynomial Features:\n",
      "R² on test data: 0.6732748727001794\n",
      "MSE on test data: 7326174.878080043\n",
      "\n",
      "Grid Search Best Alpha: 0.01\n",
      "Best CV R²: 0.7336750903927898\n"
     ]
    },
    {
     "name": "stderr",
     "output_type": "stream",
     "text": [
      "C:\\Users\\willl\\AppData\\Local\\Packages\\PythonSoftwareFoundation.Python.3.8_qbz5n2kfra8p0\\LocalCache\\local-packages\\Python38\\site-packages\\sklearn\\linear_model\\_ridge.py:200: LinAlgWarning: Ill-conditioned matrix (rcond=2.1777e-24): result may not be accurate.\n",
      "  return linalg.solve(A, Xy, assume_a=\"pos\", overwrite_a=True).T\n"
     ]
    }
   ],
   "source": [
    "# Simple Ridge with alpha=0.1\n",
    "ridge_reg = Ridge(alpha=0.1)\n",
    "ridge_reg.fit(X_train_multi, y_train_multi)\n",
    "r2_ridge_test = ridge_reg.score(X_test_multi, y_test_multi)\n",
    "\n",
    "print(\"Ridge Regression (alpha=0.1) R² on test data:\", r2_ridge_test)\n",
    "\n",
    "# Polynomial transform on train/test\n",
    "poly_transform = PolynomialFeatures(degree=2, include_bias=False)\n",
    "X_train_poly = poly_transform.fit_transform(X_train_multi)\n",
    "X_test_poly = poly_transform.transform(X_test_multi)\n",
    "\n",
    "ridge_reg_poly = Ridge(alpha=0.1)\n",
    "ridge_reg_poly.fit(X_train_poly, y_train_multi)\n",
    "y_pred_poly_ridge = ridge_reg_poly.predict(X_test_poly)\n",
    "r2_poly_ridge = r2_score(y_test_multi, y_pred_poly_ridge)\n",
    "mse_poly_ridge = mean_squared_error(y_test_multi, y_pred_poly_ridge)\n",
    "\n",
    "print(\"\\nRidge Regression (alpha=0.1) with Polynomial Features:\")\n",
    "print(\"R² on test data:\", r2_poly_ridge)\n",
    "print(\"MSE on test data:\", mse_poly_ridge)\n",
    "\n",
    "# Grid Search for Ridge\n",
    "param_grid = {'alpha': [0.01, 0.1, 1, 10, 100]}\n",
    "ridge_gs = GridSearchCV(Ridge(), param_grid, cv=4, scoring='r2')\n",
    "ridge_gs.fit(X_train_multi, y_train_multi)\n",
    "\n",
    "print(\"\\nGrid Search Best Alpha:\", ridge_gs.best_params_['alpha'])\n",
    "print(\"Best CV R²:\", ridge_gs.best_score_)"
   ]
  },
  {
   "cell_type": "code",
   "execution_count": null,
   "metadata": {},
   "outputs": [],
   "source": []
  },
  {
   "cell_type": "markdown",
   "metadata": {},
   "source": [
    "# Section 6: Summary and Recommendations"
   ]
  },
  {
   "cell_type": "markdown",
   "metadata": {},
   "source": [
    "Objectives:\n",
    "\n",
    "    Summarize the key findings.\n",
    "    Provide recommendations on model selection and explainability vs. generalization.\n",
    "    Discuss final deliverables and next steps."
   ]
  },
  {
   "cell_type": "markdown",
   "metadata": {},
   "source": [
    "Model Performance:\n",
    "\n",
    "    The Ridge Regression (alpha=0.1) on the multiple features (without polynomial expansion) gave an R² of approximately 0.6917 on the test data. This suggests a reasonably strong linear relationship.\n",
    "    After applying second-degree polynomial features and fitting a Ridge model with alpha=0.1, the R² on the test data was about 0.6733, which is actually a slight decrease compared to the simpler Ridge model. Additionally, the MSE was around 7,326,174.88, indicating the polynomial expansion may not have improved predictive performance in this scenario.\n",
    "    The Grid Search over various alpha values identified alpha=0.01 as the best parameter, yielding a best cross-validated R² score of approximately 0.7337. This suggests that reducing the regularization strength slightly improved the model’s fit during cross-validation.\n",
    "\n",
    "Numerical Stability:\n",
    "\n",
    "    A warning (LinAlgWarning) regarding an ill-conditioned matrix was observed. This typically indicates multicollinearity or excessively correlated features, which can occur after polynomial expansion. While not critical, it’s a sign that the model might be too complex or that feature engineering (e.g., removing redundant features or applying dimensionality reduction) could improve numerical stability and interpretability.\n",
    "\n",
    "Interpretation and Recommendations:\n",
    "\n",
    "    The linear model (Ridge) with a carefully chosen alpha (0.01 from the Grid Search) seems to offer a strong predictive performance and better stability than the polynomial-augmented model in this specific scenario.\n",
    "    Given the emphasis on explainability, sticking to linear or ridge regression with a well-tuned alpha and possibly fewer, more carefully selected features (to reduce collinearity) may provide a clearer understanding of how each feature impacts price.\n",
    "    If more complex models are explored, consider regularization techniques, dimensionality reduction, or selectively applying polynomial features to mitigate ill-conditioning and ensure model coefficients remain stable and interpretable."
   ]
  }
 ],
 "metadata": {
  "kernelspec": {
   "display_name": "Python 3",
   "language": "python",
   "name": "python3"
  },
  "language_info": {
   "codemirror_mode": {
    "name": "ipython",
    "version": 3
   },
   "file_extension": ".py",
   "mimetype": "text/x-python",
   "name": "python",
   "nbconvert_exporter": "python",
   "pygments_lexer": "ipython3",
   "version": "3.8.10"
  }
 },
 "nbformat": 4,
 "nbformat_minor": 2
}
