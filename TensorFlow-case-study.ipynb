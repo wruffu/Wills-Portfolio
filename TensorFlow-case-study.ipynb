{
 "cells": [
  {
   "cell_type": "markdown",
   "metadata": {},
   "source": [
    "# CASE STUDY - convolutional neural networks"
   ]
  },
  {
   "cell_type": "markdown",
   "metadata": {},
   "source": [
    "### Python 3.8.10 used for this notebook, TensorFlow needs an old version of Python to install properly."
   ]
  },
  {
   "cell_type": "code",
   "execution_count": 22,
   "metadata": {},
   "outputs": [],
   "source": [
    "from __future__ import absolute_import, division, print_function, unicode_literals\n",
    "\n",
    "import os\n",
    "import csv\n",
    "import joblib\n",
    "import time\n",
    "from collections import Counter"
   ]
  },
  {
   "cell_type": "code",
   "execution_count": 23,
   "metadata": {},
   "outputs": [
    {
     "name": "stdout",
     "output_type": "stream",
     "text": [
      "1.24.4\n"
     ]
    }
   ],
   "source": [
    "import pandas as pd\n",
    "import numpy as np\n",
    "print(np.__version__)"
   ]
  },
  {
   "cell_type": "code",
   "execution_count": 24,
   "metadata": {},
   "outputs": [],
   "source": [
    "import tensorflow as tf\n",
    "from tensorflow import keras\n",
    "from tensorflow.keras.utils import to_categorical"
   ]
  },
  {
   "cell_type": "code",
   "execution_count": 25,
   "metadata": {},
   "outputs": [],
   "source": [
    "import matplotlib.pyplot as plt\n",
    "plt.style.use('Solarize_Light2')\n",
    "%matplotlib inline"
   ]
  },
  {
   "cell_type": "code",
   "execution_count": 26,
   "metadata": {},
   "outputs": [],
   "source": [
    "from sklearn.ensemble import RandomForestClassifier\n",
    "from sklearn.preprocessing import StandardScaler\n",
    "from sklearn.pipeline import Pipeline\n",
    "from sklearn.model_selection import GridSearchCV\n",
    "from sklearn.metrics import classification_report\n",
    "from sklearn.decomposition import PCA"
   ]
  },
  {
   "cell_type": "markdown",
   "metadata": {},
   "source": [
    "# Synopsis\n",
    "\n",
    "There are also some projects relating to user comments that are getting off the ground.  However, I also work alongside the deep-learning specialists that maintain the core product at AAVAIL---its audio and visual manipulation models.\n",
    "\n",
    "The team meets regularly and all new data science hires are expected to go through a series deep-learning tutorials to ensure that they can contribute to conversations about the core product.  This notebook will be apart of these tutorials on CNN's. \n",
    "\n",
    "Outline fo the guide:\n",
    "\n",
    "  1. Environment setup\n",
    "  2. Model scaffolding using Keras\n",
    "  3. Logging and Model serialization\n",
    "  4. Model iteration"
   ]
  },
  {
   "cell_type": "markdown",
   "metadata": {},
   "source": [
    "## Fashion MNIST\n",
    "\n",
    ">One project that the data science team at AAVAIL has been tasked with is ensuring that the video feeds are in fact news video feeds.  There are people that are performing quality assurance on these feeds, but eventually the data science team will need to build a service that samples a number of frames from a video, then identifies objects in the images, flagging for review any feeds that may be different.\n",
    "\n",
    "A solid benchmark dataset for this task is the Fashion MNIST dataset.  \n",
    "\n",
    "* training set - 60,000 images\n",
    "* test set - 10,000 images\n",
    "* images are 28 pixels x 28 pixels\n",
    "* classes: T-shirt/top, Trouser, Pullover, Dress, Coat, Sandal, Shirt, Sneaker, Bag, Ankle boot"
   ]
  },
  {
   "cell_type": "markdown",
   "metadata": {},
   "source": [
    "## PART 1 - environment setup"
   ]
  },
  {
   "cell_type": "code",
   "execution_count": 27,
   "metadata": {},
   "outputs": [
    {
     "name": "stdout",
     "output_type": "stream",
     "text": [
      "2.7.0\n",
      "[name: \"/device:CPU:0\"\n",
      "device_type: \"CPU\"\n",
      "memory_limit: 268435456\n",
      "locality {\n",
      "}\n",
      "incarnation: 6260334704570626944\n",
      "xla_global_id: -1\n",
      "]\n"
     ]
    }
   ],
   "source": [
    "## if you wish to work with tensorflow v1 then ask it to emulate version 2 behavior\n",
    "import tensorflow.compat.v2 as tf\n",
    "tf.enable_v2_behavior()\n",
    "print(tf.__version__)\n",
    "\n",
    "## check hardware availability\n",
    "from tensorflow.python.client import device_lib\n",
    "print(device_lib.list_local_devices())"
   ]
  },
  {
   "cell_type": "code",
   "execution_count": 28,
   "metadata": {},
   "outputs": [],
   "source": [
    "### load the data  \n",
    "fashion_mnist = keras.datasets.fashion_mnist\n",
    "(train_images, train_labels), (test_images, test_labels) = fashion_mnist.load_data() \n",
    "class_names = ['T-shirt/top', 'Trouser', 'Pullover', 'Dress', 'Coat', 'Sandal', 'Shirt', \n",
    "               'Sneaker', 'Bag', 'Ankle boot']\n",
    "num_classes = len(class_names)\n",
    "\n",
    "## Normalize pixel values to be between 0 and 1\n",
    "train_images, test_images = train_images / 255.0, test_images / 255.0\n",
    "\n",
    "X_train = train_images\n",
    "X_test = test_images\n",
    "y_train = train_labels\n",
    "y_test = test_labels"
   ]
  },
  {
   "cell_type": "markdown",
   "metadata": {},
   "source": [
    "### QUESTION 1\n",
    "\n",
    "Visualize a sample of the images to QA the data set (for instance plot one image of each class). Then, print a summary of the data (for instance, the shape of training set, the shape of the test set, the number of sample per class...)."
   ]
  },
  {
   "cell_type": "code",
   "execution_count": 29,
   "metadata": {},
   "outputs": [
    {
     "data": {
      "image/png": "[encoded data removed]",
      "text/plain": [
       "<Figure size 1000x1000 with 3 Axes>"
      ]
     },
     "metadata": {},
     "output_type": "display_data"
    }
   ],
   "source": [
    "# Visualize 3 images from the dataset\n",
    "\n",
    "plt.figure(figsize=(10,10))\n",
    "for i in range(3):\n",
    "    plt.subplot(5,5,i+1)\n",
    "    plt.xticks([])\n",
    "    plt.yticks([])\n",
    "    plt.grid(False)\n",
    "    plt.imshow(train_images[i], cmap=plt.cm.binary)\n",
    "    plt.xlabel(class_names[train_labels[i]])\n",
    "plt.show()\n"
   ]
  },
  {
   "cell_type": "code",
   "execution_count": 30,
   "metadata": {},
   "outputs": [
    {
     "name": "stdout",
     "output_type": "stream",
     "text": [
      "Training data:\n",
      "Number of examples:  60000\n",
      "Number of channels: 1\n",
      "Image size: 28 28\n",
      " \n",
      "Test data:\n",
      "Number of examples: 10000\n",
      "Number of channels: 1\n",
      "Image size: 28 28\n"
     ]
    }
   ],
   "source": [
    "# Add a channel dimension to the training and test sets\n",
    "X_train = np.expand_dims(X_train, -1)\n",
    "X_test = np.expand_dims(X_test, -1)\n",
    "\n",
    "# print out data on the shapes of the training and test sets\n",
    "print(\"Training data:\")\n",
    "print(\"Number of examples: \", X_train.shape[0])\n",
    "print(\"Number of channels:\", X_train.shape[3])\n",
    "print(\"Image size:\", X_train.shape[1], X_train.shape[2])\n",
    "print(\" \")\n",
    "print(\"Test data:\")\n",
    "print(\"Number of examples:\", X_test.shape[0])\n",
    "print(\"Number of channels:\", X_test.shape[3])\n",
    "print(\"Image size:\", X_test.shape[1], X_test.shape[2])\n",
    "\n"
   ]
  },
  {
   "cell_type": "code",
   "execution_count": 31,
   "metadata": {},
   "outputs": [
    {
     "name": "stdout",
     "output_type": "stream",
     "text": [
      "Training labels:\n",
      "Number of classes: 10\n",
      "Classes: [0 1 2 3 4 5 6 7 8 9]\n"
     ]
    }
   ],
   "source": [
    "# print out information on the training classes\n",
    "print(\"Training labels:\")\n",
    "print(\"Number of classes:\", len(np.unique(y_train)))\n",
    "print(\"Classes:\", np.unique(y_train))"
   ]
  },
  {
   "cell_type": "markdown",
   "metadata": {},
   "source": [
    "Take a moment to understand how the data set is built, especially what are the 3 dimensions of X_train and X_test."
   ]
  },
  {
   "cell_type": "markdown",
   "metadata": {},
   "source": [
    "### QUESTION 2\n",
    "\n",
    "In this question you are asked to build a base model. The base model that we want to build is composed of a PCA model followed by a classic machine learning classifier. The PCA takes as input the images that have been flattened and creates a representation of the images with few features (the first n principal components). Then, the classifier will classify the images based on this reduced representation. Following the best practices we will create a sklearn Pipeline and pass this pipeline in a grid search to optimize the hyper parameters. You are free to use the classifier that you think will perform best in this pipeline."
   ]
  },
  {
   "cell_type": "code",
   "execution_count": 37,
   "metadata": {},
   "outputs": [
    {
     "name": "stderr",
     "output_type": "stream",
     "text": [
      "c:\\USERS\\WILLL\\ONEDRIVE\\DESKTOP\\MY_DOCUMENTS\\WILLS_PY_FOLDER\\STAMP_PROJECT\\TF_ENV\\lib\\site-packages\\sklearn\\model_selection\\_validation.py:425: FitFailedWarning: \n",
      "11 fits failed out of a total of 20.\n",
      "The score on these train-test partitions for these parameters will be set to nan.\n",
      "If these failures are not expected, you can try to debug them by setting error_score='raise'.\n",
      "\n",
      "Below are more details about the failures:\n",
      "--------------------------------------------------------------------------------\n",
      "11 fits failed with the following error:\n",
      "numpy.core._exceptions._ArrayMemoryError: Unable to allocate 287. MiB for an array with shape (48000, 784) and data type float64\n",
      "\n",
      "The above exception was the direct cause of the following exception:\n",
      "\n",
      "Traceback (most recent call last):\n",
      "  File \"c:\\USERS\\WILLL\\ONEDRIVE\\DESKTOP\\MY_DOCUMENTS\\WILLS_PY_FOLDER\\STAMP_PROJECT\\TF_ENV\\lib\\site-packages\\sklearn\\model_selection\\_validation.py\", line 729, in _fit_and_score\n",
      "    estimator.fit(X_train, y_train, **fit_params)\n",
      "  File \"c:\\USERS\\WILLL\\ONEDRIVE\\DESKTOP\\MY_DOCUMENTS\\WILLS_PY_FOLDER\\STAMP_PROJECT\\TF_ENV\\lib\\site-packages\\sklearn\\base.py\", line 1152, in wrapper\n",
      "    return fit_method(estimator, *args, **kwargs)\n",
      "  File \"c:\\USERS\\WILLL\\ONEDRIVE\\DESKTOP\\MY_DOCUMENTS\\WILLS_PY_FOLDER\\STAMP_PROJECT\\TF_ENV\\lib\\site-packages\\sklearn\\pipeline.py\", line 423, in fit\n",
      "    Xt = self._fit(X, y, **fit_params_steps)\n",
      "  File \"c:\\USERS\\WILLL\\ONEDRIVE\\DESKTOP\\MY_DOCUMENTS\\WILLS_PY_FOLDER\\STAMP_PROJECT\\TF_ENV\\lib\\site-packages\\sklearn\\pipeline.py\", line 377, in _fit\n",
      "    X, fitted_transformer = fit_transform_one_cached(\n",
      "  File \"c:\\USERS\\WILLL\\ONEDRIVE\\DESKTOP\\MY_DOCUMENTS\\WILLS_PY_FOLDER\\STAMP_PROJECT\\TF_ENV\\lib\\site-packages\\joblib\\memory.py\", line 312, in __call__\n",
      "    return self.func(*args, **kwargs)\n",
      "  File \"c:\\USERS\\WILLL\\ONEDRIVE\\DESKTOP\\MY_DOCUMENTS\\WILLS_PY_FOLDER\\STAMP_PROJECT\\TF_ENV\\lib\\site-packages\\sklearn\\pipeline.py\", line 957, in _fit_transform_one\n",
      "    res = transformer.fit_transform(X, y, **fit_params)\n",
      "  File \"c:\\USERS\\WILLL\\ONEDRIVE\\DESKTOP\\MY_DOCUMENTS\\WILLS_PY_FOLDER\\STAMP_PROJECT\\TF_ENV\\lib\\site-packages\\sklearn\\utils\\_set_output.py\", line 157, in wrapped\n",
      "    data_to_wrap = f(self, X, *args, **kwargs)\n",
      "  File \"c:\\USERS\\WILLL\\ONEDRIVE\\DESKTOP\\MY_DOCUMENTS\\WILLS_PY_FOLDER\\STAMP_PROJECT\\TF_ENV\\lib\\site-packages\\sklearn\\base.py\", line 1152, in wrapper\n",
      "    return fit_method(estimator, *args, **kwargs)\n",
      "  File \"c:\\USERS\\WILLL\\ONEDRIVE\\DESKTOP\\MY_DOCUMENTS\\WILLS_PY_FOLDER\\STAMP_PROJECT\\TF_ENV\\lib\\site-packages\\sklearn\\decomposition\\_pca.py\", line 460, in fit_transform\n",
      "    U, S, Vt = self._fit(X)\n",
      "  File \"c:\\USERS\\WILLL\\ONEDRIVE\\DESKTOP\\MY_DOCUMENTS\\WILLS_PY_FOLDER\\STAMP_PROJECT\\TF_ENV\\lib\\site-packages\\sklearn\\decomposition\\_pca.py\", line 510, in _fit\n",
      "    return self._fit_full(X, n_components)\n",
      "  File \"c:\\USERS\\WILLL\\ONEDRIVE\\DESKTOP\\MY_DOCUMENTS\\WILLS_PY_FOLDER\\STAMP_PROJECT\\TF_ENV\\lib\\site-packages\\sklearn\\decomposition\\_pca.py\", line 534, in _fit_full\n",
      "    U, S, Vt = linalg.svd(X, full_matrices=False)\n",
      "  File \"c:\\USERS\\WILLL\\ONEDRIVE\\DESKTOP\\MY_DOCUMENTS\\WILLS_PY_FOLDER\\STAMP_PROJECT\\TF_ENV\\lib\\site-packages\\scipy\\linalg\\_decomp_svd.py\", line 127, in svd\n",
      "    u, s, v, info = gesXd(a1, compute_uv=compute_uv, lwork=lwork,\n",
      "TypeError: __init__() missing 1 required positional argument: 'dtype'\n",
      "\n",
      "  warnings.warn(some_fits_failed_message, FitFailedWarning)\n",
      "c:\\USERS\\WILLL\\ONEDRIVE\\DESKTOP\\MY_DOCUMENTS\\WILLS_PY_FOLDER\\STAMP_PROJECT\\TF_ENV\\lib\\site-packages\\sklearn\\model_selection\\_search.py:979: UserWarning: One or more of the test scores are non-finite: [nan nan nan nan]\n",
      "  warnings.warn(\n"
     ]
    },
    {
     "name": "stdout",
     "output_type": "stream",
     "text": [
      "saving the pipeline\n",
      "train time 00:09:04\n"
     ]
    }
   ],
   "source": [
    "# First we flatten the images to have a data shape that can be ingested by the PCA model.\n",
    "# Take a moment to understand what does this function (flatten()) do to the images \n",
    "# and why this step is necessary.\n",
    "X_train_flat = np.array([i.flatten() for i in train_images])\n",
    "X_test_flat = np.array([i.flatten() for i in test_images])\n",
    "\n",
    "pca = PCA(n_components=0.90, random_state=42)\n",
    "estimator = RandomForestClassifier(random_state=42)\n",
    "\n",
    "pipe = Pipeline([('pca', pca),\n",
    "                 ('clf', estimator)])\n",
    "\n",
    "# Add the hyper-parameters that you want to optimize during your training\n",
    "param_grid = {\n",
    "    'pca__n_components': [0.90],\n",
    "    'clf__n_estimators': [100, 200],\n",
    "    'clf__max_depth': [10, 20]\n",
    "}\n",
    "\n",
    "## we create a \"saved\" folder to save the trained model. \n",
    "if not os.path.isdir(\"saved\"):\n",
    "    os.mkdir(\"saved\")\n",
    "\n",
    "saved_model_filename = os.path.join(\"saved\", 'ml-model.joblib')\n",
    "if not os.path.exists(saved_model_filename):\n",
    "    time_start = time.time()\n",
    "    \n",
    "    grid = GridSearchCV(pipe, param_grid=param_grid, cv=5, n_jobs=-1)\n",
    "    grid.fit(X_train_flat, y_train)\n",
    "        \n",
    "    print(\"saving the pipeline\")\n",
    "    joblib.dump(grid, saved_model_filename)\n",
    "    print(\"train time\", time.strftime('%H:%M:%S', time.gmtime(time.time()-time_start)))\n",
    "else:\n",
    "    print(\"loading {} from file\".format(saved_model_filename))\n",
    "    grid = joblib.load(saved_model_filename)"
   ]
  },
  {
   "cell_type": "code",
   "execution_count": 38,
   "metadata": {},
   "outputs": [
    {
     "name": "stdout",
     "output_type": "stream",
     "text": [
      "              precision    recall  f1-score   support\n",
      "\n",
      " T-shirt/top       0.75      0.81      0.78      1000\n",
      "     Trouser       0.99      0.94      0.97      1000\n",
      "    Pullover       0.72      0.75      0.73      1000\n",
      "       Dress       0.80      0.86      0.83      1000\n",
      "        Coat       0.70      0.76      0.73      1000\n",
      "      Sandal       0.87      0.89      0.88      1000\n",
      "       Shirt       0.64      0.45      0.53      1000\n",
      "     Sneaker       0.91      0.88      0.89      1000\n",
      "         Bag       0.90      0.94      0.92      1000\n",
      "  Ankle boot       0.89      0.93      0.91      1000\n",
      "\n",
      "    accuracy                           0.82     10000\n",
      "   macro avg       0.82      0.82      0.82     10000\n",
      "weighted avg       0.82      0.82      0.82     10000\n",
      "\n"
     ]
    }
   ],
   "source": [
    "# Evaluate your model using the classification_report() function\n",
    "y_pred = grid.predict(X_test_flat)\n",
    "print(classification_report(y_test, y_pred, target_names=class_names))"
   ]
  },
  {
   "cell_type": "markdown",
   "metadata": {},
   "source": [
    "## PART 2 -  model scaffolding using Keras\n",
    "\n",
    "Create a function that returns a model using ``keras.models.Sequential()`` and ensure that you pass ``activation_function`` as an argument.  Instaintiate a version of the model and print the summary.  This function is just meant to return a simple multilayer perceptron network.\n"
   ]
  },
  {
   "cell_type": "markdown",
   "metadata": {},
   "source": [
    "### QUESTION 3\n",
    "\n",
    "In this question you are asked to build a function that created a simple multilayer perceptron network. To build a sequential model we first need to initialize the Sequential object, then we sequentially add the layers of the model to that object using the add() method.\n",
    "\n",
    "If your are not familiar with the Sequential class of Keras take a quick look at this documentation : https://keras.io/api/models/sequential/\n",
    "\n",
    "The following link list all the layers that you can add to a Keras sequential object : https://keras.io/api/layers/\n"
   ]
  },
  {
   "cell_type": "code",
   "execution_count": 39,
   "metadata": {
    "scrolled": true
   },
   "outputs": [
    {
     "name": "stdout",
     "output_type": "stream",
     "text": [
      "Model: \"sequential\"\n",
      "_________________________________________________________________\n",
      " Layer (type)                Output Shape              Param #   \n",
      "=================================================================\n",
      " flatten (Flatten)           (None, 784)               0         \n",
      "                                                                 \n",
      " dense (Dense)               (None, 128)               100480    \n",
      "                                                                 \n",
      " dense_1 (Dense)             (None, 10)                1290      \n",
      "                                                                 \n",
      "=================================================================\n",
      "Total params: 101,770\n",
      "Trainable params: 101,770\n",
      "Non-trainable params: 0\n",
      "_________________________________________________________________\n"
     ]
    }
   ],
   "source": [
    "def build_mlp(activation_fn='relu'):\n",
    "    \"\"\"\n",
    "    This Function creates a simple Dense (or multilayer perceptron) network.\n",
    "    \"\"\"\n",
    "    \n",
    "    # Initialize the Sequential object\n",
    "    model = keras.Sequential()\n",
    "    # add a Flatten layer to the sequence\n",
    "    model.add(keras.layers.Flatten(input_shape=(28, 28)))\n",
    "    # add a Dense layer to the sequence\n",
    "    model.add(keras.layers.Dense(128, activation='relu'))\n",
    "    # add the last dense layer to the sequence. Because this is the output layer, \n",
    "    # the output dimension should be equal to the number of class that your want to predict.\n",
    "    model.add(keras.layers.Dense(10, activation='softmax'))    \n",
    "\n",
    "    return model\n",
    "# define the activation function\n",
    "\n",
    "model_simple = build_mlp(activation_fn='relu')\n",
    "model_simple.summary()"
   ]
  },
  {
   "cell_type": "markdown",
   "metadata": {},
   "source": [
    "We encourage you to modify the structure of the network. You can add new layers, change the number of neurons per layer or add dropout layers."
   ]
  },
  {
   "cell_type": "markdown",
   "metadata": {},
   "source": [
    "### QUESTION 4\n",
    "\n",
    "Create another version of your neural network.  This time you should build a proper CNN.  Remember that one pattern to consider starting from is alternating ``Con2D`` and ``MaxPooling2D`` layers.  This is often followed by a couple of ``Dense`` layers.  Recall that the output of every Conv2D and MaxPooling2D layer is a 3D tensor of shape (height, width, channels). The output of the last ``Dense`` layer should correspond to the number of classes and generally uses a 'softmax' activation.  Use `model.summary()` to ensure a cohesive architecture."
   ]
  },
  {
   "cell_type": "code",
   "execution_count": 42,
   "metadata": {
    "scrolled": true
   },
   "outputs": [
    {
     "name": "stdout",
     "output_type": "stream",
     "text": [
      "Model: \"sequential_1\"\n",
      "_________________________________________________________________\n",
      " Layer (type)                Output Shape              Param #   \n",
      "=================================================================\n",
      " conv2d (Conv2D)             (None, 26, 26, 32)        320       \n",
      "                                                                 \n",
      " max_pooling2d (MaxPooling2D  (None, 13, 13, 32)       0         \n",
      " )                                                               \n",
      "                                                                 \n",
      " conv2d_1 (Conv2D)           (None, 11, 11, 64)        18496     \n",
      "                                                                 \n",
      " max_pooling2d_1 (MaxPooling  (None, 5, 5, 64)         0         \n",
      " 2D)                                                             \n",
      "                                                                 \n",
      " flatten_1 (Flatten)         (None, 1600)              0         \n",
      "                                                                 \n",
      " dense_2 (Dense)             (None, 64)                102464    \n",
      "                                                                 \n",
      " dense_3 (Dense)             (None, 10)                650       \n",
      "                                                                 \n",
      "=================================================================\n",
      "Total params: 121,930\n",
      "Trainable params: 121,930\n",
      "Non-trainable params: 0\n",
      "_________________________________________________________________\n"
     ]
    }
   ],
   "source": [
    "def build_cnn(activation_fn='relu'):\n",
    "    \"\"\"\n",
    "    This function creates a convolutional neural network (cnn)\n",
    "    \"\"\"\n",
    "    \n",
    "    # Initialize the Sequential object\n",
    "    model = keras.Sequential()\n",
    "    \n",
    "    #Add a CNN2D layer. Because this is the first layer, you have to specify the input shape for this layer.\n",
    "    # (Hint : the input shape is (28, 28, 1) for black and white images of size 28x28)\n",
    "    model.add(keras.layers.Conv2D(32, (3, 3), activation='relu', input_shape=(28, 28, 1)))\n",
    "    #Add a Maxpooling layer\n",
    "    model.add(keras.layers.MaxPooling2D((2, 2)))\n",
    "    #Add a CNN2D layer\n",
    "    model.add(keras.layers.Conv2D(64, (3, 3), activation='relu'))\n",
    "    #Add a Maxpooling layer\n",
    "    model.add(keras.layers.MaxPooling2D((2, 2)))\n",
    "\n",
    "    model.add(keras.layers.Flatten())\n",
    "    model.add(keras.layers.Dense(64, activation=activation_fn))\n",
    "    model.add(keras.layers.Dense(10, activation='softmax'))\n",
    "    return model \n",
    "\n",
    "\n",
    "model = build_cnn(activation_fn='relu')\n",
    "model.summary()"
   ]
  },
  {
   "cell_type": "markdown",
   "metadata": {},
   "source": [
    "## PART 3 - logging and Model serialization\n",
    "\n",
    "You can use a trained model without having to retrain it.  Your can also continue training a model to pick-up training where you left off.  The `tf.keras.callbacks.ModelCheckpoint` callback allows to continually save the model both during and at the end of training.  For long running models this is ideal in case the training is interrupted.  Otherwise you can \n",
    "used `model.save()` and `model.load()`.  In this part you will create a function that accomplished a few things at once. "
   ]
  },
  {
   "cell_type": "markdown",
   "metadata": {},
   "source": [
    "### QUESTION 5\n",
    "\n",
    "In this question you will create a function that intend to :\n",
    "\n",
    "1. save your models so that each iteration only needs to be run once\n",
    "2. save the specifics of your model in a log file \n",
    "\n",
    "  * optimizer \n",
    "  * loss_fn \n",
    "  * test_loss\n",
    "  * test_accuracy\n",
    "  * any notes"
   ]
  },
  {
   "cell_type": "code",
   "execution_count": 43,
   "metadata": {},
   "outputs": [],
   "source": [
    "def train_network(model_name, model, loss_fn, X_train, y_train, X_test, y_test, optimizer='adam'):\n",
    "    \"\"\"\n",
    "    This function compiles, trains and saves the keras model\n",
    "    Input : \n",
    "        - model_name : the name of the model (we will save the model under this name)\n",
    "        - model : The keras Sequential model\n",
    "        - loss_fn : the name of the loss function used to train the model (https://keras.io/api/losses/)\n",
    "        - optimizer : the name of the optimizer used to train the model (https://keras.io/api/optimizers/)\n",
    "        - X_train : the training data\n",
    "        - y_train : the training labels\n",
    "        - X_test : the test data\n",
    "        - y_test : the test labels\n",
    "    \"\"\"\n",
    "\n",
    "    # First we create a filename for the model joining its name with the \"saved\" directory\n",
    "    save_dir = 'saved'\n",
    "    if not os.path.isdir(save_dir):\n",
    "        os.mkdir(save_dir)\n",
    "    saved_model = os.path.join(save_dir, \"{}.h5\".format(model_name))\n",
    "\n",
    "    ## if the model has not been trained, we compile it, train it and save it\n",
    "    if not os.path.exists(saved_model):\n",
    "        ## compile model using the compile method of the keras.models.Sequential class\n",
    "        model.compile(optimizer=optimizer, loss=loss_fn, metrics=['accuracy'])\n",
    "                \n",
    "        ## fit the model using the fit method of the keras.models.Sequential class\n",
    "        ## (choose 10 epochs and batch size of 64)\n",
    "        model.fit(X_train, y_train, epochs=10, batch_size=64)\n",
    "        \n",
    "        # Save the model\n",
    "        model.save(saved_model)\n",
    "\n",
    "        ## evaluate the model \n",
    "        test_loss, test_acc = model.evaluate(X_test, y_test)\n",
    "        \n",
    "        ## save a log file\n",
    "        log_file = os.path.join(save_dir,\"{}.log\".format(model_name)) \n",
    "        with open(log_file, 'w') as csvfile:\n",
    "            writer = csv.writer(csvfile)\n",
    "            writer.writerow([\"loss_function\", loss_fn])\n",
    "            writer.writerow([\"optimizer\", optimizer])\n",
    "            writer.writerow([\"test_loss\", test_loss])\n",
    "            writer.writerow([\"test_acc\", test_acc])\n",
    "\n",
    "    # if the model has already been trained we load it.\n",
    "    else:\n",
    "        print(\"... loading saved model\")\n",
    "        model = keras.models.load_model(saved_model)\n",
    "                    \n",
    "    return model"
   ]
  },
  {
   "cell_type": "markdown",
   "metadata": {},
   "source": [
    "## PART 4 - model iteration"
   ]
  },
  {
   "cell_type": "markdown",
   "metadata": {},
   "source": [
    "### Question 6\n",
    "\n",
    "Using the functions that you created in the previous questions build the model and train it on the MNIST dataset."
   ]
  },
  {
   "cell_type": "code",
   "execution_count": 48,
   "metadata": {},
   "outputs": [
    {
     "name": "stdout",
     "output_type": "stream",
     "text": [
      "Epoch 1/10\n",
      "938/938 [==============================] - 1s 840us/step - loss: 0.5183 - accuracy: 0.8203\n",
      "Epoch 2/10\n",
      "938/938 [==============================] - 1s 805us/step - loss: 0.3851 - accuracy: 0.8611\n",
      "Epoch 3/10\n",
      "938/938 [==============================] - 1s 803us/step - loss: 0.3472 - accuracy: 0.8746\n",
      "Epoch 4/10\n",
      "938/938 [==============================] - 1s 800us/step - loss: 0.3215 - accuracy: 0.8833\n",
      "Epoch 5/10\n",
      "938/938 [==============================] - 1s 828us/step - loss: 0.3062 - accuracy: 0.8880\n",
      "Epoch 6/10\n",
      "938/938 [==============================] - 1s 827us/step - loss: 0.2898 - accuracy: 0.8928\n",
      "Epoch 7/10\n",
      "938/938 [==============================] - 1s 841us/step - loss: 0.2768 - accuracy: 0.8988\n",
      "Epoch 8/10\n",
      "938/938 [==============================] - 1s 801us/step - loss: 0.2680 - accuracy: 0.9009\n",
      "Epoch 9/10\n",
      "938/938 [==============================] - 1s 829us/step - loss: 0.2580 - accuracy: 0.9046\n",
      "Epoch 10/10\n",
      "938/938 [==============================] - 1s 806us/step - loss: 0.2476 - accuracy: 0.9084\n",
      "313/313 [==============================] - 0s 659us/step - loss: 0.3429 - accuracy: 0.8794\n",
      "313/313 [==============================] - 0s 681us/step - loss: 0.3429 - accuracy: 0.8794\n",
      "Simple model, accuracy: 87.94%\n",
      "Simple model predictions:\n",
      "Predicted class:  9\n",
      "True class:  9\n",
      " \n",
      "Predicted class:  2\n",
      "True class:  2\n",
      " \n",
      "Predicted class:  1\n",
      "True class:  1\n",
      " \n",
      "Predicted class:  1\n",
      "True class:  1\n",
      " \n",
      "Predicted class:  6\n",
      "True class:  6\n",
      " \n"
     ]
    },
    {
     "data": {
      "image/png": "[encoded data removed]",
      "text/plain": [
       "<Figure size 1000x1000 with 5 Axes>"
      ]
     },
     "metadata": {},
     "output_type": "display_data"
    }
   ],
   "source": [
    "# build and train the simple model on the training data\n",
    "model_simple = build_mlp(activation_fn='relu')\n",
    "model_simple = train_network(\"simple_model\", model_simple, 'sparse_categorical_crossentropy', X_train, y_train, X_test, y_test)\n",
    "\n",
    "\n",
    "\n",
    "# Evaluate the simple model\n",
    "test_loss, test_acc = model_simple.evaluate(X_test, y_test)\n",
    "print(\"Simple model, accuracy: {:5.2f}%\".format(100*test_acc))\n",
    "\n",
    "\n",
    "\n",
    "# Predict the class of the first 5 test images using the simple model\n",
    "predictions = model_simple.predict(X_test)\n",
    "print(\"Simple model predictions:\")\n",
    "for i in range(5):\n",
    "    print(\"Predicted class: \", np.argmax(predictions[i]))\n",
    "    print(\"True class: \", y_test[i])\n",
    "    print(\" \")\n",
    "    \n",
    "\n",
    "# Visualize the first 5 test images and their predicted classes\n",
    "plt.figure(figsize=(10,10))\n",
    "for i in range(5):\n",
    "    plt.subplot(5,5,i+1)\n",
    "    plt.xticks([])\n",
    "    plt.yticks([])\n",
    "    plt.grid(False)\n",
    "    plt.imshow(test_images[i], cmap=plt.cm.binary)\n",
    "    plt.xlabel(\"Predicted: {} True: {}\".format(class_names[np.argmax(predictions[i])], class_names[y_test[i]]))\n",
    "plt.show()"
   ]
  },
  {
   "cell_type": "code",
   "execution_count": 49,
   "metadata": {},
   "outputs": [],
   "source": [
    "# For the CNN we have to add a third dimension to each sample image.\n",
    "\n",
    "# This dimension is called channel and is expected by the CNN2D layer. \n",
    "# Here the channel value is 1 because we have black and white images. \n",
    "# We would have to set this value to 3 for colored images.\n",
    "X_train_1 = np.expand_dims(X_train, -1)\n",
    "X_test_1 = np.expand_dims(X_test, -1)"
   ]
  },
  {
   "cell_type": "code",
   "execution_count": 50,
   "metadata": {},
   "outputs": [
    {
     "name": "stdout",
     "output_type": "stream",
     "text": [
      "Epoch 1/10\n",
      "938/938 [==============================] - 16s 17ms/step - loss: 0.5017 - accuracy: 0.8176\n",
      "Epoch 2/10\n",
      "938/938 [==============================] - 22s 23ms/step - loss: 0.3332 - accuracy: 0.8782\n",
      "Epoch 3/10\n",
      "938/938 [==============================] - 21s 22ms/step - loss: 0.2891 - accuracy: 0.8936\n",
      "Epoch 4/10\n",
      "938/938 [==============================] - 20s 22ms/step - loss: 0.2570 - accuracy: 0.9054\n",
      "Epoch 5/10\n",
      "938/938 [==============================] - 22s 24ms/step - loss: 0.2361 - accuracy: 0.9136\n",
      "Epoch 6/10\n",
      "938/938 [==============================] - 22s 23ms/step - loss: 0.2136 - accuracy: 0.9210\n",
      "Epoch 7/10\n",
      "938/938 [==============================] - 20s 21ms/step - loss: 0.1968 - accuracy: 0.9273\n",
      "Epoch 8/10\n",
      "938/938 [==============================] - 20s 21ms/step - loss: 0.1802 - accuracy: 0.9337\n",
      "Epoch 9/10\n",
      "938/938 [==============================] - 20s 21ms/step - loss: 0.1668 - accuracy: 0.9391\n",
      "Epoch 10/10\n",
      "938/938 [==============================] - 20s 21ms/step - loss: 0.1540 - accuracy: 0.9426\n",
      "313/313 [==============================] - 1s 3ms/step - loss: 0.2624 - accuracy: 0.9137\n",
      "313/313 [==============================] - 1s 3ms/step - loss: 0.2624 - accuracy: 0.9137\n",
      "CNN model, accuracy: 91.37%\n",
      "CNN model predictions:\n",
      "Predicted class:  9\n",
      "True class:  9\n",
      " \n",
      "Predicted class:  2\n",
      "True class:  2\n",
      " \n",
      "Predicted class:  1\n",
      "True class:  1\n",
      " \n",
      "Predicted class:  1\n",
      "True class:  1\n",
      " \n",
      "Predicted class:  6\n",
      "True class:  6\n",
      " \n"
     ]
    },
    {
     "data": {
      "image/png": "[encoded data removed]",
      "text/plain": [
       "<Figure size 1000x1000 with 5 Axes>"
      ]
     },
     "metadata": {},
     "output_type": "display_data"
    }
   ],
   "source": [
    "# build and train the cnn model on the training data\n",
    "model_cnn = build_cnn(activation_fn='relu')\n",
    "model_cnn = train_network(\"cnn_model\", model_cnn, 'sparse_categorical_crossentropy', X_train_1, y_train, X_test_1, y_test)\n",
    "\n",
    "# Evaluate the cnn model\n",
    "test_loss, test_acc = model_cnn.evaluate(X_test_1, y_test)\n",
    "print(\"CNN model, accuracy: {:5.2f}%\".format(100*test_acc))\n",
    "\n",
    "# Predict the class of the first 5 test images using the cnn model\n",
    "predictions = model_cnn.predict(X_test_1)\n",
    "print(\"CNN model predictions:\")\n",
    "for i in range(5):\n",
    "    print(\"Predicted class: \", np.argmax(predictions[i]))\n",
    "    print(\"True class: \", y_test[i])\n",
    "    print(\" \")\n",
    "\n",
    "# Visualize the predictions of the cnn model\n",
    "plt.figure(figsize=(10,10))\n",
    "for i in range(5):\n",
    "    plt.subplot(5,5,i+1)\n",
    "    plt.xticks([])\n",
    "    plt.yticks([])\n",
    "    plt.grid(False)\n",
    "    plt.imshow(test_images[i], cmap=plt.cm.binary)\n",
    "    plt.xlabel(\"Predicted: {} \\n True: {}\".format(class_names[np.argmax(predictions[i])], class_names[y_test[i]]))\n",
    "plt.show()"
   ]
  }
 ],
 "metadata": {
  "kernelspec": {
   "display_name": "TF_ENV",
   "language": "python",
   "name": "python3"
  },
  "language_info": {
   "codemirror_mode": {
    "name": "ipython",
    "version": 3
   },
   "file_extension": ".py",
   "mimetype": "text/x-python",
   "name": "python",
   "nbconvert_exporter": "python",
   "pygments_lexer": "ipython3",
   "version": "3.8.10"
  }
 },
 "nbformat": 4,
 "nbformat_minor": 4
}
