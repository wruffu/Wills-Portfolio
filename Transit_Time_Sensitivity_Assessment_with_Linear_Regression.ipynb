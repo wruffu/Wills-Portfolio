{
 "cells": [
  {
   "cell_type": "markdown",
   "metadata": {},
   "source": [
    "# Transit Time Sensitivity Assessment with Linear Regression"
   ]
  },
  {
   "cell_type": "markdown",
   "metadata": {},
   "source": [
    "## Import the required libraries\n"
   ]
  },
  {
   "cell_type": "code",
   "execution_count": null,
   "metadata": {},
   "outputs": [],
   "source": [
    "# All Libraries required for this lab are listed below.\n",
    "\n",
    "# %pip install pandas==2.2.2 numpy==2.1.0 seaborn==0.13.0 matplotlib==3.9.2 scikit-learn==1.5.1"
   ]
  },
  {
   "cell_type": "code",
   "execution_count": 574,
   "metadata": {},
   "outputs": [],
   "source": [
    "import pandas as pd\n",
    "import numpy as np\n",
    "import seaborn as sns\n",
    "import sklearn\n",
    "import matplotlib.pyplot as plt\n",
    "from sklearn.model_selection import train_test_split, cross_val_score\n",
    "from sklearn.linear_model import LinearRegression, Ridge, Lasso, ElasticNet\n",
    "from sklearn.metrics import mean_squared_error, r2_score"
   ]
  },
  {
   "cell_type": "code",
   "execution_count": 575,
   "metadata": {},
   "outputs": [],
   "source": [
    "#Supress warnings\n",
    "def warn(*args, **kwargs):\n",
    "    pass\n",
    "import warnings\n",
    "warnings.warn = warn"
   ]
  },
  {
   "cell_type": "markdown",
   "metadata": {},
   "source": [
    "## Importing the Dataset\n"
   ]
  },
  {
   "cell_type": "markdown",
   "metadata": {},
   "source": [
    "This is a private dataset. For Reference and showcase only.  "
   ]
  },
  {
   "cell_type": "code",
   "execution_count": 576,
   "metadata": {},
   "outputs": [
    {
     "data": {
      "text/html": [
       "<div>\n",
       "<style scoped>\n",
       "    .dataframe tbody tr th:only-of-type {\n",
       "        vertical-align: middle;\n",
       "    }\n",
       "\n",
       "    .dataframe tbody tr th {\n",
       "        vertical-align: top;\n",
       "    }\n",
       "\n",
       "    .dataframe thead th {\n",
       "        text-align: right;\n",
       "    }\n",
       "</style>\n",
       "<table border=\"1\" class=\"dataframe\">\n",
       "  <thead>\n",
       "    <tr style=\"text-align: right;\">\n",
       "      <th></th>\n",
       "      <th>vrid</th>\n",
       "      <th>tp_id</th>\n",
       "      <th>report_day</th>\n",
       "      <th>vr_create_date</th>\n",
       "      <th>report_week</th>\n",
       "      <th>rpt_wk</th>\n",
       "      <th>report_year</th>\n",
       "      <th>rpt_yr</th>\n",
       "      <th>report_month</th>\n",
       "      <th>rpt_mon</th>\n",
       "      <th>...</th>\n",
       "      <th>total_pkg_unit_count_b</th>\n",
       "      <th>global_dea_pkgs_b</th>\n",
       "      <th>xirgo_transit_hours_actual_b</th>\n",
       "      <th>vls_transit_hours_actual_b</th>\n",
       "      <th>b_transit_hours_actual</th>\n",
       "      <th>pc_miler_zip_to_zip_transit_hours_b</th>\n",
       "      <th>pc_miler_node_to_node_transit_hours_b</th>\n",
       "      <th>scheduled_transit_hours_b</th>\n",
       "      <th>common_lane</th>\n",
       "      <th>is_toured</th>\n",
       "    </tr>\n",
       "  </thead>\n",
       "  <tbody>\n",
       "    <tr>\n",
       "      <th>0</th>\n",
       "      <td>114DFRN1M</td>\n",
       "      <td>Tp-226833249</td>\n",
       "      <td>2/1/2024 0:00</td>\n",
       "      <td>1/31/2024 12:08</td>\n",
       "      <td>W5</td>\n",
       "      <td>5</td>\n",
       "      <td>R2024</td>\n",
       "      <td>2024</td>\n",
       "      <td>M02</td>\n",
       "      <td>2</td>\n",
       "      <td>...</td>\n",
       "      <td>3199</td>\n",
       "      <td>NaN</td>\n",
       "      <td>NaN</td>\n",
       "      <td>0.500</td>\n",
       "      <td>0.5000</td>\n",
       "      <td>1.05</td>\n",
       "      <td>1.05</td>\n",
       "      <td>1.13</td>\n",
       "      <td>Common</td>\n",
       "      <td>0</td>\n",
       "    </tr>\n",
       "    <tr>\n",
       "      <th>1</th>\n",
       "      <td>1132JVRG4</td>\n",
       "      <td>Tp-225904057</td>\n",
       "      <td>2/1/2024 0:00</td>\n",
       "      <td>1/24/2024 22:32</td>\n",
       "      <td>W5</td>\n",
       "      <td>5</td>\n",
       "      <td>R2024</td>\n",
       "      <td>2024</td>\n",
       "      <td>M02</td>\n",
       "      <td>2</td>\n",
       "      <td>...</td>\n",
       "      <td>2963</td>\n",
       "      <td>NaN</td>\n",
       "      <td>0.523</td>\n",
       "      <td>0.383</td>\n",
       "      <td>0.5230</td>\n",
       "      <td>1.82</td>\n",
       "      <td>1.05</td>\n",
       "      <td>1.11</td>\n",
       "      <td>Common</td>\n",
       "      <td>1</td>\n",
       "    </tr>\n",
       "    <tr>\n",
       "      <th>2</th>\n",
       "      <td>112VLW3BB</td>\n",
       "      <td>Tp-226058917</td>\n",
       "      <td>2/1/2024 0:00</td>\n",
       "      <td>1/25/2024 6:54</td>\n",
       "      <td>W5</td>\n",
       "      <td>5</td>\n",
       "      <td>R2024</td>\n",
       "      <td>2024</td>\n",
       "      <td>M02</td>\n",
       "      <td>2</td>\n",
       "      <td>...</td>\n",
       "      <td>5221</td>\n",
       "      <td>NaN</td>\n",
       "      <td>1.066</td>\n",
       "      <td>1.000</td>\n",
       "      <td>1.0660</td>\n",
       "      <td>1.12</td>\n",
       "      <td>1.15</td>\n",
       "      <td>1.41</td>\n",
       "      <td>Common</td>\n",
       "      <td>1</td>\n",
       "    </tr>\n",
       "    <tr>\n",
       "      <th>3</th>\n",
       "      <td>113CQ18WZ</td>\n",
       "      <td>Tp-226055772</td>\n",
       "      <td>2/1/2024 0:00</td>\n",
       "      <td>1/25/2024 6:52</td>\n",
       "      <td>W5</td>\n",
       "      <td>5</td>\n",
       "      <td>R2024</td>\n",
       "      <td>2024</td>\n",
       "      <td>M02</td>\n",
       "      <td>2</td>\n",
       "      <td>...</td>\n",
       "      <td>558</td>\n",
       "      <td>NaN</td>\n",
       "      <td>NaN</td>\n",
       "      <td>60.033</td>\n",
       "      <td>60.0333</td>\n",
       "      <td>77.08</td>\n",
       "      <td>58.40</td>\n",
       "      <td>82.00</td>\n",
       "      <td>Common</td>\n",
       "      <td>0</td>\n",
       "    </tr>\n",
       "    <tr>\n",
       "      <th>4</th>\n",
       "      <td>11578XDMH</td>\n",
       "      <td>Tp-225831886</td>\n",
       "      <td>2/1/2024 0:00</td>\n",
       "      <td>1/24/2024 16:58</td>\n",
       "      <td>W5</td>\n",
       "      <td>5</td>\n",
       "      <td>R2024</td>\n",
       "      <td>2024</td>\n",
       "      <td>M02</td>\n",
       "      <td>2</td>\n",
       "      <td>...</td>\n",
       "      <td>376</td>\n",
       "      <td>3.0</td>\n",
       "      <td>1.167</td>\n",
       "      <td>1.183</td>\n",
       "      <td>1.1670</td>\n",
       "      <td>2.03</td>\n",
       "      <td>NaN</td>\n",
       "      <td>2.00</td>\n",
       "      <td>Common</td>\n",
       "      <td>1</td>\n",
       "    </tr>\n",
       "  </tbody>\n",
       "</table>\n",
       "<p>5 rows × 186 columns</p>\n",
       "</div>"
      ],
      "text/plain": [
       "        vrid         tp_id     report_day   vr_create_date report_week  \\\n",
       "0  114DFRN1M  Tp-226833249  2/1/2024 0:00  1/31/2024 12:08          W5   \n",
       "1  1132JVRG4  Tp-225904057  2/1/2024 0:00  1/24/2024 22:32          W5   \n",
       "2  112VLW3BB  Tp-226058917  2/1/2024 0:00   1/25/2024 6:54          W5   \n",
       "3  113CQ18WZ  Tp-226055772  2/1/2024 0:00   1/25/2024 6:52          W5   \n",
       "4  11578XDMH  Tp-225831886  2/1/2024 0:00  1/24/2024 16:58          W5   \n",
       "\n",
       "   rpt_wk report_year  rpt_yr report_month  rpt_mon  ...  \\\n",
       "0       5       R2024    2024          M02        2  ...   \n",
       "1       5       R2024    2024          M02        2  ...   \n",
       "2       5       R2024    2024          M02        2  ...   \n",
       "3       5       R2024    2024          M02        2  ...   \n",
       "4       5       R2024    2024          M02        2  ...   \n",
       "\n",
       "  total_pkg_unit_count_b global_dea_pkgs_b  xirgo_transit_hours_actual_b  \\\n",
       "0                   3199               NaN                           NaN   \n",
       "1                   2963               NaN                         0.523   \n",
       "2                   5221               NaN                         1.066   \n",
       "3                    558               NaN                           NaN   \n",
       "4                    376               3.0                         1.167   \n",
       "\n",
       "   vls_transit_hours_actual_b  b_transit_hours_actual  \\\n",
       "0                       0.500                  0.5000   \n",
       "1                       0.383                  0.5230   \n",
       "2                       1.000                  1.0660   \n",
       "3                      60.033                 60.0333   \n",
       "4                       1.183                  1.1670   \n",
       "\n",
       "   pc_miler_zip_to_zip_transit_hours_b  pc_miler_node_to_node_transit_hours_b  \\\n",
       "0                                 1.05                                   1.05   \n",
       "1                                 1.82                                   1.05   \n",
       "2                                 1.12                                   1.15   \n",
       "3                                77.08                                  58.40   \n",
       "4                                 2.03                                    NaN   \n",
       "\n",
       "  scheduled_transit_hours_b common_lane  is_toured  \n",
       "0                      1.13      Common          0  \n",
       "1                      1.11      Common          1  \n",
       "2                      1.41      Common          1  \n",
       "3                     82.00      Common          0  \n",
       "4                      2.00      Common          1  \n",
       "\n",
       "[5 rows x 186 columns]"
      ]
     },
     "execution_count": 576,
     "metadata": {},
     "output_type": "execute_result"
    }
   ],
   "source": [
    "data = pd.read_csv(\"C:/Users/willl/OneDrive/Desktop/My_Documents/Wills_Py_Folder/ml_training/Project_Trans_Data.csv\")\n",
    "data.head()"
   ]
  },
  {
   "cell_type": "code",
   "execution_count": 577,
   "metadata": {},
   "outputs": [],
   "source": [
    "# This has 186 columns which is to many! Explore the data and remove columns, this can be done in Excel or SQL\n",
    "# This took a few iterations to get the right columns to remove, models need full data that is able to be numerically encoded\n",
    "# Note the space after the commas are required.\n",
    "data.drop(['vrid', 'tp_id', 'vr_create_date', 'report_week', 'report_year', 'report_month', 'report_month_text', 'report_month_mmmyy', 'relative_report_day', 'relative_report_week', 'relative_report_month', 'relative_report_year', 'relative_report_quarter', 'dist_all_transit_hours', 'dist_bin_transit_hours', 'pc_miler_zip_to_zip_transit_hours', 'pc_miler_node_to_node_transit_hours', 'prod_singular_tp92_transit_hours', 'prod_singular_yard_time', 'prod_singular_break_time', 'origin_scheduled_depart_utc', 'origin_calc_depart_utc', 'dest_scheduled_arrival_utc', 'dest_calc_arrival_utc', 'xirgo_elapsed_in_transit', 'xirgo_elapsed_stationary', 'xirgo_distance_in_transit', 'xirgo_pickup_start_time_utc', 'xirgo_pickup_end_time_utc', 'xirgo_traffic_calc_departure_utc', 'xirgo_traffic_calc_arrival_utc', 'xirgo_yard_time_origin', 'origin_region', 'origin_zip', 'origin_state', 'dest_region', 'dest_state', 'dest_zip', 'account_id', 'program_code', 'planned_loaded_drive_time', 'prod_scallop_refresh_timestamp', 'is_using_scallop_time', 'is_using_bin_time', 'is_using_pc_miler_time', 'override_reason', 'shipment_mode', 'subcarrier', 'resource_block_id', 'trailer_id', 'origin_begin_loading_time_local', 'origin_begin_loading_time_utc', 'origin_finish_loading_time_utc', 'is_planned', 'prod_dynamic_break_time', 'prod_dynamic_tp92_transit_hours', 'prod_dynamic_yard_time', 'relay_yard_time_origin', 'scallop_dynamic_tp92_transit_hours', 'scallop_singular_tp92_transit_hours', 'is_executed', 'is_using_scallop_dynamic', 'is_using_scallop_singular', 'tta_time_available', 'dest_address_id', 'dest_market_id_address_id', 'last_updated_by', 'network_planning_team', 'origin_address_id', 'origin_market_id_address_id', 'override_created_by', 'prod_dynamic_transit_hours_source', 'prod_singular_transit_hours_source', 'scallop_dynamic_transit_hours_source', 'scallop_singular_transit_hours_source', 'dist_all_updated_timestamp', 'pc_miler_node_to_node_last_refresh', 'pc_miler_override_start', 'pc_miler_zip_to_zip_last_refresh', 'prod_mcm_refresh_timestamp', 'relay_pickup_end_time_utc', 'relay_pickup_start_time_utc', 'relay_traffic_calc_arrival_utc', 'relay_traffic_calc_departure_utc', 'is_wbr_customer_facing', 'is_using_dist_all_time', 'scallop_singular_break_time', 'scallop_dynamic_break_time', 'vr_update_date', 'stop_count', 'pc_miler_zip_to_zip_miles', 'run_structure_id', 'pc_miler_zip_to_zip_raw_time', 'pc_miler_zip_to_zip_break_time', 'pc_miler_node_to_node_raw_time', 'pc_miler_node_to_node_break_time', 'pc_miler_override_break_time', 'scallop_singular_tp50_transit_hours', 'scallop_dynamic_tp50_transit_hours', 'prod_singular_tp80_transit_hours', 'prod_dynamic_tp80_transit_hours', 'dist_bin_miles', 'a2a_singular_tp92_transit_hours', 'a2a_singular_tp92_drive_time', 'a2a_singular_tp80_transit_hours', 'a2a_singular_tp80_drive_time', 'a2a_singular_break_time', 'a2a_dynamic_tp92_transit_hours', 'a2a_dynamic_tp92_drive_time', 'a2a_dynamic_tp80_transit_hours', 'a2a_dynamic_tp80_drive_time', 'a2a_dynamic_break_time', 'a2a_location_type_used', 'is_using_a2a_time', 'a2a_refresh_timestamp', 'total_pkg_unit_count_b', 'global_dea_pkgs_b', 'xirgo_transit_hours_actual_b', 'vls_transit_hours_actual_b', 'pc_miler_zip_to_zip_transit_hours_b', 'pc_miler_node_to_node_transit_hours_b', 'scheduled_transit_hours_b','rpt_yr', 'equipment_type', 'tour_id', 'is_vls_customer_facing', 'enrichment_flag', 'pc_miler_override_transit_hours', 'relay_distance_in_transit', 'is_using_1p_override', 'facility_sequence', 'pc_miler_node_to_node_miles', 'pc_miler_override_miles', 'tp_level_used',\n",
    "           'b_transit_hours_actual', 'origin', 'final_destination', 'origin_scheduled_depart_local', 'dest_scheduled_arrival_local', 'report_day', 'origin_calc_depart_local', 'dest_calc_arrival_local', 'origin_finish_loading_time_local', 'cpt', 'created_by', 'xirgo_transit_hours_actual', 'tour_day_rate'\n",
    "           ], axis=1, inplace=True)"
   ]
  },
  {
   "cell_type": "code",
   "execution_count": 578,
   "metadata": {},
   "outputs": [
    {
     "data": {
      "text/html": [
       "<div>\n",
       "<style scoped>\n",
       "    .dataframe tbody tr th:only-of-type {\n",
       "        vertical-align: middle;\n",
       "    }\n",
       "\n",
       "    .dataframe tbody tr th {\n",
       "        vertical-align: top;\n",
       "    }\n",
       "\n",
       "    .dataframe thead th {\n",
       "        text-align: right;\n",
       "    }\n",
       "</style>\n",
       "<table border=\"1\" class=\"dataframe\">\n",
       "  <thead>\n",
       "    <tr style=\"text-align: right;\">\n",
       "      <th></th>\n",
       "      <th>rpt_wk</th>\n",
       "      <th>rpt_mon</th>\n",
       "      <th>lane</th>\n",
       "      <th>scheduled_transit_hours</th>\n",
       "      <th>vls_transit_hours_actual</th>\n",
       "      <th>transit_hours_actual</th>\n",
       "      <th>depart_hour_local</th>\n",
       "      <th>arrived_early_minutes</th>\n",
       "      <th>xirgo_suspicious_data</th>\n",
       "      <th>miles</th>\n",
       "      <th>...</th>\n",
       "      <th>relay_transit_hours_actual</th>\n",
       "      <th>relay_suspicious_data</th>\n",
       "      <th>vls_suspicious_data</th>\n",
       "      <th>tta_miles</th>\n",
       "      <th>is_cpt_load</th>\n",
       "      <th>origin_coordinates</th>\n",
       "      <th>dest_coordinates</th>\n",
       "      <th>mi_band_max</th>\n",
       "      <th>common_lane</th>\n",
       "      <th>is_toured</th>\n",
       "    </tr>\n",
       "  </thead>\n",
       "  <tbody>\n",
       "    <tr>\n",
       "      <th>0</th>\n",
       "      <td>5</td>\n",
       "      <td>2</td>\n",
       "      <td>CYVR-&gt;DVV5</td>\n",
       "      <td>1.13</td>\n",
       "      <td>0.5000</td>\n",
       "      <td>0.5000</td>\n",
       "      <td>2</td>\n",
       "      <td>-72</td>\n",
       "      <td>NaN</td>\n",
       "      <td>8</td>\n",
       "      <td>...</td>\n",
       "      <td>0.428</td>\n",
       "      <td>1.0</td>\n",
       "      <td>0</td>\n",
       "      <td>8</td>\n",
       "      <td>0</td>\n",
       "      <td>NaN</td>\n",
       "      <td>[49.1970159000,-122.9991476000]</td>\n",
       "      <td>15.0</td>\n",
       "      <td>Common</td>\n",
       "      <td>0</td>\n",
       "    </tr>\n",
       "    <tr>\n",
       "      <th>1</th>\n",
       "      <td>5</td>\n",
       "      <td>2</td>\n",
       "      <td>YVR4-&gt;YVR2</td>\n",
       "      <td>1.11</td>\n",
       "      <td>0.3833</td>\n",
       "      <td>0.3833</td>\n",
       "      <td>10</td>\n",
       "      <td>-93</td>\n",
       "      <td>0.0</td>\n",
       "      <td>16</td>\n",
       "      <td>...</td>\n",
       "      <td>0.384</td>\n",
       "      <td>0.0</td>\n",
       "      <td>0</td>\n",
       "      <td>17</td>\n",
       "      <td>1</td>\n",
       "      <td>[49.0549232200,-123.1077608000]</td>\n",
       "      <td>[49.1608781000,-122.9489380000]</td>\n",
       "      <td>30.0</td>\n",
       "      <td>Common</td>\n",
       "      <td>1</td>\n",
       "    </tr>\n",
       "    <tr>\n",
       "      <th>2</th>\n",
       "      <td>5</td>\n",
       "      <td>2</td>\n",
       "      <td>YUL2-&gt;YUL5</td>\n",
       "      <td>1.41</td>\n",
       "      <td>1.0000</td>\n",
       "      <td>1.0000</td>\n",
       "      <td>14</td>\n",
       "      <td>-15</td>\n",
       "      <td>0.0</td>\n",
       "      <td>23</td>\n",
       "      <td>...</td>\n",
       "      <td>0.986</td>\n",
       "      <td>0.0</td>\n",
       "      <td>0</td>\n",
       "      <td>23</td>\n",
       "      <td>1</td>\n",
       "      <td>[45.4645888900,-73.7051281100]</td>\n",
       "      <td>[45.5127573300,-73.4068659500]</td>\n",
       "      <td>30.0</td>\n",
       "      <td>Common</td>\n",
       "      <td>1</td>\n",
       "    </tr>\n",
       "    <tr>\n",
       "      <th>3</th>\n",
       "      <td>5</td>\n",
       "      <td>2</td>\n",
       "      <td>YHM6-&gt;YVR7</td>\n",
       "      <td>82.00</td>\n",
       "      <td>60.0333</td>\n",
       "      <td>60.0333</td>\n",
       "      <td>23</td>\n",
       "      <td>-1339</td>\n",
       "      <td>NaN</td>\n",
       "      <td>2676</td>\n",
       "      <td>...</td>\n",
       "      <td>60.015</td>\n",
       "      <td>0.0</td>\n",
       "      <td>0</td>\n",
       "      <td>2683</td>\n",
       "      <td>0</td>\n",
       "      <td>[43.9450240300,-78.9243592900]</td>\n",
       "      <td>[49.1736068900,-122.6700368000]</td>\n",
       "      <td>3200.0</td>\n",
       "      <td>Common</td>\n",
       "      <td>0</td>\n",
       "    </tr>\n",
       "    <tr>\n",
       "      <th>4</th>\n",
       "      <td>5</td>\n",
       "      <td>2</td>\n",
       "      <td>YHM5-&gt;INBT</td>\n",
       "      <td>2.00</td>\n",
       "      <td>1.1833</td>\n",
       "      <td>1.1670</td>\n",
       "      <td>0</td>\n",
       "      <td>-72</td>\n",
       "      <td>0.0</td>\n",
       "      <td>54</td>\n",
       "      <td>...</td>\n",
       "      <td>1.306</td>\n",
       "      <td>0.0</td>\n",
       "      <td>0</td>\n",
       "      <td>53</td>\n",
       "      <td>1</td>\n",
       "      <td>[43.6122669900,-79.7844532500]</td>\n",
       "      <td>NaN</td>\n",
       "      <td>60.0</td>\n",
       "      <td>Common</td>\n",
       "      <td>1</td>\n",
       "    </tr>\n",
       "  </tbody>\n",
       "</table>\n",
       "<p>5 rows × 39 columns</p>\n",
       "</div>"
      ],
      "text/plain": [
       "   rpt_wk  rpt_mon        lane  scheduled_transit_hours  \\\n",
       "0       5        2  CYVR->DVV5                     1.13   \n",
       "1       5        2  YVR4->YVR2                     1.11   \n",
       "2       5        2  YUL2->YUL5                     1.41   \n",
       "3       5        2  YHM6->YVR7                    82.00   \n",
       "4       5        2  YHM5->INBT                     2.00   \n",
       "\n",
       "   vls_transit_hours_actual  transit_hours_actual  depart_hour_local  \\\n",
       "0                    0.5000                0.5000                  2   \n",
       "1                    0.3833                0.3833                 10   \n",
       "2                    1.0000                1.0000                 14   \n",
       "3                   60.0333               60.0333                 23   \n",
       "4                    1.1833                1.1670                  0   \n",
       "\n",
       "   arrived_early_minutes  xirgo_suspicious_data  miles  ...  \\\n",
       "0                    -72                    NaN      8  ...   \n",
       "1                    -93                    0.0     16  ...   \n",
       "2                    -15                    0.0     23  ...   \n",
       "3                  -1339                    NaN   2676  ...   \n",
       "4                    -72                    0.0     54  ...   \n",
       "\n",
       "  relay_transit_hours_actual  relay_suspicious_data vls_suspicious_data  \\\n",
       "0                      0.428                    1.0                   0   \n",
       "1                      0.384                    0.0                   0   \n",
       "2                      0.986                    0.0                   0   \n",
       "3                     60.015                    0.0                   0   \n",
       "4                      1.306                    0.0                   0   \n",
       "\n",
       "  tta_miles  is_cpt_load               origin_coordinates  \\\n",
       "0         8            0                              NaN   \n",
       "1        17            1  [49.0549232200,-123.1077608000]   \n",
       "2        23            1   [45.4645888900,-73.7051281100]   \n",
       "3      2683            0   [43.9450240300,-78.9243592900]   \n",
       "4        53            1   [43.6122669900,-79.7844532500]   \n",
       "\n",
       "                  dest_coordinates  mi_band_max  common_lane is_toured  \n",
       "0  [49.1970159000,-122.9991476000]         15.0       Common         0  \n",
       "1  [49.1608781000,-122.9489380000]         30.0       Common         1  \n",
       "2   [45.5127573300,-73.4068659500]         30.0       Common         1  \n",
       "3  [49.1736068900,-122.6700368000]       3200.0       Common         0  \n",
       "4                              NaN         60.0       Common         1  \n",
       "\n",
       "[5 rows x 39 columns]"
      ]
     },
     "execution_count": 578,
     "metadata": {},
     "output_type": "execute_result"
    }
   ],
   "source": [
    "# Down to 40 columns, now lets do some more advanced data evaluation to better clean the data.\n",
    "data.head()"
   ]
  },
  {
   "cell_type": "code",
   "execution_count": 579,
   "metadata": {},
   "outputs": [
    {
     "data": {
      "text/plain": [
       "lane                              13\n",
       "xirgo_suspicious_data          96489\n",
       "is_tot_min                       342\n",
       "is_tot_30_min                    342\n",
       "under_bias_hours                 342\n",
       "over_bias_hours                  342\n",
       "global_dea_pkgs               118884\n",
       "destination_type               44789\n",
       "estimated_cost_accrual             2\n",
       "relay_elapsed_in_transit       11749\n",
       "relay_elapsed_stationary       11749\n",
       "relay_transit_hours_actual     11749\n",
       "relay_suspicious_data          11749\n",
       "origin_coordinates             20212\n",
       "dest_coordinates               60039\n",
       "dtype: int64"
      ]
     },
     "execution_count": 579,
     "metadata": {},
     "output_type": "execute_result"
    }
   ],
   "source": [
    "# Count the nulls\n",
    "data.isnull().sum()[data.isnull().sum() != 0]\n",
    "\n",
    "# For columns that only have a few nulls, we can drop those rows. Ex. lane, cost_accrual..\n",
    "# We have a lot of nulls for global_dea_pkgs, Xirgo actual hours etc. but that's okay we will handle those later\n",
    "# We'll also want to convert origin/dest coordinates to a binary of has_coordinates 0 or 1\n",
    "# We'll want to convert some to categorical like: origin_type, dest_type, arc_type, transit_operator_type common_lane,\n",
    "# Finally we'll want to create a reference mapping for lane and scac\n"
   ]
  },
  {
   "cell_type": "code",
   "execution_count": 580,
   "metadata": {},
   "outputs": [
    {
     "data": {
      "text/plain": [
       "(246603, 39)"
      ]
     },
     "execution_count": 580,
     "metadata": {},
     "output_type": "execute_result"
    }
   ],
   "source": [
    "data.shape"
   ]
  },
  {
   "cell_type": "code",
   "execution_count": 581,
   "metadata": {},
   "outputs": [],
   "source": [
    "# Drop the null rows from the lower null count columns\n",
    "data.dropna(subset=['lane', 'is_tot_min', 'estimated_cost_accrual','relay_transit_hours_actual', 'relay_elapsed_in_transit', 'relay_elapsed_stationary'], inplace=True)"
   ]
  },
  {
   "cell_type": "code",
   "execution_count": 582,
   "metadata": {},
   "outputs": [],
   "source": [
    "# Lets fill in the nulls in destination_type with 'Unknown'\n",
    "data['destination_type'].fillna('Unknown', inplace=True)"
   ]
  },
  {
   "cell_type": "code",
   "execution_count": 583,
   "metadata": {},
   "outputs": [
    {
     "data": {
      "text/plain": [
       "(234504, 39)"
      ]
     },
     "execution_count": 583,
     "metadata": {},
     "output_type": "execute_result"
    }
   ],
   "source": [
    "data.shape"
   ]
  },
  {
   "cell_type": "code",
   "execution_count": 584,
   "metadata": {},
   "outputs": [],
   "source": [
    "# Column global_dea_pkgs is a count of missed packages so blank = 0 missed packages\n",
    "data['global_dea_pkgs'] = data['global_dea_pkgs'].fillna(0)"
   ]
  },
  {
   "cell_type": "code",
   "execution_count": 585,
   "metadata": {},
   "outputs": [
    {
     "name": "stdout",
     "output_type": "stream",
     "text": [
      "[2 3 4 5 6 7 8]\n",
      "rpt_mon\n",
      "[nan  0.  1.]\n",
      "xirgo_suspicious_data\n",
      "['0-50' '2001+' '51-100' '251-500' '101-250' '501-750' '751-1000'\n",
      " '1001-1500' '1501-2000']\n",
      "mileage_band\n",
      "['CA']\n",
      "origin_country\n",
      "['CA']\n",
      "dest_country\n",
      "[1. 0.]\n",
      "is_tot_min\n",
      "[1. 0.]\n",
      "is_tot_30_min\n",
      "[1 0]\n",
      "is_using_tta_time\n",
      "['AIRPORT' 'SORT' 'SORTABLE AR' 'SORT CENTER' 'QUICK DEPLOY' 'NON SORT'\n",
      " 'SORT AR' 'NON-SORT TRAD' 'AMTRAN_INJECTION' '3PL' 'DELIVERY STATION'\n",
      " 'Mixed']\n",
      "origin_type\n",
      "['DELIVERY STATION' 'SORT' 'SORT CENTER' 'Unknown' 'AIRPORT' 'NON SORT'\n",
      " 'SORT AR' 'NON-SORT TRAD' 'Specialty' 'QUICK DEPLOY' 'SORTABLE AR' '3PL'\n",
      " 'Mixed']\n",
      "destination_type\n",
      "['SINGLE_DRIVER' 'TEAM_DRIVER']\n",
      "transit_operator_type\n",
      "[1. 0.]\n",
      "relay_suspicious_data\n",
      "[0 1]\n",
      "vls_suspicious_data\n",
      "[0 1]\n",
      "is_cpt_load\n",
      "[1.5e+01 3.0e+01 3.2e+03 6.0e+01 4.0e+02 1.2e+02 3.0e+02 2.0e+02 9.0e+01\n",
      " 8.0e+02 1.6e+03 5.0e+00 2.5e+00 1.0e+00]\n",
      "mi_band_max\n",
      "['Common' 'Un-common']\n",
      "common_lane\n",
      "[0 1]\n",
      "is_toured\n"
     ]
    }
   ],
   "source": [
    "# Next we'll look at all the columns with less than 10 unique values to see if they are useful.\n",
    "# The remaining columns look appropriate, the only one that can be removed is origin_country and dest_country.\n",
    "for column in data.columns:\n",
    "    if len(data[column].unique()) < 15:\n",
    "        print(data[column].unique())\n",
    "        print(column)\n"
   ]
  },
  {
   "cell_type": "code",
   "execution_count": 586,
   "metadata": {},
   "outputs": [],
   "source": [
    "# drop the excess columns\n",
    "data.drop(['origin_country', 'dest_country'], axis=1, inplace=True)"
   ]
  },
  {
   "cell_type": "code",
   "execution_count": 587,
   "metadata": {},
   "outputs": [
    {
     "name": "stdout",
     "output_type": "stream",
     "text": [
      "86031\n",
      "0\n"
     ]
    }
   ],
   "source": [
    "# We have some suspicious data nulls we need to fill in.\n",
    "# xirgo_suspicious_data which means trailer gps data, if not available then this would not be suspicious so we can fill with 0.\n",
    "# relay_suspicious_data is also showing some 'nan', in this case i would say missing data is suspicious so we can fill with 1.\n",
    "# Lets count the nulls in each and fill them in.\n",
    "print(data['xirgo_suspicious_data'].isnull().sum())\n",
    "print(data['relay_suspicious_data'].isnull().sum())\n",
    "\n",
    "data['xirgo_suspicious_data'].fillna(0, inplace=True)\n",
    "data['relay_suspicious_data'].fillna(1, inplace=True)"
   ]
  },
  {
   "cell_type": "code",
   "execution_count": 588,
   "metadata": {},
   "outputs": [
    {
     "data": {
      "text/plain": [
       "np.float64(1685271.5400000003)"
      ]
     },
     "execution_count": 588,
     "metadata": {},
     "output_type": "execute_result"
    }
   ],
   "source": [
    "# Lets sum the scheduled_transit_hours\n",
    "data['scheduled_transit_hours'].sum()"
   ]
  },
  {
   "cell_type": "code",
   "execution_count": 589,
   "metadata": {},
   "outputs": [],
   "source": [
    "# In the column scheduled_transit_hours, there is .5 hours of yard time that is not included in the transit time so we'll remove that from the scheduled transit hours.\n",
    "data['scheduled_transit_hours'] = data['scheduled_transit_hours'] - 0.5"
   ]
  },
  {
   "cell_type": "code",
   "execution_count": 590,
   "metadata": {},
   "outputs": [
    {
     "data": {
      "text/plain": [
       "np.float64(1568019.5400000003)"
      ]
     },
     "execution_count": 590,
     "metadata": {},
     "output_type": "execute_result"
    }
   ],
   "source": [
    "# Validate the change worked\n",
    "data['scheduled_transit_hours'].sum()"
   ]
  },
  {
   "cell_type": "code",
   "execution_count": 591,
   "metadata": {},
   "outputs": [
    {
     "data": {
      "text/plain": [
       "count    234504.000000\n",
       "mean          6.686536\n",
       "std          14.609426\n",
       "min           0.010000\n",
       "25%           0.910000\n",
       "50%           2.000000\n",
       "75%           6.050000\n",
       "max         726.010000\n",
       "Name: scheduled_transit_hours, dtype: float64"
      ]
     },
     "execution_count": 591,
     "metadata": {},
     "output_type": "execute_result"
    }
   ],
   "source": [
    "# Lets check the data description for scheduled_transit_hours to look for any outliers.\n",
    "data['scheduled_transit_hours'].describe()"
   ]
  },
  {
   "cell_type": "code",
   "execution_count": 592,
   "metadata": {},
   "outputs": [
    {
     "name": "stdout",
     "output_type": "stream",
     "text": [
      "(100, 37)\n",
      "(0, 37)\n"
     ]
    }
   ],
   "source": [
    "# 726 hours is a lot of hours for any lanes, count the outliers over 160h and delete the outlier rows\n",
    "print(data[data['scheduled_transit_hours'] > 160].shape)\n",
    "data = data[data['scheduled_transit_hours'] < 160]\n",
    "print(data[data['scheduled_transit_hours'] > 160].shape)"
   ]
  },
  {
   "cell_type": "code",
   "execution_count": 593,
   "metadata": {},
   "outputs": [
    {
     "data": {
      "text/html": [
       "<div>\n",
       "<style scoped>\n",
       "    .dataframe tbody tr th:only-of-type {\n",
       "        vertical-align: middle;\n",
       "    }\n",
       "\n",
       "    .dataframe tbody tr th {\n",
       "        vertical-align: top;\n",
       "    }\n",
       "\n",
       "    .dataframe thead th {\n",
       "        text-align: right;\n",
       "    }\n",
       "</style>\n",
       "<table border=\"1\" class=\"dataframe\">\n",
       "  <thead>\n",
       "    <tr style=\"text-align: right;\">\n",
       "      <th></th>\n",
       "      <th>rpt_wk</th>\n",
       "      <th>rpt_mon</th>\n",
       "      <th>scheduled_transit_hours</th>\n",
       "      <th>vls_transit_hours_actual</th>\n",
       "      <th>transit_hours_actual</th>\n",
       "      <th>depart_hour_local</th>\n",
       "      <th>arrived_early_minutes</th>\n",
       "      <th>xirgo_suspicious_data</th>\n",
       "      <th>miles</th>\n",
       "      <th>mph</th>\n",
       "      <th>...</th>\n",
       "      <th>estimated_cost_accrual</th>\n",
       "      <th>relay_elapsed_in_transit</th>\n",
       "      <th>relay_elapsed_stationary</th>\n",
       "      <th>relay_transit_hours_actual</th>\n",
       "      <th>relay_suspicious_data</th>\n",
       "      <th>vls_suspicious_data</th>\n",
       "      <th>tta_miles</th>\n",
       "      <th>is_cpt_load</th>\n",
       "      <th>mi_band_max</th>\n",
       "      <th>is_toured</th>\n",
       "    </tr>\n",
       "  </thead>\n",
       "  <tbody>\n",
       "    <tr>\n",
       "      <th>count</th>\n",
       "      <td>234404.000000</td>\n",
       "      <td>234404.000000</td>\n",
       "      <td>234404.000000</td>\n",
       "      <td>234404.000000</td>\n",
       "      <td>234404.000000</td>\n",
       "      <td>234404.000000</td>\n",
       "      <td>234404.000000</td>\n",
       "      <td>234404.000000</td>\n",
       "      <td>234404.000000</td>\n",
       "      <td>234404.000000</td>\n",
       "      <td>...</td>\n",
       "      <td>234404.000000</td>\n",
       "      <td>234404.000000</td>\n",
       "      <td>234404.000000</td>\n",
       "      <td>234404.000000</td>\n",
       "      <td>234404.000000</td>\n",
       "      <td>234404.000000</td>\n",
       "      <td>234404.000000</td>\n",
       "      <td>234404.000000</td>\n",
       "      <td>234404.000000</td>\n",
       "      <td>234404.000000</td>\n",
       "    </tr>\n",
       "    <tr>\n",
       "      <th>mean</th>\n",
       "      <td>20.633278</td>\n",
       "      <td>5.109038</td>\n",
       "      <td>6.607860</td>\n",
       "      <td>5.499450</td>\n",
       "      <td>5.477056</td>\n",
       "      <td>10.234160</td>\n",
       "      <td>-110.339696</td>\n",
       "      <td>0.069892</td>\n",
       "      <td>239.055003</td>\n",
       "      <td>43.601563</td>\n",
       "      <td>...</td>\n",
       "      <td>902.243918</td>\n",
       "      <td>4.518522</td>\n",
       "      <td>0.879587</td>\n",
       "      <td>5.398095</td>\n",
       "      <td>0.256941</td>\n",
       "      <td>0.000132</td>\n",
       "      <td>239.610092</td>\n",
       "      <td>0.650552</td>\n",
       "      <td>323.940372</td>\n",
       "      <td>0.629729</td>\n",
       "    </tr>\n",
       "    <tr>\n",
       "      <th>std</th>\n",
       "      <td>8.677023</td>\n",
       "      <td>1.973228</td>\n",
       "      <td>14.019303</td>\n",
       "      <td>11.401429</td>\n",
       "      <td>11.363150</td>\n",
       "      <td>7.986876</td>\n",
       "      <td>350.108829</td>\n",
       "      <td>0.254966</td>\n",
       "      <td>437.068623</td>\n",
       "      <td>12.136161</td>\n",
       "      <td>...</td>\n",
       "      <td>1077.514719</td>\n",
       "      <td>8.412340</td>\n",
       "      <td>3.510011</td>\n",
       "      <td>11.120087</td>\n",
       "      <td>0.436948</td>\n",
       "      <td>0.011499</td>\n",
       "      <td>438.611216</td>\n",
       "      <td>0.476797</td>\n",
       "      <td>630.368879</td>\n",
       "      <td>0.482878</td>\n",
       "    </tr>\n",
       "    <tr>\n",
       "      <th>min</th>\n",
       "      <td>5.000000</td>\n",
       "      <td>2.000000</td>\n",
       "      <td>0.010000</td>\n",
       "      <td>-0.083300</td>\n",
       "      <td>0.016600</td>\n",
       "      <td>0.000000</td>\n",
       "      <td>-21575.000000</td>\n",
       "      <td>0.000000</td>\n",
       "      <td>0.000000</td>\n",
       "      <td>0.000000</td>\n",
       "      <td>...</td>\n",
       "      <td>0.000000</td>\n",
       "      <td>0.000000</td>\n",
       "      <td>0.000000</td>\n",
       "      <td>0.000000</td>\n",
       "      <td>0.000000</td>\n",
       "      <td>0.000000</td>\n",
       "      <td>0.000000</td>\n",
       "      <td>0.000000</td>\n",
       "      <td>1.000000</td>\n",
       "      <td>0.000000</td>\n",
       "    </tr>\n",
       "    <tr>\n",
       "      <th>25%</th>\n",
       "      <td>13.000000</td>\n",
       "      <td>3.000000</td>\n",
       "      <td>0.910000</td>\n",
       "      <td>0.716600</td>\n",
       "      <td>0.700000</td>\n",
       "      <td>3.000000</td>\n",
       "      <td>-95.000000</td>\n",
       "      <td>0.000000</td>\n",
       "      <td>27.000000</td>\n",
       "      <td>35.456000</td>\n",
       "      <td>...</td>\n",
       "      <td>335.500000</td>\n",
       "      <td>0.665000</td>\n",
       "      <td>0.000000</td>\n",
       "      <td>0.713000</td>\n",
       "      <td>0.000000</td>\n",
       "      <td>0.000000</td>\n",
       "      <td>27.000000</td>\n",
       "      <td>0.000000</td>\n",
       "      <td>30.000000</td>\n",
       "      <td>0.000000</td>\n",
       "    </tr>\n",
       "    <tr>\n",
       "      <th>50%</th>\n",
       "      <td>21.000000</td>\n",
       "      <td>5.000000</td>\n",
       "      <td>2.000000</td>\n",
       "      <td>1.750000</td>\n",
       "      <td>1.716600</td>\n",
       "      <td>10.000000</td>\n",
       "      <td>-49.000000</td>\n",
       "      <td>0.000000</td>\n",
       "      <td>82.000000</td>\n",
       "      <td>45.520000</td>\n",
       "      <td>...</td>\n",
       "      <td>543.950000</td>\n",
       "      <td>1.612000</td>\n",
       "      <td>0.005000</td>\n",
       "      <td>1.700000</td>\n",
       "      <td>0.000000</td>\n",
       "      <td>0.000000</td>\n",
       "      <td>84.000000</td>\n",
       "      <td>1.000000</td>\n",
       "      <td>90.000000</td>\n",
       "      <td>1.000000</td>\n",
       "    </tr>\n",
       "    <tr>\n",
       "      <th>75%</th>\n",
       "      <td>28.000000</td>\n",
       "      <td>7.000000</td>\n",
       "      <td>6.050000</td>\n",
       "      <td>5.216600</td>\n",
       "      <td>5.189000</td>\n",
       "      <td>17.000000</td>\n",
       "      <td>-26.000000</td>\n",
       "      <td>0.000000</td>\n",
       "      <td>276.000000</td>\n",
       "      <td>52.756000</td>\n",
       "      <td>...</td>\n",
       "      <td>987.890000</td>\n",
       "      <td>4.711000</td>\n",
       "      <td>0.336000</td>\n",
       "      <td>5.160250</td>\n",
       "      <td>1.000000</td>\n",
       "      <td>0.000000</td>\n",
       "      <td>277.000000</td>\n",
       "      <td>1.000000</td>\n",
       "      <td>300.000000</td>\n",
       "      <td>1.000000</td>\n",
       "    </tr>\n",
       "    <tr>\n",
       "      <th>max</th>\n",
       "      <td>35.000000</td>\n",
       "      <td>8.000000</td>\n",
       "      <td>159.980000</td>\n",
       "      <td>416.866600</td>\n",
       "      <td>370.366600</td>\n",
       "      <td>23.000000</td>\n",
       "      <td>17612.000000</td>\n",
       "      <td>1.000000</td>\n",
       "      <td>2829.000000</td>\n",
       "      <td>126.280000</td>\n",
       "      <td>...</td>\n",
       "      <td>17305.280000</td>\n",
       "      <td>109.075000</td>\n",
       "      <td>129.103000</td>\n",
       "      <td>149.324000</td>\n",
       "      <td>1.000000</td>\n",
       "      <td>1.000000</td>\n",
       "      <td>2829.000000</td>\n",
       "      <td>1.000000</td>\n",
       "      <td>3200.000000</td>\n",
       "      <td>1.000000</td>\n",
       "    </tr>\n",
       "  </tbody>\n",
       "</table>\n",
       "<p>8 rows × 27 columns</p>\n",
       "</div>"
      ],
      "text/plain": [
       "              rpt_wk        rpt_mon  scheduled_transit_hours  \\\n",
       "count  234404.000000  234404.000000            234404.000000   \n",
       "mean       20.633278       5.109038                 6.607860   \n",
       "std         8.677023       1.973228                14.019303   \n",
       "min         5.000000       2.000000                 0.010000   \n",
       "25%        13.000000       3.000000                 0.910000   \n",
       "50%        21.000000       5.000000                 2.000000   \n",
       "75%        28.000000       7.000000                 6.050000   \n",
       "max        35.000000       8.000000               159.980000   \n",
       "\n",
       "       vls_transit_hours_actual  transit_hours_actual  depart_hour_local  \\\n",
       "count             234404.000000         234404.000000      234404.000000   \n",
       "mean                   5.499450              5.477056          10.234160   \n",
       "std                   11.401429             11.363150           7.986876   \n",
       "min                   -0.083300              0.016600           0.000000   \n",
       "25%                    0.716600              0.700000           3.000000   \n",
       "50%                    1.750000              1.716600          10.000000   \n",
       "75%                    5.216600              5.189000          17.000000   \n",
       "max                  416.866600            370.366600          23.000000   \n",
       "\n",
       "       arrived_early_minutes  xirgo_suspicious_data          miles  \\\n",
       "count          234404.000000          234404.000000  234404.000000   \n",
       "mean             -110.339696               0.069892     239.055003   \n",
       "std               350.108829               0.254966     437.068623   \n",
       "min            -21575.000000               0.000000       0.000000   \n",
       "25%               -95.000000               0.000000      27.000000   \n",
       "50%               -49.000000               0.000000      82.000000   \n",
       "75%               -26.000000               0.000000     276.000000   \n",
       "max             17612.000000               1.000000    2829.000000   \n",
       "\n",
       "                 mph  ...  estimated_cost_accrual  relay_elapsed_in_transit  \\\n",
       "count  234404.000000  ...           234404.000000             234404.000000   \n",
       "mean       43.601563  ...              902.243918                  4.518522   \n",
       "std        12.136161  ...             1077.514719                  8.412340   \n",
       "min         0.000000  ...                0.000000                  0.000000   \n",
       "25%        35.456000  ...              335.500000                  0.665000   \n",
       "50%        45.520000  ...              543.950000                  1.612000   \n",
       "75%        52.756000  ...              987.890000                  4.711000   \n",
       "max       126.280000  ...            17305.280000                109.075000   \n",
       "\n",
       "       relay_elapsed_stationary  relay_transit_hours_actual  \\\n",
       "count             234404.000000               234404.000000   \n",
       "mean                   0.879587                    5.398095   \n",
       "std                    3.510011                   11.120087   \n",
       "min                    0.000000                    0.000000   \n",
       "25%                    0.000000                    0.713000   \n",
       "50%                    0.005000                    1.700000   \n",
       "75%                    0.336000                    5.160250   \n",
       "max                  129.103000                  149.324000   \n",
       "\n",
       "       relay_suspicious_data  vls_suspicious_data      tta_miles  \\\n",
       "count          234404.000000        234404.000000  234404.000000   \n",
       "mean                0.256941             0.000132     239.610092   \n",
       "std                 0.436948             0.011499     438.611216   \n",
       "min                 0.000000             0.000000       0.000000   \n",
       "25%                 0.000000             0.000000      27.000000   \n",
       "50%                 0.000000             0.000000      84.000000   \n",
       "75%                 1.000000             0.000000     277.000000   \n",
       "max                 1.000000             1.000000    2829.000000   \n",
       "\n",
       "         is_cpt_load    mi_band_max      is_toured  \n",
       "count  234404.000000  234404.000000  234404.000000  \n",
       "mean        0.650552     323.940372       0.629729  \n",
       "std         0.476797     630.368879       0.482878  \n",
       "min         0.000000       1.000000       0.000000  \n",
       "25%         0.000000      30.000000       0.000000  \n",
       "50%         1.000000      90.000000       1.000000  \n",
       "75%         1.000000     300.000000       1.000000  \n",
       "max         1.000000    3200.000000       1.000000  \n",
       "\n",
       "[8 rows x 27 columns]"
      ]
     },
     "execution_count": 593,
     "metadata": {},
     "output_type": "execute_result"
    }
   ],
   "source": [
    "# Lets look for more outliers in the data\n",
    "data.describe()"
   ]
  },
  {
   "cell_type": "code",
   "execution_count": 594,
   "metadata": {},
   "outputs": [
    {
     "name": "stdout",
     "output_type": "stream",
     "text": [
      "(4, 37)\n",
      "(0, 37)\n",
      "(0, 37)\n",
      "(0, 37)\n",
      "(0, 37)\n",
      "(0, 37)\n"
     ]
    }
   ],
   "source": [
    "# Looks like we have some outliers in vls_transit_hours_actual, transit_hours_actual, arrived_early_minutes.\n",
    "# We'll remove the outliers in these columns as well using the same 160h threshold.\n",
    "print(data[data['vls_transit_hours_actual'] > 160].shape)\n",
    "data = data[data['vls_transit_hours_actual'] < 160]\n",
    "print(data[data['vls_transit_hours_actual'] > 160].shape)\n",
    "\n",
    "print(data[data['transit_hours_actual'] > 160].shape)\n",
    "data = data[data['transit_hours_actual'] < 160]\n",
    "print(data[data['transit_hours_actual'] > 160].shape)\n",
    "\n",
    "# This is in minutes so we'll use 160*60 = 9600 minutes\n",
    "print(data[data['arrived_early_minutes'] > 9600].shape)\n",
    "data = data[data['arrived_early_minutes'] < 9600]\n",
    "print(data[data['arrived_early_minutes'] > 9600].shape)\n",
    "\n",
    "# the vls column feeds apart of the logic for actual hours column so it's not a surprise no changes happened to the middle output."
   ]
  },
  {
   "cell_type": "code",
   "execution_count": 595,
   "metadata": {},
   "outputs": [
    {
     "name": "stdout",
     "output_type": "stream",
     "text": [
      "10535\n"
     ]
    }
   ],
   "source": [
    "# Lets also add a row called very_suspicious_data that has 2 or more of the suspicious data flags.\n",
    "# We have 3 flags: xirgo_suspicious_data, relay_suspicious_data, and vls_suspicious_data.\n",
    "# We'll create a column called very_suspicious_data that is 1 if 2 or more of the flags are 1.\n",
    "data['very_suspicious_data'] = data[['xirgo_suspicious_data', 'relay_suspicious_data', 'vls_suspicious_data']].sum(axis=1) >= 2\n",
    "\n",
    "# Count the number of very suspicious data\n",
    "print(data['very_suspicious_data'].sum())"
   ]
  },
  {
   "cell_type": "code",
   "execution_count": 596,
   "metadata": {},
   "outputs": [
    {
     "data": {
      "text/plain": [
       "dtype('bool')"
      ]
     },
     "execution_count": 596,
     "metadata": {},
     "output_type": "execute_result"
    }
   ],
   "source": [
    "# check data type of very_suspicious_data\n",
    "data['very_suspicious_data'].dtypes\n"
   ]
  },
  {
   "cell_type": "markdown",
   "metadata": {},
   "source": [
    "# 1. About the Data\n"
   ]
  },
  {
   "cell_type": "markdown",
   "metadata": {},
   "source": [
    "\n",
    "Where the data comes from:\n",
    "This dataset comes from a SQL query that pulls data from a companies internal database. In my role, I update expected transit times for truckload shipments and that's what this data is about. My company has a soft requirement we aim for a P90 transit expectation or where 9 of 10 loads have executed times below what's scheduled in order to protect customer promised delivery dates. This causes a large amount of scheduling overbias which turns into increased cost in several ways. \n",
    "\n",
    "About the Data:\n",
    "This is a large dataset of transportation data and started with about 240k rows and 186 columns. I know this data very well so am able to get through it fairly well despite it's size. This data is comprised of  origin->destination routes traveled including details such as scheduled times, executed times, package delivery success, and other related attributes. The dataset is categorical, numeric, and 'structured' and requires extensive feature engineering to be used in linear regression models. \n",
    "\n",
    "Key Focus for the Data:\n",
    "This model will focus on interpretation of the impact features have on missed customer packages from a scheduling hours perspective. I hypothesize that small to medium reductions in transit times would not have impact on customer promise. Getting this hypothesis deployed into the network without data based evidence is like asking for a raise without any results to show for it. "
   ]
  },
  {
   "cell_type": "markdown",
   "metadata": {},
   "source": [
    "# 2. Objectives\n"
   ]
  },
  {
   "cell_type": "markdown",
   "metadata": {},
   "source": [
    "The main objective of this analysis is to determine whether reducing scheduled transit times slightly or significantly impacts the rate of missed packages across different lanes and distance bands. The focus of the project is to build a predictive models to understand this relationship of the data features to customer package delivery success better."
   ]
  },
  {
   "cell_type": "markdown",
   "metadata": {},
   "source": [
    "We have 3 criteria to focus on:\n",
    "1. We want to determine the impact of reduced transit times on final customer delivery success.  \n",
    "2. We want to measure the relationship of reductions in transit time on a diatance band level. \n",
    "3. We want to use probability predictions to determine if reductions to transit times on a lane level impact on customer package delivery success."
   ]
  },
  {
   "cell_type": "markdown",
   "metadata": {},
   "source": [
    "The key column names:\n",
    "\n",
    "    1. lane: this is the specific origin->destination pair \n",
    "\n",
    "    2. global_dea_pkgs: this is the amount of package misses associated to the load \n",
    "\n",
    "    3. mileage_band: this is a mileage range of a given load (9 bands)\n",
    "\n",
    "    4. mi_band_max: this is a more granular range of miles (14)\n",
    "\n",
    "    5. scheduled_transit_time and actual_transit_time: original scheduled time and the actual executed time\n",
    "    "
   ]
  },
  {
   "cell_type": "markdown",
   "metadata": {},
   "source": [
    "# 3. EDA and Feature Engineering"
   ]
  },
  {
   "cell_type": "markdown",
   "metadata": {},
   "source": [
    "Most of the data reductions are shown at the top of the sheet where the data was explored and cleaned. "
   ]
  },
  {
   "cell_type": "markdown",
   "metadata": {},
   "source": [
    "Initial data exploration revealed a need for handling missing values, removing irrelevant features, and encoding categorical variables. Feature engineering included categorizing distance bands to better model the relationship between transit time and package misses. The EDA of the project is partially done at the top of the document. "
   ]
  },
  {
   "cell_type": "markdown",
   "metadata": {},
   "source": [
    "Preliminary Steps: \n",
    ">\n",
    "    1. I wrote a script in SQL pulling all columns in my companies transit time data table.  \n",
    "    2. Import the most updated versions of standard libraries: numpy, pandas, seaborn, matplotlib and scikit-learn.\n",
    "    3. Importing with data in csv format.\n",
    "\n",
    "EDA and Feature Engineering Steps:\n",
    ">\n",
    "    4. Reviewed data in Excel and documented which columns to drop and which needed encoding.  \n",
    "    5. Used data.drop on unnecessary columns. Then used data.info and data.isnull to review null values followed by data.dropna to remove more columns and data.dropna with subsets to remove null rows. \n",
    "    6. Next I looked at counts of unique values in each column to see what other columns could be dropped.\n",
    "    7. I used fillna to make sure there were no blanks. \n",
    "    8. I did some manual outlier removals then added a column to flag suspicious data points.  \n",
    "    9. This is when i started the 'About the Data' section and was ready for more feature encoding steps.  \n",
    "    10. Started the LabelEncoding and OneHotEncoding. I used label encoding to do binary encoding and one hot encoding on different columns. Ex of label encoding and mapping on lanes and scac codes. I also mapped and encoded distance bands.\n",
    "    11.  Should convert the bool values via transform\n",
    "    12. Next should be log transform on data "
   ]
  },
  {
   "cell_type": "code",
   "execution_count": 597,
   "metadata": {},
   "outputs": [
    {
     "data": {
      "text/plain": [
       "origin_coordinates    19732\n",
       "dest_coordinates      58268\n",
       "dtype: int64"
      ]
     },
     "execution_count": 597,
     "metadata": {},
     "output_type": "execute_result"
    }
   ],
   "source": [
    "# Count the nulls\n",
    "data.isnull().sum()[data.isnull().sum() != 0]"
   ]
  },
  {
   "cell_type": "code",
   "execution_count": 598,
   "metadata": {},
   "outputs": [
    {
     "data": {
      "text/plain": [
       "(234400, 38)"
      ]
     },
     "execution_count": 598,
     "metadata": {},
     "output_type": "execute_result"
    }
   ],
   "source": [
    "data.shape"
   ]
  },
  {
   "cell_type": "code",
   "execution_count": 599,
   "metadata": {},
   "outputs": [
    {
     "name": "stdout",
     "output_type": "stream",
     "text": [
      "lane 758\n",
      "mileage_band 9\n",
      "scac 559\n",
      "origin_type 12\n",
      "destination_type 13\n",
      "arc_type 17\n",
      "transit_operator_type 2\n",
      "origin_coordinates 113\n",
      "dest_coordinates 122\n",
      "common_lane 2\n"
     ]
    }
   ],
   "source": [
    "# Review the object columns to see if they need to be converted to categorical.\n",
    "for column in data.select_dtypes(include='object').columns:\n",
    "    print(column, data[column].nunique())"
   ]
  },
  {
   "cell_type": "code",
   "execution_count": 600,
   "metadata": {},
   "outputs": [],
   "source": [
    "# Instantiate the label encoder\n",
    "from sklearn.preprocessing import LabelEncoder, OneHotEncoder\n",
    "le = LabelEncoder()"
   ]
  },
  {
   "cell_type": "markdown",
   "metadata": {},
   "source": [
    "Data Lesson: One-Hot Encoding creates a column for every unique target value encoded amd should be used with caution!"
   ]
  },
  {
   "cell_type": "code",
   "execution_count": 601,
   "metadata": {},
   "outputs": [
    {
     "data": {
      "text/plain": [
       "Index(['rpt_wk', 'rpt_mon', 'lane', 'scheduled_transit_hours',\n",
       "       'vls_transit_hours_actual', 'transit_hours_actual', 'depart_hour_local',\n",
       "       'arrived_early_minutes', 'xirgo_suspicious_data', 'miles',\n",
       "       'mileage_band', 'mph', 'is_tot_min', 'is_tot_30_min',\n",
       "       'under_bias_hours', 'over_bias_hours', 'is_using_tta_time', 'scac',\n",
       "       'total_pkg_unit_count', 'global_dea_pkgs', 'origin_type',\n",
       "       'destination_type', 'estimated_cost_accrual', 'arc_type',\n",
       "       'transit_operator_type', 'relay_elapsed_in_transit',\n",
       "       'relay_elapsed_stationary', 'relay_transit_hours_actual',\n",
       "       'relay_suspicious_data', 'vls_suspicious_data', 'tta_miles',\n",
       "       'is_cpt_load', 'origin_coordinates', 'dest_coordinates', 'mi_band_max',\n",
       "       'common_lane', 'is_toured', 'very_suspicious_data'],\n",
       "      dtype='object')"
      ]
     },
     "execution_count": 601,
     "metadata": {},
     "output_type": "execute_result"
    }
   ],
   "source": [
    "data.columns"
   ]
  },
  {
   "cell_type": "code",
   "execution_count": 602,
   "metadata": {},
   "outputs": [],
   "source": [
    "# After some research I will use target encoding For the 'scac' column instead of one-hot. (scac is 400+ unique values)\n",
    "# This replaces each category with the mean of the target variable dea_pkgs, may be prone to overfitting but we'll see.\n",
    "# Build a scac reference df so we can encode the scac column with the mean miss and drop the scac.\n",
    "scac_reference = data.groupby('scac')['global_dea_pkgs'].mean()\n",
    "scac_reference.columns = ['scac', 'scac_target_encoded']\n",
    "# Append the scac references to the data variable\n",
    "data = data.merge(scac_reference, on='scac', how='left')\n",
    "\n",
    "#We'll drop the scac column later once we're ready for the model.\n",
    "#data.drop('scac', axis=1, inplace=True)"
   ]
  },
  {
   "cell_type": "code",
   "execution_count": 603,
   "metadata": {},
   "outputs": [
    {
     "name": "stdout",
     "output_type": "stream",
     "text": [
      "scac\n",
      "AAAKX    47.529412\n",
      "AADPM     3.250000\n",
      "AAFAY     0.000000\n",
      "AAFZH    11.338462\n",
      "AAHJC     1.000000\n",
      "Name: global_dea_pkgs, dtype: float64\n",
      "count     559.000000\n",
      "mean       32.521527\n",
      "std       158.597099\n",
      "min         0.000000\n",
      "25%         3.000000\n",
      "50%         7.702274\n",
      "75%        22.276687\n",
      "max      2981.000000\n",
      "Name: global_dea_pkgs, dtype: float64\n"
     ]
    }
   ],
   "source": [
    "\n",
    "# Change the name of the column to scac_target_encoded\n",
    "data.rename(columns={'global_dea_pkgs_y':'scac_target_encoded'}, inplace=True)\n",
    "# Take a look at the scac df\n",
    "print(scac_reference.head())\n",
    "print(scac_reference.describe())\n",
    "\n",
    "# The merge changed the column name from global_dea_pkgs to global_dea_pkgs_x, we'll update back the original name\n",
    "data.rename(columns={'global_dea_pkgs_x':'global_dea_pkgs'}, inplace=True)"
   ]
  },
  {
   "cell_type": "code",
   "execution_count": 604,
   "metadata": {},
   "outputs": [
    {
     "data": {
      "text/plain": [
       "Index(['rpt_wk', 'rpt_mon', 'lane', 'scheduled_transit_hours',\n",
       "       'vls_transit_hours_actual', 'transit_hours_actual', 'depart_hour_local',\n",
       "       'arrived_early_minutes', 'xirgo_suspicious_data', 'miles',\n",
       "       'mileage_band', 'mph', 'is_tot_min', 'is_tot_30_min',\n",
       "       'under_bias_hours', 'over_bias_hours', 'is_using_tta_time', 'scac',\n",
       "       'total_pkg_unit_count', 'global_dea_pkgs', 'origin_type',\n",
       "       'destination_type', 'estimated_cost_accrual', 'arc_type',\n",
       "       'transit_operator_type', 'relay_elapsed_in_transit',\n",
       "       'relay_elapsed_stationary', 'relay_transit_hours_actual',\n",
       "       'relay_suspicious_data', 'vls_suspicious_data', 'tta_miles',\n",
       "       'is_cpt_load', 'origin_coordinates', 'dest_coordinates', 'mi_band_max',\n",
       "       'common_lane', 'is_toured', 'very_suspicious_data',\n",
       "       'scac_target_encoded'],\n",
       "      dtype='object')"
      ]
     },
     "execution_count": 604,
     "metadata": {},
     "output_type": "execute_result"
    }
   ],
   "source": [
    "data.columns"
   ]
  },
  {
   "cell_type": "code",
   "execution_count": 605,
   "metadata": {},
   "outputs": [],
   "source": [
    "# Feature transform for the columns that need to be converted to categorical since they can be converted to binary values\n",
    "data['transit_operator_type'] = le.fit_transform(data['transit_operator_type'])\n",
    "data['common_lane'] = le.fit_transform(data['common_lane'])\n",
    "\n",
    "# One hot encoding for the columns that need to be converted to categorical, will create 41 new columns.\n",
    "data = pd.get_dummies(data, columns=['arc_type', 'origin_type', 'destination_type'])\n",
    "\n",
    "# Next lets convert the origin/dest coordinates from their object value to a binary of has_coordinates 0 if null or 1 if not null.\n",
    "data['origin_coordinates'] = data['origin_coordinates'].notnull().astype(int)\n",
    "data['dest_coordinates'] = data['dest_coordinates'].notnull().astype(int)"
   ]
  },
  {
   "cell_type": "code",
   "execution_count": 606,
   "metadata": {},
   "outputs": [],
   "source": [
    "# Map out mileage_band (str) and mi_band_max (int), these should be appropriately read in the LR models.\n",
    "# These will range from shortest to longest.\n",
    "# The original values for mileage_band were: ['0-50' '2001+' '51-100' '251-500' '101-250' '501-750' '751-1000' '1001-1500' '1501-2000']\n",
    "# Rearrange to be in expected order: 0-50, 51-100, 101-250, 251-500, 501-750, 751-1000, 1001-1500, 1501-2000, 2001+\n",
    "data['mileage_band'] = data['mileage_band'].map({'0-50': 0, '51-100': 1, '101-250': 2, '251-500': 3, '501-750': 4, '751-1000': 5, '1001-1500': 6, '1501-2000': 7, '2001+': 8})\n",
    "\n",
    "# Also map out mi_band_max values: 1, 2.5, 5, 15, 30, 60, 90, 120, 200, 300, 400, 800, 1600, 3200\n",
    "data['mi_band_max'] = data['mi_band_max'].map({1: 0, 2.5: 1, 5: 2, 15: 3, 30: 4, 60: 5, 90: 6, 120: 7, 200: 8, 300: 9, 400: 10, 800: 11, 1600: 12, 3200: 13})"
   ]
  },
  {
   "cell_type": "code",
   "execution_count": 607,
   "metadata": {},
   "outputs": [
    {
     "data": {
      "text/plain": [
       "(234400, 78)"
      ]
     },
     "execution_count": 607,
     "metadata": {},
     "output_type": "execute_result"
    }
   ],
   "source": [
    "data.shape"
   ]
  },
  {
   "cell_type": "code",
   "execution_count": 608,
   "metadata": {},
   "outputs": [
    {
     "name": "stdout",
     "output_type": "stream",
     "text": [
      "lane 758\n",
      "scac 559\n"
     ]
    }
   ],
   "source": [
    "# Take a look at the remaining objects and their counts\n",
    "for column in data.select_dtypes(include='object').columns:\n",
    "    print(column, data[column].nunique())"
   ]
  },
  {
   "cell_type": "code",
   "execution_count": 609,
   "metadata": {},
   "outputs": [
    {
     "data": {
      "text/plain": [
       "Index(['rpt_wk', 'rpt_mon', 'lane', 'scheduled_transit_hours',\n",
       "       'vls_transit_hours_actual', 'transit_hours_actual', 'depart_hour_local',\n",
       "       'arrived_early_minutes', 'xirgo_suspicious_data', 'miles',\n",
       "       'mileage_band', 'mph', 'is_tot_min', 'is_tot_30_min',\n",
       "       'under_bias_hours', 'over_bias_hours', 'is_using_tta_time', 'scac',\n",
       "       'total_pkg_unit_count', 'global_dea_pkgs', 'estimated_cost_accrual',\n",
       "       'transit_operator_type', 'relay_elapsed_in_transit',\n",
       "       'relay_elapsed_stationary', 'relay_transit_hours_actual',\n",
       "       'relay_suspicious_data', 'vls_suspicious_data', 'tta_miles',\n",
       "       'is_cpt_load', 'origin_coordinates', 'dest_coordinates', 'mi_band_max',\n",
       "       'common_lane', 'is_toured', 'very_suspicious_data',\n",
       "       'scac_target_encoded', 'arc_type_AIR->AMZL', 'arc_type_AIR->SC',\n",
       "       'arc_type_AMZL_HB', 'arc_type_ATSD_EXCLUDE', 'arc_type_CARRIER_MANAGED',\n",
       "       'arc_type_CA_OB', 'arc_type_CA_WHT', 'arc_type_DS->SC',\n",
       "       'arc_type_FC->AIR', 'arc_type_FC->AMZL', 'arc_type_FC->SC',\n",
       "       'arc_type_NCSL_EXCLUDE', 'arc_type_NON_IXD_WHT', 'arc_type_SC->AIR',\n",
       "       'arc_type_SC->AMZL', 'arc_type_SC->DS', 'arc_type_SC->SC',\n",
       "       'origin_type_3PL', 'origin_type_AIRPORT',\n",
       "       'origin_type_AMTRAN_INJECTION', 'origin_type_DELIVERY STATION',\n",
       "       'origin_type_Mixed', 'origin_type_NON SORT',\n",
       "       'origin_type_NON-SORT TRAD', 'origin_type_QUICK DEPLOY',\n",
       "       'origin_type_SORT', 'origin_type_SORT AR', 'origin_type_SORT CENTER',\n",
       "       'origin_type_SORTABLE AR', 'destination_type_3PL',\n",
       "       'destination_type_AIRPORT', 'destination_type_DELIVERY STATION',\n",
       "       'destination_type_Mixed', 'destination_type_NON SORT',\n",
       "       'destination_type_NON-SORT TRAD', 'destination_type_QUICK DEPLOY',\n",
       "       'destination_type_SORT', 'destination_type_SORT AR',\n",
       "       'destination_type_SORT CENTER', 'destination_type_SORTABLE AR',\n",
       "       'destination_type_Specialty', 'destination_type_Unknown'],\n",
       "      dtype='object')"
      ]
     },
     "execution_count": 609,
     "metadata": {},
     "output_type": "execute_result"
    }
   ],
   "source": [
    "# Check out the column names in data\n",
    "data.columns"
   ]
  },
  {
   "cell_type": "code",
   "execution_count": 610,
   "metadata": {},
   "outputs": [
    {
     "data": {
      "text/html": [
       "<div>\n",
       "<style scoped>\n",
       "    .dataframe tbody tr th:only-of-type {\n",
       "        vertical-align: middle;\n",
       "    }\n",
       "\n",
       "    .dataframe tbody tr th {\n",
       "        vertical-align: top;\n",
       "    }\n",
       "\n",
       "    .dataframe thead th {\n",
       "        text-align: right;\n",
       "    }\n",
       "</style>\n",
       "<table border=\"1\" class=\"dataframe\">\n",
       "  <thead>\n",
       "    <tr style=\"text-align: right;\">\n",
       "      <th></th>\n",
       "      <th>ln_avg_hrs</th>\n",
       "      <th>ln_avg_gdp</th>\n",
       "    </tr>\n",
       "    <tr>\n",
       "      <th>lane</th>\n",
       "      <th></th>\n",
       "      <th></th>\n",
       "    </tr>\n",
       "  </thead>\n",
       "  <tbody>\n",
       "    <tr>\n",
       "      <th>CYHM-&gt;CPON</th>\n",
       "      <td>1.410000</td>\n",
       "      <td>320.000000</td>\n",
       "    </tr>\n",
       "    <tr>\n",
       "      <th>CYHM-&gt;DON3</th>\n",
       "      <td>1.965455</td>\n",
       "      <td>0.197861</td>\n",
       "    </tr>\n",
       "    <tr>\n",
       "      <th>CYHM-&gt;DTO5</th>\n",
       "      <td>1.760000</td>\n",
       "      <td>0.034483</td>\n",
       "    </tr>\n",
       "    <tr>\n",
       "      <th>CYHM-&gt;DYT6</th>\n",
       "      <td>7.599130</td>\n",
       "      <td>2.673913</td>\n",
       "    </tr>\n",
       "    <tr>\n",
       "      <th>CYHM-&gt;INMS</th>\n",
       "      <td>1.259471</td>\n",
       "      <td>33.245192</td>\n",
       "    </tr>\n",
       "  </tbody>\n",
       "</table>\n",
       "</div>"
      ],
      "text/plain": [
       "            ln_avg_hrs  ln_avg_gdp\n",
       "lane                              \n",
       "CYHM->CPON    1.410000  320.000000\n",
       "CYHM->DON3    1.965455    0.197861\n",
       "CYHM->DTO5    1.760000    0.034483\n",
       "CYHM->DYT6    7.599130    2.673913\n",
       "CYHM->INMS    1.259471   33.245192"
      ]
     },
     "execution_count": 610,
     "metadata": {},
     "output_type": "execute_result"
    }
   ],
   "source": [
    "# Lets do a label encoding with a mapping dictionary for the lane column\n",
    "# Create a lane df with scheduled_transit_hours and global_dea_pkgs averages.\n",
    "lane_df = data.groupby('lane')[['scheduled_transit_hours', 'global_dea_pkgs']].mean()\n",
    "# Name these columns: lane, ln_avg_hrs, ln_avg_gdp\n",
    "lane_df.columns = ['ln_avg_hrs', 'ln_avg_gdp']\n",
    "lane_df.head()"
   ]
  },
  {
   "cell_type": "code",
   "execution_count": 611,
   "metadata": {},
   "outputs": [
    {
     "name": "stdout",
     "output_type": "stream",
     "text": [
      "            ln_avg_hrs  ln_avg_gdp  lane_num\n",
      "lane                                        \n",
      "CYHM->CPON    1.410000  320.000000         1\n",
      "CYHM->DON3    1.965455    0.197861         2\n",
      "CYHM->DTO5    1.760000    0.034483         3\n",
      "CYHM->DYT6    7.599130    2.673913         4\n",
      "CYHM->INMS    1.259471   33.245192         5\n",
      "{'CYHM->CPON': 1, 'CYHM->DON3': 2, 'CYHM->DTO5': 3, 'CYHM->DYT6': 4, 'CYHM->INMS': 5, 'CYHM->YHM5': 6, 'CYHM->YHM6': 7, 'CYHM->YUL5': 8, 'CYHM->YUL9': 9, 'CYHZ->DYH1': 10, 'CYQM->INMN': 11, 'CYQR->INRG': 12, 'CYVR->DVC4': 13, 'CYVR->DVC6': 14, 'CYVR->DVV2': 15, 'CYVR->DVV5': 16, 'CYVR->DVY7': 17, 'CYVR->DYV1': 18, 'CYVR->INSR': 19, 'CYVR->INVI': 20, 'CYVR->YVR7': 21, 'CYWG->DMW2': 22, 'CYXE->INSK': 23, 'CYYC->DCG4': 24, 'CYYC->DYB2': 25, 'CYYC->DYB3': 26, 'CYYC->INCL': 27, 'CYYC->INED': 28, 'CYYC->YYC5': 29, 'CYYT->INJO': 30, 'DCG4->YYC5': 31, 'DLC1->YHM6': 32, 'DLC4->YHM6': 33, 'DMW2->YYC5': 34, 'DOI2->YHM6': 35, 'DOI3->YHM6': 36, 'DOI5->YHM6': 37, 'DOI6->YHM6': 38, 'DON3->YHM6': 39, 'DON8->YHM6': 40, 'DON9->YHM6': 41, 'DTO1->YHM6': 42, 'DTO3->YHM6': 43, 'DTO5->YHM6': 44, 'DTY4->YHM6': 45, 'DTY7->YHM6': 46, 'DVC4->YVR7': 47, 'DVC6->YVR7': 48, 'DVV5->YVR7': 49, 'DVY7->YVR7': 50, 'DXT2->YHM6': 51, 'DXT4->YHM6': 52, 'DXT5->YUL9': 53, 'DXT6->YUL9': 54, 'DXT8->YHM6': 55, 'DYB2->YYC5': 56, 'DYB3->YYC5': 57, 'DYH1->YUL9': 58, 'DYT6->YUL9': 59, 'DYV1->YVR3': 60, 'DYV1->YVR7': 61, 'RLBE->DLC1': 62, 'RLBE->INON': 63, 'RLBE->YHM5': 64, 'RLBE->YHM6': 65, 'RLBE->YUL5': 66, 'RLBE->YUL9': 67, 'RLBW->YVR7': 68, 'RLBW->YYC5': 69, 'XCAB->DCG4': 70, 'XCAB->YVR7': 71, 'XCAB->YYC5': 72, 'XCAC->YHM5': 73, 'XCAC->YHM6': 74, 'XCAC->YUL5': 75, 'XCAC->YUL9': 76, 'YEG1->CYYC': 77, 'YEG1->DCG4': 78, 'YEG1->DMW2': 79, 'YEG1->DYB2': 80, 'YEG1->DYB3': 81, 'YEG1->HYC1': 82, 'YEG1->HYE1': 83, 'YEG1->INCL': 84, 'YEG1->INED': 85, 'YEG1->XCAB': 86, 'YEG1->YEG2': 87, 'YEG1->YHM5': 88, 'YEG1->YHM6': 89, 'YEG1->YOO1': 90, 'YEG1->YOW1': 91, 'YEG1->YUL5': 92, 'YEG1->YVR3': 93, 'YEG1->YVR7': 94, 'YEG1->YYC1': 95, 'YEG1->YYC5': 96, 'YEG1->YYC6': 97, 'YEG1->YYZ1': 98, 'YEG2->BWC1': 99, 'YEG2->CYYC': 100, 'YEG2->DCG4': 101, 'YEG2->DMW2': 102, 'YEG2->DYB2': 103, 'YEG2->DYB3': 104, 'YEG2->INCL': 105, 'YEG2->INED': 106, 'YEG2->INFM': 107, 'YEG2->INGR': 108, 'YEG2->INKE': 109, 'YEG2->INLB': 110, 'YEG2->INME': 111, 'YEG2->INPR': 112, 'YEG2->INRD': 113, 'YEG2->INRG': 114, 'YEG2->INSK': 115, 'YEG2->YEG1': 116, 'YEG2->YHM1': 117, 'YEG2->YOW3': 118, 'YEG2->YUL2': 119, 'YEG2->YVR2': 120, 'YEG2->YVR4': 121, 'YEG2->YVR7': 122, 'YEG2->YXU1': 123, 'YEG2->YXX2': 124, 'YEG2->YYC1': 125, 'YEG2->YYC4': 126, 'YEG2->YYC5': 127, 'YEG2->YYZ1': 128, 'YGK1->YYC6': 129, 'YHM1->BNMC': 130, 'YHM1->CYHM': 131, 'YHM1->DLC1': 132, 'YHM1->DLC4': 133, 'YHM1->DOI2': 134, 'YHM1->DOI3': 135, 'YHM1->DOI5': 136, 'YHM1->DOI6': 137, 'YHM1->DON3': 138, 'YHM1->DON8': 139, 'YHM1->DON9': 140, 'YHM1->DTO1': 141, 'YHM1->DTO3': 142, 'YHM1->DTO5': 143, 'YHM1->DTY4': 144, 'YHM1->DTY7': 145, 'YHM1->DXT2': 146, 'YHM1->DXT4': 147, 'YHM1->DXT5': 148, 'YHM1->DXT6': 149, 'YHM1->DXT8': 150, 'YHM1->DYH1': 151, 'YHM1->DYT6': 152, 'YHM1->INGB': 153, 'YHM1->INLN': 154, 'YHM1->INMS': 155, 'YHM1->INNG': 156, 'YHM1->INRI': 157, 'YHM1->INSB': 158, 'YHM1->SLWD': 159, 'YHM1->YEG2': 160, 'YHM1->YHM5': 161, 'YHM1->YHM6': 162, 'YHM1->YOW3': 163, 'YHM1->YUL2': 164, 'YHM1->YUL5': 165, 'YHM1->YUL9': 166, 'YHM1->YXU1': 167, 'YHM1->YXX2': 168, 'YHM1->YYC4': 169, 'YHM1->YYZ1': 170, 'YHM1->YYZ3': 171, 'YHM1->YYZ4': 172, 'YHM1->YYZ7': 173, 'YHM5->BNW1': 174, 'YHM5->DLC1': 175, 'YHM5->DLC4': 176, 'YHM5->DOI3': 177, 'YHM5->DOI5': 178, 'YHM5->DOI6': 179, 'YHM5->DON9': 180, 'YHM5->DTO3': 181, 'YHM5->DTY4': 182, 'YHM5->DTY7': 183, 'YHM5->DXT2': 184, 'YHM5->DXT8': 185, 'YHM5->INBT': 186, 'YHM5->INKT': 187, 'YHM5->INLN': 188, 'YHM5->INNG': 189, 'YHM5->SLBA': 190, 'YHM5->SLOR': 191, 'YHM5->SLWD': 192, 'YHM6->BWTT': 193, 'YHM6->DMW2': 194, 'YHM6->DOI2': 195, 'YHM6->DOI3': 196, 'YHM6->DOI5': 197, 'YHM6->DOI6': 198, 'YHM6->DON2': 199, 'YHM6->DON3': 200, 'YHM6->DON8': 201, 'YHM6->DON9': 202, 'YHM6->DTO1': 203, 'YHM6->DTO3': 204, 'YHM6->DTO5': 205, 'YHM6->DTY4': 206, 'YHM6->DTY7': 207, 'YHM6->DXT2': 208, 'YHM6->DXT8': 209, 'YHM6->DYT6': 210, 'YHM6->HYZ1': 211, 'YHM6->HYZ2': 212, 'YHM6->INBK': 213, 'YHM6->INBL': 214, 'YHM6->INCN': 215, 'YHM6->INGA': 216, 'YHM6->INKN': 217, 'YHM6->INMS': 218, 'YHM6->INNP': 219, 'YHM6->INOS': 220, 'YHM6->INOT': 221, 'YHM6->INPB': 222, 'YHM6->INPT': 223, 'YHM6->INSB': 224, 'YHM6->INSG': 225, 'YHM6->INTB': 226, 'YHM6->INVA': 227, 'YHM6->INWI': 228, 'YHM6->SLBA': 229, 'YHM6->SLOR': 230, 'YHM6->YHM1': 231, 'YHM6->YHM5': 232, 'YHM6->YOO1': 233, 'YHM6->YVR7': 234, 'YHM6->YYC5': 235, 'YOO1->CYHM': 236, 'YOO1->DOI2': 237, 'YOO1->DOI3': 238, 'YOO1->DOI5': 239, 'YOO1->DON3': 240, 'YOO1->DON8': 241, 'YOO1->DON9': 242, 'YOO1->DTO1': 243, 'YOO1->DTO3': 244, 'YOO1->DTO5': 245, 'YOO1->DXT6': 246, 'YOO1->DYT6': 247, 'YOO1->HYU1': 248, 'YOO1->HYZ1': 249, 'YOO1->HYZ2': 250, 'YOO1->INON': 251, 'YOO1->INRI': 252, 'YOO1->SLOK': 253, 'YOO1->XCAB': 254, 'YOO1->YEG1': 255, 'YOO1->YHM5': 256, 'YOO1->YHM6': 257, 'YOO1->YOW1': 258, 'YOO1->YUL5': 259, 'YOO1->YUL9': 260, 'YOO1->YYZ3': 261, 'YOO1->YYZ4': 262, 'YOO1->YYZ9': 263, 'YOW1->CYHM': 264, 'YOW1->DXT4': 265, 'YOW1->DXT5': 266, 'YOW1->DXT6': 267, 'YOW1->DYT6': 268, 'YOW1->HYU1': 269, 'YOW1->INCU': 270, 'YOW1->INJR': 271, 'YOW1->INON': 272, 'YOW1->INOT': 273, 'YOW1->INRI': 274, 'YOW1->SLOK': 275, 'YOW1->YEG1': 276, 'YOW1->YHM5': 277, 'YOW1->YHM6': 278, 'YOW1->YOW3': 279, 'YOW1->YUL5': 280, 'YOW1->YUL9': 281, 'YOW1->YVR3': 282, 'YOW1->YYZ3': 283, 'YOW1->YYZ9': 284, 'YOW3->BNMC': 285, 'YOW3->BWNS': 286, 'YOW3->CYHM': 287, 'YOW3->CYMX': 288, 'YOW3->DON3': 289, 'YOW3->DON8': 290, 'YOW3->DON9': 291, 'YOW3->DTO5': 292, 'YOW3->DTY4': 293, 'YOW3->DXT2': 294, 'YOW3->DXT4': 295, 'YOW3->DXT5': 296, 'YOW3->DXT6': 297, 'YOW3->DYH1': 298, 'YOW3->DYT4': 299, 'YOW3->DYT6': 300, 'YOW3->INBK': 301, 'YOW3->INCB': 302, 'YOW3->INCH': 303, 'YOW3->INCN': 304, 'YOW3->INCU': 305, 'YOW3->INDR': 306, 'YOW3->INFD': 307, 'YOW3->INGA': 308, 'YOW3->INGB': 309, 'YOW3->INGG': 310, 'YOW3->INHF': 311, 'YOW3->INHY': 312, 'YOW3->INJL': 313, 'YOW3->INJN': 314, 'YOW3->INJO': 315, 'YOW3->INJR': 316, 'YOW3->INKN': 317, 'YOW3->INMN': 318, 'YOW3->INOT': 319, 'YOW3->INPB': 320, 'YOW3->INQC': 321, 'YOW3->INRI': 322, 'YOW3->INSH': 323, 'YOW3->INST': 324, 'YOW3->INTR': 325, 'YOW3->INVA': 326, 'YOW3->INVF': 327, 'YOW3->YEG2': 328, 'YOW3->YHM1': 329, 'YOW3->YHM5': 330, 'YOW3->YHM6': 331, 'YOW3->YOW1': 332, 'YOW3->YUL2': 333, 'YOW3->YUL5': 334, 'YOW3->YUL9': 335, 'YOW3->YVR4': 336, 'YOW3->YXU1': 337, 'YOW3->YXX2': 338, 'YOW3->YYC4': 339, 'YOW3->YYZ1': 340, 'YOW3->YYZ4': 341, 'YOW3->YYZ7': 342, 'YOW3->YYZ9': 343, 'YTZ1->YYZ4': 344, 'YUL2->DXT4': 345, 'YUL2->DXT5': 346, 'YUL2->DXT6': 347, 'YUL2->DYT4': 348, 'YUL2->DYT6': 349, 'YUL2->INRI': 350, 'YUL2->YEG2': 351, 'YUL2->YHM5': 352, 'YUL2->YHM6': 353, 'YUL2->YUL5': 354, 'YUL2->YUL9': 355, 'YUL2->YYZ1': 356, 'YUL2->YYZ4': 357, 'YUL2->YYZ7': 358, 'YUL5->BNMC': 359, 'YUL5->BWNS': 360, 'YUL5->DYH1': 361, 'YUL5->INCH': 362, 'YUL5->INCU': 363, 'YUL5->INDR': 364, 'YUL5->INFD': 365, 'YUL5->INHF': 366, 'YUL5->INJO': 367, 'YUL5->INMN': 368, 'YUL5->INQC': 369, 'YUL5->INSH': 370, 'YUL5->INST': 371, 'YUL5->INTR': 372, 'YUL5->YUL9': 373, 'YUL9->DXT4': 374, 'YUL9->DXT5': 375, 'YUL9->DXT6': 376, 'YUL9->DYH1': 377, 'YUL9->DYT4': 378, 'YUL9->INCB': 379, 'YUL9->INCU': 380, 'YUL9->INFD': 381, 'YUL9->INGB': 382, 'YUL9->INGG': 383, 'YUL9->INHF': 384, 'YUL9->INHY': 385, 'YUL9->INJL': 386, 'YUL9->INJN': 387, 'YUL9->INJO': 388, 'YUL9->INJR': 389, 'YUL9->INMN': 390, 'YUL9->INPI': 391, 'YUL9->INQC': 392, 'YUL9->INRI': 393, 'YUL9->INRM': 394, 'YUL9->INSH': 395, 'YUL9->INSY': 396, 'YUL9->INTO': 397, 'YUL9->INTR': 398, 'YUL9->INVF': 399, 'YUL9->YHM1': 400, 'YUL9->YOW1': 401, 'YVR2->CYVR': 402, 'YVR2->DVC4': 403, 'YVR2->DVC6': 404, 'YVR2->DVV5': 405, 'YVR2->DVY7': 406, 'YVR2->DYV1': 407, 'YVR2->INKE': 408, 'YVR2->YEG1': 409, 'YVR2->YEG2': 410, 'YVR2->YHM1': 411, 'YVR2->YVR3': 412, 'YVR2->YVR4': 413, 'YVR2->YVR7': 414, 'YVR2->YXX2': 415, 'YVR2->YYC1': 416, 'YVR2->YYC4': 417, 'YVR2->YYC5': 418, 'YVR2->YYZ4': 419, 'YVR2->YYZ7': 420, 'YVR3->DVC4': 421, 'YVR3->DVC6': 422, 'YVR3->DVV5': 423, 'YVR3->DVY7': 424, 'YVR3->DYV1': 425, 'YVR3->XCAB': 426, 'YVR3->YVR4': 427, 'YVR3->YVR7': 428, 'YVR3->YYC1': 429, 'YVR3->YYC5': 430, 'YVR3->YYC6': 431, 'YVR3->YYZ1': 432, 'YVR3->YYZ9': 433, 'YVR4->BWTR': 434, 'YVR4->BWV1': 435, 'YVR4->CYVR': 436, 'YVR4->DVC4': 437, 'YVR4->DVC6': 438, 'YVR4->DVV2': 439, 'YVR4->DVV5': 440, 'YVR4->DVY7': 441, 'YVR4->DYV1': 442, 'YVR4->INKE': 443, 'YVR4->INKM': 444, 'YVR4->INSR': 445, 'YVR4->INVI': 446, 'YVR4->INVN': 447, 'YVR4->YEG1': 448, 'YVR4->YEG2': 449, 'YVR4->YHM1': 450, 'YVR4->YOW3': 451, 'YVR4->YVR2': 452, 'YVR4->YVR3': 453, 'YVR4->YVR7': 454, 'YVR4->YXU1': 455, 'YVR4->YXX2': 456, 'YVR4->YYC1': 457, 'YVR4->YYC4': 458, 'YVR4->YYC5': 459, 'YVR4->YYZ4': 460, 'YVR7->BWTR': 461, 'YVR7->BWV1': 462, 'YVR7->BWVN': 463, 'YVR7->CYVR': 464, 'YVR7->DVC4': 465, 'YVR7->DVC6': 466, 'YVR7->DVV2': 467, 'YVR7->DVV5': 468, 'YVR7->DVY7': 469, 'YVR7->DYV1': 470, 'YVR7->HYV1': 471, 'YVR7->INKE': 472, 'YVR7->INKM': 473, 'YVR7->INNA': 474, 'YVR7->INPR': 475, 'YVR7->INSR': 476, 'YVR7->INVI': 477, 'YVR7->INVN': 478, 'YVR7->YVR3': 479, 'YVR7->YXX2': 480, 'YVR7->YYC5': 481, 'YXU1->BNMC': 482, 'YXU1->CYHM': 483, 'YXU1->DLC1': 484, 'YXU1->DLC4': 485, 'YXU1->DOI2': 486, 'YXU1->DOI5': 487, 'YXU1->DOI6': 488, 'YXU1->DON3': 489, 'YXU1->DON8': 490, 'YXU1->DON9': 491, 'YXU1->DTO1': 492, 'YXU1->DTO5': 493, 'YXU1->DTY4': 494, 'YXU1->DTY7': 495, 'YXU1->DXT2': 496, 'YXU1->DXT4': 497, 'YXU1->DXT5': 498, 'YXU1->DXT6': 499, 'YXU1->DXT8': 500, 'YXU1->DYT6': 501, 'YXU1->INBT': 502, 'YXU1->INKT': 503, 'YXU1->INLN': 504, 'YXU1->INMS': 505, 'YXU1->INNG': 506, 'YXU1->INSG': 507, 'YXU1->SLWD': 508, 'YXU1->YEG2': 509, 'YXU1->YHM1': 510, 'YXU1->YHM5': 511, 'YXU1->YHM6': 512, 'YXU1->YOO1': 513, 'YXU1->YOW1': 514, 'YXU1->YOW3': 515, 'YXU1->YUL2': 516, 'YXU1->YUL5': 517, 'YXU1->YUL9': 518, 'YXU1->YYZ1': 519, 'YXU1->YYZ4': 520, 'YXU1->YYZ7': 521, 'YXX2->BWTR': 522, 'YXX2->BWV1': 523, 'YXX2->CYVR': 524, 'YXX2->DVC4': 525, 'YXX2->DVC6': 526, 'YXX2->DVV2': 527, 'YXX2->DVV5': 528, 'YXX2->DVY7': 529, 'YXX2->DYV1': 530, 'YXX2->INKE': 531, 'YXX2->INKM': 532, 'YXX2->INVI': 533, 'YXX2->INVN': 534, 'YXX2->YEG2': 535, 'YXX2->YOW3': 536, 'YXX2->YVR2': 537, 'YXX2->YVR3': 538, 'YXX2->YVR4': 539, 'YXX2->YVR7': 540, 'YXX2->YYC1': 541, 'YXX2->YYC4': 542, 'YXX2->YYC5': 543, 'YXX2->YYZ7': 544, 'YYC1->CYYC': 545, 'YYC1->DCG4': 546, 'YYC1->DYB2': 547, 'YYC1->DYB3': 548, 'YYC1->INCL': 549, 'YYC1->INED': 550, 'YYC1->YEG1': 551, 'YYC1->YEG2': 552, 'YYC1->YVR2': 553, 'YYC1->YVR3': 554, 'YYC1->YVR7': 555, 'YYC1->YXU1': 556, 'YYC1->YXX2': 557, 'YYC1->YYC4': 558, 'YYC1->YYC5': 559, 'YYC1->YYC6': 560, 'YYC1->YYZ1': 561, 'YYC1->YYZ7': 562, 'YYC4->BWC1': 563, 'YYC4->CYYC': 564, 'YYC4->DCG4': 565, 'YYC4->DMW2': 566, 'YYC4->DYB2': 567, 'YYC4->DYB3': 568, 'YYC4->INCL': 569, 'YYC4->INED': 570, 'YYC4->INRG': 571, 'YYC4->INSK': 572, 'YYC4->YEG1': 573, 'YYC4->YHM1': 574, 'YYC4->YOW3': 575, 'YYC4->YVR2': 576, 'YYC4->YVR4': 577, 'YYC4->YVR7': 578, 'YYC4->YXX2': 579, 'YYC4->YYC1': 580, 'YYC4->YYC5': 581, 'YYC4->YYZ1': 582, 'YYC4->YYZ7': 583, 'YYC5->BWC1': 584, 'YYC5->CP-CALG': 585, 'YYC5->DCG4': 586, 'YYC5->DMW2': 587, 'YYC5->DYB2': 588, 'YYC5->DYB3': 589, 'YYC5->HYE1': 590, 'YYC5->INCL': 591, 'YYC5->INED': 592, 'YYC5->INFM': 593, 'YYC5->INGR': 594, 'YYC5->INKE': 595, 'YYC5->INKM': 596, 'YYC5->INLB': 597, 'YYC5->INME': 598, 'YYC5->INRD': 599, 'YYC5->INRG': 600, 'YYC5->INSK': 601, 'YYC5->INVN': 602, 'YYC5->INWI': 603, 'YYC5->SLWG': 604, 'YYC5->YEG1': 605, 'YYC5->YEG2': 606, 'YYC5->YHM5': 607, 'YYC5->YHM6': 608, 'YYC5->YUL5': 609, 'YYC5->YUL9': 610, 'YYC5->YVR7': 611, 'YYC6->HYC1': 612, 'YYC6->HYE1': 613, 'YYC6->HYV1': 614, 'YYC6->XCAB': 615, 'YYC6->YEG1': 616, 'YYC6->YGK1': 617, 'YYC6->YVR7': 618, 'YYC6->YYC5': 619, 'YYZ1->XCAB': 620, 'YYZ1->YEG2': 621, 'YYZ1->YHM1': 622, 'YYZ1->YHM5': 623, 'YYZ1->YHM6': 624, 'YYZ1->YOO1': 625, 'YYZ1->YOW1': 626, 'YYZ1->YOW3': 627, 'YYZ1->YUL5': 628, 'YYZ1->YVR2': 629, 'YYZ1->YYC1': 630, 'YYZ1->YYZ3': 631, 'YYZ1->YYZ9': 632, 'YYZ3->CYHM': 633, 'YYZ3->DON9': 634, 'YYZ3->DTO5': 635, 'YYZ3->DTY4': 636, 'YYZ3->DXT2': 637, 'YYZ3->HYZ1': 638, 'YYZ3->HYZ2': 639, 'YYZ3->YEG1': 640, 'YYZ3->YHM5': 641, 'YYZ3->YHM6': 642, 'YYZ3->YOO1': 643, 'YYZ3->YOW1': 644, 'YYZ3->YUL5': 645, 'YYZ3->YUL9': 646, 'YYZ3->YYZ7': 647, 'YYZ4->BNMC': 648, 'YYZ4->BNW1': 649, 'YYZ4->CYHM': 650, 'YYZ4->DLC1': 651, 'YYZ4->DLC4': 652, 'YYZ4->DOI2': 653, 'YYZ4->DOI3': 654, 'YYZ4->DOI5': 655, 'YYZ4->DON3': 656, 'YYZ4->DON8': 657, 'YYZ4->DON9': 658, 'YYZ4->DTO1': 659, 'YYZ4->DTO3': 660, 'YYZ4->DTO5': 661, 'YYZ4->DTY4': 662, 'YYZ4->DXT2': 663, 'YYZ4->DXT4': 664, 'YYZ4->DXT5': 665, 'YYZ4->DXT6': 666, 'YYZ4->DYH1': 667, 'YYZ4->DYT4': 668, 'YYZ4->DYT6': 669, 'YYZ4->INGA': 670, 'YYZ4->INKT': 671, 'YYZ4->INMN': 672, 'YYZ4->INMS': 673, 'YYZ4->INOT': 674, 'YYZ4->INRI': 675, 'YYZ4->INSB': 676, 'YYZ4->INSH': 677, 'YYZ4->INST': 678, 'YYZ4->INTR': 679, 'YYZ4->SLBA': 680, 'YYZ4->SLOR': 681, 'YYZ4->SLWD': 682, 'YYZ4->YEG2': 683, 'YYZ4->YHM1': 684, 'YYZ4->YHM5': 685, 'YYZ4->YHM6': 686, 'YYZ4->YOO1': 687, 'YYZ4->YOW3': 688, 'YYZ4->YUL2': 689, 'YYZ4->YUL5': 690, 'YYZ4->YUL9': 691, 'YYZ4->YVR4': 692, 'YYZ4->YXU1': 693, 'YYZ4->YXX2': 694, 'YYZ4->YYC4': 695, 'YYZ4->YYZ7': 696, 'YYZ7->CYHM': 697, 'YYZ7->DLC1': 698, 'YYZ7->DLC4': 699, 'YYZ7->DOI3': 700, 'YYZ7->DON3': 701, 'YYZ7->DON8': 702, 'YYZ7->DON9': 703, 'YYZ7->DTO1': 704, 'YYZ7->DTO5': 705, 'YYZ7->DTY4': 706, 'YYZ7->DXT2': 707, 'YYZ7->DYT6': 708, 'YYZ7->INBT': 709, 'YYZ7->SLBA': 710, 'YYZ7->SLWD': 711, 'YYZ7->YEG2': 712, 'YYZ7->YHM1': 713, 'YYZ7->YHM5': 714, 'YYZ7->YHM6': 715, 'YYZ7->YOW3': 716, 'YYZ7->YTZ1': 717, 'YYZ7->YUL2': 718, 'YYZ7->YUL5': 719, 'YYZ7->YUL9': 720, 'YYZ7->YVR2': 721, 'YYZ7->YXU1': 722, 'YYZ7->YYC4': 723, 'YYZ7->YYZ1': 724, 'YYZ7->YYZ4': 725, 'YYZ7->YYZ9': 726, 'YYZ9->CYHM': 727, 'YYZ9->DLC1': 728, 'YYZ9->DLC4': 729, 'YYZ9->DOI2': 730, 'YYZ9->DOI3': 731, 'YYZ9->DOI6': 732, 'YYZ9->DON3': 733, 'YYZ9->DON8': 734, 'YYZ9->DON9': 735, 'YYZ9->DTO5': 736, 'YYZ9->DTY4': 737, 'YYZ9->DTY7': 738, 'YYZ9->DXT2': 739, 'YYZ9->DXT8': 740, 'YYZ9->DYT6': 741, 'YYZ9->HYZ1': 742, 'YYZ9->HYZ2': 743, 'YYZ9->INON': 744, 'YYZ9->INSG': 745, 'YYZ9->SLOK': 746, 'YYZ9->XCAB': 747, 'YYZ9->YEG1': 748, 'YYZ9->YHM5': 749, 'YYZ9->YHM6': 750, 'YYZ9->YOO1': 751, 'YYZ9->YOW1': 752, 'YYZ9->YUL5': 753, 'YYZ9->YUL9': 754, 'YYZ9->YYZ1': 755, 'YYZ9->YYZ3': 756, 'YYZ9->YYZ4': 757, 'YYZ9->YYZ7': 758}\n"
     ]
    }
   ],
   "source": [
    "# Create a 4th column in lane_df to map the lane to a number\n",
    "lane_df['lane_num'] = range(1, len(lane_df)+1)\n",
    "print(lane_df.head())\n",
    "# Create a mapping dictionary for the lane column\n",
    "lane_map = lane_df['lane_num'].to_dict()\n",
    "print(lane_map)"
   ]
  },
  {
   "cell_type": "code",
   "execution_count": 612,
   "metadata": {},
   "outputs": [
    {
     "data": {
      "text/html": [
       "<div>\n",
       "<style scoped>\n",
       "    .dataframe tbody tr th:only-of-type {\n",
       "        vertical-align: middle;\n",
       "    }\n",
       "\n",
       "    .dataframe tbody tr th {\n",
       "        vertical-align: top;\n",
       "    }\n",
       "\n",
       "    .dataframe thead th {\n",
       "        text-align: right;\n",
       "    }\n",
       "</style>\n",
       "<table border=\"1\" class=\"dataframe\">\n",
       "  <thead>\n",
       "    <tr style=\"text-align: right;\">\n",
       "      <th></th>\n",
       "      <th>rpt_wk</th>\n",
       "      <th>rpt_mon</th>\n",
       "      <th>lane</th>\n",
       "      <th>scheduled_transit_hours</th>\n",
       "      <th>vls_transit_hours_actual</th>\n",
       "      <th>transit_hours_actual</th>\n",
       "      <th>depart_hour_local</th>\n",
       "      <th>arrived_early_minutes</th>\n",
       "      <th>xirgo_suspicious_data</th>\n",
       "      <th>miles</th>\n",
       "      <th>...</th>\n",
       "      <th>destination_type_QUICK DEPLOY</th>\n",
       "      <th>destination_type_SORT</th>\n",
       "      <th>destination_type_SORT AR</th>\n",
       "      <th>destination_type_SORT CENTER</th>\n",
       "      <th>destination_type_SORTABLE AR</th>\n",
       "      <th>destination_type_Specialty</th>\n",
       "      <th>destination_type_Unknown</th>\n",
       "      <th>ln_avg_hrs</th>\n",
       "      <th>ln_avg_gdp</th>\n",
       "      <th>lane_num</th>\n",
       "    </tr>\n",
       "  </thead>\n",
       "  <tbody>\n",
       "    <tr>\n",
       "      <th>0</th>\n",
       "      <td>5</td>\n",
       "      <td>2</td>\n",
       "      <td>CYVR-&gt;DVV5</td>\n",
       "      <td>0.63</td>\n",
       "      <td>0.5000</td>\n",
       "      <td>0.5000</td>\n",
       "      <td>2</td>\n",
       "      <td>-72</td>\n",
       "      <td>0.0</td>\n",
       "      <td>8</td>\n",
       "      <td>...</td>\n",
       "      <td>False</td>\n",
       "      <td>False</td>\n",
       "      <td>False</td>\n",
       "      <td>False</td>\n",
       "      <td>False</td>\n",
       "      <td>False</td>\n",
       "      <td>False</td>\n",
       "      <td>0.627196</td>\n",
       "      <td>1.872274</td>\n",
       "      <td>16</td>\n",
       "    </tr>\n",
       "    <tr>\n",
       "      <th>1</th>\n",
       "      <td>5</td>\n",
       "      <td>2</td>\n",
       "      <td>YVR4-&gt;YVR2</td>\n",
       "      <td>0.61</td>\n",
       "      <td>0.3833</td>\n",
       "      <td>0.3833</td>\n",
       "      <td>10</td>\n",
       "      <td>-93</td>\n",
       "      <td>0.0</td>\n",
       "      <td>16</td>\n",
       "      <td>...</td>\n",
       "      <td>False</td>\n",
       "      <td>True</td>\n",
       "      <td>False</td>\n",
       "      <td>False</td>\n",
       "      <td>False</td>\n",
       "      <td>False</td>\n",
       "      <td>False</td>\n",
       "      <td>2.456195</td>\n",
       "      <td>0.000000</td>\n",
       "      <td>452</td>\n",
       "    </tr>\n",
       "    <tr>\n",
       "      <th>2</th>\n",
       "      <td>5</td>\n",
       "      <td>2</td>\n",
       "      <td>YUL2-&gt;YUL5</td>\n",
       "      <td>0.91</td>\n",
       "      <td>1.0000</td>\n",
       "      <td>1.0000</td>\n",
       "      <td>14</td>\n",
       "      <td>-15</td>\n",
       "      <td>0.0</td>\n",
       "      <td>23</td>\n",
       "      <td>...</td>\n",
       "      <td>False</td>\n",
       "      <td>False</td>\n",
       "      <td>False</td>\n",
       "      <td>True</td>\n",
       "      <td>False</td>\n",
       "      <td>False</td>\n",
       "      <td>False</td>\n",
       "      <td>0.844533</td>\n",
       "      <td>26.070093</td>\n",
       "      <td>354</td>\n",
       "    </tr>\n",
       "    <tr>\n",
       "      <th>3</th>\n",
       "      <td>5</td>\n",
       "      <td>2</td>\n",
       "      <td>YHM6-&gt;YVR7</td>\n",
       "      <td>81.50</td>\n",
       "      <td>60.0333</td>\n",
       "      <td>60.0333</td>\n",
       "      <td>23</td>\n",
       "      <td>-1339</td>\n",
       "      <td>0.0</td>\n",
       "      <td>2676</td>\n",
       "      <td>...</td>\n",
       "      <td>False</td>\n",
       "      <td>False</td>\n",
       "      <td>False</td>\n",
       "      <td>True</td>\n",
       "      <td>False</td>\n",
       "      <td>False</td>\n",
       "      <td>False</td>\n",
       "      <td>80.157727</td>\n",
       "      <td>77.507273</td>\n",
       "      <td>234</td>\n",
       "    </tr>\n",
       "    <tr>\n",
       "      <th>4</th>\n",
       "      <td>5</td>\n",
       "      <td>2</td>\n",
       "      <td>YHM5-&gt;INBT</td>\n",
       "      <td>1.50</td>\n",
       "      <td>1.1833</td>\n",
       "      <td>1.1670</td>\n",
       "      <td>0</td>\n",
       "      <td>-72</td>\n",
       "      <td>0.0</td>\n",
       "      <td>54</td>\n",
       "      <td>...</td>\n",
       "      <td>False</td>\n",
       "      <td>False</td>\n",
       "      <td>False</td>\n",
       "      <td>False</td>\n",
       "      <td>False</td>\n",
       "      <td>False</td>\n",
       "      <td>True</td>\n",
       "      <td>1.552146</td>\n",
       "      <td>6.432950</td>\n",
       "      <td>186</td>\n",
       "    </tr>\n",
       "  </tbody>\n",
       "</table>\n",
       "<p>5 rows × 81 columns</p>\n",
       "</div>"
      ],
      "text/plain": [
       "   rpt_wk  rpt_mon        lane  scheduled_transit_hours  \\\n",
       "0       5        2  CYVR->DVV5                     0.63   \n",
       "1       5        2  YVR4->YVR2                     0.61   \n",
       "2       5        2  YUL2->YUL5                     0.91   \n",
       "3       5        2  YHM6->YVR7                    81.50   \n",
       "4       5        2  YHM5->INBT                     1.50   \n",
       "\n",
       "   vls_transit_hours_actual  transit_hours_actual  depart_hour_local  \\\n",
       "0                    0.5000                0.5000                  2   \n",
       "1                    0.3833                0.3833                 10   \n",
       "2                    1.0000                1.0000                 14   \n",
       "3                   60.0333               60.0333                 23   \n",
       "4                    1.1833                1.1670                  0   \n",
       "\n",
       "   arrived_early_minutes  xirgo_suspicious_data  miles  ...  \\\n",
       "0                    -72                    0.0      8  ...   \n",
       "1                    -93                    0.0     16  ...   \n",
       "2                    -15                    0.0     23  ...   \n",
       "3                  -1339                    0.0   2676  ...   \n",
       "4                    -72                    0.0     54  ...   \n",
       "\n",
       "   destination_type_QUICK DEPLOY  destination_type_SORT  \\\n",
       "0                          False                  False   \n",
       "1                          False                   True   \n",
       "2                          False                  False   \n",
       "3                          False                  False   \n",
       "4                          False                  False   \n",
       "\n",
       "   destination_type_SORT AR  destination_type_SORT CENTER  \\\n",
       "0                     False                         False   \n",
       "1                     False                         False   \n",
       "2                     False                          True   \n",
       "3                     False                          True   \n",
       "4                     False                         False   \n",
       "\n",
       "   destination_type_SORTABLE AR  destination_type_Specialty  \\\n",
       "0                         False                       False   \n",
       "1                         False                       False   \n",
       "2                         False                       False   \n",
       "3                         False                       False   \n",
       "4                         False                       False   \n",
       "\n",
       "   destination_type_Unknown ln_avg_hrs  ln_avg_gdp  lane_num  \n",
       "0                     False   0.627196    1.872274        16  \n",
       "1                     False   2.456195    0.000000       452  \n",
       "2                     False   0.844533   26.070093       354  \n",
       "3                     False  80.157727   77.507273       234  \n",
       "4                      True   1.552146    6.432950       186  \n",
       "\n",
       "[5 rows x 81 columns]"
      ]
     },
     "execution_count": 612,
     "metadata": {},
     "output_type": "execute_result"
    }
   ],
   "source": [
    "# Append data with the lane_num column\n",
    "data = data.merge(lane_df, on='lane', how='left')\n",
    "data.head()"
   ]
  },
  {
   "cell_type": "markdown",
   "metadata": {},
   "source": [
    "# Below here to the 'Linear Regression' section is a tangent. Please move to # 4. Linear Regression"
   ]
  },
  {
   "cell_type": "code",
   "execution_count": 613,
   "metadata": {},
   "outputs": [],
   "source": [
    "# Ignore: personal notes:\n",
    "# Note to look at: created_by and transform into something useful. --Skip since this is taking longer than planned to complete.\n",
    "# On the backend data side the scheduled and actual time columns are already adjusted for timezone.\n",
    "# Alt for one hot columns is feature encoding which replaces each category with the frequency of that category, can't use label encoding as it requires a sequential order."
   ]
  },
  {
   "cell_type": "markdown",
   "metadata": {},
   "source": [
    "A key aspect will be to determine the what lanes have transit time changes and compare relative package misses.  We can do this by splitting the times on a lane into quartiles and measure the difference in package misses. Q1 will be the shortest transit times scheduled and Q4 will be the top 25% of longest scheduled transit times.  \n",
    "\n",
    "From Q4 and Q1: will be the largest change \n",
    "\n",
    "From Q3 to Q1: will be the medium changes\n",
    "\n",
    "From Q2 to Q1: will be slight changes\n",
    "\n",
    "Then determine and compare the averages between quartiles and use regression models to make predictions and chart the degradation trendline.  "
   ]
  },
  {
   "cell_type": "code",
   "execution_count": 614,
   "metadata": {},
   "outputs": [
    {
     "data": {
      "text/plain": [
       "758"
      ]
     },
     "execution_count": 614,
     "metadata": {},
     "output_type": "execute_result"
    }
   ],
   "source": [
    "# Check to see how many unique lanes we have\n",
    "data['lane'].nunique()"
   ]
  },
  {
   "cell_type": "code",
   "execution_count": 615,
   "metadata": {},
   "outputs": [
    {
     "name": "stdout",
     "output_type": "stream",
     "text": [
      "549\n",
      "(230395, 81)\n"
     ]
    }
   ],
   "source": [
    "# Let's reduce our data size by creating a new variable filtering out low volume lanes.\n",
    "# ~ is the not operator in python which equates to NOT in low_volume_lanes\n",
    "low_volume_lanes = data['lane'].value_counts()[data['lane'].value_counts() < 50].index\n",
    "filtered_data = data[~data['lane'].isin(low_volume_lanes)]\n",
    "filtered_data['lane'].value_counts()\n",
    "print(filtered_data['lane'].nunique())\n",
    "print(filtered_data.shape)"
   ]
  },
  {
   "cell_type": "markdown",
   "metadata": {},
   "source": [
    "Now we have 2 data sets to progress on, start with filtered_data and if the results come to large we can shift to filtered_data2. "
   ]
  },
  {
   "cell_type": "markdown",
   "metadata": {},
   "source": [
    "Calculate the quartiles on a per lane basis. We'll group the rows associated with the respective 503 unique lanes then order their scheduled times and break them down into quartiles.  There may be many with duplicates and repeating values across quartiles so we'll need to remove any lanes that have very similar scheduled times across quartiles.  \n",
    "\n",
    "Then aggregate the global_dea_pkgs and measure the difference.  "
   ]
  },
  {
   "cell_type": "code",
   "execution_count": 616,
   "metadata": {},
   "outputs": [
    {
     "name": "stdout",
     "output_type": "stream",
     "text": [
      "lane\n",
      "CYHM->DON3      0.000902\n",
      "CYHM->INMS      0.032403\n",
      "CYHM->YHM5      0.014816\n",
      "CYHM->YHM6      0.177631\n",
      "CYHM->YUL5      1.040735\n",
      "                 ...    \n",
      "YYZ9->YOO1      0.172348\n",
      "YYZ9->YOW1    179.451063\n",
      "YYZ9->YUL5      0.076412\n",
      "YYZ9->YUL9      0.079750\n",
      "YYZ9->YYZ4      0.112392\n",
      "Name: scheduled_transit_hours, Length: 549, dtype: float64\n",
      "count    549.000000\n",
      "mean      16.677698\n",
      "std       82.265199\n",
      "min        0.000000\n",
      "25%        0.005211\n",
      "50%        0.024157\n",
      "75%        0.252660\n",
      "max      940.301393\n",
      "Name: scheduled_transit_hours, dtype: float64\n",
      "(230395, 81)\n"
     ]
    }
   ],
   "source": [
    "# Start by filtering out of the filtered_data the lanes with minimal variance in the scheduled_transit_hours.\n",
    "# We'll use the variance to filter out the lanes with the least amount of variance.\n",
    "lane_variance = filtered_data.groupby('lane')['scheduled_transit_hours'].var()\n",
    "print(lane_variance)\n",
    "print(lane_variance.describe())\n",
    "print(filtered_data.shape)\n"
   ]
  },
  {
   "cell_type": "markdown",
   "metadata": {},
   "source": [
    "It seems we have a very low varience in the scheduled_transit_hours for the lanes due to the high volume of loads.  We can try to filter out the lanes with the lowest variance and see how that affects the model. Additionally, Ridge and Lasso regression models can be used to help reduce the impact of multicollinearity in the data."
   ]
  },
  {
   "cell_type": "code",
   "execution_count": 617,
   "metadata": {},
   "outputs": [
    {
     "name": "stdout",
     "output_type": "stream",
     "text": [
      "274\n"
     ]
    }
   ],
   "source": [
    "# Lets only target high variance lanes, we'll use the 50th percentile as the cutoff.\n",
    "high_variance_lanes = lane_variance[lane_variance > lane_variance.quantile(0.5)].index\n",
    "var_filtered_data = filtered_data[filtered_data['lane'].isin(high_variance_lanes)]\n",
    "print(var_filtered_data['lane'].nunique())"
   ]
  },
  {
   "cell_type": "code",
   "execution_count": 618,
   "metadata": {},
   "outputs": [
    {
     "name": "stdout",
     "output_type": "stream",
     "text": [
      "(106081, 81)\n"
     ]
    }
   ],
   "source": [
    "print(var_filtered_data.shape)"
   ]
  },
  {
   "cell_type": "markdown",
   "metadata": {},
   "source": [
    "This did a good job of cutting down on the data.  Down from ~ 225k rows. "
   ]
  },
  {
   "cell_type": "code",
   "execution_count": 619,
   "metadata": {},
   "outputs": [
    {
     "data": {
      "text/plain": [
       "(106081, 3)"
      ]
     },
     "execution_count": 619,
     "metadata": {},
     "output_type": "execute_result"
    }
   ],
   "source": [
    "# Now we will create a lane_df2 with the lanes and scheduled_transit_hours and global_dea_pkgs listed sequentially and assign a quartile is each of the rows.\n",
    "lane_df2 = var_filtered_data[['lane', 'scheduled_transit_hours', 'global_dea_pkgs']]\n",
    "lane_df2.columns = ['lane', 'hours', 'dea']\n",
    "lane_df2 = lane_df2.sort_values(['lane', 'hours'])\n",
    "lane_df2.shape"
   ]
  },
  {
   "cell_type": "markdown",
   "metadata": {},
   "source": [
    "Splitting into the tangent even harder. "
   ]
  },
  {
   "cell_type": "code",
   "execution_count": 620,
   "metadata": {},
   "outputs": [
    {
     "name": "stdout",
     "output_type": "stream",
     "text": [
      "             lane  hours    dea\n",
      "1955   CYHM->INMS   1.03   43.0\n",
      "5527   CYHM->INMS   1.03  152.0\n",
      "5922   CYHM->INMS   1.03   74.0\n",
      "7507   CYHM->INMS   1.03   27.0\n",
      "14807  CYHM->INMS   1.03   49.0\n",
      "(106081, 3)\n"
     ]
    }
   ],
   "source": [
    "print(lane_df2.head())\n",
    "print(lane_df2.shape)"
   ]
  },
  {
   "cell_type": "code",
   "execution_count": 621,
   "metadata": {},
   "outputs": [
    {
     "data": {
      "text/html": [
       "<div>\n",
       "<style scoped>\n",
       "    .dataframe tbody tr th:only-of-type {\n",
       "        vertical-align: middle;\n",
       "    }\n",
       "\n",
       "    .dataframe tbody tr th {\n",
       "        vertical-align: top;\n",
       "    }\n",
       "\n",
       "    .dataframe thead th {\n",
       "        text-align: right;\n",
       "    }\n",
       "</style>\n",
       "<table border=\"1\" class=\"dataframe\">\n",
       "  <thead>\n",
       "    <tr style=\"text-align: right;\">\n",
       "      <th></th>\n",
       "      <th>lane</th>\n",
       "      <th>hours</th>\n",
       "      <th>dea</th>\n",
       "      <th>hours_rank</th>\n",
       "      <th>lane_count</th>\n",
       "    </tr>\n",
       "  </thead>\n",
       "  <tbody>\n",
       "    <tr>\n",
       "      <th>1955</th>\n",
       "      <td>CYHM-&gt;INMS</td>\n",
       "      <td>1.03</td>\n",
       "      <td>43.0</td>\n",
       "      <td>1.0</td>\n",
       "      <td>208.0</td>\n",
       "    </tr>\n",
       "    <tr>\n",
       "      <th>5527</th>\n",
       "      <td>CYHM-&gt;INMS</td>\n",
       "      <td>1.03</td>\n",
       "      <td>152.0</td>\n",
       "      <td>2.0</td>\n",
       "      <td>208.0</td>\n",
       "    </tr>\n",
       "    <tr>\n",
       "      <th>5922</th>\n",
       "      <td>CYHM-&gt;INMS</td>\n",
       "      <td>1.03</td>\n",
       "      <td>74.0</td>\n",
       "      <td>3.0</td>\n",
       "      <td>208.0</td>\n",
       "    </tr>\n",
       "    <tr>\n",
       "      <th>7507</th>\n",
       "      <td>CYHM-&gt;INMS</td>\n",
       "      <td>1.03</td>\n",
       "      <td>27.0</td>\n",
       "      <td>4.0</td>\n",
       "      <td>208.0</td>\n",
       "    </tr>\n",
       "    <tr>\n",
       "      <th>14807</th>\n",
       "      <td>CYHM-&gt;INMS</td>\n",
       "      <td>1.03</td>\n",
       "      <td>49.0</td>\n",
       "      <td>5.0</td>\n",
       "      <td>208.0</td>\n",
       "    </tr>\n",
       "  </tbody>\n",
       "</table>\n",
       "</div>"
      ],
      "text/plain": [
       "             lane  hours    dea  hours_rank  lane_count\n",
       "1955   CYHM->INMS   1.03   43.0         1.0       208.0\n",
       "5527   CYHM->INMS   1.03  152.0         2.0       208.0\n",
       "5922   CYHM->INMS   1.03   74.0         3.0       208.0\n",
       "7507   CYHM->INMS   1.03   27.0         4.0       208.0\n",
       "14807  CYHM->INMS   1.03   49.0         5.0       208.0"
      ]
     },
     "execution_count": 621,
     "metadata": {},
     "output_type": "execute_result"
    }
   ],
   "source": [
    "# Rank the scheduled transit hours within each lane\n",
    "lane_df2['hours_rank'] = lane_df2.groupby('lane')['hours'].rank(method='first')\n",
    "#Calculate the total number of records per lane\n",
    "lane_df2['lane_count'] = lane_df2.groupby('lane')['hours_rank'].transform('max')\n",
    "lane_df2.head()"
   ]
  },
  {
   "cell_type": "code",
   "execution_count": 622,
   "metadata": {},
   "outputs": [
    {
     "data": {
      "text/html": [
       "<div>\n",
       "<style scoped>\n",
       "    .dataframe tbody tr th:only-of-type {\n",
       "        vertical-align: middle;\n",
       "    }\n",
       "\n",
       "    .dataframe tbody tr th {\n",
       "        vertical-align: top;\n",
       "    }\n",
       "\n",
       "    .dataframe thead th {\n",
       "        text-align: right;\n",
       "    }\n",
       "</style>\n",
       "<table border=\"1\" class=\"dataframe\">\n",
       "  <thead>\n",
       "    <tr style=\"text-align: right;\">\n",
       "      <th></th>\n",
       "      <th>lane</th>\n",
       "      <th>hours</th>\n",
       "      <th>dea</th>\n",
       "      <th>hours_rank</th>\n",
       "      <th>lane_count</th>\n",
       "      <th>quartile</th>\n",
       "    </tr>\n",
       "  </thead>\n",
       "  <tbody>\n",
       "    <tr>\n",
       "      <th>1955</th>\n",
       "      <td>CYHM-&gt;INMS</td>\n",
       "      <td>1.03</td>\n",
       "      <td>43.0</td>\n",
       "      <td>1.0</td>\n",
       "      <td>208.0</td>\n",
       "      <td>Q1</td>\n",
       "    </tr>\n",
       "    <tr>\n",
       "      <th>5527</th>\n",
       "      <td>CYHM-&gt;INMS</td>\n",
       "      <td>1.03</td>\n",
       "      <td>152.0</td>\n",
       "      <td>2.0</td>\n",
       "      <td>208.0</td>\n",
       "      <td>Q1</td>\n",
       "    </tr>\n",
       "    <tr>\n",
       "      <th>5922</th>\n",
       "      <td>CYHM-&gt;INMS</td>\n",
       "      <td>1.03</td>\n",
       "      <td>74.0</td>\n",
       "      <td>3.0</td>\n",
       "      <td>208.0</td>\n",
       "      <td>Q1</td>\n",
       "    </tr>\n",
       "    <tr>\n",
       "      <th>7507</th>\n",
       "      <td>CYHM-&gt;INMS</td>\n",
       "      <td>1.03</td>\n",
       "      <td>27.0</td>\n",
       "      <td>4.0</td>\n",
       "      <td>208.0</td>\n",
       "      <td>Q1</td>\n",
       "    </tr>\n",
       "    <tr>\n",
       "      <th>14807</th>\n",
       "      <td>CYHM-&gt;INMS</td>\n",
       "      <td>1.03</td>\n",
       "      <td>49.0</td>\n",
       "      <td>5.0</td>\n",
       "      <td>208.0</td>\n",
       "      <td>Q1</td>\n",
       "    </tr>\n",
       "  </tbody>\n",
       "</table>\n",
       "</div>"
      ],
      "text/plain": [
       "             lane  hours    dea  hours_rank  lane_count quartile\n",
       "1955   CYHM->INMS   1.03   43.0         1.0       208.0       Q1\n",
       "5527   CYHM->INMS   1.03  152.0         2.0       208.0       Q1\n",
       "5922   CYHM->INMS   1.03   74.0         3.0       208.0       Q1\n",
       "7507   CYHM->INMS   1.03   27.0         4.0       208.0       Q1\n",
       "14807  CYHM->INMS   1.03   49.0         5.0       208.0       Q1"
      ]
     },
     "execution_count": 622,
     "metadata": {},
     "output_type": "execute_result"
    }
   ],
   "source": [
    "# Assign quartiles based on the hours_rank\n",
    "lane_df2['quartile'] = pd.qcut(lane_df2['hours_rank'], 4, labels=['Q1', 'Q2', 'Q3', 'Q4'])\n",
    "lane_df2.head()"
   ]
  },
  {
   "cell_type": "code",
   "execution_count": 623,
   "metadata": {},
   "outputs": [],
   "source": [
    "# Next, let's consolidate rows and group the lane by hours while summing the dea and taking the average of lane_counts\n",
    "lane_df3 = lane_df2.groupby(['lane', 'hours'])[['dea', 'lane_count']].agg({'dea':'sum', 'lane_count':'mean'}).reset_index()"
   ]
  },
  {
   "cell_type": "code",
   "execution_count": 624,
   "metadata": {},
   "outputs": [
    {
     "data": {
      "text/html": [
       "<div>\n",
       "<style scoped>\n",
       "    .dataframe tbody tr th:only-of-type {\n",
       "        vertical-align: middle;\n",
       "    }\n",
       "\n",
       "    .dataframe tbody tr th {\n",
       "        vertical-align: top;\n",
       "    }\n",
       "\n",
       "    .dataframe thead th {\n",
       "        text-align: right;\n",
       "    }\n",
       "</style>\n",
       "<table border=\"1\" class=\"dataframe\">\n",
       "  <thead>\n",
       "    <tr style=\"text-align: right;\">\n",
       "      <th></th>\n",
       "      <th>lane</th>\n",
       "      <th>hours</th>\n",
       "      <th>dea</th>\n",
       "      <th>lane_count</th>\n",
       "    </tr>\n",
       "  </thead>\n",
       "  <tbody>\n",
       "    <tr>\n",
       "      <th>0</th>\n",
       "      <td>CYHM-&gt;INMS</td>\n",
       "      <td>1.03</td>\n",
       "      <td>3290.0</td>\n",
       "      <td>208.0</td>\n",
       "    </tr>\n",
       "    <tr>\n",
       "      <th>1</th>\n",
       "      <td>CYHM-&gt;INMS</td>\n",
       "      <td>1.40</td>\n",
       "      <td>3625.0</td>\n",
       "      <td>208.0</td>\n",
       "    </tr>\n",
       "    <tr>\n",
       "      <th>2</th>\n",
       "      <td>CYHM-&gt;YHM6</td>\n",
       "      <td>2.10</td>\n",
       "      <td>1748.0</td>\n",
       "      <td>977.0</td>\n",
       "    </tr>\n",
       "    <tr>\n",
       "      <th>3</th>\n",
       "      <td>CYHM-&gt;YHM6</td>\n",
       "      <td>2.35</td>\n",
       "      <td>0.0</td>\n",
       "      <td>977.0</td>\n",
       "    </tr>\n",
       "    <tr>\n",
       "      <th>4</th>\n",
       "      <td>CYHM-&gt;YHM6</td>\n",
       "      <td>2.65</td>\n",
       "      <td>663.0</td>\n",
       "      <td>977.0</td>\n",
       "    </tr>\n",
       "  </tbody>\n",
       "</table>\n",
       "</div>"
      ],
      "text/plain": [
       "         lane  hours     dea  lane_count\n",
       "0  CYHM->INMS   1.03  3290.0       208.0\n",
       "1  CYHM->INMS   1.40  3625.0       208.0\n",
       "2  CYHM->YHM6   2.10  1748.0       977.0\n",
       "3  CYHM->YHM6   2.35     0.0       977.0\n",
       "4  CYHM->YHM6   2.65   663.0       977.0"
      ]
     },
     "execution_count": 624,
     "metadata": {},
     "output_type": "execute_result"
    }
   ],
   "source": [
    "lane_df3.head()"
   ]
  },
  {
   "cell_type": "code",
   "execution_count": 625,
   "metadata": {},
   "outputs": [
    {
     "name": "stdout",
     "output_type": "stream",
     "text": [
      "         lane  hours     dea  lane_count  dea_per_lane_count\n",
      "0  CYHM->INMS   1.03  3290.0       208.0           15.817308\n",
      "1  CYHM->INMS   1.40  3625.0       208.0           17.427885\n",
      "2  CYHM->YHM6   2.10  1748.0       977.0            1.789150\n",
      "3  CYHM->YHM6   2.35     0.0       977.0            0.000000\n",
      "4  CYHM->YHM6   2.65   663.0       977.0            0.678608\n",
      "(3381, 5)\n"
     ]
    }
   ],
   "source": [
    "# Then finally for lane_df3 we'll calculate the average dea ler lane_count\n",
    "lane_df3['dea_per_lane_count'] = lane_df3['dea'] / lane_df3['lane_count']\n",
    "print(lane_df3.head())\n",
    "print(lane_df3.shape)\n"
   ]
  },
  {
   "cell_type": "code",
   "execution_count": 626,
   "metadata": {},
   "outputs": [],
   "source": [
    "# Now we re-assign quartiles based on the lane and scheduled_transit_hours\n",
    "lane_df3['quartile'] = lane_df3.groupby('lane')['hours'].transform(lambda x: pd.qcut(x, 4, labels=['Q1', 'Q2', 'Q3', 'Q4']))"
   ]
  },
  {
   "cell_type": "code",
   "execution_count": 627,
   "metadata": {},
   "outputs": [
    {
     "name": "stdout",
     "output_type": "stream",
     "text": [
      "         lane  hours     dea  lane_count  dea_per_lane_count quartile\n",
      "0  CYHM->INMS   1.03  3290.0       208.0           15.817308       Q1\n",
      "1  CYHM->INMS   1.40  3625.0       208.0           17.427885       Q4\n",
      "2  CYHM->YHM6   2.10  1748.0       977.0            1.789150       Q1\n",
      "3  CYHM->YHM6   2.35     0.0       977.0            0.000000       Q1\n",
      "4  CYHM->YHM6   2.65   663.0       977.0            0.678608       Q2\n"
     ]
    }
   ],
   "source": [
    "print(lane_df3.head())"
   ]
  },
  {
   "cell_type": "code",
   "execution_count": 628,
   "metadata": {},
   "outputs": [
    {
     "data": {
      "text/html": [
       "<div>\n",
       "<style scoped>\n",
       "    .dataframe tbody tr th:only-of-type {\n",
       "        vertical-align: middle;\n",
       "    }\n",
       "\n",
       "    .dataframe tbody tr th {\n",
       "        vertical-align: top;\n",
       "    }\n",
       "\n",
       "    .dataframe thead th {\n",
       "        text-align: right;\n",
       "    }\n",
       "</style>\n",
       "<table border=\"1\" class=\"dataframe\">\n",
       "  <thead>\n",
       "    <tr style=\"text-align: right;\">\n",
       "      <th></th>\n",
       "      <th>lane</th>\n",
       "      <th>hours</th>\n",
       "      <th>dea</th>\n",
       "      <th>lane_count</th>\n",
       "      <th>dea_per_lane_count</th>\n",
       "      <th>quartile</th>\n",
       "    </tr>\n",
       "  </thead>\n",
       "  <tbody>\n",
       "    <tr>\n",
       "      <th>0</th>\n",
       "      <td>CYHM-&gt;INMS</td>\n",
       "      <td>1.03</td>\n",
       "      <td>3290.0</td>\n",
       "      <td>208.0</td>\n",
       "      <td>15.817308</td>\n",
       "      <td>Q1</td>\n",
       "    </tr>\n",
       "    <tr>\n",
       "      <th>1</th>\n",
       "      <td>CYHM-&gt;INMS</td>\n",
       "      <td>1.40</td>\n",
       "      <td>3625.0</td>\n",
       "      <td>208.0</td>\n",
       "      <td>17.427885</td>\n",
       "      <td>Q4</td>\n",
       "    </tr>\n",
       "  </tbody>\n",
       "</table>\n",
       "</div>"
      ],
      "text/plain": [
       "         lane  hours     dea  lane_count  dea_per_lane_count quartile\n",
       "0  CYHM->INMS   1.03  3290.0       208.0           15.817308       Q1\n",
       "1  CYHM->INMS   1.40  3625.0       208.0           17.427885       Q4"
      ]
     },
     "execution_count": 628,
     "metadata": {},
     "output_type": "execute_result"
    }
   ],
   "source": [
    "# Check out the results for a specific lane, use 'CYHM->INMS'\n",
    "lane_df3[lane_df3['lane'] == 'CYHM->INMS']"
   ]
  },
  {
   "cell_type": "code",
   "execution_count": 629,
   "metadata": {},
   "outputs": [
    {
     "name": "stdout",
     "output_type": "stream",
     "text": [
      "12.33941605839416\n",
      "quartile\n",
      "Q1    947\n",
      "Q4    884\n",
      "Q2    813\n",
      "Q3    737\n",
      "Name: count, dtype: int64\n"
     ]
    }
   ],
   "source": [
    "# Determine average rows per lane\n",
    "print (lane_df3['lane'].value_counts().mean())\n",
    "\n",
    "# See the distribution of quartile\n",
    "print(lane_df3['quartile'].value_counts())"
   ]
  },
  {
   "cell_type": "code",
   "execution_count": 630,
   "metadata": {},
   "outputs": [
    {
     "data": {
      "text/plain": [
       "{'Q4_Q1': np.float64(-0.4039823187306846),\n",
       " 'Q3_Q1': np.float64(-1.2028177575855281),\n",
       " 'Q2_Q1': np.float64(-0.06763708014360326)}"
      ]
     },
     "execution_count": 630,
     "metadata": {},
     "output_type": "execute_result"
    }
   ],
   "source": [
    "# Calculate the difference in package misses between quartiles\n",
    "Q4_Q1_delta = lane_df3[lane_df3['quartile'] == 'Q4']['dea_per_lane_count'].mean() - lane_df3[lane_df3['quartile'] == 'Q1']['dea_per_lane_count'].mean()\n",
    "Q3_Q1_delta = lane_df3[lane_df3['quartile'] == 'Q3']['dea_per_lane_count'].mean() - lane_df3[lane_df3['quartile'] == 'Q1']['dea_per_lane_count'].mean()\n",
    "Q2_Q1_delta = lane_df3[lane_df3['quartile'] == 'Q2']['dea_per_lane_count'].mean() - lane_df3[lane_df3['quartile'] == 'Q1']['dea_per_lane_count'].mean()\n",
    "\n",
    "# Combine the differences in a dictionary for visualization\n",
    "quartile_delta = {'Q4_Q1': Q4_Q1_delta, 'Q3_Q1': Q3_Q1_delta, 'Q2_Q1': Q2_Q1_delta}\n",
    "quartile_delta"
   ]
  },
  {
   "cell_type": "code",
   "execution_count": 631,
   "metadata": {},
   "outputs": [
    {
     "data": {
      "text/plain": [
       "<Axes: title={'center': 'Average Package Misses per Lane Count by Quartile'}>"
      ]
     },
     "execution_count": 631,
     "metadata": {},
     "output_type": "execute_result"
    },
    {
     "data": {
      "image/png": "[encoded data removed]",
      "text/plain": [
       "<Figure size 640x480 with 1 Axes>"
      ]
     },
     "metadata": {},
     "output_type": "display_data"
    }
   ],
   "source": [
    "# Visualize the quartile differences\n",
    "quartile_delta_df = pd.DataFrame.from_dict(quartile_delta, orient='index', columns=['dea_per_lane_count'])\n",
    "quartile_delta_df.plot(kind='bar', title='Average Package Misses per Lane Count by Quartile')\n"
   ]
  },
  {
   "cell_type": "code",
   "execution_count": 632,
   "metadata": {},
   "outputs": [
    {
     "data": {
      "text/plain": [
       "<Axes: title={'center': 'Average Package Misses per Lane Count by Quartile'}, xlabel='quartile'>"
      ]
     },
     "execution_count": 632,
     "metadata": {},
     "output_type": "execute_result"
    },
    {
     "data": {
      "image/png": "[encoded data removed]",
      "text/plain": [
       "<Figure size 640x480 with 1 Axes>"
      ]
     },
     "metadata": {},
     "output_type": "display_data"
    }
   ],
   "source": [
    "# Now lets just visualize the mean dea per lane count by quartile\n",
    "lane_df3.groupby('quartile')['dea_per_lane_count'].mean().plot(kind='bar', title='Average Package Misses per Lane Count by Quartile')\n"
   ]
  },
  {
   "cell_type": "markdown",
   "metadata": {},
   "source": [
    "# Based on this we can conclude there little correlation between the quartile and the average package misses per lane count.\n",
    "# Lets move on to some linear regression models to see if we can predict the dea_pkgs based on the other columns."
   ]
  },
  {
   "cell_type": "code",
   "execution_count": 633,
   "metadata": {},
   "outputs": [
    {
     "data": {
      "text/html": [
       "<div>\n",
       "<style scoped>\n",
       "    .dataframe tbody tr th:only-of-type {\n",
       "        vertical-align: middle;\n",
       "    }\n",
       "\n",
       "    .dataframe tbody tr th {\n",
       "        vertical-align: top;\n",
       "    }\n",
       "\n",
       "    .dataframe thead th {\n",
       "        text-align: right;\n",
       "    }\n",
       "</style>\n",
       "<table border=\"1\" class=\"dataframe\">\n",
       "  <thead>\n",
       "    <tr style=\"text-align: right;\">\n",
       "      <th>quartile</th>\n",
       "      <th>Q1</th>\n",
       "      <th>Q2</th>\n",
       "      <th>Q3</th>\n",
       "      <th>Q4</th>\n",
       "    </tr>\n",
       "    <tr>\n",
       "      <th>lane</th>\n",
       "      <th></th>\n",
       "      <th></th>\n",
       "      <th></th>\n",
       "      <th></th>\n",
       "    </tr>\n",
       "  </thead>\n",
       "  <tbody>\n",
       "    <tr>\n",
       "      <th>CYHM-&gt;INMS</th>\n",
       "      <td>37.60</td>\n",
       "      <td>29.212963</td>\n",
       "      <td>NaN</td>\n",
       "      <td>NaN</td>\n",
       "    </tr>\n",
       "    <tr>\n",
       "      <th>CYHM-&gt;YHM6</th>\n",
       "      <td>16.67</td>\n",
       "      <td>1.445378</td>\n",
       "      <td>1.083721</td>\n",
       "      <td>7.029466</td>\n",
       "    </tr>\n",
       "    <tr>\n",
       "      <th>CYHM-&gt;YUL5</th>\n",
       "      <td>0.06</td>\n",
       "      <td>0.033613</td>\n",
       "      <td>0.711628</td>\n",
       "      <td>0.634328</td>\n",
       "    </tr>\n",
       "    <tr>\n",
       "      <th>CYVR-&gt;DVC6</th>\n",
       "      <td>1.74</td>\n",
       "      <td>9.084034</td>\n",
       "      <td>1.679070</td>\n",
       "      <td>0.312500</td>\n",
       "    </tr>\n",
       "    <tr>\n",
       "      <th>CYVR-&gt;YVR7</th>\n",
       "      <td>0.25</td>\n",
       "      <td>0.302521</td>\n",
       "      <td>0.348837</td>\n",
       "      <td>0.514628</td>\n",
       "    </tr>\n",
       "  </tbody>\n",
       "</table>\n",
       "</div>"
      ],
      "text/plain": [
       "quartile       Q1         Q2        Q3        Q4\n",
       "lane                                            \n",
       "CYHM->INMS  37.60  29.212963       NaN       NaN\n",
       "CYHM->YHM6  16.67   1.445378  1.083721  7.029466\n",
       "CYHM->YUL5   0.06   0.033613  0.711628  0.634328\n",
       "CYVR->DVC6   1.74   9.084034  1.679070  0.312500\n",
       "CYVR->YVR7   0.25   0.302521  0.348837  0.514628"
      ]
     },
     "execution_count": 633,
     "metadata": {},
     "output_type": "execute_result"
    }
   ],
   "source": [
    "# This was for the old land_df2, useful??\n",
    "\n",
    "# Group by lane and quartile to calculate the sum of DEA misses\n",
    "quartile_summary = lane_df2.groupby(['lane', 'quartile'])['dea'].mean().unstack()\n",
    "quartile_summary.head()"
   ]
  },
  {
   "cell_type": "code",
   "execution_count": 634,
   "metadata": {},
   "outputs": [
    {
     "name": "stdout",
     "output_type": "stream",
     "text": [
      "                     Q4-Q1     Q3-Q2     Q2-Q1\n",
      "global_dea_pkgs  22.125304  3.458304  1.614873\n"
     ]
    }
   ],
   "source": [
    "# Calculate differences in package misses between quartiles\n",
    "Q4_Q1_diff = quartile_pivot.loc['Q4'] - quartile_pivot.loc['Q1']\n",
    "Q3_Q1_diff = quartile_pivot.loc['Q3'] - quartile_pivot.loc['Q2']\n",
    "Q2_Q1_diff = quartile_pivot.loc['Q2'] - quartile_pivot.loc['Q1']\n",
    "\n",
    "# Combine the differences into a new dataframe\n",
    "quartile_diffs = pd.DataFrame({'Q4-Q1': Q4_Q1_diff, 'Q3-Q2': Q3_Q1_diff, 'Q2-Q1': Q2_Q1_diff})\n",
    "print(quartile_diffs)\n"
   ]
  },
  {
   "cell_type": "code",
   "execution_count": 635,
   "metadata": {},
   "outputs": [
    {
     "data": {
      "image/png": "[encoded data removed]",
      "text/plain": [
       "<Figure size 1000x600 with 1 Axes>"
      ]
     },
     "metadata": {},
     "output_type": "display_data"
    }
   ],
   "source": [
    "# Visualize the average package misses for each quartile\n",
    "quartile_pivot.plot(kind='bar', figsize=(10, 6))\n",
    "plt.title('Average Package Misses by Quartile')\n",
    "plt.ylabel('Average Package Misses')\n",
    "plt.xlabel('Quartile')\n",
    "plt.xticks(rotation=0)\n",
    "plt.show()"
   ]
  },
  {
   "cell_type": "markdown",
   "metadata": {},
   "source": [
    "This graph shows that the longest lanes have the largest average package misses per load.  These quartiles are on scheduled hours as a whole whereas the previous chart was nested quartiles of scheduled hours within the unique lanes.  "
   ]
  },
  {
   "cell_type": "markdown",
   "metadata": {},
   "source": [
    "# 4. Linear Regression Models\n"
   ]
  },
  {
   "cell_type": "code",
   "execution_count": 636,
   "metadata": {},
   "outputs": [],
   "source": [
    "# Import the models for the regression analysis\n",
    "from sklearn.model_selection import train_test_split, cross_val_score\n",
    "from sklearn.linear_model import LinearRegression, Ridge, Lasso\n",
    "from sklearn.preprocessing import PolynomialFeatures\n",
    "from sklearn.metrics import mean_squared_error, r2_score"
   ]
  },
  {
   "cell_type": "code",
   "execution_count": 637,
   "metadata": {},
   "outputs": [],
   "source": [
    "# Make our data variable shorter: var_filtered_data -> vf_data\n",
    "vf_data = var_filtered_data"
   ]
  },
  {
   "cell_type": "code",
   "execution_count": 638,
   "metadata": {},
   "outputs": [
    {
     "name": "stdout",
     "output_type": "stream",
     "text": [
      "lane 274\n",
      "scac 531\n"
     ]
    }
   ],
   "source": [
    "# LR model requires all the features to be numeric so we'll have to do additional feature engineering.\n",
    "# Start by looking at the remaining object columns to see if they can be converted to numeric.\n",
    "for column in vf_data.select_dtypes(include='object').columns:\n",
    "    print(column, vf_data[column].nunique())"
   ]
  },
  {
   "cell_type": "code",
   "execution_count": 639,
   "metadata": {},
   "outputs": [],
   "source": [
    "# Since we have lane and scac encoded and mapped we can drop them.\n",
    "vf_data.drop(['lane', 'scac'], axis=1, inplace=True)"
   ]
  },
  {
   "cell_type": "code",
   "execution_count": 640,
   "metadata": {},
   "outputs": [
    {
     "data": {
      "text/plain": [
       "Index(['rpt_wk', 'rpt_mon', 'scheduled_transit_hours',\n",
       "       'vls_transit_hours_actual', 'transit_hours_actual', 'depart_hour_local',\n",
       "       'arrived_early_minutes', 'xirgo_suspicious_data', 'miles',\n",
       "       'mileage_band', 'mph', 'is_tot_min', 'is_tot_30_min',\n",
       "       'under_bias_hours', 'over_bias_hours', 'is_using_tta_time',\n",
       "       'total_pkg_unit_count', 'global_dea_pkgs', 'estimated_cost_accrual',\n",
       "       'transit_operator_type', 'relay_elapsed_in_transit',\n",
       "       'relay_elapsed_stationary', 'relay_transit_hours_actual',\n",
       "       'relay_suspicious_data', 'vls_suspicious_data', 'tta_miles',\n",
       "       'is_cpt_load', 'origin_coordinates', 'dest_coordinates', 'mi_band_max',\n",
       "       'common_lane', 'is_toured', 'scac_target_encoded', 'ln_avg_hrs',\n",
       "       'ln_avg_gdp', 'lane_num'],\n",
       "      dtype='object')"
      ]
     },
     "execution_count": 640,
     "metadata": {},
     "output_type": "execute_result"
    }
   ],
   "source": [
    "# Check out the numeric columns\n",
    "vf_data.select_dtypes(include='number').columns"
   ]
  },
  {
   "cell_type": "code",
   "execution_count": 641,
   "metadata": {},
   "outputs": [],
   "source": [
    "# Drop common_lane since this column only has 1 value and will not help the model.\n",
    "vf_data.drop(['common_lane'], axis=1, inplace=True)"
   ]
  },
  {
   "cell_type": "code",
   "execution_count": 642,
   "metadata": {},
   "outputs": [
    {
     "data": {
      "text/plain": [
       "Series([], dtype: int64)"
      ]
     },
     "execution_count": 642,
     "metadata": {},
     "output_type": "execute_result"
    }
   ],
   "source": [
    "# Make sure we have no nulls in the data\n",
    "vf_data.isnull().sum()[vf_data.isnull().sum() != 0]"
   ]
  },
  {
   "cell_type": "code",
   "execution_count": 643,
   "metadata": {},
   "outputs": [],
   "source": [
    "# Convert boolean columns to numeric (0 or 1)\n",
    "bool_columns = vf_data.select_dtypes(include='bool').columns\n",
    "vf_data[bool_columns] = vf_data[bool_columns].astype(int)\n",
    "\n",
    "# Note this is not needed in RandomForest models but is needed in LR models."
   ]
  },
  {
   "cell_type": "code",
   "execution_count": 644,
   "metadata": {},
   "outputs": [
    {
     "name": "stdout",
     "output_type": "stream",
     "text": [
      "['scheduled_transit_hours', 'transit_hours_actual', 'arrived_early_minutes', 'miles', 'mph', 'under_bias_hours', 'over_bias_hours', 'total_pkg_unit_count', 'estimated_cost_accrual', 'relay_elapsed_in_transit', 'relay_elapsed_stationary', 'relay_transit_hours_actual', 'tta_miles', 'ln_avg_hrs', 'ln_avg_gdp']\n"
     ]
    }
   ],
   "source": [
    "# Determine the categorical columns that need to be converted to numeric and that won't be scaled.\n",
    "target_column = 'global_dea_pkgs'\n",
    "categorical_columns = ['lane_num', 'scac_target_encoded'] # These are currently suitable for a LR model.\n",
    "ordinal_columns = ['mileage_band', 'mi_band_max','rpt_wk','rpt_mon','depart_hour_local']  # These columns are already ordinal so we don't need to convert them.\n",
    "binary_columns = ['origin_coordinates', 'dest_coordinates', 'very_suspicious_data', 'transit_operator_type', 'is_tot_min', 'is_tot_30_min', 'is_toured', 'is_cpt_load', 'is_using_tta_time'] # These columns are already binary so we don't need to convert them.\n",
    "ohe_columns = [col for col in vf_data.columns if 'arc_type' in col or 'origin_type' in col or 'destination_type' in col]\n",
    "feature_columns = ordinal_columns + binary_columns + ohe_columns + categorical_columns\n",
    "ignore_columns = ['vls_suspicious_data', 'relay_suspicious_data', 'xirgo_suspicious_data', 'vls_transit_hours_actual'] # Leave these out for now to reduce the number of features.\n",
    "scale_columns = [col for col in vf_data.columns if col not in feature_columns + [target_column] + ignore_columns]\n",
    "\n",
    "# Check the scale columns\n",
    "print(scale_columns)\n"
   ]
  },
  {
   "cell_type": "code",
   "execution_count": 645,
   "metadata": {},
   "outputs": [],
   "source": [
    "# Normalize the data\n",
    "from sklearn.preprocessing import StandardScaler, MinMaxScaler, MaxAbsScaler\n",
    "scaler = StandardScaler()"
   ]
  },
  {
   "cell_type": "code",
   "execution_count": 646,
   "metadata": {},
   "outputs": [],
   "source": [
    "# Apply the scaler to the scale columns\n",
    "vf_data[scale_columns] = scaler.fit_transform(vf_data[scale_columns])"
   ]
  },
  {
   "cell_type": "code",
   "execution_count": 647,
   "metadata": {},
   "outputs": [
    {
     "data": {
      "image/png": "[encoded data removed]",
      "text/plain": [
       "<Figure size 640x480 with 1 Axes>"
      ]
     },
     "metadata": {},
     "output_type": "display_data"
    }
   ],
   "source": [
    "# Now lets log transform the target column to ensure a normal distribution.\n",
    "vf_data[target_column] = np.log1p(vf_data[target_column])\n",
    "\n",
    "# Visualize the target column\n",
    "sns.histplot(vf_data[target_column], kde=True)\n",
    "plt.title('Log Transformed Global DEA Packages')\n",
    "plt.show()"
   ]
  },
  {
   "cell_type": "markdown",
   "metadata": {},
   "source": [
    "Still skewed but much better than before the logtransform."
   ]
  },
  {
   "cell_type": "markdown",
   "metadata": {},
   "source": [
    "# To the models!"
   ]
  },
  {
   "cell_type": "code",
   "execution_count": 648,
   "metadata": {},
   "outputs": [],
   "source": [
    "# Define out X and y variables, y is the target column and X is the feature columns.\n",
    "X = vf_data[feature_columns]\n",
    "y = vf_data[target_column]"
   ]
  },
  {
   "cell_type": "code",
   "execution_count": 649,
   "metadata": {},
   "outputs": [],
   "source": [
    "# Split the data into training and testing sets with a 70/30 split\n",
    "X_train, X_test, y_train, y_test = train_test_split(X, y, test_size=0.3, random_state=42)"
   ]
  },
  {
   "cell_type": "code",
   "execution_count": 650,
   "metadata": {},
   "outputs": [],
   "source": [
    "# Train and evaluate different regression models\n",
    "models = {'Linear Regression': LinearRegression(), 'Ridge': Ridge(), 'Lasso': Lasso(), 'Elastic Net': ElasticNet()}\n",
    "\n",
    "# Create a dictionary to store the results\n",
    "results = {}\n",
    "for name, model in models.items():\n",
    "    model.fit(X_train, y_train)\n",
    "    y_pred = model.predict(X_test)\n",
    "    mse = mean_squared_error(y_test, y_pred)\n",
    "    r2 = r2_score(y_test, y_pred)\n",
    "    results[name] = {'MSE': mse, 'R2': r2}"
   ]
  },
  {
   "cell_type": "code",
   "execution_count": 651,
   "metadata": {},
   "outputs": [
    {
     "data": {
      "text/html": [
       "<div>\n",
       "<style scoped>\n",
       "    .dataframe tbody tr th:only-of-type {\n",
       "        vertical-align: middle;\n",
       "    }\n",
       "\n",
       "    .dataframe tbody tr th {\n",
       "        vertical-align: top;\n",
       "    }\n",
       "\n",
       "    .dataframe thead th {\n",
       "        text-align: right;\n",
       "    }\n",
       "</style>\n",
       "<table border=\"1\" class=\"dataframe\">\n",
       "  <thead>\n",
       "    <tr style=\"text-align: right;\">\n",
       "      <th></th>\n",
       "      <th>MSE</th>\n",
       "      <th>R2</th>\n",
       "    </tr>\n",
       "  </thead>\n",
       "  <tbody>\n",
       "    <tr>\n",
       "      <th>Linear Regression</th>\n",
       "      <td>0.850530</td>\n",
       "      <td>0.570297</td>\n",
       "    </tr>\n",
       "    <tr>\n",
       "      <th>Ridge</th>\n",
       "      <td>0.850447</td>\n",
       "      <td>0.570339</td>\n",
       "    </tr>\n",
       "    <tr>\n",
       "      <th>Lasso</th>\n",
       "      <td>1.789727</td>\n",
       "      <td>0.095798</td>\n",
       "    </tr>\n",
       "    <tr>\n",
       "      <th>Elastic Net</th>\n",
       "      <td>1.772564</td>\n",
       "      <td>0.104469</td>\n",
       "    </tr>\n",
       "  </tbody>\n",
       "</table>\n",
       "</div>"
      ],
      "text/plain": [
       "                        MSE        R2\n",
       "Linear Regression  0.850530  0.570297\n",
       "Ridge              0.850447  0.570339\n",
       "Lasso              1.789727  0.095798\n",
       "Elastic Net        1.772564  0.104469"
      ]
     },
     "execution_count": 651,
     "metadata": {},
     "output_type": "execute_result"
    }
   ],
   "source": [
    "# Display the results\n",
    "results_df = pd.DataFrame(results).T\n",
    "results_df"
   ]
  },
  {
   "cell_type": "markdown",
   "metadata": {},
   "source": [
    "These aren't great results, R2 score is only predicting about 57% of the variance for R2 on the high end. \n"
   ]
  },
  {
   "cell_type": "code",
   "execution_count": 652,
   "metadata": {},
   "outputs": [],
   "source": [
    "# Perform cross-validation with different feature sets\n",
    "feature_sets = {'All Features': X, 'No Binary Features': X.drop(binary_columns, axis=1), 'No Categorical Features': X.drop(ohe_columns, axis=1), 'No Ordinal Features': X.drop(ordinal_columns, axis=1), 'No Lane Features': X.drop(['lane_num'], axis=1), 'No Scac Features': X.drop(['scac_target_encoded'], axis=1)}\n",
    "cv_results = {}\n"
   ]
  },
  {
   "cell_type": "code",
   "execution_count": 569,
   "metadata": {},
   "outputs": [
    {
     "data": {
      "text/html": [
       "<div>\n",
       "<style scoped>\n",
       "    .dataframe tbody tr th:only-of-type {\n",
       "        vertical-align: middle;\n",
       "    }\n",
       "\n",
       "    .dataframe tbody tr th {\n",
       "        vertical-align: top;\n",
       "    }\n",
       "\n",
       "    .dataframe thead th {\n",
       "        text-align: right;\n",
       "    }\n",
       "</style>\n",
       "<table border=\"1\" class=\"dataframe\">\n",
       "  <thead>\n",
       "    <tr style=\"text-align: right;\">\n",
       "      <th></th>\n",
       "      <th>0</th>\n",
       "      <th>1</th>\n",
       "      <th>2</th>\n",
       "      <th>3</th>\n",
       "      <th>4</th>\n",
       "    </tr>\n",
       "  </thead>\n",
       "  <tbody>\n",
       "    <tr>\n",
       "      <th>All Features</th>\n",
       "      <td>0.093848</td>\n",
       "      <td>0.109294</td>\n",
       "      <td>0.107061</td>\n",
       "      <td>0.050504</td>\n",
       "      <td>0.106256</td>\n",
       "    </tr>\n",
       "    <tr>\n",
       "      <th>No Binary Features</th>\n",
       "      <td>0.093848</td>\n",
       "      <td>0.109294</td>\n",
       "      <td>0.107061</td>\n",
       "      <td>0.050504</td>\n",
       "      <td>0.106256</td>\n",
       "    </tr>\n",
       "    <tr>\n",
       "      <th>No Categorical Features</th>\n",
       "      <td>0.093848</td>\n",
       "      <td>0.109294</td>\n",
       "      <td>0.107061</td>\n",
       "      <td>0.050504</td>\n",
       "      <td>0.106256</td>\n",
       "    </tr>\n",
       "    <tr>\n",
       "      <th>No Ordinal Features</th>\n",
       "      <td>0.083079</td>\n",
       "      <td>0.096926</td>\n",
       "      <td>0.094937</td>\n",
       "      <td>0.037919</td>\n",
       "      <td>0.094993</td>\n",
       "    </tr>\n",
       "    <tr>\n",
       "      <th>No Lane Features</th>\n",
       "      <td>0.092586</td>\n",
       "      <td>0.107902</td>\n",
       "      <td>0.105525</td>\n",
       "      <td>0.049324</td>\n",
       "      <td>0.105242</td>\n",
       "    </tr>\n",
       "    <tr>\n",
       "      <th>No Scac Features</th>\n",
       "      <td>0.017095</td>\n",
       "      <td>0.020213</td>\n",
       "      <td>0.020161</td>\n",
       "      <td>0.017360</td>\n",
       "      <td>0.018348</td>\n",
       "    </tr>\n",
       "  </tbody>\n",
       "</table>\n",
       "</div>"
      ],
      "text/plain": [
       "                                0         1         2         3         4\n",
       "All Features             0.093848  0.109294  0.107061  0.050504  0.106256\n",
       "No Binary Features       0.093848  0.109294  0.107061  0.050504  0.106256\n",
       "No Categorical Features  0.093848  0.109294  0.107061  0.050504  0.106256\n",
       "No Ordinal Features      0.083079  0.096926  0.094937  0.037919  0.094993\n",
       "No Lane Features         0.092586  0.107902  0.105525  0.049324  0.105242\n",
       "No Scac Features         0.017095  0.020213  0.020161  0.017360  0.018348"
      ]
     },
     "execution_count": 569,
     "metadata": {},
     "output_type": "execute_result"
    }
   ],
   "source": [
    "scores = []\n",
    "for name, features in feature_sets.items():\n",
    "    for model in models.values():\n",
    "        scores = cross_val_score(model, features, y, cv=5, scoring='r2', n_jobs=-1)\n",
    "        cv_results[name] = scores\n",
    "\n",
    "# Display the cross validation results\n",
    "cv_results_df = pd.DataFrame(cv_results).T\n",
    "cv_results_df"
   ]
  },
  {
   "cell_type": "markdown",
   "metadata": {},
   "source": [
    "# 4. Insights and key findings\n"
   ]
  },
  {
   "cell_type": "markdown",
   "metadata": {},
   "source": [
    "Interpretation of the cv_result (cross-validation) scores:\n",
    "0 is the baseline R2 score and 1-4 are the models (LR, Ridge, Lasso, Elastic Net)\n",
    "All Features row is the baseline score. If removed the results are changes for better or worst.  \n",
    "The insightful interpretation highlight of this chart would be that scac feature has the strongest impact on determining package misses, scac being the contracted linehaul service provider. Removing scac significantly drops the performance of the model. \n",
    "Removing binary and categorical (OneHot columns) features have no impact at all. \n",
    "For the Ordinal and Lane features rows, the scores drops indicating the model performs slightly worse without the ordinal features. "
   ]
  },
  {
   "cell_type": "markdown",
   "metadata": {},
   "source": [
    "Interpretation of the results_df (MSE, R2) scores:\n",
    "The MSE and R2 for the different models and feature sets showed that the Linear Regression and Ridge models performed the best with an MSE's around .85 and R2 scores around 0.85. These models would be better options for determining packages misses based on the available features.\n",
    "Lasso and Elastic Net performed poorly compared to Linear Regression and Ridge, indicating that regularization penalty on squared coefficients significantly reduces model performance.  \n",
    "With some fine tuning and additional feature engineering, we could potentially improve the model's performance further. \n",
    "As seen with the EDA based analysis using scheduled transit quartiles there was very mixed results in correlative performance. \n",
    "This model could be improved by breaking up the primary dataset by a different subset. The large size of the dataset may have caused the model to be less accurate.\n"
   ]
  },
  {
   "cell_type": "markdown",
   "metadata": {},
   "source": [
    "# 5. Next Steps\n"
   ]
  },
  {
   "cell_type": "markdown",
   "metadata": {},
   "source": [
    "Next steps would be to further refine the feature engineering and model selection process to improve the model performance. \n",
    "This could include additional feature selection techniques, hyperparameter tuning, and exploring other regression models.\n",
    "I could also other correlation analysis to identify the most important features and use those in the model.\n",
    "\n",
    "Other potential improvements could include using more advanced techniques such as random forest or gradient boosting models to improve the model performance which are covered in the next segment of this course. "
   ]
  },
  {
   "cell_type": "markdown",
   "metadata": {},
   "source": [
    "---\n",
    "**Author:** William Ruffu  \n",
    "**Date:** March 2024  \n",
    "**License:** All Rights Reserved | Open Source License | Freely distributable  \n",
    "© 2024 William Ruffu\n"
   ]
  }
 ],
 "metadata": {
  "kernelspec": {
   "display_name": "venv",
   "language": "python",
   "name": "python3"
  },
  "language_info": {
   "codemirror_mode": {
    "name": "ipython",
    "version": 3
   },
   "file_extension": ".py",
   "mimetype": "text/x-python",
   "name": "python",
   "nbconvert_exporter": "python",
   "pygments_lexer": "ipython3",
   "version": "3.12.5"
  }
 },
 "nbformat": 4,
 "nbformat_minor": 4
}
