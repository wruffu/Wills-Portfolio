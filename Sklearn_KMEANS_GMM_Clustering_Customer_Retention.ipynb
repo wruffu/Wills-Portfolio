{
 "cells": [
  {
   "cell_type": "markdown",
   "metadata": {},
   "source": [
    "# Customer Retention Clustering Using KMEANS and GMM"
   ]
  },
  {
   "cell_type": "code",
   "execution_count": 1,
   "metadata": {},
   "outputs": [],
   "source": [
    "import os\n",
    "import joblib\n",
    "import time\n",
    "import numpy as np\n",
    "import pandas as pd\n",
    "import scipy.stats as stats\n",
    "import matplotlib.pyplot as plt\n",
    "from sklearn.utils import shuffle\n",
    "from sklearn.model_selection import train_test_split, GridSearchCV\n",
    "from sklearn.compose import ColumnTransformer\n",
    "from sklearn.base import BaseEstimator, TransformerMixin\n",
    "from sklearn.impute import SimpleImputer\n",
    "from sklearn.cluster import KMeans, SpectralClustering\n",
    "from sklearn.preprocessing import StandardScaler, OneHotEncoder, OrdinalEncoder\n",
    "from sklearn.pipeline import Pipeline\n",
    "from sklearn.metrics import classification_report, f1_score\n",
    "from sklearn.metrics import silhouette_score\n",
    "from sklearn.ensemble import RandomForestClassifier\n",
    "from sklearn.mixture import BayesianGaussianMixture\n",
    "from sklearn.svm import SVC"
   ]
  },
  {
   "cell_type": "code",
   "execution_count": 2,
   "metadata": {},
   "outputs": [
    {
     "name": "stdout",
     "output_type": "stream",
     "text": [
      "Requirement already satisfied: imbalanced-learn in c:\\users\\willl\\appdata\\local\\packages\\pythonsoftwarefoundation.python.3.10_qbz5n2kfra8p0\\localcache\\local-packages\\python310\\site-packages (0.13.0)\n",
      "Requirement already satisfied: joblib<2,>=1.1.1 in c:\\users\\willl\\appdata\\local\\packages\\pythonsoftwarefoundation.python.3.10_qbz5n2kfra8p0\\localcache\\local-packages\\python310\\site-packages (from imbalanced-learn) (1.4.2)\n",
      "Requirement already satisfied: threadpoolctl<4,>=2.0.0 in c:\\users\\willl\\appdata\\local\\packages\\pythonsoftwarefoundation.python.3.10_qbz5n2kfra8p0\\localcache\\local-packages\\python310\\site-packages (from imbalanced-learn) (3.5.0)\n",
      "Requirement already satisfied: sklearn-compat<1,>=0.1 in c:\\users\\willl\\appdata\\local\\packages\\pythonsoftwarefoundation.python.3.10_qbz5n2kfra8p0\\localcache\\local-packages\\python310\\site-packages (from imbalanced-learn) (0.1.3)\n",
      "Requirement already satisfied: scikit-learn<2,>=1.3.2 in c:\\users\\willl\\appdata\\local\\packages\\pythonsoftwarefoundation.python.3.10_qbz5n2kfra8p0\\localcache\\local-packages\\python310\\site-packages (from imbalanced-learn) (1.6.1)\n",
      "Requirement already satisfied: numpy<3,>=1.24.3 in c:\\users\\willl\\appdata\\local\\packages\\pythonsoftwarefoundation.python.3.10_qbz5n2kfra8p0\\localcache\\local-packages\\python310\\site-packages (from imbalanced-learn) (1.26.4)\n",
      "Requirement already satisfied: scipy<2,>=1.10.1 in c:\\users\\willl\\appdata\\local\\packages\\pythonsoftwarefoundation.python.3.10_qbz5n2kfra8p0\\localcache\\local-packages\\python310\\site-packages (from imbalanced-learn) (1.13.1)\n",
      "Note: you may need to restart the kernel to use updated packages.\n"
     ]
    },
    {
     "name": "stderr",
     "output_type": "stream",
     "text": [
      "\n",
      "[notice] A new release of pip is available: 23.0.1 -> 24.3.1\n",
      "[notice] To update, run: C:\\Users\\willl\\AppData\\Local\\Microsoft\\WindowsApps\\PythonSoftwareFoundation.Python.3.10_qbz5n2kfra8p0\\python.exe -m pip install --upgrade pip\n"
     ]
    }
   ],
   "source": [
    "%pip install imbalanced-learn\n",
    "\n",
    "import imblearn.pipeline as pl\n",
    "from imblearn.pipeline import make_pipeline\n",
    "from imblearn.over_sampling import RandomOverSampler\n",
    "from imblearn.over_sampling import SMOTE, SVMSMOTE"
   ]
  },
  {
   "cell_type": "code",
   "execution_count": 5,
   "metadata": {},
   "outputs": [],
   "source": [
    "plt.style.use('seaborn-v0_8-bright')\n",
    "%matplotlib inline"
   ]
  },
  {
   "cell_type": "code",
   "execution_count": 6,
   "metadata": {},
   "outputs": [],
   "source": [
    "DATA_DIR = os.getcwd()"
   ]
  },
  {
   "cell_type": "markdown",
   "metadata": {},
   "source": [
    "## Synopsis\n",
    "\n",
    "  > We are going to try and predict customer retention.  There are many models and many transforms to consider.  \n",
    "    \n",
    "  > Marketing is asking for a report on customer retention that can be used to improve current marketing strategy.  The current plan is for marketing at AAVAiL to collect more features on subscribers and they would like to use the report as a proof-of-concept in order to get buy-in for this effort.\n",
    "  \n",
    "## Outline\n",
    "\n",
    "1. Create a churn prediction baseline model\n",
    "2. Use clustering as part of your prediction pipeline\n",
    "3. Run and experiment to see if re-sampling techniques improve your model\n",
    "\n",
    "## Data\n",
    "\n",
    "Here we load the data `aavail-target.csv`"
   ]
  },
  {
   "cell_type": "code",
   "execution_count": 7,
   "metadata": {},
   "outputs": [
    {
     "data": {
      "text/html": [
       "<div>\n",
       "<style scoped>\n",
       "    .dataframe tbody tr th:only-of-type {\n",
       "        vertical-align: middle;\n",
       "    }\n",
       "\n",
       "    .dataframe tbody tr th {\n",
       "        vertical-align: top;\n",
       "    }\n",
       "\n",
       "    .dataframe thead th {\n",
       "        text-align: right;\n",
       "    }\n",
       "</style>\n",
       "<table border=\"1\" class=\"dataframe\">\n",
       "  <thead>\n",
       "    <tr style=\"text-align: right;\">\n",
       "      <th></th>\n",
       "      <th>country</th>\n",
       "      <th>age</th>\n",
       "      <th>subscriber_type</th>\n",
       "      <th>num_streams</th>\n",
       "    </tr>\n",
       "  </thead>\n",
       "  <tbody>\n",
       "    <tr>\n",
       "      <th>0</th>\n",
       "      <td>united_states</td>\n",
       "      <td>21</td>\n",
       "      <td>aavail_premium</td>\n",
       "      <td>23</td>\n",
       "    </tr>\n",
       "    <tr>\n",
       "      <th>1</th>\n",
       "      <td>singapore</td>\n",
       "      <td>30</td>\n",
       "      <td>aavail_unlimited</td>\n",
       "      <td>12</td>\n",
       "    </tr>\n",
       "    <tr>\n",
       "      <th>2</th>\n",
       "      <td>united_states</td>\n",
       "      <td>21</td>\n",
       "      <td>aavail_premium</td>\n",
       "      <td>22</td>\n",
       "    </tr>\n",
       "    <tr>\n",
       "      <th>3</th>\n",
       "      <td>united_states</td>\n",
       "      <td>20</td>\n",
       "      <td>aavail_basic</td>\n",
       "      <td>19</td>\n",
       "    </tr>\n",
       "    <tr>\n",
       "      <th>4</th>\n",
       "      <td>singapore</td>\n",
       "      <td>21</td>\n",
       "      <td>aavail_premium</td>\n",
       "      <td>23</td>\n",
       "    </tr>\n",
       "  </tbody>\n",
       "</table>\n",
       "</div>"
      ],
      "text/plain": [
       "         country  age   subscriber_type  num_streams\n",
       "0  united_states   21    aavail_premium           23\n",
       "1      singapore   30  aavail_unlimited           12\n",
       "2  united_states   21    aavail_premium           22\n",
       "3  united_states   20      aavail_basic           19\n",
       "4      singapore   21    aavail_premium           23"
      ]
     },
     "execution_count": 7,
     "metadata": {},
     "output_type": "execute_result"
    }
   ],
   "source": [
    "df = pd.read_csv(os.path.join(DATA_DIR, r\"aavail-target.csv\"))\n",
    "\n",
    "## pull out the target and remove uneeded columns\n",
    "_y = df.pop('is_subscriber')\n",
    "y = np.zeros(_y.size)\n",
    "y[_y==0] = 1 \n",
    "df.drop(columns=['customer_id', 'customer_name'], inplace=True)\n",
    "df.head()"
   ]
  },
  {
   "cell_type": "markdown",
   "metadata": {},
   "source": [
    "### Part 1\n",
    "\n",
    "Using the train_test_split() function, create a stratified train test split of the data"
   ]
  },
  {
   "cell_type": "code",
   "execution_count": 8,
   "metadata": {},
   "outputs": [],
   "source": [
    "X_train, X_test, y_train, y_test = train_test_split(df, y, test_size=0.2, stratify=y, random_state=42)"
   ]
  },
  {
   "cell_type": "markdown",
   "metadata": {},
   "source": [
    "### Part 2\n",
    "\n",
    "Create a baseline model.  Test whether clustering followed by a model improves the results.  Then, we will test whether re-sampling techniques provide improvements."
   ]
  },
  {
   "cell_type": "code",
   "execution_count": 9,
   "metadata": {},
   "outputs": [],
   "source": [
    "## preprocessing pipeline\n",
    "numeric_features = ['age', 'num_streams']\n",
    "numeric_transformer = Pipeline(steps=[\n",
    "    ('imputer', SimpleImputer(strategy='mean')),\n",
    "    ('scaler', StandardScaler())])\n",
    "\n",
    "categorical_features = ['country', 'subscriber_type']\n",
    "categorical_transformer = Pipeline(steps=[\n",
    "    ('imputer', SimpleImputer(strategy='constant', fill_value='missing')),\n",
    "    ('encod', OrdinalEncoder())])\n",
    "\n",
    "preprocessor = ColumnTransformer(\n",
    "    transformers=[\n",
    "        ('num', numeric_transformer, numeric_features),\n",
    "        ('cat', categorical_transformer, categorical_features)])"
   ]
  },
  {
   "cell_type": "code",
   "execution_count": 24,
   "metadata": {},
   "outputs": [
    {
     "name": "stdout",
     "output_type": "stream",
     "text": [
      "f1_score 0.5739130434782609\n"
     ]
    }
   ],
   "source": [
    "# Create an instance of a binary classifier\n",
    "clf = RandomForestClassifier(random_state=42)\n",
    "\n",
    "# Create a Pipeline that binds the preprocessing transformer and the classifier estimator.\n",
    "\n",
    "pipe = Pipeline(steps=[('preprocessor', preprocessor),\n",
    "                       ('classifier', clf)])\n",
    "\n",
    "# Fit the pipeline to the training data\n",
    "pipe.fit(X_train, y_train)\n",
    "\n",
    "# predict the dependent variable of the test set.\n",
    "y_pred = pipe.predict(X_test)\n",
    "\n",
    "# Print the f1_score of the prediction.\n",
    "print(\"f1_score\", f1_score(y_test, y_pred, average='binary'))"
   ]
  },
  {
   "cell_type": "code",
   "execution_count": null,
   "metadata": {},
   "outputs": [
    {
     "name": "stdout",
     "output_type": "stream",
     "text": [
      "f1_score 0.6153846153846154\n",
      "Best parameters:  {'classifier__max_depth': 5, 'classifier__n_estimators': 50}\n",
      "Best score:  0.7725\n",
      "Best estimator:  Pipeline(steps=[('preprocessor',\n",
      "                 ColumnTransformer(transformers=[('num',\n",
      "                                                  Pipeline(steps=[('imputer',\n",
      "                                                                   SimpleImputer()),\n",
      "                                                                  ('scaler',\n",
      "                                                                   StandardScaler())]),\n",
      "                                                  ['age', 'num_streams']),\n",
      "                                                 ('cat',\n",
      "                                                  Pipeline(steps=[('imputer',\n",
      "                                                                   SimpleImputer(fill_value='missing',\n",
      "                                                                                 strategy='constant')),\n",
      "                                                                  ('encod',\n",
      "                                                                   OrdinalEncoder())]),\n",
      "                                                  ['country',\n",
      "                                                   'subscriber_type'])])),\n",
      "                ('classifier',\n",
      "                 RandomForestClassifier(max_depth=5, n_estimators=50,\n",
      "                                        random_state=42))])\n",
      "Best index:  0\n",
      "Scorer:  <class 'sklearn.pipeline.Pipeline'>.score\n"
     ]
    }
   ],
   "source": [
    "# To improve the performance of the model add a gridsearch on the pipeline\n",
    "param_grid = {\n",
    "    'classifier__n_estimators': [50, 100, 200],\n",
    "    'classifier__max_depth': [5, 10, 15, 20]\n",
    "}\n",
    "\n",
    "# Create a GridSearchCV object\n",
    "grid = GridSearchCV(pipe, param_grid=param_grid, cv=5)\n",
    "\n",
    "# Fit the GridSearchCV object to the training data\n",
    "grid.fit(X_train, y_train)\n",
    "\n",
    "# predict the dependent variable of the test set.\n",
    "y_pred = grid.predict(X_test)\n",
    "\n",
    "# Print the f1_score of the prediction.\n",
    "print(\"f1_score\", f1_score(y_test, y_pred, average='binary'))\n",
    "\n",
    "# Print the best parameters of the gridsearch\n",
    "print(\"Best parameters: \", grid.best_params_)\n",
    "print(\"Best score: \", grid.best_score_)\n",
    "print(\"Best estimator: \", grid.best_estimator_)\n"
   ]
  },
  {
   "cell_type": "markdown",
   "metadata": {},
   "source": [
    "### Part 3\n",
    "\n",
    "The next part is to create a version of the classifier that uses identified clusters.  In this example 4 clusters were specified and their one-hot encoded versions were appended to the feature matrix.  Now using pipelines to compare the performance using cluster profiling as part of the matrix to the baseline. "
   ]
  },
  {
   "cell_type": "code",
   "execution_count": 27,
   "metadata": {},
   "outputs": [
    {
     "name": "stdout",
     "output_type": "stream",
     "text": [
      "(800, 4)\n",
      "(800, 5)\n",
      "(800, 4)\n",
      "(800, 8)\n"
     ]
    }
   ],
   "source": [
    "class KmeansTransformer(BaseEstimator, TransformerMixin):\n",
    "    def __init__(self, n_clusters=4):\n",
    "        self.n_clusters = n_clusters\n",
    "        self.km = KMeans(n_clusters=self.n_clusters, n_init=20)\n",
    "        \n",
    "    def transform(self, X, *_):\n",
    "        labels = self.km.predict(X)\n",
    "        return np.hstack((X, labels.reshape(-1, 1)))\n",
    "\n",
    "    def fit(self, X, y=None, *_):\n",
    "        self.km.fit(X)\n",
    "        labels = self.km.predict(X)\n",
    "        self.silhouette_score = round(silhouette_score(X, labels, metric='mahalanobis'), 3)\n",
    "        return self\n",
    "\n",
    "class GmmTransformer(BaseEstimator, TransformerMixin):\n",
    "    def __init__(self, n_clusters=4):\n",
    "        self.n_clusters = n_clusters\n",
    "        self.gmm = BayesianGaussianMixture(n_components=self.n_clusters, covariance_type='full',\n",
    "                                           max_iter=500, n_init=10, warm_start=True)        \n",
    "    def transform(self, X,*_):\n",
    "        probs = self.gmm.predict_proba(X) + np.finfo(float).eps\n",
    "        return np.hstack((X, probs))\n",
    "        \n",
    "    def fit(self, X, y=None, *_):\n",
    "        self.gmm.fit(X)\n",
    "        labels = self.gmm.predict(X)\n",
    "        self.silhouette_score = round(silhouette_score(X, labels, metric='mahalanobis'), 3)\n",
    "        return self\n",
    "    \n",
    "## example for kmeans\n",
    "preprocessor.fit(X_train)\n",
    "X_train_pre = preprocessor.transform(X_train)    \n",
    "kt = KmeansTransformer(4)\n",
    "kt.fit(X_train_pre)\n",
    "X_train_kmeans = kt.transform(X_train_pre)\n",
    "print(X_train_pre.shape)\n",
    "print(X_train_kmeans.shape)   \n",
    "    \n",
    "## example for GMM  \n",
    "preprocessor.fit(X_train)\n",
    "X_train_pre = preprocessor.transform(X_train)    \n",
    "gt = GmmTransformer(4)\n",
    "gt.fit(X_train_pre)\n",
    "X_train_gmm = gt.transform(X_train_pre)\n",
    "print(X_train_pre.shape)  \n",
    "print(X_train_gmm.shape)"
   ]
  },
  {
   "cell_type": "code",
   "execution_count": 36,
   "metadata": {},
   "outputs": [
    {
     "data": {
      "text/html": [
       "<div>\n",
       "<style scoped>\n",
       "    .dataframe tbody tr th:only-of-type {\n",
       "        vertical-align: middle;\n",
       "    }\n",
       "\n",
       "    .dataframe tbody tr th {\n",
       "        vertical-align: top;\n",
       "    }\n",
       "\n",
       "    .dataframe thead th {\n",
       "        text-align: right;\n",
       "    }\n",
       "</style>\n",
       "<table border=\"1\" class=\"dataframe\">\n",
       "  <thead>\n",
       "    <tr style=\"text-align: right;\">\n",
       "      <th></th>\n",
       "      <th>kmeans</th>\n",
       "      <th>gmm</th>\n",
       "    </tr>\n",
       "    <tr>\n",
       "      <th>n_clusters</th>\n",
       "      <th></th>\n",
       "      <th></th>\n",
       "    </tr>\n",
       "  </thead>\n",
       "  <tbody>\n",
       "    <tr>\n",
       "      <th>3</th>\n",
       "      <td>0.602</td>\n",
       "      <td>0.631</td>\n",
       "    </tr>\n",
       "    <tr>\n",
       "      <th>4</th>\n",
       "      <td>0.602</td>\n",
       "      <td>0.608</td>\n",
       "    </tr>\n",
       "    <tr>\n",
       "      <th>5</th>\n",
       "      <td>0.615</td>\n",
       "      <td>0.610</td>\n",
       "    </tr>\n",
       "    <tr>\n",
       "      <th>6</th>\n",
       "      <td>0.608</td>\n",
       "      <td>0.615</td>\n",
       "    </tr>\n",
       "    <tr>\n",
       "      <th>7</th>\n",
       "      <td>0.608</td>\n",
       "      <td>0.615</td>\n",
       "    </tr>\n",
       "  </tbody>\n",
       "</table>\n",
       "</div>"
      ],
      "text/plain": [
       "            kmeans    gmm\n",
       "n_clusters               \n",
       "3            0.602  0.631\n",
       "4            0.602  0.608\n",
       "5            0.615  0.610\n",
       "6            0.608  0.615\n",
       "7            0.608  0.615"
      ]
     },
     "execution_count": 36,
     "metadata": {},
     "output_type": "execute_result"
    }
   ],
   "source": [
    "def run_clustering_pipeline(umodel):\n",
    "    \"\"\"\n",
    "    This function evaluates different Pipelines constituted of the preprocessing transformer,\n",
    "    a clustering transformer and a classifier estimator.\n",
    "    INPUT : The name of the clustering transformer : 'gmm' or 'kmeans'\n",
    "    OUTPUT : The list of f1_scores of the pipeline on the test set for the different number of clusters\n",
    "    \"\"\"\n",
    "    \n",
    "    fscores = [] # this list will store the f1_score of the different models that we will train\n",
    "    for n_clusters in np.arange(3, 8):\n",
    "    \n",
    "        # Create an instance of a binary classifier (The same as the one you trained in the previous question)\n",
    "        estimator = RandomForestClassifier()\n",
    "        param_grid = {\n",
    "                        'n_estimators': [25, 50, 75],\n",
    "                        'max_depth': [4, 5, 7],\n",
    "                        'criterion': ['gini', 'entropy']\n",
    "                    }\n",
    "        clf = GridSearchCV(estimator, param_grid=param_grid, cv=3, n_jobs=-1, scoring='f1')\n",
    "        \n",
    "        if umodel == 'gmm':\n",
    "            # Create an instance of the Gmm transformer with n_clusters clusters\n",
    "            cluster = GmmTransformer(n_clusters)    \n",
    "        elif umodel == 'kmeans':\n",
    "            # Create an instance of the Kmean transformer with n_clusters clusters\n",
    "            cluster = KmeansTransformer(n_clusters)\n",
    "        else:\n",
    "            raise Exception(\"invalid unsupervised learning model\")\n",
    "        \n",
    "        # Create a Pipeline that binds the preprocessing transformer, the clustering transformer and the classifier\n",
    "        pipe = Pipeline(steps=[('pre', preprocessor),\n",
    "                               ('clustering', cluster),\n",
    "                               ('classifier', clf)])  \n",
    "        \n",
    "        # Fit the pipeline on training set\n",
    "        pipe.fit(X_train, y_train)\n",
    "        # Predict the test set\n",
    "        y_pred = pipe.predict(X_test)\n",
    "        # Compute the f1 score and add this score to the fscores list.\n",
    "        score = round(f1_score(y_test, y_pred, average='binary'), 3)\n",
    "        fscores.append(score)\n",
    "        \n",
    "    return fscores\n",
    "\n",
    "## Run the different iteration of the model\n",
    "cp_results = {}\n",
    "cp_results['kmeans'] = run_clustering_pipeline('kmeans')\n",
    "cp_results['gmm'] = run_clustering_pipeline('gmm')\n",
    "\n",
    "## Display table of results\n",
    "df_cp = pd.DataFrame(cp_results)\n",
    "df_cp[\"n_clusters\"] = [str(i) for i in np.arange(3,8)]\n",
    "df_cp.set_index(\"n_clusters\", inplace=True)\n",
    "df_cp.head(n=10)"
   ]
  },
  {
   "cell_type": "markdown",
   "metadata": {},
   "source": [
    "## Part 4\n",
    "\n",
    "Next will try to improve on the workflow with the addition of re-sampling techniques by adding a SMOTE re-sampling transformer to the pipeline."
   ]
  },
  {
   "cell_type": "code",
   "execution_count": 37,
   "metadata": {},
   "outputs": [
    {
     "data": {
      "text/html": [
       "<div>\n",
       "<style scoped>\n",
       "    .dataframe tbody tr th:only-of-type {\n",
       "        vertical-align: middle;\n",
       "    }\n",
       "\n",
       "    .dataframe tbody tr th {\n",
       "        vertical-align: top;\n",
       "    }\n",
       "\n",
       "    .dataframe thead th {\n",
       "        text-align: right;\n",
       "    }\n",
       "</style>\n",
       "<table border=\"1\" class=\"dataframe\">\n",
       "  <thead>\n",
       "    <tr style=\"text-align: right;\">\n",
       "      <th></th>\n",
       "      <th>kmeans</th>\n",
       "      <th>gmm</th>\n",
       "    </tr>\n",
       "    <tr>\n",
       "      <th>n_clusters</th>\n",
       "      <th></th>\n",
       "      <th></th>\n",
       "    </tr>\n",
       "  </thead>\n",
       "  <tbody>\n",
       "    <tr>\n",
       "      <th>3</th>\n",
       "      <td>0.639</td>\n",
       "      <td>0.661</td>\n",
       "    </tr>\n",
       "    <tr>\n",
       "      <th>4</th>\n",
       "      <td>0.610</td>\n",
       "      <td>0.626</td>\n",
       "    </tr>\n",
       "    <tr>\n",
       "      <th>5</th>\n",
       "      <td>0.651</td>\n",
       "      <td>0.583</td>\n",
       "    </tr>\n",
       "    <tr>\n",
       "      <th>6</th>\n",
       "      <td>0.619</td>\n",
       "      <td>0.636</td>\n",
       "    </tr>\n",
       "    <tr>\n",
       "      <th>7</th>\n",
       "      <td>0.639</td>\n",
       "      <td>0.608</td>\n",
       "    </tr>\n",
       "  </tbody>\n",
       "</table>\n",
       "</div>"
      ],
      "text/plain": [
       "            kmeans    gmm\n",
       "n_clusters               \n",
       "3            0.639  0.661\n",
       "4            0.610  0.626\n",
       "5            0.651  0.583\n",
       "6            0.619  0.636\n",
       "7            0.639  0.608"
      ]
     },
     "execution_count": 37,
     "metadata": {},
     "output_type": "execute_result"
    }
   ],
   "source": [
    "def run_clustering_pipeline_re(umodel):\n",
    "    \"\"\"\n",
    "    This function evaluates different Pipelines constituted of the preprocessing transformer,\n",
    "    a clustering transformer, a re-sampling transformer and a classifier estimator.\n",
    "    INPUT : The name of the clustering transformer : 'gmm' or 'kmeans'\n",
    "    OUTPUT : The list of f1_scores of the pipeline on the test set for the different number of clusters.\n",
    "    \"\"\"\n",
    "    \n",
    "    fscores = []  # this list will store the f1_score of the different models that we will train\n",
    "    for n_clusters in np.arange(3,8):\n",
    "        \n",
    "        # Create an instance of a binary classifier (The same as the one you trained in the previous question)\n",
    "        estimator = RandomForestClassifier()\n",
    "        param_grid = {\n",
    "                    'n_estimators': [25, 50, 75],\n",
    "                    'max_depth': [4, 5, 7],\n",
    "                    'criterion': ['gini', 'entropy']\n",
    "                    }\n",
    "        clf = GridSearchCV(estimator, param_grid=param_grid, cv=3, n_jobs=-1, scoring='f1')\n",
    "        \n",
    "        if umodel == 'gmm':\n",
    "            # Create an instance of the Gmm transformer with n_clusters clusters\n",
    "            cluster = GmmTransformer(n_clusters)    \n",
    "        elif umodel == 'kmeans':\n",
    "            # Create an instance of the Kmean transformer with n_clusters clusters\n",
    "            cluster = KmeansTransformer(n_clusters)\n",
    "        else:\n",
    "            raise Exception(\"invalid unsupervised learning model\")\n",
    "            \n",
    "        \n",
    "        # Create a Pipeline that binds the preprocessing transformer, the clustering transformer, \n",
    "        # the re-sampling transformer and the classifier\n",
    "        pipe = pl.Pipeline(steps=[('pre', preprocessor),\n",
    "                                  ('clustering', cluster),\n",
    "                                  ('smote', SMOTE(random_state=42)),\n",
    "                                  ('classifier', clf)])  \n",
    "           \n",
    "        # Fit the pipeline on training set\n",
    "        pipe.fit(X_train,y_train) \n",
    "        # Predict the test set\n",
    "        y_pred = pipe.predict(X_test)  \n",
    "        # Compute the f1 score and add this score to the fscores list.\n",
    "        score = round(f1_score(y_test, y_pred,average='binary'),3)\n",
    "        fscores.append(score)\n",
    "        \n",
    "    return(fscores)\n",
    "\n",
    "## Run the different iteration of the model\n",
    "cp_results_re = {}\n",
    "cp_results_re['kmeans'] = run_clustering_pipeline_re('kmeans')\n",
    "cp_results_re['gmm'] = run_clustering_pipeline_re('gmm')\n",
    "\n",
    "\n",
    "## Display table of results\n",
    "df_cr = pd.DataFrame(cp_results_re)\n",
    "df_cr[\"n_clusters\"] = [str(i) for i in np.arange(3,8)]\n",
    "df_cr.set_index(\"n_clusters\",inplace=True)\n",
    "df_cr.head(n=10)"
   ]
  },
  {
   "cell_type": "markdown",
   "metadata": {},
   "source": [
    "##  Part 5\n"
   ]
  },
  {
   "cell_type": "markdown",
   "metadata": {},
   "source": [
    "Visually compare the results to determine which clustering algorithm to use as the baseline and proof of concept. Very small difference with a slight edge to GMM. "
   ]
  },
  {
   "cell_type": "code",
   "execution_count": 38,
   "metadata": {},
   "outputs": [
    {
     "data": {
      "image/png": "[encoded data removed]",
      "text/plain": [
       "<Figure size 1000x600 with 1 Axes>"
      ]
     },
     "metadata": {},
     "output_type": "display_data"
    }
   ],
   "source": [
    "# Compare and plot the results of the different models\n",
    "fig, ax = plt.subplots(figsize=(10, 6))\n",
    "df_cp.plot(kind='bar', ax=ax)\n",
    "plt.title('F1 Score of the different models')\n",
    "plt.xlabel('Number of clusters')\n",
    "plt.ylabel('F1 Score')\n",
    "plt.show()"
   ]
  },
  {
   "cell_type": "markdown",
   "metadata": {},
   "source": [
    "Review if SMOTE re-sampling helped the model performance. "
   ]
  },
  {
   "cell_type": "code",
   "execution_count": 39,
   "metadata": {},
   "outputs": [
    {
     "data": {
      "image/png": "[encoded data removed]",
      "text/plain": [
       "<Figure size 1000x600 with 1 Axes>"
      ]
     },
     "metadata": {},
     "output_type": "display_data"
    }
   ],
   "source": [
    "# Compare the results of the pipeline and re-sampling pipeline\n",
    "fig, ax = plt.subplots(figsize=(10, 6))\n",
    "df_cp.plot(kind='bar', ax=ax)\n",
    "df_cr.plot(kind='bar', ax=ax, color='red', alpha=0.7)\n",
    "plt.title('F1 Score of the different models')\n",
    "plt.xlabel('Number of clusters')\n",
    "plt.ylabel('F1 Score')\n",
    "plt.show()"
   ]
  },
  {
   "cell_type": "markdown",
   "metadata": {},
   "source": [
    "### Conclusion"
   ]
  },
  {
   "cell_type": "markdown",
   "metadata": {},
   "source": [
    "The inclusion of customer profiles does not significantly improve the overall model performance pipeline for either model.  There may be some minor improvement depending on the random seed, but since it does not degrade model performance either it can be useful in the context of marketing.  The clusters are customer profiles that are tied to predictive performance.  \n",
    ">\n",
    "The re-sampling does help the random forest classifiers obtain similar performance results to SVM in this case.\n",
    ">\n",
    "Marketing is not likely to be happy with the results but an important persuasion will be emphasize not continuing to use resources on low opportunity metrics.  "
   ]
  }
 ],
 "metadata": {
  "kernelspec": {
   "display_name": "Python 3",
   "language": "python",
   "name": "python3"
  },
  "language_info": {
   "codemirror_mode": {
    "name": "ipython",
    "version": 3
   },
   "file_extension": ".py",
   "mimetype": "text/x-python",
   "name": "python",
   "nbconvert_exporter": "python",
   "pygments_lexer": "ipython3",
   "version": "3.10.11"
  }
 },
 "nbformat": 4,
 "nbformat_minor": 4
}
