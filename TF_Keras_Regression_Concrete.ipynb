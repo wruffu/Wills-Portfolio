{
 "cells": [
  {
   "cell_type": "markdown",
   "id": "7641c6d4-2f72-477c-b304-814e14212e44",
   "metadata": {},
   "source": [
    "## Introduction\n"
   ]
  },
  {
   "cell_type": "markdown",
   "id": "9593cb53-0b1d-479f-84c2-f76c8e84fdce",
   "metadata": {},
   "source": [
    "In this notebook I will show how to use the Keras library to build a regression model.\n",
    "\n",
    "Keras is a high-level API for building deep learning models. It has gained favor for its ease of use and syntactic simplicity facilitating fast development. It is less complicated and complex than PyTorch and Tensorflow but building a very complex deep learning network can be achieved with Keras with only few lines of code. "
   ]
  },
  {
   "cell_type": "markdown",
   "id": "ddfb4c62-aa2a-4387-acc9-401cf1372bab",
   "metadata": {},
   "source": [
    "<h2>Regression Models with Keras</h2>\n",
    "\n",
    "<h3>Key Concepts<h3>    \n",
    "<h5> 1. How to use the Keras library to build a regression model.</h5>\n",
    "<h5> 2. How to download and clean datasets </h5>\n",
    "<h5> 3. Build a Neural Network </h5>\n",
    "<h5> 4. Train and Test the Network. </h5>"
   ]
  },
  {
   "cell_type": "markdown",
   "id": "4ebe5ef5-e658-44dd-bc8e-80a4dc4559a8",
   "metadata": {},
   "source": [
    "## Table of Contents\n",
    "\n",
    "<font size = 3>\n",
    "    \n",
    "1. <a href=\"#item31\">Download and Clean Dataset</a>  \n",
    "2. <a href=\"#item32\">Import Keras</a>  \n",
    "3. <a href=\"#item33\">Build a Neural Network</a>  \n",
    "4. <a href=\"#item34\">Train and Test the Network</a>  \n",
    "\n",
    "</font>\n",
    "</div>"
   ]
  },
  {
   "cell_type": "markdown",
   "id": "7614d5d6-cb06-4da0-bd6d-7c6d05fbfdee",
   "metadata": {},
   "source": [
    "<a id=\"item31\"></a>\n"
   ]
  },
  {
   "cell_type": "markdown",
   "id": "59c3bc9e-4fdf-4ffe-aaf1-27e99ba2bcfe",
   "metadata": {},
   "source": [
    "## Download and Clean Dataset"
   ]
  },
  {
   "cell_type": "markdown",
   "id": "28e7cb02-0eba-4e08-b411-dd2c08c5c894",
   "metadata": {},
   "source": [
    "Import the pandas and the Numpy libraries.\n"
   ]
  },
  {
   "cell_type": "code",
   "execution_count": null,
   "id": "6474aa10-7c6b-4366-9e13-1b093d14340f",
   "metadata": {},
   "outputs": [],
   "source": [
    "#!pip install numpy==1.21.4\n",
    "#!pip install pandas==1.3.4\n",
    "#!pip install keras==2.1.6"
   ]
  },
  {
   "cell_type": "code",
   "execution_count": 2,
   "id": "ce2c677e-9239-460e-bb41-8003063ce9f7",
   "metadata": {},
   "outputs": [],
   "source": [
    "import pandas as pd\n",
    "import numpy as np\n",
    "\n",
    "import warnings\n",
    "warnings.simplefilter('ignore', FutureWarning)"
   ]
  },
  {
   "cell_type": "markdown",
   "id": "63ae549e-5ccc-49ce-945d-fc3002294a1b",
   "metadata": {},
   "source": [
    "<strong>The dataset is about the compressive strength of different samples of concrete based on the volumes of the different ingredients that were used to make them. Ingredients include:</strong>\n",
    "\n",
    "<strong>1. Cement</strong>\n",
    "\n",
    "<strong>2. Blast Furnace Slag</strong>\n",
    "\n",
    "<strong>3. Fly Ash</strong>\n",
    "\n",
    "<strong>4. Water</strong>\n",
    "\n",
    "<strong>5. Superplasticizer</strong>\n",
    "\n",
    "<strong>6. Coarse Aggregate</strong>\n",
    "\n",
    "<strong>7. Fine Aggregate</strong>\n"
   ]
  },
  {
   "cell_type": "markdown",
   "id": "296a7166-be57-4ceb-a006-3d8e5950680c",
   "metadata": {},
   "source": [
    "Let's download the data and read it into a <em>pandas</em> dataframe.\n"
   ]
  },
  {
   "cell_type": "code",
   "execution_count": 3,
   "id": "4b61897d-4ec5-4bf6-a93d-d35c2350a565",
   "metadata": {},
   "outputs": [
    {
     "data": {
      "text/html": [
       "<div>\n",
       "<style scoped>\n",
       "    .dataframe tbody tr th:only-of-type {\n",
       "        vertical-align: middle;\n",
       "    }\n",
       "\n",
       "    .dataframe tbody tr th {\n",
       "        vertical-align: top;\n",
       "    }\n",
       "\n",
       "    .dataframe thead th {\n",
       "        text-align: right;\n",
       "    }\n",
       "</style>\n",
       "<table border=\"1\" class=\"dataframe\">\n",
       "  <thead>\n",
       "    <tr style=\"text-align: right;\">\n",
       "      <th></th>\n",
       "      <th>Cement</th>\n",
       "      <th>Blast Furnace Slag</th>\n",
       "      <th>Fly Ash</th>\n",
       "      <th>Water</th>\n",
       "      <th>Superplasticizer</th>\n",
       "      <th>Coarse Aggregate</th>\n",
       "      <th>Fine Aggregate</th>\n",
       "      <th>Age</th>\n",
       "      <th>Strength</th>\n",
       "    </tr>\n",
       "  </thead>\n",
       "  <tbody>\n",
       "    <tr>\n",
       "      <th>0</th>\n",
       "      <td>540.0</td>\n",
       "      <td>0.0</td>\n",
       "      <td>0.0</td>\n",
       "      <td>162.0</td>\n",
       "      <td>2.5</td>\n",
       "      <td>1040.0</td>\n",
       "      <td>676.0</td>\n",
       "      <td>28</td>\n",
       "      <td>79.99</td>\n",
       "    </tr>\n",
       "    <tr>\n",
       "      <th>1</th>\n",
       "      <td>540.0</td>\n",
       "      <td>0.0</td>\n",
       "      <td>0.0</td>\n",
       "      <td>162.0</td>\n",
       "      <td>2.5</td>\n",
       "      <td>1055.0</td>\n",
       "      <td>676.0</td>\n",
       "      <td>28</td>\n",
       "      <td>61.89</td>\n",
       "    </tr>\n",
       "    <tr>\n",
       "      <th>2</th>\n",
       "      <td>332.5</td>\n",
       "      <td>142.5</td>\n",
       "      <td>0.0</td>\n",
       "      <td>228.0</td>\n",
       "      <td>0.0</td>\n",
       "      <td>932.0</td>\n",
       "      <td>594.0</td>\n",
       "      <td>270</td>\n",
       "      <td>40.27</td>\n",
       "    </tr>\n",
       "    <tr>\n",
       "      <th>3</th>\n",
       "      <td>332.5</td>\n",
       "      <td>142.5</td>\n",
       "      <td>0.0</td>\n",
       "      <td>228.0</td>\n",
       "      <td>0.0</td>\n",
       "      <td>932.0</td>\n",
       "      <td>594.0</td>\n",
       "      <td>365</td>\n",
       "      <td>41.05</td>\n",
       "    </tr>\n",
       "    <tr>\n",
       "      <th>4</th>\n",
       "      <td>198.6</td>\n",
       "      <td>132.4</td>\n",
       "      <td>0.0</td>\n",
       "      <td>192.0</td>\n",
       "      <td>0.0</td>\n",
       "      <td>978.4</td>\n",
       "      <td>825.5</td>\n",
       "      <td>360</td>\n",
       "      <td>44.30</td>\n",
       "    </tr>\n",
       "  </tbody>\n",
       "</table>\n",
       "</div>"
      ],
      "text/plain": [
       "   Cement  Blast Furnace Slag  Fly Ash  Water  Superplasticizer  \\\n",
       "0   540.0                 0.0      0.0  162.0               2.5   \n",
       "1   540.0                 0.0      0.0  162.0               2.5   \n",
       "2   332.5               142.5      0.0  228.0               0.0   \n",
       "3   332.5               142.5      0.0  228.0               0.0   \n",
       "4   198.6               132.4      0.0  192.0               0.0   \n",
       "\n",
       "   Coarse Aggregate  Fine Aggregate  Age  Strength  \n",
       "0            1040.0           676.0   28     79.99  \n",
       "1            1055.0           676.0   28     61.89  \n",
       "2             932.0           594.0  270     40.27  \n",
       "3             932.0           594.0  365     41.05  \n",
       "4             978.4           825.5  360     44.30  "
      ]
     },
     "execution_count": 3,
     "metadata": {},
     "output_type": "execute_result"
    }
   ],
   "source": [
    "concrete_data = pd.read_csv('https://s3-api.us-geo.objectstorage.softlayer.net/cf-courses-data/CognitiveClass/DL0101EN/labs/data/concrete_data.csv')\n",
    "concrete_data.head()"
   ]
  },
  {
   "cell_type": "markdown",
   "id": "706bdfc7-091a-46cd-8f58-a4d3c6deebda",
   "metadata": {},
   "source": [
    "So the first concrete sample has 540 cubic meter of cement, 0 cubic meter of blast furnace slag, 0 cubic meter of fly ash, 162 cubic meter of water, 2.5 cubic meter of superplaticizer, 1040 cubic meter of coarse aggregate, 676 cubic meter of fine aggregate. Such a concrete mix which is 28 days old, has a compressive strength of 79.99 MPa. \n"
   ]
  },
  {
   "cell_type": "markdown",
   "id": "096653f3-f3cd-4501-a0ec-e97bcfd87c2e",
   "metadata": {},
   "source": [
    "Let's check how many data points we have.\n"
   ]
  },
  {
   "cell_type": "code",
   "execution_count": 4,
   "id": "407d8ca8-f344-4b12-8693-25f771c9bc49",
   "metadata": {},
   "outputs": [
    {
     "data": {
      "text/plain": [
       "(1030, 9)"
      ]
     },
     "execution_count": 4,
     "metadata": {},
     "output_type": "execute_result"
    }
   ],
   "source": [
    "concrete_data.shape"
   ]
  },
  {
   "cell_type": "markdown",
   "id": "869866b2-cdb5-44bb-8839-8f3040023e37",
   "metadata": {},
   "source": [
    "So, there are approximately 1000 samples to train our model on. Because of the few samples, we have to be careful not to overfit the training data.\n"
   ]
  },
  {
   "cell_type": "markdown",
   "id": "ed390578-bfe6-4aeb-855e-c9430b30d3f9",
   "metadata": {},
   "source": [
    "Let's check the dataset for any missing values.\n"
   ]
  },
  {
   "cell_type": "code",
   "execution_count": 5,
   "id": "a3895d7f-f484-452e-af11-2d02348e7ead",
   "metadata": {},
   "outputs": [
    {
     "data": {
      "text/html": [
       "<div>\n",
       "<style scoped>\n",
       "    .dataframe tbody tr th:only-of-type {\n",
       "        vertical-align: middle;\n",
       "    }\n",
       "\n",
       "    .dataframe tbody tr th {\n",
       "        vertical-align: top;\n",
       "    }\n",
       "\n",
       "    .dataframe thead th {\n",
       "        text-align: right;\n",
       "    }\n",
       "</style>\n",
       "<table border=\"1\" class=\"dataframe\">\n",
       "  <thead>\n",
       "    <tr style=\"text-align: right;\">\n",
       "      <th></th>\n",
       "      <th>Cement</th>\n",
       "      <th>Blast Furnace Slag</th>\n",
       "      <th>Fly Ash</th>\n",
       "      <th>Water</th>\n",
       "      <th>Superplasticizer</th>\n",
       "      <th>Coarse Aggregate</th>\n",
       "      <th>Fine Aggregate</th>\n",
       "      <th>Age</th>\n",
       "      <th>Strength</th>\n",
       "    </tr>\n",
       "  </thead>\n",
       "  <tbody>\n",
       "    <tr>\n",
       "      <th>count</th>\n",
       "      <td>1030.000000</td>\n",
       "      <td>1030.000000</td>\n",
       "      <td>1030.000000</td>\n",
       "      <td>1030.000000</td>\n",
       "      <td>1030.000000</td>\n",
       "      <td>1030.000000</td>\n",
       "      <td>1030.000000</td>\n",
       "      <td>1030.000000</td>\n",
       "      <td>1030.000000</td>\n",
       "    </tr>\n",
       "    <tr>\n",
       "      <th>mean</th>\n",
       "      <td>281.167864</td>\n",
       "      <td>73.895825</td>\n",
       "      <td>54.188350</td>\n",
       "      <td>181.567282</td>\n",
       "      <td>6.204660</td>\n",
       "      <td>972.918932</td>\n",
       "      <td>773.580485</td>\n",
       "      <td>45.662136</td>\n",
       "      <td>35.817961</td>\n",
       "    </tr>\n",
       "    <tr>\n",
       "      <th>std</th>\n",
       "      <td>104.506364</td>\n",
       "      <td>86.279342</td>\n",
       "      <td>63.997004</td>\n",
       "      <td>21.354219</td>\n",
       "      <td>5.973841</td>\n",
       "      <td>77.753954</td>\n",
       "      <td>80.175980</td>\n",
       "      <td>63.169912</td>\n",
       "      <td>16.705742</td>\n",
       "    </tr>\n",
       "    <tr>\n",
       "      <th>min</th>\n",
       "      <td>102.000000</td>\n",
       "      <td>0.000000</td>\n",
       "      <td>0.000000</td>\n",
       "      <td>121.800000</td>\n",
       "      <td>0.000000</td>\n",
       "      <td>801.000000</td>\n",
       "      <td>594.000000</td>\n",
       "      <td>1.000000</td>\n",
       "      <td>2.330000</td>\n",
       "    </tr>\n",
       "    <tr>\n",
       "      <th>25%</th>\n",
       "      <td>192.375000</td>\n",
       "      <td>0.000000</td>\n",
       "      <td>0.000000</td>\n",
       "      <td>164.900000</td>\n",
       "      <td>0.000000</td>\n",
       "      <td>932.000000</td>\n",
       "      <td>730.950000</td>\n",
       "      <td>7.000000</td>\n",
       "      <td>23.710000</td>\n",
       "    </tr>\n",
       "    <tr>\n",
       "      <th>50%</th>\n",
       "      <td>272.900000</td>\n",
       "      <td>22.000000</td>\n",
       "      <td>0.000000</td>\n",
       "      <td>185.000000</td>\n",
       "      <td>6.400000</td>\n",
       "      <td>968.000000</td>\n",
       "      <td>779.500000</td>\n",
       "      <td>28.000000</td>\n",
       "      <td>34.445000</td>\n",
       "    </tr>\n",
       "    <tr>\n",
       "      <th>75%</th>\n",
       "      <td>350.000000</td>\n",
       "      <td>142.950000</td>\n",
       "      <td>118.300000</td>\n",
       "      <td>192.000000</td>\n",
       "      <td>10.200000</td>\n",
       "      <td>1029.400000</td>\n",
       "      <td>824.000000</td>\n",
       "      <td>56.000000</td>\n",
       "      <td>46.135000</td>\n",
       "    </tr>\n",
       "    <tr>\n",
       "      <th>max</th>\n",
       "      <td>540.000000</td>\n",
       "      <td>359.400000</td>\n",
       "      <td>200.100000</td>\n",
       "      <td>247.000000</td>\n",
       "      <td>32.200000</td>\n",
       "      <td>1145.000000</td>\n",
       "      <td>992.600000</td>\n",
       "      <td>365.000000</td>\n",
       "      <td>82.600000</td>\n",
       "    </tr>\n",
       "  </tbody>\n",
       "</table>\n",
       "</div>"
      ],
      "text/plain": [
       "            Cement  Blast Furnace Slag      Fly Ash        Water  \\\n",
       "count  1030.000000         1030.000000  1030.000000  1030.000000   \n",
       "mean    281.167864           73.895825    54.188350   181.567282   \n",
       "std     104.506364           86.279342    63.997004    21.354219   \n",
       "min     102.000000            0.000000     0.000000   121.800000   \n",
       "25%     192.375000            0.000000     0.000000   164.900000   \n",
       "50%     272.900000           22.000000     0.000000   185.000000   \n",
       "75%     350.000000          142.950000   118.300000   192.000000   \n",
       "max     540.000000          359.400000   200.100000   247.000000   \n",
       "\n",
       "       Superplasticizer  Coarse Aggregate  Fine Aggregate          Age  \\\n",
       "count       1030.000000       1030.000000     1030.000000  1030.000000   \n",
       "mean           6.204660        972.918932      773.580485    45.662136   \n",
       "std            5.973841         77.753954       80.175980    63.169912   \n",
       "min            0.000000        801.000000      594.000000     1.000000   \n",
       "25%            0.000000        932.000000      730.950000     7.000000   \n",
       "50%            6.400000        968.000000      779.500000    28.000000   \n",
       "75%           10.200000       1029.400000      824.000000    56.000000   \n",
       "max           32.200000       1145.000000      992.600000   365.000000   \n",
       "\n",
       "          Strength  \n",
       "count  1030.000000  \n",
       "mean     35.817961  \n",
       "std      16.705742  \n",
       "min       2.330000  \n",
       "25%      23.710000  \n",
       "50%      34.445000  \n",
       "75%      46.135000  \n",
       "max      82.600000  "
      ]
     },
     "execution_count": 5,
     "metadata": {},
     "output_type": "execute_result"
    }
   ],
   "source": [
    "concrete_data.describe()"
   ]
  },
  {
   "cell_type": "code",
   "execution_count": 6,
   "id": "a58da867-e4c0-47a8-8602-fa4f79e87a08",
   "metadata": {},
   "outputs": [
    {
     "data": {
      "text/plain": [
       "Cement                0\n",
       "Blast Furnace Slag    0\n",
       "Fly Ash               0\n",
       "Water                 0\n",
       "Superplasticizer      0\n",
       "Coarse Aggregate      0\n",
       "Fine Aggregate        0\n",
       "Age                   0\n",
       "Strength              0\n",
       "dtype: int64"
      ]
     },
     "execution_count": 6,
     "metadata": {},
     "output_type": "execute_result"
    }
   ],
   "source": [
    "concrete_data.isnull().sum()"
   ]
  },
  {
   "cell_type": "markdown",
   "id": "28ddc0de-4d50-46f6-abdd-7bcefef73cb6",
   "metadata": {},
   "source": [
    "The data looks very clean and is ready to be used to build our model.\n"
   ]
  },
  {
   "cell_type": "markdown",
   "id": "3b687177-09f6-4a4c-b33f-941f3384f531",
   "metadata": {},
   "source": [
    "#### Split data into predictors and target\n"
   ]
  },
  {
   "cell_type": "markdown",
   "id": "b3ad8be4-a0ce-4c7d-b10a-fcfa92dc1988",
   "metadata": {},
   "source": [
    "The target variable in this problem is the concrete sample strength. Therefore, our predictors will be all the other columns.\n"
   ]
  },
  {
   "cell_type": "code",
   "execution_count": 7,
   "id": "d7e34bc0-4049-47ed-9d7c-7165c6ed0b44",
   "metadata": {},
   "outputs": [],
   "source": [
    "concrete_data_columns = concrete_data.columns\n",
    "\n",
    "predictors = concrete_data[concrete_data_columns[concrete_data_columns != 'Strength']] # all columns except Strength\n",
    "target = concrete_data['Strength'] # Strength column"
   ]
  },
  {
   "cell_type": "markdown",
   "id": "7173a729-3550-4995-8b98-9a07778c3049",
   "metadata": {},
   "source": [
    "Let's do a quick sanity check of the predictors and the target dataframes.\n"
   ]
  },
  {
   "cell_type": "code",
   "execution_count": 8,
   "id": "f9a88559-09f4-43d0-9845-798f805f1119",
   "metadata": {},
   "outputs": [
    {
     "data": {
      "text/html": [
       "<div>\n",
       "<style scoped>\n",
       "    .dataframe tbody tr th:only-of-type {\n",
       "        vertical-align: middle;\n",
       "    }\n",
       "\n",
       "    .dataframe tbody tr th {\n",
       "        vertical-align: top;\n",
       "    }\n",
       "\n",
       "    .dataframe thead th {\n",
       "        text-align: right;\n",
       "    }\n",
       "</style>\n",
       "<table border=\"1\" class=\"dataframe\">\n",
       "  <thead>\n",
       "    <tr style=\"text-align: right;\">\n",
       "      <th></th>\n",
       "      <th>Cement</th>\n",
       "      <th>Blast Furnace Slag</th>\n",
       "      <th>Fly Ash</th>\n",
       "      <th>Water</th>\n",
       "      <th>Superplasticizer</th>\n",
       "      <th>Coarse Aggregate</th>\n",
       "      <th>Fine Aggregate</th>\n",
       "      <th>Age</th>\n",
       "    </tr>\n",
       "  </thead>\n",
       "  <tbody>\n",
       "    <tr>\n",
       "      <th>0</th>\n",
       "      <td>540.0</td>\n",
       "      <td>0.0</td>\n",
       "      <td>0.0</td>\n",
       "      <td>162.0</td>\n",
       "      <td>2.5</td>\n",
       "      <td>1040.0</td>\n",
       "      <td>676.0</td>\n",
       "      <td>28</td>\n",
       "    </tr>\n",
       "    <tr>\n",
       "      <th>1</th>\n",
       "      <td>540.0</td>\n",
       "      <td>0.0</td>\n",
       "      <td>0.0</td>\n",
       "      <td>162.0</td>\n",
       "      <td>2.5</td>\n",
       "      <td>1055.0</td>\n",
       "      <td>676.0</td>\n",
       "      <td>28</td>\n",
       "    </tr>\n",
       "    <tr>\n",
       "      <th>2</th>\n",
       "      <td>332.5</td>\n",
       "      <td>142.5</td>\n",
       "      <td>0.0</td>\n",
       "      <td>228.0</td>\n",
       "      <td>0.0</td>\n",
       "      <td>932.0</td>\n",
       "      <td>594.0</td>\n",
       "      <td>270</td>\n",
       "    </tr>\n",
       "    <tr>\n",
       "      <th>3</th>\n",
       "      <td>332.5</td>\n",
       "      <td>142.5</td>\n",
       "      <td>0.0</td>\n",
       "      <td>228.0</td>\n",
       "      <td>0.0</td>\n",
       "      <td>932.0</td>\n",
       "      <td>594.0</td>\n",
       "      <td>365</td>\n",
       "    </tr>\n",
       "    <tr>\n",
       "      <th>4</th>\n",
       "      <td>198.6</td>\n",
       "      <td>132.4</td>\n",
       "      <td>0.0</td>\n",
       "      <td>192.0</td>\n",
       "      <td>0.0</td>\n",
       "      <td>978.4</td>\n",
       "      <td>825.5</td>\n",
       "      <td>360</td>\n",
       "    </tr>\n",
       "  </tbody>\n",
       "</table>\n",
       "</div>"
      ],
      "text/plain": [
       "   Cement  Blast Furnace Slag  Fly Ash  Water  Superplasticizer  \\\n",
       "0   540.0                 0.0      0.0  162.0               2.5   \n",
       "1   540.0                 0.0      0.0  162.0               2.5   \n",
       "2   332.5               142.5      0.0  228.0               0.0   \n",
       "3   332.5               142.5      0.0  228.0               0.0   \n",
       "4   198.6               132.4      0.0  192.0               0.0   \n",
       "\n",
       "   Coarse Aggregate  Fine Aggregate  Age  \n",
       "0            1040.0           676.0   28  \n",
       "1            1055.0           676.0   28  \n",
       "2             932.0           594.0  270  \n",
       "3             932.0           594.0  365  \n",
       "4             978.4           825.5  360  "
      ]
     },
     "execution_count": 8,
     "metadata": {},
     "output_type": "execute_result"
    }
   ],
   "source": [
    "predictors.head()"
   ]
  },
  {
   "cell_type": "code",
   "execution_count": 9,
   "id": "17fe5f47-6136-4a09-b558-f3705c9aeb1b",
   "metadata": {},
   "outputs": [
    {
     "data": {
      "text/plain": [
       "0    79.99\n",
       "1    61.89\n",
       "2    40.27\n",
       "3    41.05\n",
       "4    44.30\n",
       "Name: Strength, dtype: float64"
      ]
     },
     "execution_count": 9,
     "metadata": {},
     "output_type": "execute_result"
    }
   ],
   "source": [
    "target.head()"
   ]
  },
  {
   "cell_type": "code",
   "execution_count": 10,
   "metadata": {},
   "outputs": [
    {
     "data": {
      "text/plain": [
       "0       79.99\n",
       "1       61.89\n",
       "2       40.27\n",
       "3       41.05\n",
       "4       44.30\n",
       "        ...  \n",
       "1025    44.28\n",
       "1026    31.18\n",
       "1027    23.70\n",
       "1028    32.77\n",
       "1029    32.40\n",
       "Name: Strength, Length: 1030, dtype: float64"
      ]
     },
     "execution_count": 10,
     "metadata": {},
     "output_type": "execute_result"
    }
   ],
   "source": [
    "target"
   ]
  },
  {
   "cell_type": "markdown",
   "id": "a2641570-5693-4ac8-9887-582da313d466",
   "metadata": {},
   "source": [
    "Finally, the last step is to normalize the data by substracting the mean and dividing by the standard deviation.\n"
   ]
  },
  {
   "cell_type": "markdown",
   "metadata": {},
   "source": [
    "This is called z-score normalization.  "
   ]
  },
  {
   "cell_type": "code",
   "execution_count": 11,
   "id": "82807e29-a97d-4f2e-8c05-552c149990db",
   "metadata": {},
   "outputs": [
    {
     "data": {
      "text/html": [
       "<div>\n",
       "<style scoped>\n",
       "    .dataframe tbody tr th:only-of-type {\n",
       "        vertical-align: middle;\n",
       "    }\n",
       "\n",
       "    .dataframe tbody tr th {\n",
       "        vertical-align: top;\n",
       "    }\n",
       "\n",
       "    .dataframe thead th {\n",
       "        text-align: right;\n",
       "    }\n",
       "</style>\n",
       "<table border=\"1\" class=\"dataframe\">\n",
       "  <thead>\n",
       "    <tr style=\"text-align: right;\">\n",
       "      <th></th>\n",
       "      <th>Cement</th>\n",
       "      <th>Blast Furnace Slag</th>\n",
       "      <th>Fly Ash</th>\n",
       "      <th>Water</th>\n",
       "      <th>Superplasticizer</th>\n",
       "      <th>Coarse Aggregate</th>\n",
       "      <th>Fine Aggregate</th>\n",
       "      <th>Age</th>\n",
       "    </tr>\n",
       "  </thead>\n",
       "  <tbody>\n",
       "    <tr>\n",
       "      <th>0</th>\n",
       "      <td>2.476712</td>\n",
       "      <td>-0.856472</td>\n",
       "      <td>-0.846733</td>\n",
       "      <td>-0.916319</td>\n",
       "      <td>-0.620147</td>\n",
       "      <td>0.862735</td>\n",
       "      <td>-1.217079</td>\n",
       "      <td>-0.279597</td>\n",
       "    </tr>\n",
       "    <tr>\n",
       "      <th>1</th>\n",
       "      <td>2.476712</td>\n",
       "      <td>-0.856472</td>\n",
       "      <td>-0.846733</td>\n",
       "      <td>-0.916319</td>\n",
       "      <td>-0.620147</td>\n",
       "      <td>1.055651</td>\n",
       "      <td>-1.217079</td>\n",
       "      <td>-0.279597</td>\n",
       "    </tr>\n",
       "    <tr>\n",
       "      <th>2</th>\n",
       "      <td>0.491187</td>\n",
       "      <td>0.795140</td>\n",
       "      <td>-0.846733</td>\n",
       "      <td>2.174405</td>\n",
       "      <td>-1.038638</td>\n",
       "      <td>-0.526262</td>\n",
       "      <td>-2.239829</td>\n",
       "      <td>3.551340</td>\n",
       "    </tr>\n",
       "    <tr>\n",
       "      <th>3</th>\n",
       "      <td>0.491187</td>\n",
       "      <td>0.795140</td>\n",
       "      <td>-0.846733</td>\n",
       "      <td>2.174405</td>\n",
       "      <td>-1.038638</td>\n",
       "      <td>-0.526262</td>\n",
       "      <td>-2.239829</td>\n",
       "      <td>5.055221</td>\n",
       "    </tr>\n",
       "    <tr>\n",
       "      <th>4</th>\n",
       "      <td>-0.790075</td>\n",
       "      <td>0.678079</td>\n",
       "      <td>-0.846733</td>\n",
       "      <td>0.488555</td>\n",
       "      <td>-1.038638</td>\n",
       "      <td>0.070492</td>\n",
       "      <td>0.647569</td>\n",
       "      <td>4.976069</td>\n",
       "    </tr>\n",
       "  </tbody>\n",
       "</table>\n",
       "</div>"
      ],
      "text/plain": [
       "     Cement  Blast Furnace Slag   Fly Ash     Water  Superplasticizer  \\\n",
       "0  2.476712           -0.856472 -0.846733 -0.916319         -0.620147   \n",
       "1  2.476712           -0.856472 -0.846733 -0.916319         -0.620147   \n",
       "2  0.491187            0.795140 -0.846733  2.174405         -1.038638   \n",
       "3  0.491187            0.795140 -0.846733  2.174405         -1.038638   \n",
       "4 -0.790075            0.678079 -0.846733  0.488555         -1.038638   \n",
       "\n",
       "   Coarse Aggregate  Fine Aggregate       Age  \n",
       "0          0.862735       -1.217079 -0.279597  \n",
       "1          1.055651       -1.217079 -0.279597  \n",
       "2         -0.526262       -2.239829  3.551340  \n",
       "3         -0.526262       -2.239829  5.055221  \n",
       "4          0.070492        0.647569  4.976069  "
      ]
     },
     "execution_count": 11,
     "metadata": {},
     "output_type": "execute_result"
    }
   ],
   "source": [
    "predictors_norm = (predictors - predictors.mean()) / predictors.std()\n",
    "predictors_norm.head()"
   ]
  },
  {
   "cell_type": "markdown",
   "id": "02b08228-7a39-4a4c-bae2-87d0c334a3f6",
   "metadata": {},
   "source": [
    "Let's save the number of predictors to *n_cols* since we will need this number when building our network.\n"
   ]
  },
  {
   "cell_type": "code",
   "execution_count": 12,
   "metadata": {},
   "outputs": [
    {
     "data": {
      "text/html": [
       "<div>\n",
       "<style scoped>\n",
       "    .dataframe tbody tr th:only-of-type {\n",
       "        vertical-align: middle;\n",
       "    }\n",
       "\n",
       "    .dataframe tbody tr th {\n",
       "        vertical-align: top;\n",
       "    }\n",
       "\n",
       "    .dataframe thead th {\n",
       "        text-align: right;\n",
       "    }\n",
       "</style>\n",
       "<table border=\"1\" class=\"dataframe\">\n",
       "  <thead>\n",
       "    <tr style=\"text-align: right;\">\n",
       "      <th></th>\n",
       "      <th>Cement</th>\n",
       "      <th>Blast Furnace Slag</th>\n",
       "      <th>Fly Ash</th>\n",
       "      <th>Water</th>\n",
       "      <th>Superplasticizer</th>\n",
       "      <th>Coarse Aggregate</th>\n",
       "      <th>Fine Aggregate</th>\n",
       "      <th>Age</th>\n",
       "    </tr>\n",
       "  </thead>\n",
       "  <tbody>\n",
       "    <tr>\n",
       "      <th>0</th>\n",
       "      <td>2.476712</td>\n",
       "      <td>-0.856472</td>\n",
       "      <td>-0.846733</td>\n",
       "      <td>-0.916319</td>\n",
       "      <td>-0.620147</td>\n",
       "      <td>0.862735</td>\n",
       "      <td>-1.217079</td>\n",
       "      <td>-0.279597</td>\n",
       "    </tr>\n",
       "    <tr>\n",
       "      <th>1</th>\n",
       "      <td>2.476712</td>\n",
       "      <td>-0.856472</td>\n",
       "      <td>-0.846733</td>\n",
       "      <td>-0.916319</td>\n",
       "      <td>-0.620147</td>\n",
       "      <td>1.055651</td>\n",
       "      <td>-1.217079</td>\n",
       "      <td>-0.279597</td>\n",
       "    </tr>\n",
       "    <tr>\n",
       "      <th>2</th>\n",
       "      <td>0.491187</td>\n",
       "      <td>0.795140</td>\n",
       "      <td>-0.846733</td>\n",
       "      <td>2.174405</td>\n",
       "      <td>-1.038638</td>\n",
       "      <td>-0.526262</td>\n",
       "      <td>-2.239829</td>\n",
       "      <td>3.551340</td>\n",
       "    </tr>\n",
       "    <tr>\n",
       "      <th>3</th>\n",
       "      <td>0.491187</td>\n",
       "      <td>0.795140</td>\n",
       "      <td>-0.846733</td>\n",
       "      <td>2.174405</td>\n",
       "      <td>-1.038638</td>\n",
       "      <td>-0.526262</td>\n",
       "      <td>-2.239829</td>\n",
       "      <td>5.055221</td>\n",
       "    </tr>\n",
       "    <tr>\n",
       "      <th>4</th>\n",
       "      <td>-0.790075</td>\n",
       "      <td>0.678079</td>\n",
       "      <td>-0.846733</td>\n",
       "      <td>0.488555</td>\n",
       "      <td>-1.038638</td>\n",
       "      <td>0.070492</td>\n",
       "      <td>0.647569</td>\n",
       "      <td>4.976069</td>\n",
       "    </tr>\n",
       "    <tr>\n",
       "      <th>...</th>\n",
       "      <td>...</td>\n",
       "      <td>...</td>\n",
       "      <td>...</td>\n",
       "      <td>...</td>\n",
       "      <td>...</td>\n",
       "      <td>...</td>\n",
       "      <td>...</td>\n",
       "      <td>...</td>\n",
       "    </tr>\n",
       "    <tr>\n",
       "      <th>1025</th>\n",
       "      <td>-0.045623</td>\n",
       "      <td>0.487998</td>\n",
       "      <td>0.564271</td>\n",
       "      <td>-0.092126</td>\n",
       "      <td>0.451190</td>\n",
       "      <td>-1.322363</td>\n",
       "      <td>-0.065861</td>\n",
       "      <td>-0.279597</td>\n",
       "    </tr>\n",
       "    <tr>\n",
       "      <th>1026</th>\n",
       "      <td>0.392628</td>\n",
       "      <td>-0.856472</td>\n",
       "      <td>0.959602</td>\n",
       "      <td>0.675872</td>\n",
       "      <td>0.702285</td>\n",
       "      <td>-1.993711</td>\n",
       "      <td>0.496651</td>\n",
       "      <td>-0.279597</td>\n",
       "    </tr>\n",
       "    <tr>\n",
       "      <th>1027</th>\n",
       "      <td>-1.269472</td>\n",
       "      <td>0.759210</td>\n",
       "      <td>0.850222</td>\n",
       "      <td>0.521336</td>\n",
       "      <td>-0.017520</td>\n",
       "      <td>-1.035561</td>\n",
       "      <td>0.080068</td>\n",
       "      <td>-0.279597</td>\n",
       "    </tr>\n",
       "    <tr>\n",
       "      <th>1028</th>\n",
       "      <td>-1.168042</td>\n",
       "      <td>1.307430</td>\n",
       "      <td>-0.846733</td>\n",
       "      <td>-0.279443</td>\n",
       "      <td>0.852942</td>\n",
       "      <td>0.214537</td>\n",
       "      <td>0.191074</td>\n",
       "      <td>-0.279597</td>\n",
       "    </tr>\n",
       "    <tr>\n",
       "      <th>1029</th>\n",
       "      <td>-0.193939</td>\n",
       "      <td>0.308349</td>\n",
       "      <td>0.376762</td>\n",
       "      <td>0.891286</td>\n",
       "      <td>0.400971</td>\n",
       "      <td>-1.394385</td>\n",
       "      <td>-0.150675</td>\n",
       "      <td>-0.279597</td>\n",
       "    </tr>\n",
       "  </tbody>\n",
       "</table>\n",
       "<p>1030 rows × 8 columns</p>\n",
       "</div>"
      ],
      "text/plain": [
       "        Cement  Blast Furnace Slag   Fly Ash     Water  Superplasticizer  \\\n",
       "0     2.476712           -0.856472 -0.846733 -0.916319         -0.620147   \n",
       "1     2.476712           -0.856472 -0.846733 -0.916319         -0.620147   \n",
       "2     0.491187            0.795140 -0.846733  2.174405         -1.038638   \n",
       "3     0.491187            0.795140 -0.846733  2.174405         -1.038638   \n",
       "4    -0.790075            0.678079 -0.846733  0.488555         -1.038638   \n",
       "...        ...                 ...       ...       ...               ...   \n",
       "1025 -0.045623            0.487998  0.564271 -0.092126          0.451190   \n",
       "1026  0.392628           -0.856472  0.959602  0.675872          0.702285   \n",
       "1027 -1.269472            0.759210  0.850222  0.521336         -0.017520   \n",
       "1028 -1.168042            1.307430 -0.846733 -0.279443          0.852942   \n",
       "1029 -0.193939            0.308349  0.376762  0.891286          0.400971   \n",
       "\n",
       "      Coarse Aggregate  Fine Aggregate       Age  \n",
       "0             0.862735       -1.217079 -0.279597  \n",
       "1             1.055651       -1.217079 -0.279597  \n",
       "2            -0.526262       -2.239829  3.551340  \n",
       "3            -0.526262       -2.239829  5.055221  \n",
       "4             0.070492        0.647569  4.976069  \n",
       "...                ...             ...       ...  \n",
       "1025         -1.322363       -0.065861 -0.279597  \n",
       "1026         -1.993711        0.496651 -0.279597  \n",
       "1027         -1.035561        0.080068 -0.279597  \n",
       "1028          0.214537        0.191074 -0.279597  \n",
       "1029         -1.394385       -0.150675 -0.279597  \n",
       "\n",
       "[1030 rows x 8 columns]"
      ]
     },
     "execution_count": 12,
     "metadata": {},
     "output_type": "execute_result"
    }
   ],
   "source": [
    "# convert the data to numpy array\n",
    "predictors_norm\n"
   ]
  },
  {
   "cell_type": "code",
   "execution_count": 13,
   "id": "6d27243a-845f-46e5-beb6-6dc13d5ef396",
   "metadata": {},
   "outputs": [],
   "source": [
    "n_cols = predictors_norm.shape[1] # number of predictors"
   ]
  },
  {
   "cell_type": "code",
   "execution_count": 14,
   "metadata": {},
   "outputs": [
    {
     "data": {
      "text/plain": [
       "8"
      ]
     },
     "execution_count": 14,
     "metadata": {},
     "output_type": "execute_result"
    }
   ],
   "source": [
    "n_cols"
   ]
  },
  {
   "cell_type": "markdown",
   "id": "c9929027-4615-476f-a668-a0f547ae1006",
   "metadata": {},
   "source": [
    "## Import Keras\n"
   ]
  },
  {
   "cell_type": "code",
   "execution_count": 15,
   "id": "b5c62820-c6c3-44fc-ae0c-28684be4e40b",
   "metadata": {},
   "outputs": [],
   "source": [
    "import keras"
   ]
  },
  {
   "cell_type": "markdown",
   "id": "982ee5d4-c918-44cf-8ac4-bf68c080a979",
   "metadata": {},
   "source": [
    "Keras is built on the backend of TensorFlow which is used to install the Keras library.\n"
   ]
  },
  {
   "cell_type": "markdown",
   "id": "ff242bc9-8e7a-44ef-85da-85a742dbfc2d",
   "metadata": {},
   "source": [
    "Let's import the rest of the packages from the Keras library that we will need to build our regressoin model.\n"
   ]
  },
  {
   "cell_type": "code",
   "execution_count": 62,
   "id": "40129e19-105f-4a6e-a560-496b68f7cbb7",
   "metadata": {},
   "outputs": [],
   "source": [
    "from keras.models import Sequential\n",
    "from keras.layers import Dense"
   ]
  },
  {
   "cell_type": "markdown",
   "id": "a4639365-bfab-41c6-aa8d-e5b6fd205f09",
   "metadata": {},
   "source": [
    "## Build a Neural Network\n"
   ]
  },
  {
   "cell_type": "markdown",
   "id": "6740b923-eaae-4576-945e-2da8559fd447",
   "metadata": {},
   "source": [
    "Let's define a function that defines our regression model for us so that we can conveniently call it to create our model.\n"
   ]
  },
  {
   "cell_type": "code",
   "execution_count": 18,
   "metadata": {},
   "outputs": [],
   "source": [
    "# Build a keras sequential model with 50 hidden layers, each of n_cols nodes and ReLU activation function.\n",
    "def regression_model():\n",
    "    # create model\n",
    "    model = keras.Sequential()\n",
    "    model.add(keras.layers.Dense(n_cols, activation='relu', input_shape=(n_cols,)))\n",
    "    for _ in range(49):  # Add 49 more hidden layers\n",
    "        model.add(keras.layers.Dense(n_cols, activation='relu'))\n",
    "    model.add(keras.layers.Dense(1))\n",
    "\n",
    "    # compile model\n",
    "    model.compile(optimizer='adam', loss='mean_squared_error')\n",
    "    return model"
   ]
  },
  {
   "cell_type": "markdown",
   "id": "90c19b9e-1000-4d77-bdaf-fa5b3374c754",
   "metadata": {},
   "source": [
    "The above function create a model that has two hidden layers, each of 50 hidden units.\n"
   ]
  },
  {
   "cell_type": "markdown",
   "id": "6d818d59-a527-45d4-ae4b-3426b21475ad",
   "metadata": {},
   "source": [
    "## Train and Test the Network\n"
   ]
  },
  {
   "cell_type": "markdown",
   "id": "6877952a-9cff-4e91-8a8a-eaf75e4bf198",
   "metadata": {},
   "source": [
    "Let's call the function now to create our model.\n"
   ]
  },
  {
   "cell_type": "markdown",
   "id": "08b8f32c-e879-4cc7-9504-82996b9ab84f",
   "metadata": {},
   "source": [
    "Next, we will train and test the model at the same time using the *fit* method. We will leave out 30% of the data for validation and we will train the model for 100 epochs.\n"
   ]
  },
  {
   "cell_type": "code",
   "execution_count": 20,
   "metadata": {},
   "outputs": [
    {
     "name": "stderr",
     "output_type": "stream",
     "text": [
      "c:\\Users\\willl\\OneDrive\\Desktop\\My_Documents\\Wills_Py_Folder\\venv\\Lib\\site-packages\\keras\\src\\layers\\core\\dense.py:87: UserWarning: Do not pass an `input_shape`/`input_dim` argument to a layer. When using Sequential models, prefer using an `Input(shape)` object as the first layer in the model instead.\n",
      "  super().__init__(activity_regularizer=activity_regularizer, **kwargs)\n"
     ]
    },
    {
     "name": "stdout",
     "output_type": "stream",
     "text": [
      "Epoch 1/100\n",
      "23/23 - 9s - 374ms/step - loss: 1700.7656 - val_loss: 1229.6372\n",
      "Epoch 2/100\n",
      "23/23 - 0s - 5ms/step - loss: 1694.9348 - val_loss: 1221.7961\n",
      "Epoch 3/100\n",
      "23/23 - 0s - 5ms/step - loss: 1678.1056 - val_loss: 1192.9993\n",
      "Epoch 4/100\n",
      "23/23 - 0s - 5ms/step - loss: 1593.4027 - val_loss: 1023.0997\n",
      "Epoch 5/100\n",
      "23/23 - 0s - 5ms/step - loss: 1032.8152 - val_loss: 181.0159\n",
      "Epoch 6/100\n",
      "23/23 - 0s - 5ms/step - loss: 347.4885 - val_loss: 185.1461\n",
      "Epoch 7/100\n",
      "23/23 - 0s - 5ms/step - loss: 314.7646 - val_loss: 215.1322\n",
      "Epoch 8/100\n",
      "23/23 - 0s - 6ms/step - loss: 316.9394 - val_loss: 213.3203\n",
      "Epoch 9/100\n",
      "23/23 - 0s - 6ms/step - loss: 315.5867 - val_loss: 200.1444\n",
      "Epoch 10/100\n",
      "23/23 - 0s - 5ms/step - loss: 320.8089 - val_loss: 215.7371\n",
      "Epoch 11/100\n",
      "23/23 - 0s - 5ms/step - loss: 315.3584 - val_loss: 193.1290\n",
      "Epoch 12/100\n",
      "23/23 - 0s - 5ms/step - loss: 316.6049 - val_loss: 221.2351\n",
      "Epoch 13/100\n",
      "23/23 - 0s - 6ms/step - loss: 316.1042 - val_loss: 190.2496\n",
      "Epoch 14/100\n",
      "23/23 - 0s - 6ms/step - loss: 315.4227 - val_loss: 206.4944\n",
      "Epoch 15/100\n",
      "23/23 - 0s - 5ms/step - loss: 314.8701 - val_loss: 202.7204\n",
      "Epoch 16/100\n",
      "23/23 - 0s - 6ms/step - loss: 314.3653 - val_loss: 202.4236\n",
      "Epoch 17/100\n",
      "23/23 - 0s - 5ms/step - loss: 317.4920 - val_loss: 239.8810\n",
      "Epoch 18/100\n",
      "23/23 - 0s - 5ms/step - loss: 314.7454 - val_loss: 191.5612\n",
      "Epoch 19/100\n",
      "23/23 - 0s - 5ms/step - loss: 316.2557 - val_loss: 202.0222\n",
      "Epoch 20/100\n",
      "23/23 - 0s - 5ms/step - loss: 314.6326 - val_loss: 197.2665\n",
      "Epoch 21/100\n",
      "23/23 - 0s - 6ms/step - loss: 316.1507 - val_loss: 208.9008\n",
      "Epoch 22/100\n",
      "23/23 - 0s - 5ms/step - loss: 314.7629 - val_loss: 184.4002\n",
      "Epoch 23/100\n",
      "23/23 - 0s - 6ms/step - loss: 315.9182 - val_loss: 214.1902\n",
      "Epoch 24/100\n",
      "23/23 - 0s - 6ms/step - loss: 315.0520 - val_loss: 195.9283\n",
      "Epoch 25/100\n",
      "23/23 - 0s - 5ms/step - loss: 315.1229 - val_loss: 203.6811\n",
      "Epoch 26/100\n",
      "23/23 - 0s - 5ms/step - loss: 314.7262 - val_loss: 195.2977\n",
      "Epoch 27/100\n",
      "23/23 - 0s - 5ms/step - loss: 314.3087 - val_loss: 225.5247\n",
      "Epoch 28/100\n",
      "23/23 - 0s - 5ms/step - loss: 315.3835 - val_loss: 190.4305\n",
      "Epoch 29/100\n",
      "23/23 - 0s - 5ms/step - loss: 320.0531 - val_loss: 235.4151\n",
      "Epoch 30/100\n",
      "23/23 - 0s - 5ms/step - loss: 322.0779 - val_loss: 199.0012\n",
      "Epoch 31/100\n",
      "23/23 - 0s - 5ms/step - loss: 317.9077 - val_loss: 203.9501\n",
      "Epoch 32/100\n",
      "23/23 - 0s - 5ms/step - loss: 315.6533 - val_loss: 219.0568\n",
      "Epoch 33/100\n",
      "23/23 - 0s - 5ms/step - loss: 315.8737 - val_loss: 216.8668\n",
      "Epoch 34/100\n",
      "23/23 - 0s - 5ms/step - loss: 316.5126 - val_loss: 211.7435\n",
      "Epoch 35/100\n",
      "23/23 - 0s - 5ms/step - loss: 314.2926 - val_loss: 194.7843\n",
      "Epoch 36/100\n",
      "23/23 - 0s - 5ms/step - loss: 317.8082 - val_loss: 200.0999\n",
      "Epoch 37/100\n",
      "23/23 - 0s - 5ms/step - loss: 315.2226 - val_loss: 197.1153\n",
      "Epoch 38/100\n",
      "23/23 - 0s - 5ms/step - loss: 314.9543 - val_loss: 198.9521\n",
      "Epoch 39/100\n",
      "23/23 - 0s - 5ms/step - loss: 314.9732 - val_loss: 192.3349\n",
      "Epoch 40/100\n",
      "23/23 - 0s - 5ms/step - loss: 316.9238 - val_loss: 217.1161\n",
      "Epoch 41/100\n",
      "23/23 - 0s - 5ms/step - loss: 316.7802 - val_loss: 200.0735\n",
      "Epoch 42/100\n",
      "23/23 - 0s - 7ms/step - loss: 318.4045 - val_loss: 204.6069\n",
      "Epoch 43/100\n",
      "23/23 - 0s - 8ms/step - loss: 315.1671 - val_loss: 189.5629\n",
      "Epoch 44/100\n",
      "23/23 - 0s - 8ms/step - loss: 315.3119 - val_loss: 208.0899\n",
      "Epoch 45/100\n",
      "23/23 - 0s - 6ms/step - loss: 315.3377 - val_loss: 195.2474\n",
      "Epoch 46/100\n",
      "23/23 - 0s - 9ms/step - loss: 315.9656 - val_loss: 192.4993\n",
      "Epoch 47/100\n",
      "23/23 - 0s - 7ms/step - loss: 316.2510 - val_loss: 189.4772\n",
      "Epoch 48/100\n",
      "23/23 - 0s - 6ms/step - loss: 316.8166 - val_loss: 227.6568\n",
      "Epoch 49/100\n",
      "23/23 - 0s - 6ms/step - loss: 317.2289 - val_loss: 214.7274\n",
      "Epoch 50/100\n",
      "23/23 - 0s - 6ms/step - loss: 319.9660 - val_loss: 192.4196\n",
      "Epoch 51/100\n",
      "23/23 - 0s - 6ms/step - loss: 315.9519 - val_loss: 241.0524\n",
      "Epoch 52/100\n",
      "23/23 - 0s - 5ms/step - loss: 316.6163 - val_loss: 196.2046\n",
      "Epoch 53/100\n",
      "23/23 - 0s - 6ms/step - loss: 313.0376 - val_loss: 244.4549\n",
      "Epoch 54/100\n",
      "23/23 - 0s - 5ms/step - loss: 320.8443 - val_loss: 199.1111\n",
      "Epoch 55/100\n",
      "23/23 - 0s - 6ms/step - loss: 316.0857 - val_loss: 183.0066\n",
      "Epoch 56/100\n",
      "23/23 - 0s - 6ms/step - loss: 319.9098 - val_loss: 192.9694\n",
      "Epoch 57/100\n",
      "23/23 - 0s - 6ms/step - loss: 316.2860 - val_loss: 198.2505\n",
      "Epoch 58/100\n",
      "23/23 - 0s - 6ms/step - loss: 317.2992 - val_loss: 196.7447\n",
      "Epoch 59/100\n",
      "23/23 - 0s - 6ms/step - loss: 315.1505 - val_loss: 199.5970\n",
      "Epoch 60/100\n",
      "23/23 - 0s - 6ms/step - loss: 316.2558 - val_loss: 217.4996\n",
      "Epoch 61/100\n",
      "23/23 - 0s - 6ms/step - loss: 314.5384 - val_loss: 193.9939\n",
      "Epoch 62/100\n",
      "23/23 - 0s - 5ms/step - loss: 315.0134 - val_loss: 194.3538\n",
      "Epoch 63/100\n",
      "23/23 - 0s - 5ms/step - loss: 316.0048 - val_loss: 194.0267\n",
      "Epoch 64/100\n",
      "23/23 - 0s - 5ms/step - loss: 314.3393 - val_loss: 220.6575\n",
      "Epoch 65/100\n",
      "23/23 - 0s - 5ms/step - loss: 314.7492 - val_loss: 190.3803\n",
      "Epoch 66/100\n",
      "23/23 - 0s - 6ms/step - loss: 318.1810 - val_loss: 198.1921\n",
      "Epoch 67/100\n",
      "23/23 - 0s - 6ms/step - loss: 315.0694 - val_loss: 195.6947\n",
      "Epoch 68/100\n",
      "23/23 - 0s - 6ms/step - loss: 322.0145 - val_loss: 231.7606\n",
      "Epoch 69/100\n",
      "23/23 - 0s - 6ms/step - loss: 316.2080 - val_loss: 204.0684\n",
      "Epoch 70/100\n",
      "23/23 - 0s - 5ms/step - loss: 314.6351 - val_loss: 195.7399\n",
      "Epoch 71/100\n",
      "23/23 - 0s - 5ms/step - loss: 315.3055 - val_loss: 197.9388\n",
      "Epoch 72/100\n",
      "23/23 - 0s - 5ms/step - loss: 315.0980 - val_loss: 222.3276\n",
      "Epoch 73/100\n",
      "23/23 - 0s - 5ms/step - loss: 316.8260 - val_loss: 206.8976\n",
      "Epoch 74/100\n",
      "23/23 - 0s - 5ms/step - loss: 314.9833 - val_loss: 210.8617\n",
      "Epoch 75/100\n",
      "23/23 - 0s - 5ms/step - loss: 315.7432 - val_loss: 216.4614\n",
      "Epoch 76/100\n",
      "23/23 - 0s - 5ms/step - loss: 316.7866 - val_loss: 214.6778\n",
      "Epoch 77/100\n",
      "23/23 - 0s - 5ms/step - loss: 314.6452 - val_loss: 203.5212\n",
      "Epoch 78/100\n",
      "23/23 - 0s - 5ms/step - loss: 315.8758 - val_loss: 197.0859\n",
      "Epoch 79/100\n",
      "23/23 - 0s - 5ms/step - loss: 322.3732 - val_loss: 198.3526\n",
      "Epoch 80/100\n",
      "23/23 - 0s - 5ms/step - loss: 314.1976 - val_loss: 225.4664\n",
      "Epoch 81/100\n",
      "23/23 - 0s - 5ms/step - loss: 315.9887 - val_loss: 201.8690\n",
      "Epoch 82/100\n",
      "23/23 - 0s - 5ms/step - loss: 314.4707 - val_loss: 205.0549\n",
      "Epoch 83/100\n",
      "23/23 - 0s - 6ms/step - loss: 316.4421 - val_loss: 193.2596\n",
      "Epoch 84/100\n",
      "23/23 - 0s - 6ms/step - loss: 314.1511 - val_loss: 219.0089\n",
      "Epoch 85/100\n",
      "23/23 - 0s - 6ms/step - loss: 316.3888 - val_loss: 214.8895\n",
      "Epoch 86/100\n",
      "23/23 - 0s - 5ms/step - loss: 314.2980 - val_loss: 194.7039\n",
      "Epoch 87/100\n",
      "23/23 - 0s - 5ms/step - loss: 315.4482 - val_loss: 197.9440\n",
      "Epoch 88/100\n",
      "23/23 - 0s - 5ms/step - loss: 322.7800 - val_loss: 191.7812\n",
      "Epoch 89/100\n",
      "23/23 - 0s - 5ms/step - loss: 316.4484 - val_loss: 206.9388\n",
      "Epoch 90/100\n",
      "23/23 - 0s - 5ms/step - loss: 318.8542 - val_loss: 209.1220\n",
      "Epoch 91/100\n",
      "23/23 - 0s - 5ms/step - loss: 315.2315 - val_loss: 204.0801\n",
      "Epoch 92/100\n",
      "23/23 - 0s - 6ms/step - loss: 317.2613 - val_loss: 185.6938\n",
      "Epoch 93/100\n",
      "23/23 - 0s - 5ms/step - loss: 318.8321 - val_loss: 199.4722\n",
      "Epoch 94/100\n",
      "23/23 - 0s - 5ms/step - loss: 319.9552 - val_loss: 247.7936\n",
      "Epoch 95/100\n",
      "23/23 - 0s - 5ms/step - loss: 320.4876 - val_loss: 218.5014\n",
      "Epoch 96/100\n",
      "23/23 - 0s - 5ms/step - loss: 315.3361 - val_loss: 212.0553\n",
      "Epoch 97/100\n",
      "23/23 - 0s - 5ms/step - loss: 316.9932 - val_loss: 192.3952\n",
      "Epoch 98/100\n",
      "23/23 - 0s - 5ms/step - loss: 315.2161 - val_loss: 200.3404\n",
      "Epoch 99/100\n",
      "23/23 - 0s - 5ms/step - loss: 314.6767 - val_loss: 208.3268\n",
      "Epoch 100/100\n",
      "23/23 - 0s - 5ms/step - loss: 314.7566 - val_loss: 195.1960\n"
     ]
    },
    {
     "data": {
      "text/plain": [
       "<keras.src.callbacks.history.History at 0x1c688f3bc20>"
      ]
     },
     "execution_count": 20,
     "metadata": {},
     "output_type": "execute_result"
    }
   ],
   "source": [
    "model = regression_model()\n",
    "\n",
    "# Train the model\n",
    "model.fit(predictors_norm, target, validation_split=0.3, epochs=100, verbose=2)"
   ]
  },
  {
   "cell_type": "code",
   "execution_count": 21,
   "metadata": {},
   "outputs": [
    {
     "name": "stdout",
     "output_type": "stream",
     "text": [
      "\u001b[1m33/33\u001b[0m \u001b[32m━━━━━━━━━━━━━━━━━━━━\u001b[0m\u001b[37m\u001b[0m \u001b[1m0s\u001b[0m 1ms/step - loss: 310.2774\n",
      "\u001b[1m33/33\u001b[0m \u001b[32m━━━━━━━━━━━━━━━━━━━━\u001b[0m\u001b[37m\u001b[0m \u001b[1m1s\u001b[0m 8ms/step\n"
     ]
    },
    {
     "data": {
      "text/plain": [
       "279.0076599121094"
      ]
     },
     "execution_count": 21,
     "metadata": {},
     "output_type": "execute_result"
    }
   ],
   "source": [
    "# Evaluate the model\n",
    "loss_val = model.evaluate(predictors_norm, target)\n",
    "y_pred = model.predict(predictors_norm)\n",
    "\n",
    "loss_val"
   ]
  },
  {
   "cell_type": "code",
   "execution_count": 22,
   "metadata": {},
   "outputs": [
    {
     "name": "stdout",
     "output_type": "stream",
     "text": [
      "The mean squared error (MSE) for the model is:  279.0076599121094\n",
      "279.00762636736124 0.0\n"
     ]
    }
   ],
   "source": [
    "# Interpreting the loss value\n",
    "print(\"The mean squared error (MSE) for the model is: \", loss_val)\n",
    "\n",
    "from sklearn.metrics import mean_squared_error\n",
    "\n",
    "mean_square_error = mean_squared_error(target, y_pred)\n",
    "mean = np.mean(mean_square_error)\n",
    "standard_deviation = np.std(mean_square_error)\n",
    "print(mean, standard_deviation)"
   ]
  },
  {
   "cell_type": "markdown",
   "id": "680dc082-9bc2-46c4-8c76-f5cceb0eb84a",
   "metadata": {},
   "source": [
    "You can refer to this documentations link for Keras [link](https://keras.io/models/sequential/) to learn about other functions that you can use for prediction or evaluation.\n"
   ]
  },
  {
   "cell_type": "markdown",
   "metadata": {
    "vscode": {
     "languageId": "markdown"
    }
   },
   "source": [
    "## Conclusion\n",
    "\n",
    "In this notebook, we've built a deep neural network regression model using Keras to predict the compressive strength of concrete based on its ingredients. Let's review our findings and their implications:\n",
    "\n",
    "### Evaluation of Results\n",
    "The model achieved a mean squared error of approximately 109, which indicates moderate predictive performance. While this is not perfect, it's a reasonable starting point for a complex material like concrete where many factors interact in non-linear ways.\n",
    "\n",
    "### Key Concepts Covered\n",
    "1. **Data Preprocessing**: We normalized the data using z-score normalization to improve model convergence and performance.\n",
    "2. **Neural Network Architecture**: We implemented a deep network with 50 hidden layers, demonstrating how Keras makes complex architectures straightforward to implement.\n",
    "3. **Model Training**: We used a validation split approach (70/30) to monitor for overfitting during the 100 epochs of training.\n",
    "\n",
    "### Business Use Cases\n",
    "- **Construction Industry**: This model could help engineers predict concrete strength before actual testing, saving time and resources.\n",
    "- **Quality Control**: Manufacturers could use similar models to optimize ingredient proportions for consistent strength outcomes.\n",
    "- **Research & Development**: Materials scientists could explore new concrete formulations with predicted performance.\n",
    "\n",
    "### Key Parameters and Their Impact\n",
    "1. **Network Depth**: The 50 hidden layers may be excessive for this dataset size (~1000 samples), potentially leading to overfitting despite the ReLU activation helping with gradient flow.\n",
    "2. **Optimizer Choice**: The 'adam' optimizer provides efficient, adaptive learning rates which helps with convergence on this non-linear problem.\n",
    "3. **Validation Split**: The 30% validation split was crucial for evaluating generalization capability given our limited dataset.\n",
    "\n",
    "### Lessons Learned\n",
    "1. Deep learning can be applied to traditional engineering problems effectively.\n",
    "2. Even with relatively small datasets, meaningful predictions can be made with proper regularization and architecture choices.\n",
    "3. Keras provides a streamlined workflow from data preparation to model evaluation for regression tasks.\n",
    "\n",
    "Future work might include hyperparameter tuning, exploring regularization techniques to improve generalization, and testing the model on new concrete formulations to validate its real-world applicability."
   ]
  }
 ],
 "metadata": {
  "kernelspec": {
   "display_name": "venv",
   "language": "python",
   "name": "python3"
  },
  "language_info": {
   "codemirror_mode": {
    "name": "ipython",
    "version": 3
   },
   "file_extension": ".py",
   "mimetype": "text/x-python",
   "name": "python",
   "nbconvert_exporter": "python",
   "pygments_lexer": "ipython3",
   "version": "3.12.7"
  },
  "prev_pub_hash": "83687881d337faa1ef19930a5252431ac8ebd74923546c921f47fecec1b0d333"
 },
 "nbformat": 4,
 "nbformat_minor": 4
}
