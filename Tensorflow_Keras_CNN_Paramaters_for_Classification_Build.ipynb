{
 "cells": [
  {
   "cell_type": "markdown",
   "id": "3085713d-c861-4881-851d-492d98b2fe62",
   "metadata": {},
   "source": [
    "# Building a CNN: Filters, Layers, Flattening, and Receptive Field\n"
   ]
  },
  {
   "cell_type": "markdown",
   "id": "ea60fa97-9072-4371-b0c9-dda17466e377",
   "metadata": {},
   "source": [
    "Now that we have an idea of how filters can be applied to a channel in different ways via padding, stride, and activation functions, let's proceed to the next level. What do we do when there are multiple filters for the channel or multiple layers of filters? Like a regular neural network with multiple neurons, in a CNN you can have multiple convolution layers. In addition, you can have multiple filters or kernels per layer. In this notebook, we will see how a CNN processes multiple channels, filters, and layers, and flatten the output so it can be used as input to a regular neural network."
   ]
  },
  {
   "cell_type": "markdown",
   "id": "e5a13b32-8279-4063-b312-7b467360c674",
   "metadata": {},
   "source": [
    "### __Table of Contents__\n",
    "\n",
    "<ol>\n",
    "    <li><a href=\"#Objectives\">Objectives</a></li>\n",
    "    <li>\n",
    "        <a href=\"#Setup\">Setup</a>\n",
    "        <ol>\n",
    "            <li><a href=\"#Installing-Required-Libraries\">Installing Required Libraries</a></li>\n",
    "            <li><a href=\"#Importing-Required-Libraries\">Importing Required Libraries</a></li>\n",
    "            <li><a href=\"#Defining-Helper-Functions\">Defining Helper Functions</a></li>\n",
    "        </ol>\n",
    "    </li>\n",
    "    <li>\n",
    "        <a href=\"#Deeper-Networks-and-the-Receptive-Field:-Relating-Input-to-Output\">Deeper Networks and the Receptive Field: Relating Input to Output</a>\n",
    "        <ol>\n",
    "            <li><a href=\"#What-is-it-for?\">What is it for?</a></li>\n",
    "            <li><a href=\"#What-affects-receptive-field?\">What affects receptive field?</a></li>\n",
    "            <li><a href=\"#Model-1:-No-Stride\">Model 1: No Stride</a></li>\n",
    "            <li><a href=\"#Model-2:-Increased-Stride\">Model 2: Increased Stride</a></li>\n",
    "            <li><a href=\"#Model-3:-Increased-Layers\">Model 3: Increased Layers</a></li>\n",
    "            <li><a href=\"#Visualizing-the-Outputs\">Visualizing the Outputs</a></li>\n",
    "        </ol>\n",
    "    </li>\n",
    "    <li><a href=\"#Varied-Input-Output-Relationships\">Varied Input-Output Relationships</a></li>\n",
    "        <ol>\n",
    "            <li><a href=\"#Import-the-Data-and-Define-Filters\">Import the Data and Define Filters</a></li>\n",
    "            <li><a href=\"#Single-Input-Multiple-Outputs\">Single Input, Multiple Outputs</a></li>\n",
    "            <li><a href=\"#Multiple-Inputs-Single-Output\">Multiple Inputs, Single Output</a></li>\n",
    "            <li><a href=\"#Multiple-Inputs-Multiple-Outputs\">Multiple Inputs, Multiple Outputs</a></li>\n",
    "        </ol>\n",
    "    <li><a href=\"#Deeper-CNNs\">Deeper CNNs</a></li>\n",
    "        <ol>\n",
    "            <li><a href=\"#Why-do-we-want-multiple-layers?\">Why do we want multiple layers?</a></li>\n",
    "            <li><a href=\"#Example:-Preparing-a-CNN-for-Flower-Classification\">Example: Preparing a CNN for Flower Classification</a></li>\n",
    "            <li><a href=\"#Flattening\">Flattening</a></li>\n",
    "            <li><a href=\"#Dense-Layers\">Dense Layers</a></li>\n",
    "        </ol>\n",
    "</ol>\n"
   ]
  },
  {
   "cell_type": "markdown",
   "id": "e4a5e4fd-70ac-4e47-bdc3-14ead2ac1738",
   "metadata": {},
   "source": [
    "### Key Concepts:\n",
    "\n",
    " - Understanding the relationship between features and effective receptive field size\n",
    " - Filter application on inputs of varying depth and calculating output size\n",
    " - CNNs with greater depth and their ability to learn more features and prepare for image classification\n"
   ]
  },
  {
   "cell_type": "markdown",
   "id": "b7f4b3c2-8b82-47c6-b413-5beeb1a7353a",
   "metadata": {},
   "source": [
    "----\n"
   ]
  },
  {
   "cell_type": "markdown",
   "id": "524e7e5f-b62d-410e-aaad-634fdc26ad34",
   "metadata": {},
   "source": [
    "## Setup\n"
   ]
  },
  {
   "cell_type": "markdown",
   "id": "2a74022a-3369-4aa4-9a83-5d3f5fdbf5a6",
   "metadata": {},
   "source": [
    "For this notebook, we will be using the following libraries:\n",
    "\n",
    "* **pandas** for managing the data\n",
    "* **numpy** for mathematical operations\n",
    "* **sklearn** or machine learning and machine-learning-pipeline related functions\n",
    "* **seaborn** for visualizing the data\n",
    "* **matplotlib** for additional plotting tools\n",
    "* **tensorflow** for the deep learning and submodule keras for the model building"
   ]
  },
  {
   "cell_type": "markdown",
   "id": "2eccf11d-c691-4a14-a202-b15ee392b54b",
   "metadata": {},
   "source": [
    "### Installing Required Libraries"
   ]
  },
  {
   "cell_type": "code",
   "execution_count": null,
   "id": "be4edda5-af52-435a-8ced-4b2519b343af",
   "metadata": {},
   "outputs": [],
   "source": [
    "#! pip install pandas==1.3.4 numpy==1.21.4 seaborn==0.9.0 matplotlib==3.5.0 scikit-learn==0.20.1"
   ]
  },
  {
   "cell_type": "markdown",
   "id": "15a4af20-74fb-4f78-89a8-38105891a6e3",
   "metadata": {},
   "source": [
    "### Importing Required Libraries"
   ]
  },
  {
   "cell_type": "code",
   "execution_count": null,
   "id": "f0e2e9af-7d7f-4dde-b6b1-78926445708d",
   "metadata": {},
   "outputs": [],
   "source": [
    "# You can also use this section to suppress warnings generated by your code:\n",
    "def warn(*args, **kwargs):\n",
    "    pass\n",
    "\n",
    "import warnings\n",
    "warnings.warn = warn\n",
    "warnings.filterwarnings('ignore')\n",
    "\n",
    "import os\n",
    "os.environ['TF_CPP_MIN_LOG_LEVEL'] = '2' # tensorflow INFO and WARNING messages are not printed"
   ]
  },
  {
   "cell_type": "code",
   "execution_count": 215,
   "id": "2e774c86-aab1-4023-aa21-855c85ea8a43",
   "metadata": {},
   "outputs": [],
   "source": [
    "import pathlib\n",
    "import numpy as np\n",
    "import matplotlib.pyplot as plt\n",
    "import matplotlib\n",
    "%matplotlib inline\n",
    "\n",
    "import PIL\n",
    "from PIL import Image, ImageOps\n",
    "import tensorflow as tf\n",
    "\n",
    "import glob\n",
    "from tensorflow import keras\n",
    "from tensorflow.keras import Model\n",
    "from tensorflow.keras.models import Sequential\n",
    "from tensorflow.keras.layers import Conv2D\n",
    "from tensorflow.keras.layers import MaxPooling2D\n",
    "from tensorflow.keras.layers import Flatten\n",
    "from tensorflow.keras.layers import Dense"
   ]
  },
  {
   "cell_type": "markdown",
   "id": "beac2623-e2cd-452b-afdd-168432e8db09",
   "metadata": {},
   "source": [
    "### Defining Helper Functions\n"
   ]
  },
  {
   "cell_type": "code",
   "execution_count": 216,
   "id": "9dc91f54-438e-46da-8041-69cc9fbbc5d2",
   "metadata": {},
   "outputs": [],
   "source": [
    "def calc_rf(model):\n",
    "    # Initialize an array storing all the layers' receptive field sizes and set layer 0 (input) RF to 1\n",
    "    num_layers = len(model.layers)\n",
    "    rf_arr = np.empty(num_layers+1, dtype=int)\n",
    "    rf_arr[0] = 1\n",
    "    # Initialize an array storing all the layers' jump sizes and set layer 0 (input) jump to 1\n",
    "    j_arr = np.empty(num_layers+1, dtype=int)\n",
    "    j_arr[0] = 1\n",
    "\n",
    "    for i in range(num_layers):\n",
    "        layer = model.layers[i]\n",
    "        k = layer.kernel_size[0]\n",
    "        s = layer.strides[0]\n",
    "        j_in = j_arr[i]\n",
    "        j_out = j_in * s\n",
    "        r_out = rf_arr[i] + (k - 1) * j_in\n",
    "        j_arr[i+1] = j_out\n",
    "        rf_arr[i+1] = r_out\n",
    "        print(\"Layer {}: {} \\n Jump Size: {}\\n Effective Receptive Field Size: {}\".format(i+1, layer.name, j_arr[i+1], rf_arr[i+1]))\n",
    "        print(\"------\")"
   ]
  },
  {
   "cell_type": "markdown",
   "id": "421f11ed-9518-4ada-b013-f1f005fd8969",
   "metadata": {},
   "source": [
    "## Deeper Networks and the Receptive Field: Relating Input to Output\n"
   ]
  },
  {
   "cell_type": "markdown",
   "id": "d0792d78-4dec-46ab-b459-8eee4c7e29ba",
   "metadata": {},
   "source": [
    "Why should we add more layers to a CNN? It turns out that CNNs behave like the human eye. When we look at something, each of the million neurons in our eye is responsible for observing a specific section of the view. Similarly in a CNN, each output feature is responsible for gathering information in a region of the input. This region is equal to the size of the kernel that it is convolved with to get a single value in the output. We call this region the feature's **receptive field**. \n",
    "\n",
    "As more layers are added to the network, we also use the term **“effective receptive field”** (ERF) to refer to the pixels in the first input, the original image, that was indirectly convolved to attain a feature in a subsequent layer. Hence, it makes sense that ERF size increases with layers as each feature is generated from a convolution of its input, each pixel of which is a convolution of the previous layer, and so on. \n"
   ]
  },
  {
   "cell_type": "markdown",
   "id": "c7156814-713e-4b79-9af3-e4493c9e2255",
   "metadata": {},
   "source": [
    "<center>\n",
    "    <img src=\"https://cf-courses-data.s3.us.cloud-object-storage.appdomain.cloud/IBMDeveloperSkillsNetwork-ML311-Coursera/labs/Module3/L1/images/rf_fixed.png\" width=\"600\" alt=\"visual showing receptive field with fixed map size\">\n",
    "<center>\n",
    "    \n",
    "Image credits to [Dang Ha The Hien](https://blog.mlreview.com/a-guide-to-receptive-field-arithmetic-for-convolutional-neural-networks-e0f514068807)\n"
   ]
  },
  {
   "cell_type": "markdown",
   "id": "358a1647-305d-41e8-84fa-dc3f8b0382e0",
   "metadata": {},
   "source": [
    "In the visual above, the shaded region that surrounds the center feature in the top two layers is their ERF. You can see that a feature in the green layer has an ERF size of 3x3, meaning that it observes those 9 pixels in the input image (blue). In the yellow layer, this has increased - one feature is responsible for viewing a 7x7 region in the input. Notably, the center feature's ERF covers almost all of the input pixels!\n"
   ]
  },
  {
   "cell_type": "markdown",
   "id": "766f0e2d-cf4a-4e80-9148-f5c07d5baa01",
   "metadata": {},
   "source": [
    "We can also use a formula to calculate what the effective receptive field size is:\n",
    "\n",
    "$$r_{out} = r_{in} + (k - 1)*j_{in}$$\n",
    "\n",
    "- $r_{out}$: ERF width/height of an output feature\n",
    "- $r_{in}$: ERF width/height of an input feature\n",
    "- $k$: convolution kernel width/height\n",
    "- $j_{in}$: distance between two consecutive features in the input\n",
    "- Note: $j_{out} = j_{in} * s$ for $s$ = stride size\n",
    "\n",
    "As an example, let's apply convolution to the input image (blue) above with k=3 and calculate the ERF. In the input, each feature's ERF size is 1 because it only observes itself. The distance between two features is 1. Hence, in our first layer output (green), the ERF size is 1 + (3-1)\\*1 = 3.\n"
   ]
  },
  {
   "cell_type": "markdown",
   "id": "676d43a1-62bc-469b-9530-a0b90cda0141",
   "metadata": {},
   "source": [
    "### What is it for?\n"
   ]
  },
  {
   "cell_type": "markdown",
   "id": "7ed65255-d657-4766-8c8a-810ceac902f0",
   "metadata": {},
   "source": [
    "Receptive field describes how much information is learned by each layer of the network. The bigger the receptive field size, the bigger “view” each feature has. Let’s think back to the eye analogy. If a neuron is only able to observe a small region, then 1) one neuron might not have enough information to detect a bigger object, and 2) we need more neurons to attain a complete view. In CNN tasks such as object detection and image segmentation, this is detrimental; features won't be able to learn to recognize a characteristic spanning a bigger input region.\n"
   ]
  },
  {
   "cell_type": "markdown",
   "id": "9ca3039e-e899-4bf5-8bef-57baf0c3880a",
   "metadata": {},
   "source": [
    "### What affects receptive field?\n"
   ]
  },
  {
   "cell_type": "markdown",
   "id": "7d322521-5254-4a5a-a511-4dd5b03e0323",
   "metadata": {},
   "source": [
    "Ideally, we want each output feature to have a big receptive field so that crucial information is captured and that relevant features can be completely recognized. Think of it like a camera - if you zoom in too much, the lens can only see parts of an object, which could prevent you from detecting what it is. Things that impact receptive field size include:\n",
    "\n",
    "- **Number of convolution layers**: making a deeper network increases field size linearly by kernel size.\n",
    "- **Stride**: as a method of sub-sampling, the higher the stride value, the fewer input pixels shared between neighboring features, the bigger the receptive field as we add more layers.\n",
    "- **Pooling**: this is also a way of sub-sampling that increases the size multiplicatively. It causes resolution loss as the relationship between the original input features isn't fully retained.\n",
    "- **Dilation rate**: introduces spaces in between kernel values such that they aren't applied to adjacent samples. Increases size exponentially without loss of resolution like sub-sampling techniques (not covered).\n"
   ]
  },
  {
   "cell_type": "markdown",
   "id": "09c06b3f-12ce-4cbb-8135-0de680671978",
   "metadata": {},
   "source": [
    "Let's see an example of how stride and adding layers affect the receptive field! First let's download the image:\n"
   ]
  },
  {
   "cell_type": "code",
   "execution_count": 217,
   "id": "879d965a-ba94-46b0-b385-f08f2ee7ef22",
   "metadata": {},
   "outputs": [],
   "source": [
    "import requests\n",
    "url = \"https://cf-courses-data.s3.us.cloud-object-storage.appdomain.cloud/IBMDeveloperSkillsNetwork-ML311-Coursera/labs/Module3/L1/images/RF_dot.png\"\n",
    "filename = \"RF_dot.png\"\n",
    "response = requests.get(url)\n",
    "with open(filename, 'wb') as file:\n",
    "    file.write(response.content)"
   ]
  },
  {
   "cell_type": "markdown",
   "id": "3be1d29a-f577-44f1-b9b4-38a3853541e0",
   "metadata": {},
   "source": [
    "We load the image:\n"
   ]
  },
  {
   "cell_type": "code",
   "execution_count": 218,
   "id": "417f4272-8dc5-42d8-9085-88c294281147",
   "metadata": {},
   "outputs": [
    {
     "data": {
      "image/png": "[encoded data removed]",
      "text/plain": [
       "<Figure size 640x480 with 1 Axes>"
      ]
     },
     "metadata": {},
     "output_type": "display_data"
    }
   ],
   "source": [
    "img_width = 150\n",
    "img_height = 150\n",
    "\n",
    "dot = PIL.Image.open(\"RF_dot.png\")\n",
    "dot = ImageOps.grayscale(dot)\n",
    "# dot = PIL.ImageOps.invert(dot)\n",
    "dot = dot.resize((img_width, img_height))\n",
    "plt.imshow(dot, cmap=\"gray\")\n",
    "plt.show()"
   ]
  },
  {
   "cell_type": "markdown",
   "id": "e632892f-1e34-4c0a-b785-40adae744706",
   "metadata": {},
   "source": [
    "Below, we define the kernel and bias weights. For this section, we chose to use the average kernel, which takes the mean of the pixels. Also, we will use the helper function ```calc_rf``` defined previously to determine the ERF size of a feature in each layer.\n"
   ]
  },
  {
   "cell_type": "code",
   "execution_count": 219,
   "id": "9e8c9596-8e7f-4a09-8fd5-5cb6e2efd769",
   "metadata": {},
   "outputs": [],
   "source": [
    "kernel = (1/9)*np.ones((3,3,1,1))\n",
    "b = np.array([0.0])"
   ]
  },
  {
   "cell_type": "markdown",
   "id": "7bdaa079-8a1a-492b-a70e-5c971ebb8523",
   "metadata": {},
   "source": [
    "### Model 1: No Stride\n",
    "To begin, we'll check what the output looks like when we have a model with no stride. With the parameters specified, our ERF should be 3 for the output.\n"
   ]
  },
  {
   "cell_type": "code",
   "execution_count": 220,
   "id": "2fd2e732-363c-4eca-bf98-62b3b221f744",
   "metadata": {},
   "outputs": [
    {
     "name": "stdout",
     "output_type": "stream",
     "text": [
      "Layer 1: conv2d_45 \n",
      " Jump Size: 1\n",
      " Effective Receptive Field Size: 3\n",
      "------\n"
     ]
    }
   ],
   "source": [
    "# Construct the model with no stride\n",
    "model1 = Sequential()\n",
    "\n",
    "model1.add(Conv2D(input_shape = (img_width, img_height, 1),\n",
    "                 filters=1,\n",
    "                 kernel_size=(3,3)\n",
    "                 ))\n",
    "\n",
    "model1.layers[0].set_weights([kernel,b])\n",
    "\n",
    "calc_rf(model1)"
   ]
  },
  {
   "cell_type": "markdown",
   "id": "25ce4dde-69c3-40a8-8154-639281dc40e0",
   "metadata": {},
   "source": [
    "### Model 2: Increased Stride\n"
   ]
  },
  {
   "cell_type": "markdown",
   "id": "c84841c7-9dca-452f-b73c-d5ec839f5f01",
   "metadata": {},
   "source": [
    "Here we set the ```strides``` to 2 for the 2nd model.\n"
   ]
  },
  {
   "cell_type": "code",
   "execution_count": 221,
   "id": "85fddc2b-09cb-4380-9bb7-42adf9166f04",
   "metadata": {},
   "outputs": [
    {
     "name": "stdout",
     "output_type": "stream",
     "text": [
      "Layer 1: conv2d_46 \n",
      " Jump Size: 2\n",
      " Effective Receptive Field Size: 3\n",
      "------\n"
     ]
    }
   ],
   "source": [
    "# Construct the model with stride = 2\n",
    "model2 = Sequential()\n",
    "\n",
    "model2.add(Conv2D(input_shape = (img_width, img_height, 1),\n",
    "                 filters=1,\n",
    "                 kernel_size=(3,3),\n",
    "                 padding='same',\n",
    "                 strides=2\n",
    "                 ))\n",
    "\n",
    "model2.layers[0].set_weights([kernel,b])\n",
    "\n",
    "calc_rf(model2)"
   ]
  },
  {
   "cell_type": "markdown",
   "id": "f239de0b-ea69-41e5-9a6e-348617c41b6c",
   "metadata": {},
   "source": [
    "Even with increased stride size, the ERF size is still 3. This is expected because our output's ERF size depends on the kernel and the input's RF and jump, all of which haven't changed between model 1 and 2. \n"
   ]
  },
  {
   "cell_type": "markdown",
   "id": "d81db4b8-1155-4f4d-8aa0-3607f62acb40",
   "metadata": {},
   "source": [
    "### Model 3: Increased Layers\n"
   ]
  },
  {
   "cell_type": "markdown",
   "id": "4b874e33-cf15-419e-ad11-efcc1ed281e2",
   "metadata": {},
   "source": [
    "Lets see what happens with we increased the number of layers:\n"
   ]
  },
  {
   "cell_type": "code",
   "execution_count": 222,
   "id": "c6aeb662-d68c-42bb-a28d-41ef863364a2",
   "metadata": {},
   "outputs": [
    {
     "name": "stdout",
     "output_type": "stream",
     "text": [
      "Layer 1: conv2d_47 \n",
      " Jump Size: 1\n",
      " Effective Receptive Field Size: 3\n",
      "------\n",
      "Layer 2: conv2d_48 \n",
      " Jump Size: 4\n",
      " Effective Receptive Field Size: 5\n",
      "------\n",
      "Layer 3: conv2d_49 \n",
      " Jump Size: 20\n",
      " Effective Receptive Field Size: 13\n",
      "------\n"
     ]
    }
   ],
   "source": [
    "# Construct the model with multiple layers\n",
    "model3 = Sequential()\n",
    "\n",
    "model3.add(Conv2D(input_shape = (img_width, img_height, 1),\n",
    "                 filters=1,\n",
    "                 kernel_size=(3,3)\n",
    "                 ))\n",
    "model3.add(Conv2D(filters=1,\n",
    "                 kernel_size=(3,3),\n",
    "                 strides=4\n",
    "                 ))\n",
    "model3.add(Conv2D(filters=1,\n",
    "                 kernel_size=(3,3),\n",
    "                 strides=5\n",
    "                 ))\n",
    "\n",
    "model3.layers[0].set_weights([kernel,b])\n",
    "model3.layers[1].set_weights([kernel,b])\n",
    "model3.layers[2].set_weights([kernel,b])\n",
    "\n",
    "calc_rf(model3)"
   ]
  },
  {
   "cell_type": "markdown",
   "id": "db9cc3dc-8385-4565-82c2-39a1b15c1409",
   "metadata": {},
   "source": [
    "After adding more layers to the model, we clearly see the ERF size for each feature increased in subsequent layers. In particular, the ERF of layer 3 is significantly bigger than it would have been if there's no stride.\n"
   ]
  },
  {
   "cell_type": "markdown",
   "id": "333b862b-2710-4c38-a3e7-7201eff1e61a",
   "metadata": {},
   "source": [
    "### Visualizing the Outputs\n"
   ]
  },
  {
   "cell_type": "markdown",
   "id": "53a035ad-8fa5-4f0f-a425-838724bfdc04",
   "metadata": {},
   "source": [
    "Let's compare the results to of the models:\n"
   ]
  },
  {
   "cell_type": "code",
   "execution_count": 223,
   "id": "b0384dc3-1f48-4be1-ad01-a0b0cd990804",
   "metadata": {},
   "outputs": [
    {
     "name": "stdout",
     "output_type": "stream",
     "text": [
      "\u001b[1m1/1\u001b[0m \u001b[32m━━━━━━━━━━━━━━━━━━━━\u001b[0m\u001b[37m\u001b[0m \u001b[1m0s\u001b[0m 34ms/step\n",
      "\u001b[1m1/1\u001b[0m \u001b[32m━━━━━━━━━━━━━━━━━━━━\u001b[0m\u001b[37m\u001b[0m \u001b[1m0s\u001b[0m 36ms/step\n",
      "\u001b[1m1/1\u001b[0m \u001b[32m━━━━━━━━━━━━━━━━━━━━\u001b[0m\u001b[37m\u001b[0m \u001b[1m0s\u001b[0m 51ms/step\n"
     ]
    },
    {
     "data": {
      "image/png": "[encoded data removed]",
      "text/plain": [
       "<Figure size 640x480 with 3 Axes>"
      ]
     },
     "metadata": {},
     "output_type": "display_data"
    }
   ],
   "source": [
    "models = [model1, model2, model3]\n",
    "dot_tensor = np.array(dot).reshape((1,img_width,img_height,1))\n",
    "fig, ax = plt.subplots(1,len(models))\n",
    "\n",
    "for i in range(len(models)):\n",
    "    plt.subplot(1,len(models),i+1)\n",
    "    output = models[i].predict(dot_tensor)\n",
    "    output = output.reshape(output.shape[1],output.shape[2])\n",
    "    plt.title(\"Model {}\".format(i+1))\n",
    "    plt.imshow(output, cmap='gray')"
   ]
  },
  {
   "cell_type": "markdown",
   "id": "51691928-9498-428d-8504-0c920df9f99e",
   "metadata": {},
   "source": [
    "As we increase the receptive field the subsequent images get smaller and smaller, but we can still make out the shape. This also decreased the number of parameters needed in the model.\n"
   ]
  },
  {
   "cell_type": "markdown",
   "id": "44ccfc10-aa02-412d-8225-d97b2e1810cc",
   "metadata": {},
   "source": [
    "## Varied Input-Output Relationships\n"
   ]
  },
  {
   "cell_type": "markdown",
   "id": "0d4d4d78-0125-4534-8eef-eca3d029b28d",
   "metadata": {},
   "source": [
    "We previously only dealt with applying one kernel on one channel at a time, but that is quite inefficient to do since we often have access to multichannel (colored) image inputs, whose information can be learned jointly. Moreover, the convolutional layers are analogous to the hidden neurons in a neural network, and like a regular neural network, adding more neurons will improve results. Next, we will take a look at how increasing the number of channels can increase the information extracted.\n"
   ]
  },
  {
   "cell_type": "markdown",
   "id": "9e8deee7-faa2-4075-8d8e-0a0d03452137",
   "metadata": {},
   "source": [
    "Consider the following image:\n"
   ]
  },
  {
   "cell_type": "code",
   "execution_count": 224,
   "id": "01417ac3-276a-4981-b3e6-dd49ae938fed",
   "metadata": {},
   "outputs": [],
   "source": [
    "url = \"https://cf-courses-data.s3.us.cloud-object-storage.appdomain.cloud/IBMDeveloperSkillsNetwork-ML311-Coursera/labs/Module3/L1/images/channel_image.jpg\"\n",
    "filename = \"channel_image.jpg\"\n",
    "response = requests.get(url)\n",
    "with open(filename, 'wb') as file:\n",
    "    file.write(response.content)"
   ]
  },
  {
   "cell_type": "code",
   "execution_count": 225,
   "id": "a3553691-ca0e-4f4e-8229-1b6203319383",
   "metadata": {},
   "outputs": [
    {
     "data": {
      "image/jpeg": "[encoded data removed]",
      "image/png": "[encoded data removed]",
      "text/plain": [
       "<PIL.Image.Image image mode=RGB size=150x150>"
      ]
     },
     "execution_count": 225,
     "metadata": {},
     "output_type": "execute_result"
    }
   ],
   "source": [
    "img_width = 150\n",
    "img_height = 150\n",
    "\n",
    "image = PIL.Image.open(\"channel_image.jpg\").resize((img_width, img_height))\n",
    "image"
   ]
  },
  {
   "cell_type": "markdown",
   "id": "1e778161-33f0-457b-be8c-1970af64dcf7",
   "metadata": {},
   "source": [
    "First, we define two filters we will use throughout the examples. The first filter is an edge kernel, which you have seen previously in the lab on padding, strides, and activation. This kernel helps us detect edges in the image. The second filter is a kernel that sharpens the image through creating greater contrast. Note that usually, in CNN, we would let the network learn the best filters automatically instead of defining them.\n"
   ]
  },
  {
   "cell_type": "code",
   "execution_count": 226,
   "id": "128d17b6-80dc-45a7-982a-d19f277348ef",
   "metadata": {},
   "outputs": [],
   "source": [
    "def edge_grad(shape, dtype=None):\n",
    "    grad = np.array([\n",
    "        [-1, -1, -1],\n",
    "        [-1, 8, -1],\n",
    "        [-1, -1, -1]\n",
    "        ]).reshape(shape)\n",
    "\n",
    "    return grad\n",
    "\n",
    "def sharpen_grad(shape, dtype=None):\n",
    "    grad = np.array([\n",
    "        [0, -1, 0],\n",
    "        [-1, 5, -1],\n",
    "        [0, -1, 0]\n",
    "    ]).reshape(shape)\n",
    "\n",
    "    return grad"
   ]
  },
  {
   "cell_type": "markdown",
   "id": "8d74c027-0b87-436d-9959-62ea62e68999",
   "metadata": {},
   "source": [
    "### Single Input, Multiple Outputs\n"
   ]
  },
  {
   "cell_type": "markdown",
   "id": "2add9c29-9536-4f5a-a479-8469c20a6dbf",
   "metadata": {},
   "source": [
    "Based on what you learned from past labs, you know how to apply a filter on a black and white image, so let's start with that. However, this time we will apply multiple filters on the grayscale image. \n"
   ]
  },
  {
   "cell_type": "markdown",
   "id": "a6ed6483-19c2-4bd2-80a3-24c8d3841105",
   "metadata": {},
   "source": [
    "<center>\n",
    "    <img src=\"https://cf-courses-data.s3.us.cloud-object-storage.appdomain.cloud/IBMDeveloperSkillsNetwork-ML311-Coursera/labs/Module3/L1/images/SingleInMultiOut.png\" width=\"600\" alt=\"single input multiple output calculation\">\n",
    "<center>\n"
   ]
  },
  {
   "cell_type": "markdown",
   "id": "c388af06-5e41-4273-85a3-d992a0609fb5",
   "metadata": {},
   "source": [
    "The visual above, shows how outputs are calculated when there is a single channel but multiple filters. We can see that the depth of the output (number of channels it has) corresponds to the number of filters applied on the input. \n"
   ]
  },
  {
   "cell_type": "markdown",
   "id": "4ac96a4e-6635-431d-a2ad-fe6037362636",
   "metadata": {},
   "source": [
    "Here's a formula for calculating the width/height of one output channel:\n",
    "$$n_{out} = \\frac{n_{in} + 2p - k}{s} + 1$$\n",
    "\n",
    "- $n_{out}$: width/height of output map\n",
    "- $n_{in}$: width/height of input map\n",
    "- $p$: convolution padding size\n",
    "- $k$: convolution kernel width/height\n",
    "- $s$: convolution stride size\n"
   ]
  },
  {
   "cell_type": "markdown",
   "id": "d623990c-15ca-434c-8eb9-bd82e3515cd9",
   "metadata": {},
   "source": [
    "As a first step, we convert the image to grayscale such that we work with a single channel as our input for now. Here, when the image is converted to grayscale, the stars are not visible anymore due to their RGB values being converted to a singular value representing brightness, which raises the concern of whether the filters will be able to detect any features.\n"
   ]
  },
  {
   "cell_type": "code",
   "execution_count": 227,
   "metadata": {},
   "outputs": [
    {
     "name": "stdout",
     "output_type": "stream",
     "text": [
      "Image width: 150\n",
      "Image height: 150\n"
     ]
    }
   ],
   "source": [
    "print(\"Image width:\", img_width)\n",
    "print(\"Image height:\", img_height)\n"
   ]
  },
  {
   "cell_type": "code",
   "execution_count": 228,
   "id": "d86d3171-e9e6-498f-8f92-09212675eff8",
   "metadata": {},
   "outputs": [
    {
     "data": {
      "image/jpeg": "[encoded data removed]",
      "image/png": "[encoded data removed]",
      "text/plain": [
       "<PIL.Image.Image image mode=L size=150x150>"
      ]
     },
     "execution_count": 228,
     "metadata": {},
     "output_type": "execute_result"
    }
   ],
   "source": [
    "gray = ImageOps.grayscale(image)\n",
    "img_tensor = np.array(gray).reshape((1, img_width, img_height, 1)) # Convert to a tensor for model prediction\n",
    "gray"
   ]
  },
  {
   "cell_type": "markdown",
   "id": "559fb237-0a8a-4a63-9ed0-23025956a7fd",
   "metadata": {},
   "source": [
    "Next, we define the desired kernels. Note here that the kernel takes on the size 3x3x1x2. This means that there are 2 filters, each with the dimension 3x3x1, where 1 represents the number of channels and 3x3 is the 2D kernel size. This shape is required because we are performing both convolutions in a single layer. The bias, set to 0 for both convolutions on the input, is represented by the variable `b`.\n"
   ]
  },
  {
   "cell_type": "code",
   "execution_count": 229,
   "id": "0db3a27b-eede-4e73-80e6-b325b733a7e0",
   "metadata": {},
   "outputs": [],
   "source": [
    "kernels = np.array([sharpen_grad((3,3,1,1)), edge_grad((3,3,1,1))])\n",
    "kernels = kernels.reshape((3,3,1,2))\n",
    "b = np.array([np.array([0.0]),np.array([0.0])]).reshape(2,)"
   ]
  },
  {
   "cell_type": "markdown",
   "id": "9e8a313a-cbca-4233-859c-2665441802a7",
   "metadata": {},
   "source": [
    "Here, we define the Sequential model, adding one convolutional layer with 2 filters of size 3x3. After this, we specify the kernels and biases by the function `set_weights`. To see more information about the model built, use `summary()`.\n"
   ]
  },
  {
   "cell_type": "code",
   "execution_count": 230,
   "metadata": {},
   "outputs": [],
   "source": [
    "# Define the model with input shape\n",
    "model = Sequential([\n",
    "    Conv2D(32, (3, 3), activation='relu', input_shape=(150, 150, 3)),\n",
    "    Flatten(),\n",
    "    Dense(10, activation='softmax')\n",
    "])"
   ]
  },
  {
   "cell_type": "markdown",
   "id": "84447335-3bf5-48b1-b854-e1fc40884c71",
   "metadata": {},
   "source": [
    "In order to see how each filter is applied on the input, we use an additional model that specifies the desired output when given input from our previous model.\n"
   ]
  },
  {
   "cell_type": "code",
   "execution_count": 231,
   "metadata": {},
   "outputs": [],
   "source": [
    "# define the inputs of sequential_7 model\n",
    "input = tf.keras.Input(shape=(img_width, img_height, 1))\n",
    "# define the model\n",
    "model = Conv2D(filters = 2,\n",
    "                 kernel_size = (3, 3),\n",
    "                 padding='same',\n",
    "                 input_shape = (img_width, img_height, 1))(input)\n",
    "model = Model(inputs=input, outputs=model)\n",
    "model.set_weights([kernels,b])\n"
   ]
  },
  {
   "cell_type": "code",
   "execution_count": 232,
   "id": "d5504c02-3fd1-42e7-a810-391ffa956bc3",
   "metadata": {},
   "outputs": [
    {
     "data": {
      "text/html": [
       "<pre style=\"white-space:pre;overflow-x:auto;line-height:normal;font-family:Menlo,'DejaVu Sans Mono',consolas,'Courier New',monospace\"><span style=\"font-weight: bold\">Model: \"functional_56\"</span>\n",
       "</pre>\n"
      ],
      "text/plain": [
       "\u001b[1mModel: \"functional_56\"\u001b[0m\n"
      ]
     },
     "metadata": {},
     "output_type": "display_data"
    },
    {
     "data": {
      "text/html": [
       "<pre style=\"white-space:pre;overflow-x:auto;line-height:normal;font-family:Menlo,'DejaVu Sans Mono',consolas,'Courier New',monospace\">┏━━━━━━━━━━━━━━━━━━━━━━━━━━━━━━━━━┳━━━━━━━━━━━━━━━━━━━━━━━━┳━━━━━━━━━━━━━━━┓\n",
       "┃<span style=\"font-weight: bold\"> Layer (type)                    </span>┃<span style=\"font-weight: bold\"> Output Shape           </span>┃<span style=\"font-weight: bold\">       Param # </span>┃\n",
       "┡━━━━━━━━━━━━━━━━━━━━━━━━━━━━━━━━━╇━━━━━━━━━━━━━━━━━━━━━━━━╇━━━━━━━━━━━━━━━┩\n",
       "│ input_layer_45 (<span style=\"color: #0087ff; text-decoration-color: #0087ff\">InputLayer</span>)     │ (<span style=\"color: #00d7ff; text-decoration-color: #00d7ff\">None</span>, <span style=\"color: #00af00; text-decoration-color: #00af00\">150</span>, <span style=\"color: #00af00; text-decoration-color: #00af00\">150</span>, <span style=\"color: #00af00; text-decoration-color: #00af00\">1</span>)    │             <span style=\"color: #00af00; text-decoration-color: #00af00\">0</span> │\n",
       "├─────────────────────────────────┼────────────────────────┼───────────────┤\n",
       "│ conv2d_51 (<span style=\"color: #0087ff; text-decoration-color: #0087ff\">Conv2D</span>)              │ (<span style=\"color: #00d7ff; text-decoration-color: #00d7ff\">None</span>, <span style=\"color: #00af00; text-decoration-color: #00af00\">150</span>, <span style=\"color: #00af00; text-decoration-color: #00af00\">150</span>, <span style=\"color: #00af00; text-decoration-color: #00af00\">2</span>)    │            <span style=\"color: #00af00; text-decoration-color: #00af00\">20</span> │\n",
       "└─────────────────────────────────┴────────────────────────┴───────────────┘\n",
       "</pre>\n"
      ],
      "text/plain": [
       "┏━━━━━━━━━━━━━━━━━━━━━━━━━━━━━━━━━┳━━━━━━━━━━━━━━━━━━━━━━━━┳━━━━━━━━━━━━━━━┓\n",
       "┃\u001b[1m \u001b[0m\u001b[1mLayer (type)                   \u001b[0m\u001b[1m \u001b[0m┃\u001b[1m \u001b[0m\u001b[1mOutput Shape          \u001b[0m\u001b[1m \u001b[0m┃\u001b[1m \u001b[0m\u001b[1m      Param #\u001b[0m\u001b[1m \u001b[0m┃\n",
       "┡━━━━━━━━━━━━━━━━━━━━━━━━━━━━━━━━━╇━━━━━━━━━━━━━━━━━━━━━━━━╇━━━━━━━━━━━━━━━┩\n",
       "│ input_layer_45 (\u001b[38;5;33mInputLayer\u001b[0m)     │ (\u001b[38;5;45mNone\u001b[0m, \u001b[38;5;34m150\u001b[0m, \u001b[38;5;34m150\u001b[0m, \u001b[38;5;34m1\u001b[0m)    │             \u001b[38;5;34m0\u001b[0m │\n",
       "├─────────────────────────────────┼────────────────────────┼───────────────┤\n",
       "│ conv2d_51 (\u001b[38;5;33mConv2D\u001b[0m)              │ (\u001b[38;5;45mNone\u001b[0m, \u001b[38;5;34m150\u001b[0m, \u001b[38;5;34m150\u001b[0m, \u001b[38;5;34m2\u001b[0m)    │            \u001b[38;5;34m20\u001b[0m │\n",
       "└─────────────────────────────────┴────────────────────────┴───────────────┘\n"
      ]
     },
     "metadata": {},
     "output_type": "display_data"
    },
    {
     "data": {
      "text/html": [
       "<pre style=\"white-space:pre;overflow-x:auto;line-height:normal;font-family:Menlo,'DejaVu Sans Mono',consolas,'Courier New',monospace\"><span style=\"font-weight: bold\"> Total params: </span><span style=\"color: #00af00; text-decoration-color: #00af00\">20</span> (80.00 B)\n",
       "</pre>\n"
      ],
      "text/plain": [
       "\u001b[1m Total params: \u001b[0m\u001b[38;5;34m20\u001b[0m (80.00 B)\n"
      ]
     },
     "metadata": {},
     "output_type": "display_data"
    },
    {
     "data": {
      "text/html": [
       "<pre style=\"white-space:pre;overflow-x:auto;line-height:normal;font-family:Menlo,'DejaVu Sans Mono',consolas,'Courier New',monospace\"><span style=\"font-weight: bold\"> Trainable params: </span><span style=\"color: #00af00; text-decoration-color: #00af00\">20</span> (80.00 B)\n",
       "</pre>\n"
      ],
      "text/plain": [
       "\u001b[1m Trainable params: \u001b[0m\u001b[38;5;34m20\u001b[0m (80.00 B)\n"
      ]
     },
     "metadata": {},
     "output_type": "display_data"
    },
    {
     "data": {
      "text/html": [
       "<pre style=\"white-space:pre;overflow-x:auto;line-height:normal;font-family:Menlo,'DejaVu Sans Mono',consolas,'Courier New',monospace\"><span style=\"font-weight: bold\"> Non-trainable params: </span><span style=\"color: #00af00; text-decoration-color: #00af00\">0</span> (0.00 B)\n",
       "</pre>\n"
      ],
      "text/plain": [
       "\u001b[1m Non-trainable params: \u001b[0m\u001b[38;5;34m0\u001b[0m (0.00 B)\n"
      ]
     },
     "metadata": {},
     "output_type": "display_data"
    }
   ],
   "source": [
    "layer_outputs = [layer.output for layer in model.layers] # Extracts the outputs of the layer\n",
    "activation_model = Model(inputs=model.input, outputs=layer_outputs) # Creates a model that will return these outputs, given the model input\n",
    "\n",
    "activation_model.summary()"
   ]
  },
  {
   "cell_type": "markdown",
   "id": "b9c0fae4-60d2-4ae9-b760-ff4f3ed0c184",
   "metadata": {},
   "source": [
    "Now that we have set up the model structure, we feed the image tensor as input to the activation model to separate the outputs from individual kernels.\n"
   ]
  },
  {
   "cell_type": "code",
   "execution_count": 233,
   "id": "02a2777b-f97a-463a-ae1d-446eb680850d",
   "metadata": {},
   "outputs": [
    {
     "name": "stdout",
     "output_type": "stream",
     "text": [
      "\u001b[1m1/1\u001b[0m \u001b[32m━━━━━━━━━━━━━━━━━━━━\u001b[0m\u001b[37m\u001b[0m \u001b[1m0s\u001b[0m 51ms/step\n"
     ]
    }
   ],
   "source": [
    "activations = activation_model.predict(img_tensor) # Obtain the outputs (activations) from our model"
   ]
  },
  {
   "cell_type": "code",
   "execution_count": 234,
   "id": "ace2144f-a7bb-49d8-89d0-68b0916e2b62",
   "metadata": {},
   "outputs": [
    {
     "name": "stdout",
     "output_type": "stream",
     "text": [
      "(1, 150, 150, 1)\n"
     ]
    }
   ],
   "source": [
    "filter_outputs = activations[0]  # Extract the outputs from the first (in this case, the only) layer of the model\n",
    "print(filter_outputs.shape)"
   ]
  },
  {
   "cell_type": "markdown",
   "id": "d417ff15-5af5-43f0-96af-2d1dcaf13d27",
   "metadata": {},
   "source": [
    "The output shape confirms that the model correctly applied the two filters on the input as the output depth is 2 - one dimension for each filter. Using the formula above, we also know that the width and height are (1)*300+2(1)-3 + 1 = 300. Since each filter output is a tensor, we can also display their weights by directly indexing the object:\n"
   ]
  },
  {
   "cell_type": "code",
   "execution_count": 235,
   "id": "80e9d37c-9319-4aba-aa3a-d49acdc46006",
   "metadata": {},
   "outputs": [
    {
     "data": {
      "text/plain": [
       "array([[[191.],\n",
       "        [109.],\n",
       "        [112.],\n",
       "        [112.],\n",
       "        [112.],\n",
       "        [112.],\n",
       "        [112.],\n",
       "        [112.],\n",
       "        [112.],\n",
       "        [112.],\n",
       "        [112.],\n",
       "        [112.],\n",
       "        [112.],\n",
       "        [112.],\n",
       "        [112.],\n",
       "        [112.],\n",
       "        [112.],\n",
       "        [112.],\n",
       "        [112.],\n",
       "        [112.],\n",
       "        [112.],\n",
       "        [112.],\n",
       "        [112.],\n",
       "        [112.],\n",
       "        [112.],\n",
       "        [112.],\n",
       "        [112.],\n",
       "        [112.],\n",
       "        [112.],\n",
       "        [112.],\n",
       "        [112.],\n",
       "        [112.],\n",
       "        [112.],\n",
       "        [112.],\n",
       "        [112.],\n",
       "        [112.],\n",
       "        [112.],\n",
       "        [112.],\n",
       "        [112.],\n",
       "        [112.],\n",
       "        [112.],\n",
       "        [112.],\n",
       "        [112.],\n",
       "        [112.],\n",
       "        [112.],\n",
       "        [112.],\n",
       "        [112.],\n",
       "        [112.],\n",
       "        [112.],\n",
       "        [112.],\n",
       "        [112.],\n",
       "        [112.],\n",
       "        [112.],\n",
       "        [112.],\n",
       "        [112.],\n",
       "        [112.],\n",
       "        [112.],\n",
       "        [112.],\n",
       "        [112.],\n",
       "        [112.],\n",
       "        [112.],\n",
       "        [112.],\n",
       "        [112.],\n",
       "        [112.],\n",
       "        [112.],\n",
       "        [112.],\n",
       "        [112.],\n",
       "        [112.],\n",
       "        [112.],\n",
       "        [112.],\n",
       "        [112.],\n",
       "        [112.],\n",
       "        [112.],\n",
       "        [112.],\n",
       "        [112.],\n",
       "        [112.],\n",
       "        [112.],\n",
       "        [112.],\n",
       "        [112.],\n",
       "        [112.],\n",
       "        [112.],\n",
       "        [112.],\n",
       "        [112.],\n",
       "        [112.],\n",
       "        [112.],\n",
       "        [112.],\n",
       "        [112.],\n",
       "        [112.],\n",
       "        [112.],\n",
       "        [112.],\n",
       "        [112.],\n",
       "        [112.],\n",
       "        [112.],\n",
       "        [112.],\n",
       "        [112.],\n",
       "        [112.],\n",
       "        [112.],\n",
       "        [112.],\n",
       "        [112.],\n",
       "        [112.],\n",
       "        [112.],\n",
       "        [112.],\n",
       "        [112.],\n",
       "        [112.],\n",
       "        [112.],\n",
       "        [112.],\n",
       "        [112.],\n",
       "        [112.],\n",
       "        [112.],\n",
       "        [112.],\n",
       "        [112.],\n",
       "        [112.],\n",
       "        [112.],\n",
       "        [112.],\n",
       "        [112.],\n",
       "        [112.],\n",
       "        [112.],\n",
       "        [112.],\n",
       "        [112.],\n",
       "        [112.],\n",
       "        [112.],\n",
       "        [112.],\n",
       "        [112.],\n",
       "        [112.],\n",
       "        [112.],\n",
       "        [112.],\n",
       "        [112.],\n",
       "        [112.],\n",
       "        [112.],\n",
       "        [112.],\n",
       "        [112.],\n",
       "        [112.],\n",
       "        [112.],\n",
       "        [112.],\n",
       "        [112.],\n",
       "        [112.],\n",
       "        [112.],\n",
       "        [112.],\n",
       "        [112.],\n",
       "        [112.],\n",
       "        [112.],\n",
       "        [112.],\n",
       "        [112.],\n",
       "        [112.],\n",
       "        [112.],\n",
       "        [112.],\n",
       "        [112.],\n",
       "        [112.],\n",
       "        [111.],\n",
       "        [125.]]], dtype=float32)"
      ]
     },
     "execution_count": 235,
     "metadata": {},
     "output_type": "execute_result"
    }
   ],
   "source": [
    "# Display weights of the first filter of this layer\n",
    "filter_outputs[:,:,0]"
   ]
  },
  {
   "cell_type": "markdown",
   "id": "1851dd8e-a345-40bb-827b-b1a7d14e45fe",
   "metadata": {},
   "source": [
    "We can also visualize the outputs from each convolution:\n"
   ]
  },
  {
   "cell_type": "code",
   "execution_count": 236,
   "id": "e62bd190-cf6a-4377-a394-b562c05a6ada",
   "metadata": {},
   "outputs": [
    {
     "data": {
      "image/png": "[encoded data removed]",
      "text/plain": [
       "<Figure size 640x480 with 2 Axes>"
      ]
     },
     "metadata": {},
     "output_type": "display_data"
    }
   ],
   "source": [
    "# Display the filter outputs\n",
    "names = [\"Sharpening Filter\", \"Edge Filter\"]\n",
    "for i in range(2):\n",
    "    plt.subplot(1,2,i+1)\n",
    "    plt.imshow(filter_outputs[:,:,i], cmap='gray')\n",
    "    plt.axis(\"off\")\n",
    "    plt.title(f\"{names[i]}\", fontsize=13)"
   ]
  },
  {
   "cell_type": "markdown",
   "id": "0eb57f21-9c5b-4140-a0c6-92a1a2f285ad",
   "metadata": {},
   "source": [
    "We see that given a grayscale image in which the shapes blended in completely with the background, the sharpening and edge filters can't detect any features that were apparent in the colored image.\n"
   ]
  },
  {
   "cell_type": "markdown",
   "id": "b4a36aed-f512-4727-aad4-a7ae7fba9c33",
   "metadata": {},
   "source": [
    "### Multiple Inputs, Single Output\n"
   ]
  },
  {
   "cell_type": "markdown",
   "id": "e1935f2c-8705-4e33-971a-e00f925643f6",
   "metadata": {},
   "source": [
    "So, what if we used a colored image instead? Will the network be better at sharpening the image? Before moving onto utilizing multiple filters, let's see how the output is calculated when we have one filter applied on multiple channels, such as RGB.\n"
   ]
  },
  {
   "cell_type": "markdown",
   "id": "62292024-61a0-4d0a-84e0-c09200234c2d",
   "metadata": {},
   "source": [
    "<center>\n",
    "    <img src=\"https://cf-courses-data.s3.us.cloud-object-storage.appdomain.cloud/IBMDeveloperSkillsNetwork-ML311-Coursera/labs/Module3/L1/images/MultiInSingleOut.png\" width=\"600\" alt=\"multiple input single output calculation\">\n",
    "<center>\n"
   ]
  },
  {
   "cell_type": "markdown",
   "id": "f7cce5b6-1aea-41e8-bedb-3e60bd17ad85",
   "metadata": {},
   "source": [
    "How a filter is applied on multi-channel input is quite similar to the single channel case. What's different is that now, the depth of the filter will correspond to the number of input channels, so one 2D kernel is designated for one channel. The convolved result for each channel is then added together to form a single output channel.\n"
   ]
  },
  {
   "cell_type": "markdown",
   "id": "ccb09a6e-538b-4e06-89f8-cc969e0c6e76",
   "metadata": {},
   "source": [
    "#### Exercise: Reshape the Image\n"
   ]
  },
  {
   "cell_type": "code",
   "execution_count": null,
   "id": "aeb6770c-3ee6-448f-abf2-270c2cc6dd77",
   "metadata": {},
   "outputs": [],
   "source": [
    "# Using the RGB image from before, convert it to a numpy array and reshape it to be 300x300x3, where 3 is for the three channels.\n",
    "img_tensor = np.array(image).reshape((1, img_width, img_height, 3))"
   ]
  },
  {
   "cell_type": "markdown",
   "id": "8d2c3d4e-702a-447c-ab7c-d2f5241123a0",
   "metadata": {},
   "source": [
    "Again, we define the filter we hope to use. In this case, the kernel is of shape 3x3x3x1 because we want one 3x3 filter for each of the 3 input channels. Note that these three filters take on the same value since we want to apply the same convolution on all the channels. With one filter involved for convolution, we specify one bias value.\n"
   ]
  },
  {
   "cell_type": "code",
   "execution_count": 238,
   "id": "af1ad918-8fe4-41c7-a794-db8f0019b239",
   "metadata": {},
   "outputs": [],
   "source": [
    "kernel = np.array([sharpen_grad((3,3,1,1)), sharpen_grad((3,3,1,1)), sharpen_grad((3,3,1,1))])\n",
    "kernel = kernel.reshape((3,3,3,1))\n",
    "b = np.array([0.0])"
   ]
  },
  {
   "cell_type": "code",
   "execution_count": 239,
   "id": "7ee45fc3-e073-4d00-9482-5bd1636ef3bb",
   "metadata": {},
   "outputs": [
    {
     "data": {
      "text/html": [
       "<pre style=\"white-space:pre;overflow-x:auto;line-height:normal;font-family:Menlo,'DejaVu Sans Mono',consolas,'Courier New',monospace\"><span style=\"font-weight: bold\">Model: \"sequential_36\"</span>\n",
       "</pre>\n"
      ],
      "text/plain": [
       "\u001b[1mModel: \"sequential_36\"\u001b[0m\n"
      ]
     },
     "metadata": {},
     "output_type": "display_data"
    },
    {
     "data": {
      "text/html": [
       "<pre style=\"white-space:pre;overflow-x:auto;line-height:normal;font-family:Menlo,'DejaVu Sans Mono',consolas,'Courier New',monospace\">┏━━━━━━━━━━━━━━━━━━━━━━━━━━━━━━━━━┳━━━━━━━━━━━━━━━━━━━━━━━━┳━━━━━━━━━━━━━━━┓\n",
       "┃<span style=\"font-weight: bold\"> Layer (type)                    </span>┃<span style=\"font-weight: bold\"> Output Shape           </span>┃<span style=\"font-weight: bold\">       Param # </span>┃\n",
       "┡━━━━━━━━━━━━━━━━━━━━━━━━━━━━━━━━━╇━━━━━━━━━━━━━━━━━━━━━━━━╇━━━━━━━━━━━━━━━┩\n",
       "│ conv2d_52 (<span style=\"color: #0087ff; text-decoration-color: #0087ff\">Conv2D</span>)              │ (<span style=\"color: #00d7ff; text-decoration-color: #00d7ff\">None</span>, <span style=\"color: #00af00; text-decoration-color: #00af00\">150</span>, <span style=\"color: #00af00; text-decoration-color: #00af00\">150</span>, <span style=\"color: #00af00; text-decoration-color: #00af00\">1</span>)    │            <span style=\"color: #00af00; text-decoration-color: #00af00\">28</span> │\n",
       "└─────────────────────────────────┴────────────────────────┴───────────────┘\n",
       "</pre>\n"
      ],
      "text/plain": [
       "┏━━━━━━━━━━━━━━━━━━━━━━━━━━━━━━━━━┳━━━━━━━━━━━━━━━━━━━━━━━━┳━━━━━━━━━━━━━━━┓\n",
       "┃\u001b[1m \u001b[0m\u001b[1mLayer (type)                   \u001b[0m\u001b[1m \u001b[0m┃\u001b[1m \u001b[0m\u001b[1mOutput Shape          \u001b[0m\u001b[1m \u001b[0m┃\u001b[1m \u001b[0m\u001b[1m      Param #\u001b[0m\u001b[1m \u001b[0m┃\n",
       "┡━━━━━━━━━━━━━━━━━━━━━━━━━━━━━━━━━╇━━━━━━━━━━━━━━━━━━━━━━━━╇━━━━━━━━━━━━━━━┩\n",
       "│ conv2d_52 (\u001b[38;5;33mConv2D\u001b[0m)              │ (\u001b[38;5;45mNone\u001b[0m, \u001b[38;5;34m150\u001b[0m, \u001b[38;5;34m150\u001b[0m, \u001b[38;5;34m1\u001b[0m)    │            \u001b[38;5;34m28\u001b[0m │\n",
       "└─────────────────────────────────┴────────────────────────┴───────────────┘\n"
      ]
     },
     "metadata": {},
     "output_type": "display_data"
    },
    {
     "data": {
      "text/html": [
       "<pre style=\"white-space:pre;overflow-x:auto;line-height:normal;font-family:Menlo,'DejaVu Sans Mono',consolas,'Courier New',monospace\"><span style=\"font-weight: bold\"> Total params: </span><span style=\"color: #00af00; text-decoration-color: #00af00\">28</span> (112.00 B)\n",
       "</pre>\n"
      ],
      "text/plain": [
       "\u001b[1m Total params: \u001b[0m\u001b[38;5;34m28\u001b[0m (112.00 B)\n"
      ]
     },
     "metadata": {},
     "output_type": "display_data"
    },
    {
     "data": {
      "text/html": [
       "<pre style=\"white-space:pre;overflow-x:auto;line-height:normal;font-family:Menlo,'DejaVu Sans Mono',consolas,'Courier New',monospace\"><span style=\"font-weight: bold\"> Trainable params: </span><span style=\"color: #00af00; text-decoration-color: #00af00\">28</span> (112.00 B)\n",
       "</pre>\n"
      ],
      "text/plain": [
       "\u001b[1m Trainable params: \u001b[0m\u001b[38;5;34m28\u001b[0m (112.00 B)\n"
      ]
     },
     "metadata": {},
     "output_type": "display_data"
    },
    {
     "data": {
      "text/html": [
       "<pre style=\"white-space:pre;overflow-x:auto;line-height:normal;font-family:Menlo,'DejaVu Sans Mono',consolas,'Courier New',monospace\"><span style=\"font-weight: bold\"> Non-trainable params: </span><span style=\"color: #00af00; text-decoration-color: #00af00\">0</span> (0.00 B)\n",
       "</pre>\n"
      ],
      "text/plain": [
       "\u001b[1m Non-trainable params: \u001b[0m\u001b[38;5;34m0\u001b[0m (0.00 B)\n"
      ]
     },
     "metadata": {},
     "output_type": "display_data"
    }
   ],
   "source": [
    "model = Sequential()\n",
    "\n",
    "model.add(Conv2D(filters = 1,\n",
    "                 kernel_size = (3, 3),\n",
    "                 padding='same',\n",
    "                 input_shape = (img_width, img_height, 3)))\n",
    "\n",
    "model.set_weights([kernel,b])\n",
    "\n",
    "model.summary()"
   ]
  },
  {
   "cell_type": "markdown",
   "id": "f3ca6d4c-c30d-491c-a46f-809a5ff582d0",
   "metadata": {},
   "source": [
    "The output shape for the layer can also be seen in the model summary above. It matches our expectations based on the padding, stride, kernel size, and number of kernels. Again, we can visualize the output result. Since we only have a single filter, we don't need an additional model for separating out the filter outputs. However, we do need to reshape the predicted output into 2D to be able to plot it.\n"
   ]
  },
  {
   "cell_type": "code",
   "execution_count": 240,
   "id": "89486a83-6e39-460f-bbc8-dc26ce9a067e",
   "metadata": {},
   "outputs": [
    {
     "name": "stdout",
     "output_type": "stream",
     "text": [
      "\u001b[1m1/1\u001b[0m \u001b[32m━━━━━━━━━━━━━━━━━━━━\u001b[0m\u001b[37m\u001b[0m \u001b[1m0s\u001b[0m 58ms/step\n"
     ]
    }
   ],
   "source": [
    "output = model.predict(img_tensor)\n",
    "output = output.reshape((img_width, img_height))"
   ]
  },
  {
   "cell_type": "markdown",
   "id": "641eff5a-84f1-4a99-a535-42d4db5fd20d",
   "metadata": {},
   "source": [
    "In this case, `output` directly shows us the result of applying a filter on the multichannel input.\n"
   ]
  },
  {
   "cell_type": "code",
   "execution_count": 241,
   "id": "17a888f8-2719-4590-801a-5b5f9c66f963",
   "metadata": {},
   "outputs": [
    {
     "data": {
      "text/plain": [
       "array([[ 846.,  191.,  345., ...,  343.,  238.,  735.],\n",
       "       [1238.,  236.,  500., ...,  496.,  320., 1052.],\n",
       "       [1173.,  119.,  447., ...,  442.,  226.,  948.],\n",
       "       ...,\n",
       "       [1175.,  128.,  460., ...,  454.,  239.,  952.],\n",
       "       [1184.,  148.,  465., ...,  461.,  251.,  967.],\n",
       "       [ 792.,  103.,  310., ...,  308.,  169.,  650.]], dtype=float32)"
      ]
     },
     "execution_count": 241,
     "metadata": {},
     "output_type": "execute_result"
    }
   ],
   "source": [
    "# View values of the output tensor\n",
    "output"
   ]
  },
  {
   "cell_type": "code",
   "execution_count": 242,
   "id": "08133410-9778-4311-91cc-229fec1fd7c7",
   "metadata": {},
   "outputs": [
    {
     "data": {
      "text/plain": [
       "<matplotlib.image.AxesImage at 0x22d10db66c0>"
      ]
     },
     "execution_count": 242,
     "metadata": {},
     "output_type": "execute_result"
    },
    {
     "data": {
      "image/png": "[encoded data removed]",
      "text/plain": [
       "<Figure size 640x480 with 1 Axes>"
      ]
     },
     "metadata": {},
     "output_type": "display_data"
    }
   ],
   "source": [
    "plt.imshow(output, cmap='gray')"
   ]
  },
  {
   "cell_type": "markdown",
   "id": "57202c08-db65-454d-be3c-2d67d33f762a",
   "metadata": {},
   "source": [
    "It is evident here that applying a single filter on the colored image already performs better than applying two filters on the grayscale. We can see the stars now!\n"
   ]
  },
  {
   "cell_type": "markdown",
   "id": "0b8ffc15-914c-4614-9f94-ca7be38ca73b",
   "metadata": {},
   "source": [
    "### Multiple Inputs, Multiple Outputs\n"
   ]
  },
  {
   "cell_type": "markdown",
   "id": "efe64a7f-a84a-468b-ad23-ec2c7a797f41",
   "metadata": {},
   "source": [
    "Now for the most complex relationship -  applying multiple filters on multichannel inputs all at once. How is convolution performed, and what would the output look like? Combining knowledge from the previous two subsections, you can probably guess how we calculate the output based on multichannel inputs with multiple filters. Each output channel is calculated the same way as the \"Multiple Inputs, Single Output\" case. The number of output channels corresponds to the number of filters applied.\n"
   ]
  },
  {
   "cell_type": "markdown",
   "id": "5cd0c18e-baf6-4455-abc1-795d9ec56e9c",
   "metadata": {},
   "source": [
    "<center>\n",
    "    <img src=\"https://cf-courses-data.s3.us.cloud-object-storage.appdomain.cloud/IBMDeveloperSkillsNetwork-ML311-Coursera/labs/Module3/L1/images/MultiInMultiOut.png\" width=\"600\" alt=\"multiple input multiple output calculation\">\n",
    "<center>\n"
   ]
  },
  {
   "cell_type": "markdown",
   "id": "55d31654-d12c-434a-8466-20204cdbdaf9",
   "metadata": {},
   "source": [
    "It is evident in the visual above that the number of output channels correspond to the number of filters we have, and each channel is the summation of convolution on the input channels for a single kernel. Let's apply the method to a color image.\n"
   ]
  },
  {
   "cell_type": "code",
   "execution_count": 243,
   "id": "768d1137-23c8-4a6b-a2cc-3365917509e3",
   "metadata": {},
   "outputs": [
    {
     "data": {
      "text/plain": [
       "(1, 150, 150, 3)"
      ]
     },
     "execution_count": 243,
     "metadata": {},
     "output_type": "execute_result"
    }
   ],
   "source": [
    "img_tensor = np.array(image).reshape((1, img_width, img_height, 3))\n",
    "img_tensor.shape"
   ]
  },
  {
   "cell_type": "markdown",
   "id": "9f9a371d-111e-4f38-98df-745bb59fa057",
   "metadata": {},
   "source": [
    "We will take our color image and apply the filters to get two outputs. Here, we have 3 input channels x 2 outputs, meaning that we need 6 filter channels total, 3 for each filter. We define the filter here:\n"
   ]
  },
  {
   "cell_type": "code",
   "execution_count": 244,
   "id": "45e6e249-a406-48b0-9a67-6c6282c0e06a",
   "metadata": {},
   "outputs": [],
   "source": [
    "kernel = np.zeros((3,3,3,2))\n",
    "\n",
    "kernel[0] = np.dstack([sharpen_grad((3,3,1)),edge_grad((3,3,1))])\n",
    "kernel[1] = np.dstack([sharpen_grad((3,3,1)),edge_grad((3,3,1))])\n",
    "kernel[2] = np.dstack([sharpen_grad((3,3,1)),edge_grad((3,3,1))])\n",
    "\n",
    "kernel = kernel.reshape((3,3,3,2))"
   ]
  },
  {
   "cell_type": "markdown",
   "id": "b61c744a-d99c-42db-9c03-3ddc6ff167ac",
   "metadata": {},
   "source": [
    "#### Exercise: Define biases \n",
    "If we have one bias per operation on the input, what does our bias object look like?  Set the bias to 0.\n"
   ]
  },
  {
   "cell_type": "code",
   "execution_count": null,
   "id": "42b00c47-14da-4d48-a8d1-05d68757f09c",
   "metadata": {},
   "outputs": [],
   "source": [
    "b = np.array([np.array([0.0]),np.array([0.0])]).reshape(2,)"
   ]
  },
  {
   "cell_type": "markdown",
   "id": "fc2b7873-5e12-4aec-baaa-5570b12735a1",
   "metadata": {},
   "source": [
    "We proceed to define the model:\n"
   ]
  },
  {
   "cell_type": "code",
   "execution_count": 246,
   "id": "0e487dc2-0fec-497f-807c-e0e5c401a99f",
   "metadata": {},
   "outputs": [
    {
     "data": {
      "text/html": [
       "<pre style=\"white-space:pre;overflow-x:auto;line-height:normal;font-family:Menlo,'DejaVu Sans Mono',consolas,'Courier New',monospace\"><span style=\"font-weight: bold\">Model: \"sequential_37\"</span>\n",
       "</pre>\n"
      ],
      "text/plain": [
       "\u001b[1mModel: \"sequential_37\"\u001b[0m\n"
      ]
     },
     "metadata": {},
     "output_type": "display_data"
    },
    {
     "data": {
      "text/html": [
       "<pre style=\"white-space:pre;overflow-x:auto;line-height:normal;font-family:Menlo,'DejaVu Sans Mono',consolas,'Courier New',monospace\">┏━━━━━━━━━━━━━━━━━━━━━━━━━━━━━━━━━┳━━━━━━━━━━━━━━━━━━━━━━━━┳━━━━━━━━━━━━━━━┓\n",
       "┃<span style=\"font-weight: bold\"> Layer (type)                    </span>┃<span style=\"font-weight: bold\"> Output Shape           </span>┃<span style=\"font-weight: bold\">       Param # </span>┃\n",
       "┡━━━━━━━━━━━━━━━━━━━━━━━━━━━━━━━━━╇━━━━━━━━━━━━━━━━━━━━━━━━╇━━━━━━━━━━━━━━━┩\n",
       "│ conv2d_53 (<span style=\"color: #0087ff; text-decoration-color: #0087ff\">Conv2D</span>)              │ (<span style=\"color: #00d7ff; text-decoration-color: #00d7ff\">None</span>, <span style=\"color: #00af00; text-decoration-color: #00af00\">150</span>, <span style=\"color: #00af00; text-decoration-color: #00af00\">150</span>, <span style=\"color: #00af00; text-decoration-color: #00af00\">2</span>)    │            <span style=\"color: #00af00; text-decoration-color: #00af00\">56</span> │\n",
       "└─────────────────────────────────┴────────────────────────┴───────────────┘\n",
       "</pre>\n"
      ],
      "text/plain": [
       "┏━━━━━━━━━━━━━━━━━━━━━━━━━━━━━━━━━┳━━━━━━━━━━━━━━━━━━━━━━━━┳━━━━━━━━━━━━━━━┓\n",
       "┃\u001b[1m \u001b[0m\u001b[1mLayer (type)                   \u001b[0m\u001b[1m \u001b[0m┃\u001b[1m \u001b[0m\u001b[1mOutput Shape          \u001b[0m\u001b[1m \u001b[0m┃\u001b[1m \u001b[0m\u001b[1m      Param #\u001b[0m\u001b[1m \u001b[0m┃\n",
       "┡━━━━━━━━━━━━━━━━━━━━━━━━━━━━━━━━━╇━━━━━━━━━━━━━━━━━━━━━━━━╇━━━━━━━━━━━━━━━┩\n",
       "│ conv2d_53 (\u001b[38;5;33mConv2D\u001b[0m)              │ (\u001b[38;5;45mNone\u001b[0m, \u001b[38;5;34m150\u001b[0m, \u001b[38;5;34m150\u001b[0m, \u001b[38;5;34m2\u001b[0m)    │            \u001b[38;5;34m56\u001b[0m │\n",
       "└─────────────────────────────────┴────────────────────────┴───────────────┘\n"
      ]
     },
     "metadata": {},
     "output_type": "display_data"
    },
    {
     "data": {
      "text/html": [
       "<pre style=\"white-space:pre;overflow-x:auto;line-height:normal;font-family:Menlo,'DejaVu Sans Mono',consolas,'Courier New',monospace\"><span style=\"font-weight: bold\"> Total params: </span><span style=\"color: #00af00; text-decoration-color: #00af00\">56</span> (224.00 B)\n",
       "</pre>\n"
      ],
      "text/plain": [
       "\u001b[1m Total params: \u001b[0m\u001b[38;5;34m56\u001b[0m (224.00 B)\n"
      ]
     },
     "metadata": {},
     "output_type": "display_data"
    },
    {
     "data": {
      "text/html": [
       "<pre style=\"white-space:pre;overflow-x:auto;line-height:normal;font-family:Menlo,'DejaVu Sans Mono',consolas,'Courier New',monospace\"><span style=\"font-weight: bold\"> Trainable params: </span><span style=\"color: #00af00; text-decoration-color: #00af00\">56</span> (224.00 B)\n",
       "</pre>\n"
      ],
      "text/plain": [
       "\u001b[1m Trainable params: \u001b[0m\u001b[38;5;34m56\u001b[0m (224.00 B)\n"
      ]
     },
     "metadata": {},
     "output_type": "display_data"
    },
    {
     "data": {
      "text/html": [
       "<pre style=\"white-space:pre;overflow-x:auto;line-height:normal;font-family:Menlo,'DejaVu Sans Mono',consolas,'Courier New',monospace\"><span style=\"font-weight: bold\"> Non-trainable params: </span><span style=\"color: #00af00; text-decoration-color: #00af00\">0</span> (0.00 B)\n",
       "</pre>\n"
      ],
      "text/plain": [
       "\u001b[1m Non-trainable params: \u001b[0m\u001b[38;5;34m0\u001b[0m (0.00 B)\n"
      ]
     },
     "metadata": {},
     "output_type": "display_data"
    }
   ],
   "source": [
    "model = Sequential()\n",
    "\n",
    "model.add(Conv2D(filters = 2,\n",
    "                 kernel_size = (3, 3),\n",
    "                 padding='same',\n",
    "                 input_shape = (img_width, img_height, 3)))\n",
    "\n",
    "model.set_weights([kernel,b])\n",
    "\n",
    "model.summary()"
   ]
  },
  {
   "cell_type": "markdown",
   "id": "1cd8a49c-7241-4c57-a919-c7c6c7afab4d",
   "metadata": {},
   "source": [
    "We assign the the pre-made filters:\n"
   ]
  },
  {
   "cell_type": "code",
   "execution_count": 247,
   "metadata": {},
   "outputs": [
    {
     "data": {
      "text/html": [
       "<pre style=\"white-space:pre;overflow-x:auto;line-height:normal;font-family:Menlo,'DejaVu Sans Mono',consolas,'Courier New',monospace\"><span style=\"font-weight: bold\">Model: \"functional_59\"</span>\n",
       "</pre>\n"
      ],
      "text/plain": [
       "\u001b[1mModel: \"functional_59\"\u001b[0m\n"
      ]
     },
     "metadata": {},
     "output_type": "display_data"
    },
    {
     "data": {
      "text/html": [
       "<pre style=\"white-space:pre;overflow-x:auto;line-height:normal;font-family:Menlo,'DejaVu Sans Mono',consolas,'Courier New',monospace\">┏━━━━━━━━━━━━━━━━━━━━━━━━━━━━━━━━━┳━━━━━━━━━━━━━━━━━━━━━━━━┳━━━━━━━━━━━━━━━┓\n",
       "┃<span style=\"font-weight: bold\"> Layer (type)                    </span>┃<span style=\"font-weight: bold\"> Output Shape           </span>┃<span style=\"font-weight: bold\">       Param # </span>┃\n",
       "┡━━━━━━━━━━━━━━━━━━━━━━━━━━━━━━━━━╇━━━━━━━━━━━━━━━━━━━━━━━━╇━━━━━━━━━━━━━━━┩\n",
       "│ input_layer_48 (<span style=\"color: #0087ff; text-decoration-color: #0087ff\">InputLayer</span>)     │ (<span style=\"color: #00d7ff; text-decoration-color: #00d7ff\">None</span>, <span style=\"color: #00af00; text-decoration-color: #00af00\">150</span>, <span style=\"color: #00af00; text-decoration-color: #00af00\">150</span>, <span style=\"color: #00af00; text-decoration-color: #00af00\">3</span>)    │             <span style=\"color: #00af00; text-decoration-color: #00af00\">0</span> │\n",
       "├─────────────────────────────────┼────────────────────────┼───────────────┤\n",
       "│ conv2d_54 (<span style=\"color: #0087ff; text-decoration-color: #0087ff\">Conv2D</span>)              │ (<span style=\"color: #00d7ff; text-decoration-color: #00d7ff\">None</span>, <span style=\"color: #00af00; text-decoration-color: #00af00\">148</span>, <span style=\"color: #00af00; text-decoration-color: #00af00\">148</span>, <span style=\"color: #00af00; text-decoration-color: #00af00\">32</span>)   │           <span style=\"color: #00af00; text-decoration-color: #00af00\">896</span> │\n",
       "├─────────────────────────────────┼────────────────────────┼───────────────┤\n",
       "│ flatten_6 (<span style=\"color: #0087ff; text-decoration-color: #0087ff\">Flatten</span>)             │ (<span style=\"color: #00d7ff; text-decoration-color: #00d7ff\">None</span>, <span style=\"color: #00af00; text-decoration-color: #00af00\">700928</span>)         │             <span style=\"color: #00af00; text-decoration-color: #00af00\">0</span> │\n",
       "├─────────────────────────────────┼────────────────────────┼───────────────┤\n",
       "│ dense_6 (<span style=\"color: #0087ff; text-decoration-color: #0087ff\">Dense</span>)                 │ (<span style=\"color: #00d7ff; text-decoration-color: #00d7ff\">None</span>, <span style=\"color: #00af00; text-decoration-color: #00af00\">10</span>)             │     <span style=\"color: #00af00; text-decoration-color: #00af00\">7,009,290</span> │\n",
       "└─────────────────────────────────┴────────────────────────┴───────────────┘\n",
       "</pre>\n"
      ],
      "text/plain": [
       "┏━━━━━━━━━━━━━━━━━━━━━━━━━━━━━━━━━┳━━━━━━━━━━━━━━━━━━━━━━━━┳━━━━━━━━━━━━━━━┓\n",
       "┃\u001b[1m \u001b[0m\u001b[1mLayer (type)                   \u001b[0m\u001b[1m \u001b[0m┃\u001b[1m \u001b[0m\u001b[1mOutput Shape          \u001b[0m\u001b[1m \u001b[0m┃\u001b[1m \u001b[0m\u001b[1m      Param #\u001b[0m\u001b[1m \u001b[0m┃\n",
       "┡━━━━━━━━━━━━━━━━━━━━━━━━━━━━━━━━━╇━━━━━━━━━━━━━━━━━━━━━━━━╇━━━━━━━━━━━━━━━┩\n",
       "│ input_layer_48 (\u001b[38;5;33mInputLayer\u001b[0m)     │ (\u001b[38;5;45mNone\u001b[0m, \u001b[38;5;34m150\u001b[0m, \u001b[38;5;34m150\u001b[0m, \u001b[38;5;34m3\u001b[0m)    │             \u001b[38;5;34m0\u001b[0m │\n",
       "├─────────────────────────────────┼────────────────────────┼───────────────┤\n",
       "│ conv2d_54 (\u001b[38;5;33mConv2D\u001b[0m)              │ (\u001b[38;5;45mNone\u001b[0m, \u001b[38;5;34m148\u001b[0m, \u001b[38;5;34m148\u001b[0m, \u001b[38;5;34m32\u001b[0m)   │           \u001b[38;5;34m896\u001b[0m │\n",
       "├─────────────────────────────────┼────────────────────────┼───────────────┤\n",
       "│ flatten_6 (\u001b[38;5;33mFlatten\u001b[0m)             │ (\u001b[38;5;45mNone\u001b[0m, \u001b[38;5;34m700928\u001b[0m)         │             \u001b[38;5;34m0\u001b[0m │\n",
       "├─────────────────────────────────┼────────────────────────┼───────────────┤\n",
       "│ dense_6 (\u001b[38;5;33mDense\u001b[0m)                 │ (\u001b[38;5;45mNone\u001b[0m, \u001b[38;5;34m10\u001b[0m)             │     \u001b[38;5;34m7,009,290\u001b[0m │\n",
       "└─────────────────────────────────┴────────────────────────┴───────────────┘\n"
      ]
     },
     "metadata": {},
     "output_type": "display_data"
    },
    {
     "data": {
      "text/html": [
       "<pre style=\"white-space:pre;overflow-x:auto;line-height:normal;font-family:Menlo,'DejaVu Sans Mono',consolas,'Courier New',monospace\"><span style=\"font-weight: bold\"> Total params: </span><span style=\"color: #00af00; text-decoration-color: #00af00\">7,010,186</span> (26.74 MB)\n",
       "</pre>\n"
      ],
      "text/plain": [
       "\u001b[1m Total params: \u001b[0m\u001b[38;5;34m7,010,186\u001b[0m (26.74 MB)\n"
      ]
     },
     "metadata": {},
     "output_type": "display_data"
    },
    {
     "data": {
      "text/html": [
       "<pre style=\"white-space:pre;overflow-x:auto;line-height:normal;font-family:Menlo,'DejaVu Sans Mono',consolas,'Courier New',monospace\"><span style=\"font-weight: bold\"> Trainable params: </span><span style=\"color: #00af00; text-decoration-color: #00af00\">7,010,186</span> (26.74 MB)\n",
       "</pre>\n"
      ],
      "text/plain": [
       "\u001b[1m Trainable params: \u001b[0m\u001b[38;5;34m7,010,186\u001b[0m (26.74 MB)\n"
      ]
     },
     "metadata": {},
     "output_type": "display_data"
    },
    {
     "data": {
      "text/html": [
       "<pre style=\"white-space:pre;overflow-x:auto;line-height:normal;font-family:Menlo,'DejaVu Sans Mono',consolas,'Courier New',monospace\"><span style=\"font-weight: bold\"> Non-trainable params: </span><span style=\"color: #00af00; text-decoration-color: #00af00\">0</span> (0.00 B)\n",
       "</pre>\n"
      ],
      "text/plain": [
       "\u001b[1m Non-trainable params: \u001b[0m\u001b[38;5;34m0\u001b[0m (0.00 B)\n"
      ]
     },
     "metadata": {},
     "output_type": "display_data"
    }
   ],
   "source": [
    "from tensorflow.keras.models import Model\n",
    "from tensorflow.keras.layers import Conv2D, Flatten, Dense\n",
    "\n",
    "# Define the input shape\n",
    "img_width, img_height = 150, 150\n",
    "input_tensor = tf.keras.Input(shape=(img_width, img_height, 3))\n",
    "\n",
    "# Define the model\n",
    "x = Conv2D(32, (3, 3), activation='relu')(input_tensor)\n",
    "x = Flatten()(x)\n",
    "output_tensor = Dense(10, activation='softmax')(x)\n",
    "model = Model(inputs=input_tensor, outputs=output_tensor)\n",
    "\n",
    "# Print model summary\n",
    "model.summary()"
   ]
  },
  {
   "cell_type": "code",
   "execution_count": 248,
   "id": "0a015ec5-cb3d-4822-9dd8-2fe67ad9e03c",
   "metadata": {},
   "outputs": [
    {
     "name": "stdout",
     "output_type": "stream",
     "text": [
      "\u001b[1m1/1\u001b[0m \u001b[32m━━━━━━━━━━━━━━━━━━━━\u001b[0m\u001b[37m\u001b[0m \u001b[1m0s\u001b[0m 61ms/step\n"
     ]
    }
   ],
   "source": [
    "layer_outputs = [layer.output for layer in model.layers]\n",
    "input = model.input\n",
    "activation_model = Model(inputs=input, outputs=layer_outputs)\n",
    "activations = activation_model.predict(img_tensor)\n",
    "filter_outputs = activations[0]"
   ]
  },
  {
   "cell_type": "markdown",
   "id": "6c4c17ca-57fa-4f61-8e71-5450925e77b0",
   "metadata": {},
   "source": [
    "Here, we can see that no matter how many channels we have as input, the output dimension doesn't depend on it.\n"
   ]
  },
  {
   "cell_type": "code",
   "execution_count": 249,
   "metadata": {},
   "outputs": [
    {
     "name": "stderr",
     "output_type": "stream",
     "text": [
      "Clipping input data to the valid range for imshow with RGB data ([0..1] for floats or [0..255] for integers). Got range [90.0..197.0].\n"
     ]
    },
    {
     "data": {
      "text/plain": [
       "<matplotlib.image.AxesImage at 0x22d10d6d280>"
      ]
     },
     "execution_count": 249,
     "metadata": {},
     "output_type": "execute_result"
    },
    {
     "data": {
      "image/png": "[encoded data removed]",
      "text/plain": [
       "<Figure size 640x480 with 1 Axes>"
      ]
     },
     "metadata": {},
     "output_type": "display_data"
    }
   ],
   "source": [
    "plt.imshow(filter_outputs[:,:,0],cmap='gray') # Print out the convolved result of the first filter"
   ]
  },
  {
   "cell_type": "code",
   "execution_count": 250,
   "id": "6b54a4b0-8bfd-4336-8ff3-39aaf33ef69a",
   "metadata": {},
   "outputs": [
    {
     "name": "stderr",
     "output_type": "stream",
     "text": [
      "Clipping input data to the valid range for imshow with RGB data ([0..1] for floats or [0..255] for integers). Got range [90.0..197.0].\n"
     ]
    },
    {
     "data": {
      "text/plain": [
       "<matplotlib.image.AxesImage at 0x22ce78ff4a0>"
      ]
     },
     "execution_count": 250,
     "metadata": {},
     "output_type": "execute_result"
    },
    {
     "data": {
      "image/png": "[encoded data removed]",
      "text/plain": [
       "<Figure size 640x480 with 1 Axes>"
      ]
     },
     "metadata": {},
     "output_type": "display_data"
    }
   ],
   "source": [
    "plt.imshow(filter_outputs[:,:,0],cmap='gray') # Print out the convolved result of the first filter"
   ]
  },
  {
   "cell_type": "code",
   "execution_count": 251,
   "id": "b5ba0a69-4d08-4971-a988-c941dd5f464d",
   "metadata": {},
   "outputs": [
    {
     "name": "stderr",
     "output_type": "stream",
     "text": [
      "Clipping input data to the valid range for imshow with RGB data ([0..1] for floats or [0..255] for integers). Got range [90.0..197.0].\n",
      "Clipping input data to the valid range for imshow with RGB data ([0..1] for floats or [0..255] for integers). Got range [0.0..161.0].\n"
     ]
    },
    {
     "data": {
      "image/png": "[encoded data removed]",
      "text/plain": [
       "<Figure size 640x480 with 2 Axes>"
      ]
     },
     "metadata": {},
     "output_type": "display_data"
    }
   ],
   "source": [
    "# Display the filter outputs\n",
    "names = [\"Sharpening Filter\", \"Edge Filter\"]\n",
    "for i in range(2):\n",
    "    plt.subplot(1,2,i+1)\n",
    "    plt.imshow(filter_outputs[:,:,i], cmap='gray')\n",
    "    plt.axis(\"off\")\n",
    "    plt.title(f\"{names[i]}\", fontsize=13)"
   ]
  },
  {
   "cell_type": "markdown",
   "id": "dc67007a-2433-4ca8-b0e3-584b2cf35bb1",
   "metadata": {},
   "source": [
    "From the two outputs, we notice that they produce very similar results, which is reasonable considering how simple the shape edges are.\n"
   ]
  },
  {
   "cell_type": "markdown",
   "id": "b462d1a7-82a1-4aee-b335-c8a2b66b1977",
   "metadata": {},
   "source": [
    "## Deeper CNNs\n"
   ]
  },
  {
   "cell_type": "markdown",
   "id": "95b99172-0bdf-411c-911a-37dc2e5ba3eb",
   "metadata": {},
   "source": [
    "In the last notebook, you had a preview of multi-layered CNNs. Now with a better understanding of the relationship between input and output size, we can decipher where the output shapes of each layer come from when training the network.\n"
   ]
  },
  {
   "cell_type": "markdown",
   "id": "8b5eb37c-0881-4269-b4ca-698bca20fdae",
   "metadata": {},
   "source": [
    "### Why do we want multiple layers?\n"
   ]
  },
  {
   "cell_type": "markdown",
   "id": "11626b80-d197-4d81-8849-3bd3027e6985",
   "metadata": {},
   "source": [
    "The benefit of multiple layers is that each layer can be responsible for detecting a certain set of features, which will help train the model better than if we only had a single layer. Moreover, we can specify different activation functions for each convolution layer. Let's see that in action with an example.\n"
   ]
  },
  {
   "cell_type": "markdown",
   "id": "ba730020-8ab5-43be-aff7-e38ae16552dd",
   "metadata": {},
   "source": [
    "### Example: Preparing a CNN for Flower Classification\n"
   ]
  },
  {
   "cell_type": "markdown",
   "id": "c1a02cc3-f844-46e6-b20b-3b90a16b9dfe",
   "metadata": {},
   "source": [
    "We will use our flower images from the image convolution notebook. However, this time, we want to use them to train a CNN model for classification. Hence, we will utilize a training and test set.\n",
    "https://www.tensorflow.org/tutorials/load_data/images\n"
   ]
  },
  {
   "cell_type": "code",
   "execution_count": 252,
   "id": "6f4a5552-c7a2-4387-8d07-155ce64809c7",
   "metadata": {},
   "outputs": [
    {
     "name": "stdout",
     "output_type": "stream",
     "text": [
      "The directory flower_photos exists.\n",
      "Contents of the directory: [WindowsPath('flower_photos/daisy'), WindowsPath('flower_photos/dandelion'), WindowsPath('flower_photos/LICENSE.txt'), WindowsPath('flower_photos/roses'), WindowsPath('flower_photos/sunflowers'), WindowsPath('flower_photos/tulips')]\n",
      "The daisy folder has 633 pictures\n",
      "The dandelion folder has 898 pictures\n",
      "The roses folder has 641 pictures\n",
      "The sunflowers folder has 699 pictures\n",
      "The tulips folder has 799 pictures\n",
      "3670 total images\n"
     ]
    }
   ],
   "source": [
    "import requests\n",
    "import tarfile\n",
    "import pathlib\n",
    "\n",
    "# Define the dataset URL\n",
    "dataset_url = \"https://cf-courses-data.s3.us.cloud-object-storage.appdomain.cloud/IBMDeveloperSkillsNetwork-ML311-Coursera/labs/Module3/L1/flower_photos.tgz\"\n",
    "\n",
    "# Download the dataset\n",
    "response = requests.get(dataset_url)\n",
    "with open('flower_photos.tgz', 'wb') as file:\n",
    "    file.write(response.content)\n",
    "\n",
    "# Extract the dataset\n",
    "with tarfile.open('flower_photos.tgz', 'r:gz') as tar:\n",
    "    tar.extractall()\n",
    "\n",
    "# Define the data directory\n",
    "data_dir = pathlib.Path('flower_photos')\n",
    "\n",
    "# Debugging: Check if the directory exists and list its contents\n",
    "if not data_dir.exists():\n",
    "    raise FileNotFoundError(f\"The directory {data_dir} does not exist.\")\n",
    "else:\n",
    "    print(f\"The directory {data_dir} exists.\")\n",
    "    print(\"Contents of the directory:\", list(data_dir.iterdir()))\n",
    "\n",
    "# Iterate over each folder in the data directory and count the number of images\n",
    "for folder in data_dir.glob('*'):\n",
    "    if folder.is_dir():\n",
    "        print(f'The {folder.name} folder has {len(list(folder.glob(\"*.jpg\")))} pictures')\n",
    "\n",
    "# Count the total number of images in the dataset\n",
    "image_count = len(list(data_dir.glob('*/*.jpg')))\n",
    "print(image_count, 'total images')"
   ]
  },
  {
   "cell_type": "code",
   "execution_count": null,
   "id": "3b437a58-5db8-4a1f-b4bb-94799ec50d1b",
   "metadata": {},
   "outputs": [
    {
     "data": {
      "text/plain": [
       "<Figure size 2000x500 with 0 Axes>"
      ]
     },
     "metadata": {},
     "output_type": "display_data"
    }
   ],
   "source": [
    "import os\n",
    "import shutil\n",
    "import numpy as np\n",
    "import matplotlib.pyplot as plt\n",
    "from PIL import Image\n",
    "from pathlib import Path\n",
    "\n",
    "# Initialize lists\n",
    "pics = list()\n",
    "pics_arr = list()\n",
    "p_class = list()\n",
    "\n",
    "# Image dimensions\n",
    "img_width = 300\n",
    "img_height = 300\n",
    "\n",
    "# Define the data directory and the new directory for processed images\n",
    "data_dir = Path('path/to/your/data_dir')  # Update this to actual data directory\n",
    "processed_dir = Path('path/to/your/processed_images')  # Update this to the desired output directory\n",
    "\n",
    "# Create the processed images directory if it doesn't exist\n",
    "processed_dir.mkdir(parents=True, exist_ok=True)\n",
    "\n",
    "plt.figure(figsize=(20, 5))\n",
    "for idx, folder in enumerate(data_dir.glob('[!LICENSE]*')):\n",
    "    daisy = [f for f in folder.glob('*') if f.is_file()]\n",
    "    if not daisy:\n",
    "        continue  # Skip if no files in the folder\n",
    "\n",
    "    try:\n",
    "        pic = Image.open(daisy[0]).resize((img_width, img_height))\n",
    "        pic_arr = np.array(pic)\n",
    "        clss = folder.name\n",
    "\n",
    "        # Save the processed image to the new directory\n",
    "        save_path = processed_dir / f\"{clss}_{idx}.jpg\"\n",
    "        pic.save(save_path)\n",
    "\n",
    "        plt.subplot(1, 5, idx + 1)\n",
    "        plt.imshow(pic)\n",
    "        plt.title(clss)\n",
    "        plt.axis('off')\n",
    "\n",
    "        pics.append(pic)\n",
    "        pics_arr.append(pic_arr)\n",
    "        p_class.append(clss)\n",
    "    except PermissionError as e:\n",
    "        print(f\"PermissionError: {e}\")\n",
    "    except Exception as e:\n",
    "        print(f\"An error occurred: {e}\")\n",
    "\n",
    "plt.show()"
   ]
  },
  {
   "cell_type": "code",
   "execution_count": 254,
   "metadata": {},
   "outputs": [
    {
     "data": {
      "text/plain": [
       "<Figure size 2000x500 with 0 Axes>"
      ]
     },
     "metadata": {},
     "output_type": "display_data"
    }
   ],
   "source": [
    "pics = list()\n",
    "pics_arr = list()\n",
    "p_class = list()\n",
    "\n",
    "img_width = 300\n",
    "img_height = 300\n",
    "\n",
    "plt.figure(figsize=(20,5))\n",
    "for idx, folder in enumerate(data_dir.glob('[!LICENSE]*')):\n",
    "    daisy = list(data_dir.glob(folder.name + '/*'))\n",
    "    pic = PIL.Image.open(str(daisy[0])).resize((img_width, img_height))\n",
    "    pic_arr = np.array(pic)\n",
    "    clss = folder.name\n",
    "\n",
    "    plt.subplot(1,5,idx+1)\n",
    "    plt.imshow(pic)\n",
    "    plt.title(clss)\n",
    "    plt.axis('off')\n",
    "\n",
    "    pics.append(pic)\n",
    "    pics_arr.append(pic_arr)\n",
    "    p_class.append(clss)\n"
   ]
  },
  {
   "cell_type": "markdown",
   "id": "5455c760-7940-40f7-b15d-682091503cba",
   "metadata": {},
   "source": [
    "#### Exercise: Define the model and add the first layer\n",
    "\n",
    "Lets define the Sequential model and add:\n",
    "* A convolutional layer with 3 input channels, three 3x3 filters, even padding, and relu activation function.\n"
   ]
  },
  {
   "cell_type": "code",
   "execution_count": null,
   "id": "fd4dcce0-e85a-41a0-9c8b-bbb14545f14f",
   "metadata": {},
   "outputs": [],
   "source": [
    "classifier = Sequential()\n",
    "classifier.add(Conv2D(3, (3, 3), padding='same', input_shape = (img_width, img_height, 3), activation = 'relu'))\n"
   ]
  },
  {
   "cell_type": "markdown",
   "id": "ee33e004-11fd-4252-9c06-641aca086356",
   "metadata": {},
   "source": [
    "#### Exercise: Next add additional layers\n",
    "In Keras, we can simply call `add()` to add multiple layers to the Sequential model we've defined. \n",
    "1. Convolutional layer with two 3x3 filters and sigmoid activation function.\n",
    "2. Convolutional layer with six 5x5 filters, stride = 4, even padding, and relu activation function.\n",
    "3. Max pooling layer with size 2x2.\n"
   ]
  },
  {
   "cell_type": "code",
   "execution_count": null,
   "id": "b40fdc37-4fc0-4776-bb52-ab1910974f9d",
   "metadata": {},
   "outputs": [],
   "source": [
    "classifier.add(Conv2D(2, (3, 3), activation='sigmoid'))\n",
    "classifier.add(Conv2D(6, (5, 5), strides = 4, padding='same', activation = 'relu'))\n",
    "classifier.add(MaxPooling2D(pool_size=(2, 2)))\n"
   ]
  },
  {
   "cell_type": "markdown",
   "id": "e6e3a1cc-3b91-4e49-ab03-d00130034a10",
   "metadata": {},
   "source": [
    "### Flattening\n"
   ]
  },
  {
   "cell_type": "markdown",
   "id": "3df3f060-601d-4cb2-9dbe-c474c74716c2",
   "metadata": {},
   "source": [
    "When we get here, we've almost finished constructing the CNN model! Flattening is the process of converting input into a 1D array for the next layer. The reason behind this is that our final task - classification - isn't compatible with higher dimensional input, considering we desire a class label as output. \n",
    "\n",
    "The way that tensors are flattened is quite simple. We desire an output of the shape Nx1, where N is the number of features in the input. For 2-dimensional input, this is straightforward - a tensor of the shape 28x28 will flatten into a single vector of 784x1. \n",
    "\n",
    "What happens when the input has multiple channels? The shape is calculated in a similar way; that is, a 28x28x3 3D tensor would flatten to be 2352x1. Each channel is flattened first and then lined up along a single axis. \n"
   ]
  },
  {
   "cell_type": "code",
   "execution_count": 257,
   "id": "9bf1214f-e303-4f51-939c-0541bd1c04ec",
   "metadata": {},
   "outputs": [],
   "source": [
    "# Add a flattening layer\n",
    "classifier.add(Flatten())"
   ]
  },
  {
   "cell_type": "code",
   "execution_count": 258,
   "id": "2739ce50-a506-4c68-904e-56c547961f91",
   "metadata": {},
   "outputs": [
    {
     "data": {
      "text/html": [
       "<pre style=\"white-space:pre;overflow-x:auto;line-height:normal;font-family:Menlo,'DejaVu Sans Mono',consolas,'Courier New',monospace\"><span style=\"font-weight: bold\">Model: \"sequential_38\"</span>\n",
       "</pre>\n"
      ],
      "text/plain": [
       "\u001b[1mModel: \"sequential_38\"\u001b[0m\n"
      ]
     },
     "metadata": {},
     "output_type": "display_data"
    },
    {
     "data": {
      "text/html": [
       "<pre style=\"white-space:pre;overflow-x:auto;line-height:normal;font-family:Menlo,'DejaVu Sans Mono',consolas,'Courier New',monospace\">┏━━━━━━━━━━━━━━━━━━━━━━━━━━━━━━━━━┳━━━━━━━━━━━━━━━━━━━━━━━━┳━━━━━━━━━━━━━━━┓\n",
       "┃<span style=\"font-weight: bold\"> Layer (type)                    </span>┃<span style=\"font-weight: bold\"> Output Shape           </span>┃<span style=\"font-weight: bold\">       Param # </span>┃\n",
       "┡━━━━━━━━━━━━━━━━━━━━━━━━━━━━━━━━━╇━━━━━━━━━━━━━━━━━━━━━━━━╇━━━━━━━━━━━━━━━┩\n",
       "│ conv2d_55 (<span style=\"color: #0087ff; text-decoration-color: #0087ff\">Conv2D</span>)              │ (<span style=\"color: #00d7ff; text-decoration-color: #00d7ff\">None</span>, <span style=\"color: #00af00; text-decoration-color: #00af00\">300</span>, <span style=\"color: #00af00; text-decoration-color: #00af00\">300</span>, <span style=\"color: #00af00; text-decoration-color: #00af00\">3</span>)    │            <span style=\"color: #00af00; text-decoration-color: #00af00\">84</span> │\n",
       "├─────────────────────────────────┼────────────────────────┼───────────────┤\n",
       "│ conv2d_56 (<span style=\"color: #0087ff; text-decoration-color: #0087ff\">Conv2D</span>)              │ (<span style=\"color: #00d7ff; text-decoration-color: #00d7ff\">None</span>, <span style=\"color: #00af00; text-decoration-color: #00af00\">298</span>, <span style=\"color: #00af00; text-decoration-color: #00af00\">298</span>, <span style=\"color: #00af00; text-decoration-color: #00af00\">2</span>)    │            <span style=\"color: #00af00; text-decoration-color: #00af00\">56</span> │\n",
       "├─────────────────────────────────┼────────────────────────┼───────────────┤\n",
       "│ conv2d_57 (<span style=\"color: #0087ff; text-decoration-color: #0087ff\">Conv2D</span>)              │ (<span style=\"color: #00d7ff; text-decoration-color: #00d7ff\">None</span>, <span style=\"color: #00af00; text-decoration-color: #00af00\">75</span>, <span style=\"color: #00af00; text-decoration-color: #00af00\">75</span>, <span style=\"color: #00af00; text-decoration-color: #00af00\">6</span>)      │           <span style=\"color: #00af00; text-decoration-color: #00af00\">306</span> │\n",
       "├─────────────────────────────────┼────────────────────────┼───────────────┤\n",
       "│ max_pooling2d (<span style=\"color: #0087ff; text-decoration-color: #0087ff\">MaxPooling2D</span>)    │ (<span style=\"color: #00d7ff; text-decoration-color: #00d7ff\">None</span>, <span style=\"color: #00af00; text-decoration-color: #00af00\">37</span>, <span style=\"color: #00af00; text-decoration-color: #00af00\">37</span>, <span style=\"color: #00af00; text-decoration-color: #00af00\">6</span>)      │             <span style=\"color: #00af00; text-decoration-color: #00af00\">0</span> │\n",
       "├─────────────────────────────────┼────────────────────────┼───────────────┤\n",
       "│ flatten_7 (<span style=\"color: #0087ff; text-decoration-color: #0087ff\">Flatten</span>)             │ (<span style=\"color: #00d7ff; text-decoration-color: #00d7ff\">None</span>, <span style=\"color: #00af00; text-decoration-color: #00af00\">8214</span>)           │             <span style=\"color: #00af00; text-decoration-color: #00af00\">0</span> │\n",
       "└─────────────────────────────────┴────────────────────────┴───────────────┘\n",
       "</pre>\n"
      ],
      "text/plain": [
       "┏━━━━━━━━━━━━━━━━━━━━━━━━━━━━━━━━━┳━━━━━━━━━━━━━━━━━━━━━━━━┳━━━━━━━━━━━━━━━┓\n",
       "┃\u001b[1m \u001b[0m\u001b[1mLayer (type)                   \u001b[0m\u001b[1m \u001b[0m┃\u001b[1m \u001b[0m\u001b[1mOutput Shape          \u001b[0m\u001b[1m \u001b[0m┃\u001b[1m \u001b[0m\u001b[1m      Param #\u001b[0m\u001b[1m \u001b[0m┃\n",
       "┡━━━━━━━━━━━━━━━━━━━━━━━━━━━━━━━━━╇━━━━━━━━━━━━━━━━━━━━━━━━╇━━━━━━━━━━━━━━━┩\n",
       "│ conv2d_55 (\u001b[38;5;33mConv2D\u001b[0m)              │ (\u001b[38;5;45mNone\u001b[0m, \u001b[38;5;34m300\u001b[0m, \u001b[38;5;34m300\u001b[0m, \u001b[38;5;34m3\u001b[0m)    │            \u001b[38;5;34m84\u001b[0m │\n",
       "├─────────────────────────────────┼────────────────────────┼───────────────┤\n",
       "│ conv2d_56 (\u001b[38;5;33mConv2D\u001b[0m)              │ (\u001b[38;5;45mNone\u001b[0m, \u001b[38;5;34m298\u001b[0m, \u001b[38;5;34m298\u001b[0m, \u001b[38;5;34m2\u001b[0m)    │            \u001b[38;5;34m56\u001b[0m │\n",
       "├─────────────────────────────────┼────────────────────────┼───────────────┤\n",
       "│ conv2d_57 (\u001b[38;5;33mConv2D\u001b[0m)              │ (\u001b[38;5;45mNone\u001b[0m, \u001b[38;5;34m75\u001b[0m, \u001b[38;5;34m75\u001b[0m, \u001b[38;5;34m6\u001b[0m)      │           \u001b[38;5;34m306\u001b[0m │\n",
       "├─────────────────────────────────┼────────────────────────┼───────────────┤\n",
       "│ max_pooling2d (\u001b[38;5;33mMaxPooling2D\u001b[0m)    │ (\u001b[38;5;45mNone\u001b[0m, \u001b[38;5;34m37\u001b[0m, \u001b[38;5;34m37\u001b[0m, \u001b[38;5;34m6\u001b[0m)      │             \u001b[38;5;34m0\u001b[0m │\n",
       "├─────────────────────────────────┼────────────────────────┼───────────────┤\n",
       "│ flatten_7 (\u001b[38;5;33mFlatten\u001b[0m)             │ (\u001b[38;5;45mNone\u001b[0m, \u001b[38;5;34m8214\u001b[0m)           │             \u001b[38;5;34m0\u001b[0m │\n",
       "└─────────────────────────────────┴────────────────────────┴───────────────┘\n"
      ]
     },
     "metadata": {},
     "output_type": "display_data"
    },
    {
     "data": {
      "text/html": [
       "<pre style=\"white-space:pre;overflow-x:auto;line-height:normal;font-family:Menlo,'DejaVu Sans Mono',consolas,'Courier New',monospace\"><span style=\"font-weight: bold\"> Total params: </span><span style=\"color: #00af00; text-decoration-color: #00af00\">446</span> (1.74 KB)\n",
       "</pre>\n"
      ],
      "text/plain": [
       "\u001b[1m Total params: \u001b[0m\u001b[38;5;34m446\u001b[0m (1.74 KB)\n"
      ]
     },
     "metadata": {},
     "output_type": "display_data"
    },
    {
     "data": {
      "text/html": [
       "<pre style=\"white-space:pre;overflow-x:auto;line-height:normal;font-family:Menlo,'DejaVu Sans Mono',consolas,'Courier New',monospace\"><span style=\"font-weight: bold\"> Trainable params: </span><span style=\"color: #00af00; text-decoration-color: #00af00\">446</span> (1.74 KB)\n",
       "</pre>\n"
      ],
      "text/plain": [
       "\u001b[1m Trainable params: \u001b[0m\u001b[38;5;34m446\u001b[0m (1.74 KB)\n"
      ]
     },
     "metadata": {},
     "output_type": "display_data"
    },
    {
     "data": {
      "text/html": [
       "<pre style=\"white-space:pre;overflow-x:auto;line-height:normal;font-family:Menlo,'DejaVu Sans Mono',consolas,'Courier New',monospace\"><span style=\"font-weight: bold\"> Non-trainable params: </span><span style=\"color: #00af00; text-decoration-color: #00af00\">0</span> (0.00 B)\n",
       "</pre>\n"
      ],
      "text/plain": [
       "\u001b[1m Non-trainable params: \u001b[0m\u001b[38;5;34m0\u001b[0m (0.00 B)\n"
      ]
     },
     "metadata": {},
     "output_type": "display_data"
    }
   ],
   "source": [
    "classifier.summary()"
   ]
  },
  {
   "cell_type": "markdown",
   "id": "384f0b71-96f0-4ad2-9fbc-6c0e2bdea440",
   "metadata": {},
   "source": [
    "From the summary above, we see that the shape of the input (the output of the previous layer) is 37x37x6. The shape of the flattening layer output is 8214x1 = 37\\*37\\*6, demonstrating that the process was successful. \n"
   ]
  },
  {
   "cell_type": "markdown",
   "id": "ff41d513-52bd-4d15-bd60-823254460e77",
   "metadata": {},
   "source": [
    "### Dense Layers\n"
   ]
  },
  {
   "cell_type": "markdown",
   "id": "253544db-6fd2-46b2-bc00-54d86406ffea",
   "metadata": {},
   "source": [
    "Before we start making predictions, there's one last layer(s) in the neural network - dense layers. The first fully connected layer essentially uses the features we learned from previous convolutional and pooling layers to make predictions for a given image. It takes a flattened 1D array as input, calculates their weighted average, and then applies an activation function on it. As a result, each output is a combination of all the input features, making this layer \"fully-connected\".\n",
    "\n",
    "The last dense layer must have the softmax activation function when we have more than two classes because it will output probabilities of each label class and select the one with the highest probability as the final class of the input image.\n"
   ]
  },
  {
   "cell_type": "markdown",
   "id": "a80d5be6-2310-4724-b053-6740ee985f50",
   "metadata": {},
   "source": [
    "Let's add two dense layers: one to connect with the flattened layer and the other to prepare the tensor for classification. Note that `units=5` for the second one because we have 5 categories of flowers total.\n"
   ]
  },
  {
   "cell_type": "code",
   "execution_count": 259,
   "id": "2772778e-0256-4815-a61f-7f47279f778c",
   "metadata": {},
   "outputs": [],
   "source": [
    "classifier.add(Dense(units = 512, activation = 'relu'))\n",
    "\n",
    "classifier.add(Dense(units = 5, activation = 'softmax'))"
   ]
  },
  {
   "cell_type": "code",
   "execution_count": 260,
   "id": "170d0393-b666-42c3-9185-1cf154c8222a",
   "metadata": {},
   "outputs": [
    {
     "data": {
      "text/html": [
       "<pre style=\"white-space:pre;overflow-x:auto;line-height:normal;font-family:Menlo,'DejaVu Sans Mono',consolas,'Courier New',monospace\"><span style=\"font-weight: bold\">Model: \"sequential_38\"</span>\n",
       "</pre>\n"
      ],
      "text/plain": [
       "\u001b[1mModel: \"sequential_38\"\u001b[0m\n"
      ]
     },
     "metadata": {},
     "output_type": "display_data"
    },
    {
     "data": {
      "text/html": [
       "<pre style=\"white-space:pre;overflow-x:auto;line-height:normal;font-family:Menlo,'DejaVu Sans Mono',consolas,'Courier New',monospace\">┏━━━━━━━━━━━━━━━━━━━━━━━━━━━━━━━━━┳━━━━━━━━━━━━━━━━━━━━━━━━┳━━━━━━━━━━━━━━━┓\n",
       "┃<span style=\"font-weight: bold\"> Layer (type)                    </span>┃<span style=\"font-weight: bold\"> Output Shape           </span>┃<span style=\"font-weight: bold\">       Param # </span>┃\n",
       "┡━━━━━━━━━━━━━━━━━━━━━━━━━━━━━━━━━╇━━━━━━━━━━━━━━━━━━━━━━━━╇━━━━━━━━━━━━━━━┩\n",
       "│ conv2d_55 (<span style=\"color: #0087ff; text-decoration-color: #0087ff\">Conv2D</span>)              │ (<span style=\"color: #00d7ff; text-decoration-color: #00d7ff\">None</span>, <span style=\"color: #00af00; text-decoration-color: #00af00\">300</span>, <span style=\"color: #00af00; text-decoration-color: #00af00\">300</span>, <span style=\"color: #00af00; text-decoration-color: #00af00\">3</span>)    │            <span style=\"color: #00af00; text-decoration-color: #00af00\">84</span> │\n",
       "├─────────────────────────────────┼────────────────────────┼───────────────┤\n",
       "│ conv2d_56 (<span style=\"color: #0087ff; text-decoration-color: #0087ff\">Conv2D</span>)              │ (<span style=\"color: #00d7ff; text-decoration-color: #00d7ff\">None</span>, <span style=\"color: #00af00; text-decoration-color: #00af00\">298</span>, <span style=\"color: #00af00; text-decoration-color: #00af00\">298</span>, <span style=\"color: #00af00; text-decoration-color: #00af00\">2</span>)    │            <span style=\"color: #00af00; text-decoration-color: #00af00\">56</span> │\n",
       "├─────────────────────────────────┼────────────────────────┼───────────────┤\n",
       "│ conv2d_57 (<span style=\"color: #0087ff; text-decoration-color: #0087ff\">Conv2D</span>)              │ (<span style=\"color: #00d7ff; text-decoration-color: #00d7ff\">None</span>, <span style=\"color: #00af00; text-decoration-color: #00af00\">75</span>, <span style=\"color: #00af00; text-decoration-color: #00af00\">75</span>, <span style=\"color: #00af00; text-decoration-color: #00af00\">6</span>)      │           <span style=\"color: #00af00; text-decoration-color: #00af00\">306</span> │\n",
       "├─────────────────────────────────┼────────────────────────┼───────────────┤\n",
       "│ max_pooling2d (<span style=\"color: #0087ff; text-decoration-color: #0087ff\">MaxPooling2D</span>)    │ (<span style=\"color: #00d7ff; text-decoration-color: #00d7ff\">None</span>, <span style=\"color: #00af00; text-decoration-color: #00af00\">37</span>, <span style=\"color: #00af00; text-decoration-color: #00af00\">37</span>, <span style=\"color: #00af00; text-decoration-color: #00af00\">6</span>)      │             <span style=\"color: #00af00; text-decoration-color: #00af00\">0</span> │\n",
       "├─────────────────────────────────┼────────────────────────┼───────────────┤\n",
       "│ flatten_7 (<span style=\"color: #0087ff; text-decoration-color: #0087ff\">Flatten</span>)             │ (<span style=\"color: #00d7ff; text-decoration-color: #00d7ff\">None</span>, <span style=\"color: #00af00; text-decoration-color: #00af00\">8214</span>)           │             <span style=\"color: #00af00; text-decoration-color: #00af00\">0</span> │\n",
       "├─────────────────────────────────┼────────────────────────┼───────────────┤\n",
       "│ dense_7 (<span style=\"color: #0087ff; text-decoration-color: #0087ff\">Dense</span>)                 │ (<span style=\"color: #00d7ff; text-decoration-color: #00d7ff\">None</span>, <span style=\"color: #00af00; text-decoration-color: #00af00\">512</span>)            │     <span style=\"color: #00af00; text-decoration-color: #00af00\">4,206,080</span> │\n",
       "├─────────────────────────────────┼────────────────────────┼───────────────┤\n",
       "│ dense_8 (<span style=\"color: #0087ff; text-decoration-color: #0087ff\">Dense</span>)                 │ (<span style=\"color: #00d7ff; text-decoration-color: #00d7ff\">None</span>, <span style=\"color: #00af00; text-decoration-color: #00af00\">5</span>)              │         <span style=\"color: #00af00; text-decoration-color: #00af00\">2,565</span> │\n",
       "└─────────────────────────────────┴────────────────────────┴───────────────┘\n",
       "</pre>\n"
      ],
      "text/plain": [
       "┏━━━━━━━━━━━━━━━━━━━━━━━━━━━━━━━━━┳━━━━━━━━━━━━━━━━━━━━━━━━┳━━━━━━━━━━━━━━━┓\n",
       "┃\u001b[1m \u001b[0m\u001b[1mLayer (type)                   \u001b[0m\u001b[1m \u001b[0m┃\u001b[1m \u001b[0m\u001b[1mOutput Shape          \u001b[0m\u001b[1m \u001b[0m┃\u001b[1m \u001b[0m\u001b[1m      Param #\u001b[0m\u001b[1m \u001b[0m┃\n",
       "┡━━━━━━━━━━━━━━━━━━━━━━━━━━━━━━━━━╇━━━━━━━━━━━━━━━━━━━━━━━━╇━━━━━━━━━━━━━━━┩\n",
       "│ conv2d_55 (\u001b[38;5;33mConv2D\u001b[0m)              │ (\u001b[38;5;45mNone\u001b[0m, \u001b[38;5;34m300\u001b[0m, \u001b[38;5;34m300\u001b[0m, \u001b[38;5;34m3\u001b[0m)    │            \u001b[38;5;34m84\u001b[0m │\n",
       "├─────────────────────────────────┼────────────────────────┼───────────────┤\n",
       "│ conv2d_56 (\u001b[38;5;33mConv2D\u001b[0m)              │ (\u001b[38;5;45mNone\u001b[0m, \u001b[38;5;34m298\u001b[0m, \u001b[38;5;34m298\u001b[0m, \u001b[38;5;34m2\u001b[0m)    │            \u001b[38;5;34m56\u001b[0m │\n",
       "├─────────────────────────────────┼────────────────────────┼───────────────┤\n",
       "│ conv2d_57 (\u001b[38;5;33mConv2D\u001b[0m)              │ (\u001b[38;5;45mNone\u001b[0m, \u001b[38;5;34m75\u001b[0m, \u001b[38;5;34m75\u001b[0m, \u001b[38;5;34m6\u001b[0m)      │           \u001b[38;5;34m306\u001b[0m │\n",
       "├─────────────────────────────────┼────────────────────────┼───────────────┤\n",
       "│ max_pooling2d (\u001b[38;5;33mMaxPooling2D\u001b[0m)    │ (\u001b[38;5;45mNone\u001b[0m, \u001b[38;5;34m37\u001b[0m, \u001b[38;5;34m37\u001b[0m, \u001b[38;5;34m6\u001b[0m)      │             \u001b[38;5;34m0\u001b[0m │\n",
       "├─────────────────────────────────┼────────────────────────┼───────────────┤\n",
       "│ flatten_7 (\u001b[38;5;33mFlatten\u001b[0m)             │ (\u001b[38;5;45mNone\u001b[0m, \u001b[38;5;34m8214\u001b[0m)           │             \u001b[38;5;34m0\u001b[0m │\n",
       "├─────────────────────────────────┼────────────────────────┼───────────────┤\n",
       "│ dense_7 (\u001b[38;5;33mDense\u001b[0m)                 │ (\u001b[38;5;45mNone\u001b[0m, \u001b[38;5;34m512\u001b[0m)            │     \u001b[38;5;34m4,206,080\u001b[0m │\n",
       "├─────────────────────────────────┼────────────────────────┼───────────────┤\n",
       "│ dense_8 (\u001b[38;5;33mDense\u001b[0m)                 │ (\u001b[38;5;45mNone\u001b[0m, \u001b[38;5;34m5\u001b[0m)              │         \u001b[38;5;34m2,565\u001b[0m │\n",
       "└─────────────────────────────────┴────────────────────────┴───────────────┘\n"
      ]
     },
     "metadata": {},
     "output_type": "display_data"
    },
    {
     "data": {
      "text/html": [
       "<pre style=\"white-space:pre;overflow-x:auto;line-height:normal;font-family:Menlo,'DejaVu Sans Mono',consolas,'Courier New',monospace\"><span style=\"font-weight: bold\"> Total params: </span><span style=\"color: #00af00; text-decoration-color: #00af00\">4,209,091</span> (16.06 MB)\n",
       "</pre>\n"
      ],
      "text/plain": [
       "\u001b[1m Total params: \u001b[0m\u001b[38;5;34m4,209,091\u001b[0m (16.06 MB)\n"
      ]
     },
     "metadata": {},
     "output_type": "display_data"
    },
    {
     "data": {
      "text/html": [
       "<pre style=\"white-space:pre;overflow-x:auto;line-height:normal;font-family:Menlo,'DejaVu Sans Mono',consolas,'Courier New',monospace\"><span style=\"font-weight: bold\"> Trainable params: </span><span style=\"color: #00af00; text-decoration-color: #00af00\">4,209,091</span> (16.06 MB)\n",
       "</pre>\n"
      ],
      "text/plain": [
       "\u001b[1m Trainable params: \u001b[0m\u001b[38;5;34m4,209,091\u001b[0m (16.06 MB)\n"
      ]
     },
     "metadata": {},
     "output_type": "display_data"
    },
    {
     "data": {
      "text/html": [
       "<pre style=\"white-space:pre;overflow-x:auto;line-height:normal;font-family:Menlo,'DejaVu Sans Mono',consolas,'Courier New',monospace\"><span style=\"font-weight: bold\"> Non-trainable params: </span><span style=\"color: #00af00; text-decoration-color: #00af00\">0</span> (0.00 B)\n",
       "</pre>\n"
      ],
      "text/plain": [
       "\u001b[1m Non-trainable params: \u001b[0m\u001b[38;5;34m0\u001b[0m (0.00 B)\n"
      ]
     },
     "metadata": {},
     "output_type": "display_data"
    }
   ],
   "source": [
    "classifier.summary()"
   ]
  },
  {
   "cell_type": "markdown",
   "id": "43dde08e-9673-4066-87c6-0a38cc480b9e",
   "metadata": {},
   "source": [
    "That a wrap for now! With this review of the components of a convolutional neural network, we're ready to use it for advanced applications like; classification, object detection, and more. In future notebooks we'll go into how to train models for a classification. \n"
   ]
  }
 ],
 "metadata": {
  "kernelspec": {
   "display_name": "venv",
   "language": "python",
   "name": "python3"
  },
  "language_info": {
   "codemirror_mode": {
    "name": "ipython",
    "version": 3
   },
   "file_extension": ".py",
   "mimetype": "text/x-python",
   "name": "python",
   "nbconvert_exporter": "python",
   "pygments_lexer": "ipython3",
   "version": "3.12.7"
  },
  "prev_pub_hash": "80f7fd8e1374b4cb576e81fd93aa2ee86c7abbe3c0de8fe1714da8b45be1eca3"
 },
 "nbformat": 4,
 "nbformat_minor": 4
}
